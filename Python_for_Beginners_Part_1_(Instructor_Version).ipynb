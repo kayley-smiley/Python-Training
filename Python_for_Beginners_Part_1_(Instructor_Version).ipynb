{
  "nbformat": 4,
  "nbformat_minor": 0,
  "metadata": {
    "colab": {
      "provenance": [],
      "authorship_tag": "ABX9TyN0wWaiAASZFY4pJXpl+yjM",
      "include_colab_link": true
    },
    "kernelspec": {
      "name": "python3",
      "display_name": "Python 3"
    },
    "language_info": {
      "name": "python"
    }
  },
  "cells": [
    {
      "cell_type": "markdown",
      "metadata": {
        "id": "view-in-github",
        "colab_type": "text"
      },
      "source": [
        "<a href=\"https://colab.research.google.com/github/kayley-smiley/Python-Training/blob/main/Python_for_Beginners_Part_1_(Instructor_Version).ipynb\" target=\"_parent\"><img src=\"https://colab.research.google.com/assets/colab-badge.svg\" alt=\"Open In Colab\"/></a>"
      ]
    },
    {
      "cell_type": "markdown",
      "source": [
        "# **Python for Beginners: Part 1**\n",
        "\n",
        "---------------------------------------------------------------------------\n",
        "\n",
        "This training will introduce you to coding in Python and teach you some fundamental concepts for using Python for data analysis.\n",
        "\n",
        "Specifically, we'll cover:\n",
        "\n",
        "* data types and structures\n",
        "* variables\n",
        "* functions\n",
        "* the pandas library\n",
        "* importing a data set\n",
        "* conducting exploratory data analysis\n",
        "\n",
        "\n",
        "We will use Google Colab to execute the code for this training because it doesn't require any installation or setup before getting started. However, when using Python to analyze a data set containing confidential information, it is highly recommended that you do not use Google Colab because there is no guaranteed data privacy.\n",
        "\n",
        "\n",
        "### **What is Python?**\n",
        "\n",
        "* Python is a popular programming language in the data science and machine learning communities.\n",
        "* Python can handle large amounts of data and be used to perform complex analysis.\n",
        "* It is considered one of the more beginner-friendly programming languages.\n",
        "* Python is \"open source\", which means that it's source code is made available for use and modification.\n",
        "  * Using Python is free!\n",
        "* It has a large community of developers, which means it's relatively easy to find tutorials and get answers to questions.\n",
        "* Python's capabilities can be extended even further with it's extensive collection of libraries, which provide pre-written code.\n",
        "\n",
        "### **Getting Started**\n",
        "\n",
        "To conduct data analysis with Python, we will use what's called a \"notebook.\" Notebooks contain a mixture of code and text, which make it fairly easy to present your work in an organized way, reproduce your work on other data sets, and share your work with others. You can add a block of code or text in two ways: by clicking + Code or + Text in the bar above or by hovering your mouse over the bottom of a current block and then clicking + Code or + Text. If you wanted to create a new notebook, you could do so by clicking File → New Notebook in the bar above.\n",
        "\n",
        "\n",
        "\n",
        "### **Running Code**\n",
        "\n",
        "When using Python, we can execute or run our code as soon as we write it, which makes it easy to test out ideas. To execute a code block, click the \"play\" button located on the left side of the code block. The output for the code will be displayed below the block."
      ],
      "metadata": {
        "id": "LaOEidnve-Rh"
      }
    },
    {
      "cell_type": "code",
      "source": [
        "1 + 1"
      ],
      "metadata": {
        "colab": {
          "base_uri": "https://localhost:8080/"
        },
        "id": "Sz2DC-GjP9Lo",
        "outputId": "63153f69-f16b-4360-c3d6-d8e5acefe420"
      },
      "execution_count": null,
      "outputs": [
        {
          "output_type": "execute_result",
          "data": {
            "text/plain": [
              "2"
            ]
          },
          "metadata": {},
          "execution_count": 18
        }
      ]
    },
    {
      "cell_type": "code",
      "source": [
        "10 - 2"
      ],
      "metadata": {
        "colab": {
          "base_uri": "https://localhost:8080/"
        },
        "id": "RqGRRDOTpplQ",
        "outputId": "284d628d-6323-48dc-db1d-66ecd9c7bf1f"
      },
      "execution_count": null,
      "outputs": [
        {
          "output_type": "execute_result",
          "data": {
            "text/plain": [
              "8"
            ]
          },
          "metadata": {},
          "execution_count": 2
        }
      ]
    },
    {
      "cell_type": "markdown",
      "source": [
        "The table below provides the symbols for some common operations.\n",
        "\n",
        "\n",
        "| Symbol | Operation |\n",
        "| --------- |: ----- |\n",
        "| `+` | Addition |\n",
        "| `-` | Subtraction |\n",
        "| `*` | Multiplication |\n",
        "| `/` | Division |\n",
        "| `**` | Exponentiation |"
      ],
      "metadata": {
        "id": "qzH7OxX8CsMq"
      }
    },
    {
      "cell_type": "markdown",
      "source": [
        "**Practice**: Calculate $2^3$ in the code block below."
      ],
      "metadata": {
        "id": "8nuh-e9qGpF9"
      }
    },
    {
      "cell_type": "code",
      "source": [
        "2**3"
      ],
      "metadata": {
        "colab": {
          "base_uri": "https://localhost:8080/"
        },
        "id": "PTNfp-qqGvqh",
        "outputId": "434f268b-1fd0-4b7f-a297-85fadb18c48c"
      },
      "execution_count": null,
      "outputs": [
        {
          "output_type": "execute_result",
          "data": {
            "text/plain": [
              "8"
            ]
          },
          "metadata": {},
          "execution_count": 4
        }
      ]
    },
    {
      "cell_type": "markdown",
      "source": [
        "You can type multiple lines of code in the same code block, but output will only display for the last line of code. If you want to print multiple outputs, you can either use separate code blocks or you can use the built-in `print()` function.\n",
        "\n",
        "It is common practice to use separate code blocks for separate topics."
      ],
      "metadata": {
        "id": "5WYzq7S6KNBz"
      }
    },
    {
      "cell_type": "code",
      "source": [
        "#only the output for the last line prints\n",
        "2**3\n",
        "5+10"
      ],
      "metadata": {
        "colab": {
          "base_uri": "https://localhost:8080/"
        },
        "id": "3LBwC_A2XCZx",
        "outputId": "26528fba-39e6-40ad-97fd-f0c0deb6de07"
      },
      "execution_count": null,
      "outputs": [
        {
          "output_type": "execute_result",
          "data": {
            "text/plain": [
              "15"
            ]
          },
          "metadata": {},
          "execution_count": 5
        }
      ]
    },
    {
      "cell_type": "code",
      "source": [
        "#printing both outputs\n",
        "print(2**3)\n",
        "print(5+10)"
      ],
      "metadata": {
        "colab": {
          "base_uri": "https://localhost:8080/"
        },
        "id": "VT-3JEDSXInD",
        "outputId": "6a16561c-ad1c-4380-bbfe-838ff19ebad2"
      },
      "execution_count": null,
      "outputs": [
        {
          "output_type": "stream",
          "name": "stdout",
          "text": [
            "8\n",
            "15\n"
          ]
        }
      ]
    },
    {
      "cell_type": "markdown",
      "source": [
        "### **Comments**\n",
        "\n",
        "Comments are short notes that you can place in code blocks. They are part of the code, but Python ignores them when the code is run. They are intended to provide clarity for people reading the code or prevent execution when testing code.\n",
        "\n",
        "Comments start with the `#` symbol and everything typed to the right of the `#` symbol will be ignored. You can confirm what is included in the comment because the text will be green."
      ],
      "metadata": {
        "id": "yxOQT9KooK0I"
      }
    },
    {
      "cell_type": "code",
      "source": [
        "#this is a comment"
      ],
      "metadata": {
        "id": "-7VboMyVZ2pI"
      },
      "execution_count": null,
      "outputs": []
    },
    {
      "cell_type": "markdown",
      "source": [
        "In the code below, Python adds `5 + 2` and ignores everything to the right of `#`.\n",
        "\n"
      ],
      "metadata": {
        "id": "MeeRM6vYDLUE"
      }
    },
    {
      "cell_type": "code",
      "source": [
        "5 + 2 #adding 5 + 2"
      ],
      "metadata": {
        "colab": {
          "base_uri": "https://localhost:8080/"
        },
        "id": "j5r9NtBRaCqH",
        "outputId": "1904192b-84c4-4953-bb04-ef49a823c353"
      },
      "execution_count": null,
      "outputs": [
        {
          "output_type": "execute_result",
          "data": {
            "text/plain": [
              "7"
            ]
          },
          "metadata": {},
          "execution_count": 8
        }
      ]
    },
    {
      "cell_type": "code",
      "source": [
        "#the code below will run because it's on a new line\n",
        "5 + 8"
      ],
      "metadata": {
        "colab": {
          "base_uri": "https://localhost:8080/"
        },
        "id": "tpDY8yChOJcY",
        "outputId": "5feb8401-2065-4291-f8a5-4a3ec1d1bc92"
      },
      "execution_count": null,
      "outputs": [
        {
          "output_type": "execute_result",
          "data": {
            "text/plain": [
              "13"
            ]
          },
          "metadata": {},
          "execution_count": 9
        }
      ]
    },
    {
      "cell_type": "code",
      "source": [
        "#we can also create comments that\n",
        "#are multiple lines"
      ],
      "metadata": {
        "id": "FDJRLXFDOOnK"
      },
      "execution_count": null,
      "outputs": []
    },
    {
      "cell_type": "markdown",
      "source": [
        "### **Variables**\n",
        "\n",
        "Variables are essentially containers for storing data. You can also think of them as names that you assign to objects. Variables make it easy to store and reference data in our code.\n",
        "\n",
        "To create a variable, we use the `=` sign.\n"
      ],
      "metadata": {
        "id": "wr-6XwkSoHL8"
      }
    },
    {
      "cell_type": "code",
      "source": [
        "x = 3"
      ],
      "metadata": {
        "id": "1wcOFw24GuRR"
      },
      "execution_count": null,
      "outputs": []
    },
    {
      "cell_type": "markdown",
      "source": [
        "After you've defined a variable, you can see what it equals by typing the variable name or using the `print()` function."
      ],
      "metadata": {
        "id": "wnCitZzEG-jU"
      }
    },
    {
      "cell_type": "code",
      "source": [
        "x"
      ],
      "metadata": {
        "colab": {
          "base_uri": "https://localhost:8080/"
        },
        "id": "BnlQFrRFG-Cj",
        "outputId": "259f390a-af21-44fd-a965-00e0b3929f37"
      },
      "execution_count": null,
      "outputs": [
        {
          "output_type": "execute_result",
          "data": {
            "text/plain": [
              "3"
            ]
          },
          "metadata": {},
          "execution_count": 12
        }
      ]
    },
    {
      "cell_type": "code",
      "source": [
        "print(x)"
      ],
      "metadata": {
        "colab": {
          "base_uri": "https://localhost:8080/"
        },
        "id": "zGw-f_iKXUzO",
        "outputId": "a461042a-b9a1-482e-df94-67be01ba40be"
      },
      "execution_count": null,
      "outputs": [
        {
          "output_type": "stream",
          "name": "stdout",
          "text": [
            "3\n"
          ]
        }
      ]
    },
    {
      "cell_type": "markdown",
      "source": [
        "There are several rules when it comes to naming variables:\n",
        "\n",
        "\n",
        "* A variable name **cannot** contain spaces.\n",
        "* The first character in the name must be either a letter or an underscore.\n",
        "  * After the first character, you can use numbers too.\n",
        "*  Uppercase and lowercase letters are distinct.\n",
        "  * `a` and `A` are different variables.\n",
        "* A variable name **cannot** be one of Python's key words, such  as `for`, `and`, `or`, `else`, and `in`.\n",
        "* It is recommended that you choose names that are somewhat informative and short.\n",
        "\n",
        "In Colab, clicking on the $\\{x\\}$ symbol to the left will provide a list of variables currently in use.\n",
        "\n",
        "It is important to note that you can save over existing variables! We defined `x` as $3$ earlier, but if we run the code below, `x` is now $10$.\n",
        "\n"
      ],
      "metadata": {
        "id": "nnbEqanEHrpX"
      }
    },
    {
      "cell_type": "code",
      "source": [
        "x = 10\n",
        "x"
      ],
      "metadata": {
        "colab": {
          "base_uri": "https://localhost:8080/"
        },
        "id": "5F0hq0xKSG4l",
        "outputId": "90978d0f-4dc9-41b6-c843-a3908ae49e47"
      },
      "execution_count": null,
      "outputs": [
        {
          "output_type": "execute_result",
          "data": {
            "text/plain": [
              "10"
            ]
          },
          "metadata": {},
          "execution_count": 16
        }
      ]
    },
    {
      "cell_type": "markdown",
      "source": [
        "**Practice**: Create two variables, `x` and `y`, equal to 5 and 10, respectfully. Then, create a new variable `z`that equals the sum of `x` and `y`, and print the value of `z`."
      ],
      "metadata": {
        "id": "GUiuN2R59c-Q"
      }
    },
    {
      "cell_type": "code",
      "source": [
        "x = 5\n",
        "y = 10\n",
        "z = x + y\n",
        "\n",
        "print(z)"
      ],
      "metadata": {
        "colab": {
          "base_uri": "https://localhost:8080/"
        },
        "id": "E6afv-3c9FYW",
        "outputId": "c4d39f4d-fabd-4fcb-ace8-e4323fc1439c"
      },
      "execution_count": null,
      "outputs": [
        {
          "output_type": "stream",
          "name": "stdout",
          "text": [
            "15\n"
          ]
        }
      ]
    },
    {
      "cell_type": "markdown",
      "source": [
        "### **Data Types**\n",
        "\n",
        "Variables can store different types of data, which have unique purposes. The table below contains some frequently used data types. There are more data types, such as complex numbers, but we won't discuss these.\n",
        "\n",
        "| Type | Description | Example |\n",
        "| :--------- |:----- |:----|\n",
        "| str | text/characters  | `'hello'` |\n",
        "| int | integer/whole number | `1` |\n",
        "| float | decimals | `1.2` |\n",
        "| bool | logical value | `True`, `False` |\n",
        "| list | ordered collection of data | `['apple', 'banana', 'cherry']` |\n",
        "| set | unordered collection of data | `{'apple', 'banana', 'cherry'}` |\n",
        "\n",
        "\n",
        "To check the data type for a variable, you can use the built-in `type()` function. Let's check the type of the variable, `x`, we defined earlier."
      ],
      "metadata": {
        "id": "F67K2bRjQdCl"
      }
    },
    {
      "cell_type": "code",
      "source": [
        "type(x)"
      ],
      "metadata": {
        "colab": {
          "base_uri": "https://localhost:8080/"
        },
        "id": "p7XwJvwflEhe",
        "outputId": "35ba8911-2429-4ebe-d443-e9b3517c4bfe"
      },
      "execution_count": null,
      "outputs": [
        {
          "output_type": "execute_result",
          "data": {
            "text/plain": [
              "int"
            ]
          },
          "metadata": {},
          "execution_count": 13
        }
      ]
    },
    {
      "cell_type": "code",
      "source": [
        "type('hello')"
      ],
      "metadata": {
        "colab": {
          "base_uri": "https://localhost:8080/"
        },
        "id": "2Ok_JWqaWDWY",
        "outputId": "ea0dc995-1e9f-4124-d071-8bb60b335f6b"
      },
      "execution_count": null,
      "outputs": [
        {
          "output_type": "execute_result",
          "data": {
            "text/plain": [
              "str"
            ]
          },
          "metadata": {},
          "execution_count": 14
        }
      ]
    },
    {
      "cell_type": "code",
      "source": [
        "type([1, 2, 3])"
      ],
      "metadata": {
        "colab": {
          "base_uri": "https://localhost:8080/"
        },
        "id": "abUrcNLtXvGM",
        "outputId": "1d761794-1dbb-4fae-f55e-6a1997bb74c9"
      },
      "execution_count": null,
      "outputs": [
        {
          "output_type": "execute_result",
          "data": {
            "text/plain": [
              "list"
            ]
          },
          "metadata": {},
          "execution_count": 15
        }
      ]
    },
    {
      "cell_type": "markdown",
      "source": [
        "**Practice**: In the code block below, find the data type for `31.8`."
      ],
      "metadata": {
        "id": "WuD2WYS3WLcQ"
      }
    },
    {
      "cell_type": "code",
      "source": [
        "type(31.8)"
      ],
      "metadata": {
        "colab": {
          "base_uri": "https://localhost:8080/"
        },
        "id": "_MLW8RcvWDKM",
        "outputId": "9a367385-3c82-4c03-e163-a31e4c52e46f"
      },
      "execution_count": null,
      "outputs": [
        {
          "output_type": "execute_result",
          "data": {
            "text/plain": [
              "float"
            ]
          },
          "metadata": {},
          "execution_count": 16
        }
      ]
    },
    {
      "cell_type": "markdown",
      "source": [
        "**Practice**: In the code block below, find the data type for `{2, 4, 6}`."
      ],
      "metadata": {
        "id": "tJy1Ft22XhKZ"
      }
    },
    {
      "cell_type": "code",
      "source": [
        "type({2, 4, 6})"
      ],
      "metadata": {
        "colab": {
          "base_uri": "https://localhost:8080/"
        },
        "id": "-s2hrHqcXai3",
        "outputId": "533d4f34-be67-4af3-bc5e-9d4db52e7abc"
      },
      "execution_count": null,
      "outputs": [
        {
          "output_type": "execute_result",
          "data": {
            "text/plain": [
              "set"
            ]
          },
          "metadata": {},
          "execution_count": 17
        }
      ]
    },
    {
      "cell_type": "markdown",
      "source": [
        "#### **Booleans**"
      ],
      "metadata": {
        "id": "TkZHPc3fduSJ"
      }
    },
    {
      "cell_type": "markdown",
      "source": [
        "Booleans (bool) represent one of two values: `True` or `False`.\n",
        "\n",
        "What would we use the Boolean data type for? In programming, we often want to know if a statement is `True` or `False`.  "
      ],
      "metadata": {
        "id": "gYeVcC9EYgvJ"
      }
    },
    {
      "cell_type": "code",
      "source": [
        "10 > 9"
      ],
      "metadata": {
        "colab": {
          "base_uri": "https://localhost:8080/"
        },
        "id": "YDc2FK_KZQNW",
        "outputId": "5e62ea98-5580-4bd4-bb4d-c553056c322a"
      },
      "execution_count": null,
      "outputs": [
        {
          "output_type": "execute_result",
          "data": {
            "text/plain": [
              "True"
            ]
          },
          "metadata": {},
          "execution_count": 18
        }
      ]
    },
    {
      "cell_type": "code",
      "source": [
        "type(10 > 9)"
      ],
      "metadata": {
        "colab": {
          "base_uri": "https://localhost:8080/"
        },
        "id": "Qu6AyqOcZcJ6",
        "outputId": "ca5c2dd8-2161-4a13-e1c2-ec545d12e239"
      },
      "execution_count": null,
      "outputs": [
        {
          "output_type": "execute_result",
          "data": {
            "text/plain": [
              "bool"
            ]
          },
          "metadata": {},
          "execution_count": 19
        }
      ]
    },
    {
      "cell_type": "markdown",
      "source": [
        "However, if we wanted to check for equality, we can't use `=` since that's how we assign variables. To check for equality, Python uses `==`. The table below provides the symbols for logical operators.\n",
        "\n",
        "| Operator | Symbol |\n",
        "| --------- |: ----- |\n",
        "| equal to | `==`  |\n",
        "| not equal to | `!=` |\n",
        "| greater than | `>` |  \n",
        "| less than | `<`  |\n",
        "| greater than or equal to | `>=` |\n",
        "| less than or equal to | `<=` |"
      ],
      "metadata": {
        "id": "rR8l9XIQZfIi"
      }
    },
    {
      "cell_type": "code",
      "source": [
        "1 == 1"
      ],
      "metadata": {
        "colab": {
          "base_uri": "https://localhost:8080/"
        },
        "id": "aiPjBfZAZ7KO",
        "outputId": "ed86c6ab-bfb5-4681-e7ea-ce77e65d8f86"
      },
      "execution_count": null,
      "outputs": [
        {
          "output_type": "execute_result",
          "data": {
            "text/plain": [
              "True"
            ]
          },
          "metadata": {},
          "execution_count": 20
        }
      ]
    },
    {
      "cell_type": "markdown",
      "source": [
        "We can also use logical operators along with boolean expressions. The `&` and `|` operators allow us to connnect multiple boolean expressions to create a compound expression.\n",
        "\n",
        "* The `&` operator returns `True` if *all* sub-expressions are `True`. Otherwise, it will return `False`.\n",
        "* The `|` operator returns `True` if *at least one* sub-expression is `True`.  \n"
      ],
      "metadata": {
        "id": "xdQ16oVmImCd"
      }
    },
    {
      "cell_type": "code",
      "source": [
        "#checks if both expressions are true\n",
        "(2 > 1) & (1 > 3)"
      ],
      "metadata": {
        "colab": {
          "base_uri": "https://localhost:8080/"
        },
        "id": "lhdPXoJMIxG5",
        "outputId": "1b55c38a-bd0c-4d74-e0fb-f4ade2bec0fc"
      },
      "execution_count": null,
      "outputs": [
        {
          "output_type": "execute_result",
          "data": {
            "text/plain": [
              "False"
            ]
          },
          "metadata": {},
          "execution_count": 16
        }
      ]
    },
    {
      "cell_type": "code",
      "source": [
        "#checks if at least one of the expressions is true\n",
        "(2 < 1) | (1 < 2)"
      ],
      "metadata": {
        "colab": {
          "base_uri": "https://localhost:8080/"
        },
        "id": "SOUFcWX5JlGT",
        "outputId": "eb866696-7076-4a07-b7da-d0f4c31dd9b1"
      },
      "execution_count": null,
      "outputs": [
        {
          "output_type": "execute_result",
          "data": {
            "text/plain": [
              "True"
            ]
          },
          "metadata": {},
          "execution_count": 17
        }
      ]
    },
    {
      "cell_type": "markdown",
      "source": [
        "It is worth knowing that `True` and `False` are equivalent to `1` and `0`. This means that we can add Booleans. That might not seem very useful, but it will come in handy later on."
      ],
      "metadata": {
        "id": "gFIvhMGYJh-s"
      }
    },
    {
      "cell_type": "code",
      "source": [
        "#this is equivalent to 1 + 0\n",
        "True + False"
      ],
      "metadata": {
        "colab": {
          "base_uri": "https://localhost:8080/"
        },
        "id": "3V7KXrAmKA9d",
        "outputId": "800136b8-056a-4fda-f402-7f4ea7d1c4ec"
      },
      "execution_count": null,
      "outputs": [
        {
          "output_type": "execute_result",
          "data": {
            "text/plain": [
              "1"
            ]
          },
          "metadata": {},
          "execution_count": 11
        }
      ]
    },
    {
      "cell_type": "markdown",
      "source": [
        "**Practice**: In the code block below, create variables `x` and `y` that equal 1 and 1.0001, respectfully. Then, check to see if `x` is greater than or equal to `y`."
      ],
      "metadata": {
        "id": "E4ThtPnxaIvl"
      }
    },
    {
      "cell_type": "code",
      "source": [
        "x = 1\n",
        "y = 1.0001\n",
        "x >= y"
      ],
      "metadata": {
        "colab": {
          "base_uri": "https://localhost:8080/"
        },
        "id": "e_dCD8f7bVpz",
        "outputId": "13b8d985-9776-45fe-aa0f-35f8f2e9391e"
      },
      "execution_count": null,
      "outputs": [
        {
          "output_type": "execute_result",
          "data": {
            "text/plain": [
              "False"
            ]
          },
          "metadata": {},
          "execution_count": 21
        }
      ]
    },
    {
      "cell_type": "markdown",
      "source": [
        "**Practice**: Create another variable `z` that equals 2. Write a statement that checks if either `x` is greater than `z` or `z` is less than `y`."
      ],
      "metadata": {
        "id": "LeVnjXjHKcAo"
      }
    },
    {
      "cell_type": "code",
      "source": [
        "z = 2\n",
        "(x > z) | (z < y)"
      ],
      "metadata": {
        "colab": {
          "base_uri": "https://localhost:8080/"
        },
        "id": "xHZ-8_oCKbqY",
        "outputId": "fac7033d-a3d2-4e32-974c-d2a62a801e2d"
      },
      "execution_count": null,
      "outputs": [
        {
          "output_type": "execute_result",
          "data": {
            "text/plain": [
              "True"
            ]
          },
          "metadata": {},
          "execution_count": 11
        }
      ]
    },
    {
      "cell_type": "markdown",
      "source": [
        "#### **Lists and Sets**\n",
        "\n",
        "Lists and sets look very similar, so what are the differences between the two?\n",
        "\n",
        "First, lists are **ordered** and sets are not. For example, the set `{1, 2, 3}` is equal to the set `{2, 3, 1}` because they contain the same elements. However, the list `[1, 2, 3]` is not equal to the list `[2, 3, 1]` because even though they contain the same elements, they are not in the same order.\n",
        "\n",
        "Just as we used logical operators to check if single elements are equal, we can also check if sets or lists are equal.\n",
        "\n",
        "\n",
        "\n",
        "\n",
        "\n",
        "\n",
        "\n"
      ],
      "metadata": {
        "id": "41Dn2RcPeEFQ"
      }
    },
    {
      "cell_type": "code",
      "source": [
        "{1, 2, 3} == {2, 3, 1}"
      ],
      "metadata": {
        "colab": {
          "base_uri": "https://localhost:8080/"
        },
        "id": "92PeAbjDCp0N",
        "outputId": "38c023ef-11b5-4e1f-cd95-af79fc68153e"
      },
      "execution_count": null,
      "outputs": [
        {
          "output_type": "execute_result",
          "data": {
            "text/plain": [
              "True"
            ]
          },
          "metadata": {},
          "execution_count": 22
        }
      ]
    },
    {
      "cell_type": "code",
      "source": [
        "[1, 2, 3] == [2, 3, 1]"
      ],
      "metadata": {
        "colab": {
          "base_uri": "https://localhost:8080/"
        },
        "id": "zfHNvdjuDNNF",
        "outputId": "a157d50d-9e8c-4e3b-b104-f9e9062c2e3a"
      },
      "execution_count": null,
      "outputs": [
        {
          "output_type": "execute_result",
          "data": {
            "text/plain": [
              "False"
            ]
          },
          "metadata": {},
          "execution_count": 23
        }
      ]
    },
    {
      "cell_type": "markdown",
      "source": [
        "Because lists are ordered, they are also **indexed**. This means we can access elements within a list by referencing their index.\n",
        "\n",
        "It's important to note here that Python begins indexing with 0. So, the \"first\" item in a list has index 0, not 1. To access an element by it's index, we put the index within brackets, `[]`, after the list name."
      ],
      "metadata": {
        "id": "vYXMLEhnSnRp"
      }
    },
    {
      "cell_type": "code",
      "source": [
        "#define a list that contains cities in Colorado\n",
        "cities = ['Denver', 'Lakewood', 'Centennial', 'Littleton', 'Aurora']\n",
        "\n",
        "#access the first element in the list\n",
        "cities[0]"
      ],
      "metadata": {
        "colab": {
          "base_uri": "https://localhost:8080/",
          "height": 35
        },
        "id": "u-Xwdx8EXerg",
        "outputId": "143a8a8c-b608-413c-8715-d8264415114a"
      },
      "execution_count": null,
      "outputs": [
        {
          "output_type": "execute_result",
          "data": {
            "text/plain": [
              "'Denver'"
            ],
            "application/vnd.google.colaboratory.intrinsic+json": {
              "type": "string"
            }
          },
          "metadata": {},
          "execution_count": 26
        }
      ]
    },
    {
      "cell_type": "markdown",
      "source": [
        "We can also use negative indices, which will start at the end of the list instead of the beginning. This can be a convenient way to see the last item in a list if you're not sure how long the list is."
      ],
      "metadata": {
        "id": "COxlwQfldOzS"
      }
    },
    {
      "cell_type": "code",
      "source": [
        "#access the last element in the list\n",
        "cities[-1]"
      ],
      "metadata": {
        "colab": {
          "base_uri": "https://localhost:8080/",
          "height": 35
        },
        "id": "_5HHaitrdfFm",
        "outputId": "9cff091b-cf91-4e0a-88af-e070e586a02c"
      },
      "execution_count": null,
      "outputs": [
        {
          "output_type": "execute_result",
          "data": {
            "text/plain": [
              "'Aurora'"
            ],
            "application/vnd.google.colaboratory.intrinsic+json": {
              "type": "string"
            }
          },
          "metadata": {},
          "execution_count": 19
        }
      ]
    },
    {
      "cell_type": "markdown",
      "source": [
        "We can access more than just one element at a time by giving a range of indices, such as `[0:2]`. However, in Python, the first number given in the range is inclusive and the last one is not. So, the range `[0:2]`, will provide the elements for indices `[0]` and `[1]`."
      ],
      "metadata": {
        "id": "2_Kj-ONWZpL8"
      }
    },
    {
      "cell_type": "code",
      "source": [
        "#access the first two elements in the list\n",
        "cities[0:2]"
      ],
      "metadata": {
        "colab": {
          "base_uri": "https://localhost:8080/"
        },
        "id": "DsnBRmleZvtq",
        "outputId": "f17f6392-31a4-4fc4-d74f-9f5f64fd5e08"
      },
      "execution_count": null,
      "outputs": [
        {
          "output_type": "execute_result",
          "data": {
            "text/plain": [
              "['Denver', 'Lakewood']"
            ]
          },
          "metadata": {},
          "execution_count": 20
        }
      ]
    },
    {
      "cell_type": "markdown",
      "source": [
        "If we leave off the starting index for a range, the range will start with the first item in the list by default. Similarily, if we leave off the ending index for a range, the range will end with the last item in the list by default."
      ],
      "metadata": {
        "id": "bPhiK3QDdG5Z"
      }
    },
    {
      "cell_type": "code",
      "source": [
        "#access all elements with an index of three or larger\n",
        "cities[2:]"
      ],
      "metadata": {
        "colab": {
          "base_uri": "https://localhost:8080/"
        },
        "id": "Sm6UwvBPdx5o",
        "outputId": "29ad2e8e-1c79-4551-ce0a-fb1db35f7f50"
      },
      "execution_count": null,
      "outputs": [
        {
          "output_type": "execute_result",
          "data": {
            "text/plain": [
              "['Centennial', 'Littleton', 'Aurora']"
            ]
          },
          "metadata": {},
          "execution_count": 21
        }
      ]
    },
    {
      "cell_type": "markdown",
      "source": [
        "Because the items in a set are unordered, they don't have indices, which means we can't refer to them by an index.\n",
        "\n",
        "Lists and sets are both **mutable** collections of elements. An object is considered mutable if it's data or attributes can be altered after it's created.\n",
        "\n",
        "We can alter a set by adding or removing items with the `add()` and `remove()` functions. However, the elements in a set are unchangable themselves (aside from removing them).\n",
        "\n",
        "\n",
        "\n",
        "\n",
        "\n"
      ],
      "metadata": {
        "id": "DV2Xh72yGfwH"
      }
    },
    {
      "cell_type": "code",
      "source": [
        "#define a set of states\n",
        "states = {'California', 'Washington', 'Oregon', 'Nevada', 'Utah'}\n",
        "\n",
        "#add 'Arizona' to the list\n",
        "states.add('Arizona')\n",
        "\n",
        "#view what elements are in 'states'\n",
        "states"
      ],
      "metadata": {
        "colab": {
          "base_uri": "https://localhost:8080/"
        },
        "id": "oDtSzj2ZsWjZ",
        "outputId": "815c12cd-f626-4f65-a981-d4c57b4a7d5c"
      },
      "execution_count": null,
      "outputs": [
        {
          "output_type": "execute_result",
          "data": {
            "text/plain": [
              "{'Arizona', 'California', 'Nevada', 'Oregon', 'Utah', 'Washington'}"
            ]
          },
          "metadata": {},
          "execution_count": 33
        }
      ]
    },
    {
      "cell_type": "code",
      "source": [
        "#remove 'Washington' from the list\n",
        "states.remove('Washington')\n",
        "\n",
        "#view what elements are in 'states'\n",
        "states"
      ],
      "metadata": {
        "colab": {
          "base_uri": "https://localhost:8080/"
        },
        "id": "OFElBMqvtLL9",
        "outputId": "004654dd-ecc2-4569-e361-f3e7e86220b7"
      },
      "execution_count": null,
      "outputs": [
        {
          "output_type": "execute_result",
          "data": {
            "text/plain": [
              "{'Arizona', 'California', 'Nevada', 'Oregon', 'Utah'}"
            ]
          },
          "metadata": {},
          "execution_count": 34
        }
      ]
    },
    {
      "cell_type": "markdown",
      "source": [
        "We can alter a list by adding elements using the `append()` or `insert()` functions. The `append()` function will add an element to the end of the list and the `insert()` function will insert an element at a specified index."
      ],
      "metadata": {
        "id": "sjN7gLZppUYa"
      }
    },
    {
      "cell_type": "code",
      "source": [
        "#add 'Boulder' to the end of the cities list\n",
        "cities.append('Boulder')\n",
        "\n",
        "cities"
      ],
      "metadata": {
        "colab": {
          "base_uri": "https://localhost:8080/"
        },
        "id": "YeMDshuSpXKx",
        "outputId": "0286a71e-ec5c-4e84-e2db-cd51d0ac2caa"
      },
      "execution_count": null,
      "outputs": [
        {
          "output_type": "execute_result",
          "data": {
            "text/plain": [
              "['Denver', 'Lakewood', 'Centennial', 'Littleton', 'Aurora', 'Boulder']"
            ]
          },
          "metadata": {},
          "execution_count": 27
        }
      ]
    },
    {
      "cell_type": "code",
      "source": [
        "#make 'Golden' the third element in the cities list\n",
        "cities.insert(2, 'Golden')\n",
        "\n",
        "cities"
      ],
      "metadata": {
        "colab": {
          "base_uri": "https://localhost:8080/"
        },
        "id": "2Jjrud0BvTgx",
        "outputId": "4072664b-5bae-4f3c-bd30-dc4936d63215"
      },
      "execution_count": null,
      "outputs": [
        {
          "output_type": "execute_result",
          "data": {
            "text/plain": [
              "['Denver',\n",
              " 'Lakewood',\n",
              " 'Golden',\n",
              " 'Centennial',\n",
              " 'Littleton',\n",
              " 'Aurora',\n",
              " 'Boulder']"
            ]
          },
          "metadata": {},
          "execution_count": 28
        }
      ]
    },
    {
      "cell_type": "markdown",
      "source": [
        "We can also alter a list by changing it's elements."
      ],
      "metadata": {
        "id": "HhWQqQ2Zq3GH"
      }
    },
    {
      "cell_type": "code",
      "source": [
        "#replace 'Littleton', the third element, with 'Denver'\n",
        "cities[4] = 'Denver'\n",
        "\n",
        "cities"
      ],
      "metadata": {
        "id": "Lmfd4cavwsQ7",
        "colab": {
          "base_uri": "https://localhost:8080/"
        },
        "outputId": "5efcab33-9aa1-4fca-fa63-66cf72022078"
      },
      "execution_count": null,
      "outputs": [
        {
          "output_type": "execute_result",
          "data": {
            "text/plain": [
              "['Denver', 'Lakewood', 'Golden', 'Centennial', 'Denver', 'Aurora', 'Boulder']"
            ]
          },
          "metadata": {},
          "execution_count": 29
        }
      ]
    },
    {
      "cell_type": "markdown",
      "source": [
        "Notice the `cities` list contains two `'Denver'` elements now. Lists can contain **duplicate items**, whereas sets cannot. If we try to add a duplicate item to a set, it gets removed, but if we do the same in a list, it stays."
      ],
      "metadata": {
        "id": "2qtX27IQDQnL"
      }
    },
    {
      "cell_type": "code",
      "source": [
        "{1, 2, 3, 2}"
      ],
      "metadata": {
        "colab": {
          "base_uri": "https://localhost:8080/"
        },
        "id": "NCKoIBGKEnb9",
        "outputId": "c560ae10-c05c-4ab9-d983-c28455d13707"
      },
      "execution_count": null,
      "outputs": [
        {
          "output_type": "execute_result",
          "data": {
            "text/plain": [
              "{1, 2, 3}"
            ]
          },
          "metadata": {},
          "execution_count": 30
        }
      ]
    },
    {
      "cell_type": "code",
      "source": [
        "[1, 2, 3, 2]"
      ],
      "metadata": {
        "colab": {
          "base_uri": "https://localhost:8080/"
        },
        "id": "NN6T1-kSFYUs",
        "outputId": "b49415fd-a53d-412b-fc05-ec4c22791467"
      },
      "execution_count": null,
      "outputs": [
        {
          "output_type": "execute_result",
          "data": {
            "text/plain": [
              "[1, 2, 3, 2]"
            ]
          },
          "metadata": {},
          "execution_count": 31
        }
      ]
    },
    {
      "cell_type": "markdown",
      "source": [
        "Lastly, if we want to check the length of a set or list, we can use the built-in `len()` function."
      ],
      "metadata": {
        "id": "_8_EJp_zsC75"
      }
    },
    {
      "cell_type": "code",
      "source": [
        "#check the length of the states set\n",
        "len(states)"
      ],
      "metadata": {
        "colab": {
          "base_uri": "https://localhost:8080/"
        },
        "id": "hjs2Lh_dn_7Z",
        "outputId": "fee3b5ab-8f8c-45a7-efc5-2fe5c27d11ce"
      },
      "execution_count": null,
      "outputs": [
        {
          "output_type": "execute_result",
          "data": {
            "text/plain": [
              "5"
            ]
          },
          "metadata": {},
          "execution_count": 35
        }
      ]
    },
    {
      "cell_type": "code",
      "source": [
        "#check the length of the cities list\n",
        "len(cities)"
      ],
      "metadata": {
        "colab": {
          "base_uri": "https://localhost:8080/"
        },
        "id": "FQmPfZnioMDv",
        "outputId": "d3757629-e8bf-483c-e8ec-2ab166fe197d"
      },
      "execution_count": null,
      "outputs": [
        {
          "output_type": "execute_result",
          "data": {
            "text/plain": [
              "7"
            ]
          },
          "metadata": {},
          "execution_count": 36
        }
      ]
    },
    {
      "cell_type": "markdown",
      "source": [
        "Although lists and sets often contain items of the same data type, there is no requirement that the items have the same data type. For example, the list below contains the string `'Denver'`, Denver's population, and the number of neighborhoods."
      ],
      "metadata": {
        "id": "4gcF_tIjClz_"
      }
    },
    {
      "cell_type": "code",
      "source": [
        "#define a list with multiple data types\n",
        "denver = ['Denver', 2931000, 78]\n",
        "\n",
        "#view the list\n",
        "denver"
      ],
      "metadata": {
        "colab": {
          "base_uri": "https://localhost:8080/"
        },
        "id": "htno5Be-Cmhh",
        "outputId": "0d50a062-89fb-4922-a24b-dcc4279a6851"
      },
      "execution_count": null,
      "outputs": [
        {
          "output_type": "execute_result",
          "data": {
            "text/plain": [
              "['Denver', 2931000, 78]"
            ]
          },
          "metadata": {},
          "execution_count": 21
        }
      ]
    },
    {
      "cell_type": "markdown",
      "source": [
        "The table below summarizes the similarities and differences between lists and sets.\n",
        "\n",
        "| | Lists | Sets |\n",
        "| --------- |: ----- |: ----- |\n",
        "| Mutable | $\\checkmark$ | $\\checkmark$ |\n",
        "| Ordered | $\\checkmark$ |  |\n",
        "| Allow for duplicate items | $\\checkmark$  | |\n",
        "| Indexed | $\\checkmark$ | |\n",
        "| Allow for different data types | $\\checkmark$ | $\\checkmark$ |"
      ],
      "metadata": {
        "id": "pF6XEt5jCf_C"
      }
    },
    {
      "cell_type": "markdown",
      "source": [
        "**Practice**: Using the `days` set defined in the code block below, remove the item that doesn't belong and add in an item that belongs."
      ],
      "metadata": {
        "id": "7o9YGaYJfTPN"
      }
    },
    {
      "cell_type": "code",
      "source": [
        "days = {'Monday', 'Tuesday', 'Wednesday', 'Thursday', 'Friday', 'January'}"
      ],
      "metadata": {
        "id": "Fh5eO6XdE99j"
      },
      "execution_count": null,
      "outputs": []
    },
    {
      "cell_type": "code",
      "source": [
        "days.remove('January')\n",
        "days"
      ],
      "metadata": {
        "colab": {
          "base_uri": "https://localhost:8080/"
        },
        "id": "c_YRcVxqGAHs",
        "outputId": "f935014b-3187-4b10-be8c-ee0577353bfe"
      },
      "execution_count": null,
      "outputs": [
        {
          "output_type": "execute_result",
          "data": {
            "text/plain": [
              "{'Friday', 'Monday', 'Thursday', 'Tuesday', 'Wednesday'}"
            ]
          },
          "metadata": {},
          "execution_count": 5
        }
      ]
    },
    {
      "cell_type": "code",
      "source": [
        "days.add('Saturday')\n",
        "days"
      ],
      "metadata": {
        "colab": {
          "base_uri": "https://localhost:8080/"
        },
        "id": "hFqE5u-ZGSM-",
        "outputId": "d2885440-2d15-443d-ebb8-00506abf9589"
      },
      "execution_count": null,
      "outputs": [
        {
          "output_type": "execute_result",
          "data": {
            "text/plain": [
              "{'Friday', 'Monday', 'Saturday', 'Thursday', 'Tuesday', 'Wednesday'}"
            ]
          },
          "metadata": {},
          "execution_count": 6
        }
      ]
    },
    {
      "cell_type": "markdown",
      "source": [
        "### **Conditional Statements**\n",
        "\n",
        "Conditional statements in Python are used to execute code if a condition is met. To determine if a condition is met, we need to know if a statement is `True` or `False`.\n",
        "\n",
        "The simplest conditional statement is the `if` statement, which has the following format.\n",
        "\n",
        "\n",
        "```\n",
        "if condition:\n",
        "    statements to execute if condition is true\n",
        "```\n",
        "\n",
        "The indentation in conditional statements tells Python what code to run if the condition is met. Without the indentation, the `if` statement won't work as intended.\n"
      ],
      "metadata": {
        "id": "TCLJRoosMHMn"
      }
    },
    {
      "cell_type": "code",
      "source": [
        "#if statement example\n",
        "x = 5\n",
        "\n",
        "if (x > 4):\n",
        "    print(\"Greater than 4\")"
      ],
      "metadata": {
        "colab": {
          "base_uri": "https://localhost:8080/"
        },
        "id": "Z8uwz4egxx7D",
        "outputId": "cabfad59-b8a2-463e-cbfa-217f284a1ea9"
      },
      "execution_count": null,
      "outputs": [
        {
          "output_type": "stream",
          "name": "stdout",
          "text": [
            "Greater than 4\n"
          ]
        }
      ]
    },
    {
      "cell_type": "markdown",
      "source": [
        "The `if` statement executes code if a condition is met, but it doesn't do anything if the condition is not met. The `if-else` statement provides code to run in both scenarios and has the following format.\n",
        "\n",
        "```\n",
        "if (condition):\n",
        "    statements to execute if condition is True\n",
        "else:\n",
        "    statements to execute if condition is False\n",
        "```"
      ],
      "metadata": {
        "id": "CHNUajHpyrwB"
      }
    },
    {
      "cell_type": "code",
      "source": [
        "x = 3\n",
        "y = 5\n",
        "\n",
        "if x >= y:\n",
        "  print('x is greater than or equal to y')\n",
        "else:\n",
        "  print('x is smaller than y')"
      ],
      "metadata": {
        "colab": {
          "base_uri": "https://localhost:8080/"
        },
        "id": "AS6o2Vd6Imiy",
        "outputId": "5a436cd0-c07b-4f03-810e-6d4369e98d17"
      },
      "execution_count": null,
      "outputs": [
        {
          "output_type": "stream",
          "name": "stdout",
          "text": [
            "x is smaller than y\n"
          ]
        }
      ]
    },
    {
      "cell_type": "markdown",
      "source": [
        "When you encounter a situation with more than two scenarios, you can use an `if-elif-else` statement. It's similar to the `if-else` statement, except you can place `elif` statements in between the `if` and `else` statements to account for several conditions. `if-elif-else` statements have the following format.\n",
        "\n",
        "```\n",
        "if (condition):\n",
        "    statements to execute if condition is True\n",
        "elif (condition):\n",
        "    statements to execute if condition is True\n",
        "else:\n",
        "    statements to execute if condition is False\n",
        "```"
      ],
      "metadata": {
        "id": "JSBjL-brHHDc"
      }
    },
    {
      "cell_type": "code",
      "source": [
        "y = 0\n",
        "\n",
        "if y > 0:\n",
        "  print('Positive number')\n",
        "elif y < 0:\n",
        "  print('Negative number')\n",
        "else:\n",
        "  print('Zero')"
      ],
      "metadata": {
        "colab": {
          "base_uri": "https://localhost:8080/"
        },
        "id": "A_5MEB3rHaa9",
        "outputId": "e94a0e1b-b3ff-4817-9986-be06c11029f4"
      },
      "execution_count": null,
      "outputs": [
        {
          "output_type": "stream",
          "name": "stdout",
          "text": [
            "Zero\n"
          ]
        }
      ]
    },
    {
      "cell_type": "markdown",
      "source": [
        "### **Loops**\n",
        "\n",
        "In programming, we often want to perform the same task multiple times. Instead of writing the same code over and over again, we can write the code once and place it inside of a loop, which will repeat the code as many times as we want. There are two types of loops in Python: `while` loops and `for` loops.\n",
        "\n",
        "#### **While Loops**\n",
        "\n",
        "As the name implies, `while` loops will repeat *while* a condition is true. They consist of two parts: a condition and code to execute while the condition is true. This structure sounds similar to conditional statements, but `while` loops have the capability to perform the same task multiple times, whereas `if` statements on their own do not. They are structured as follows.\n",
        "\n",
        "```\n",
        "while (condition):\n",
        "    statements to execute if the condition is true\n",
        "```\n",
        "\n",
        "If the condition is true, the code within the `while` loop is executed. After the code is executed, the condition is checked again. If the condition is still true, the code is executed again. This is repeated until the condition is false."
      ],
      "metadata": {
        "id": "l8CWp0_uxXZP"
      }
    },
    {
      "cell_type": "code",
      "source": [
        "x = 1\n",
        "\n",
        "while x < 5:\n",
        "  x = x + 1\n",
        "  print(x)"
      ],
      "metadata": {
        "colab": {
          "base_uri": "https://localhost:8080/"
        },
        "id": "IEnAhFzJNNSy",
        "outputId": "13153658-3815-43e6-cab3-26e273a3e59f"
      },
      "execution_count": null,
      "outputs": [
        {
          "output_type": "stream",
          "name": "stdout",
          "text": [
            "2\n",
            "3\n",
            "4\n",
            "5\n"
          ]
        }
      ]
    },
    {
      "cell_type": "markdown",
      "source": [
        "`while` loops can be dangerous because we can accdientally create an infinite loop like the one below. This loop would never stop running because `x` is always greater than 1.\n",
        "\n",
        "```\n",
        "x = 2\n",
        "\n",
        "while x > 1:\n",
        "    x = x + 1\n",
        "    print(x)\n",
        "```\n",
        "\n",
        "If you ever accdientally create an infinite loop, clicking Runtime → Interrupt session in the bar above will stop everything that's currently running.\n",
        "\n",
        "#### **For Loops**\n",
        "\n",
        "Instead of using a condition to determine whether code should be executed, `for` loops execute code a *fixed* number of times. They consist of two parts: an object to iterate over and code to execute for each iteration. `for` loops are structured as follows.\n",
        "\n",
        "```\n",
        "for item in iterable_object:\n",
        "    statements to execute\n",
        "```\n",
        "\n",
        "In `for` loops, we can refer to the items in the iterable object as whatever variable name we want. For example, in the loop below, we refer to the items as `x`.\n"
      ],
      "metadata": {
        "id": "bjKlHkowP6Rw"
      }
    },
    {
      "cell_type": "code",
      "source": [
        "#define list containing numbers from 1 to 5\n",
        "sequence = [1, 2, 3, 4, 5]\n",
        "\n",
        "for x in sequence:\n",
        "  print(x)"
      ],
      "metadata": {
        "colab": {
          "base_uri": "https://localhost:8080/"
        },
        "id": "45wMKBLd80Lz",
        "outputId": "515731e0-fdfe-4ee5-f175-e7dac2242e38"
      },
      "execution_count": null,
      "outputs": [
        {
          "output_type": "stream",
          "name": "stdout",
          "text": [
            "1\n",
            "2\n",
            "3\n",
            "4\n",
            "5\n"
          ]
        }
      ]
    },
    {
      "cell_type": "markdown",
      "source": [
        "In the loop above, we iterated over a list of numbers from 1 to 5. But, what if we wanted to iterate over a longer list of numbers? It would be tedious to manuaully type out the list. Instead of doing that, we can utilize the built-in `range()` function, which produces a sequence of numbers in a given range. For example `range(1,10)` produces a sequence from 1 to 9, because the last item in the `range()` function is exclusive.\n"
      ],
      "metadata": {
        "id": "x73jvHy4-P0k"
      }
    },
    {
      "cell_type": "code",
      "source": [
        "for x in range(1,10):\n",
        "  print(x)"
      ],
      "metadata": {
        "colab": {
          "base_uri": "https://localhost:8080/"
        },
        "id": "MbixM6SPAldM",
        "outputId": "52dc3f4d-7501-4d50-c6f2-4a87b74aff01"
      },
      "execution_count": null,
      "outputs": [
        {
          "output_type": "stream",
          "name": "stdout",
          "text": [
            "1\n",
            "2\n",
            "3\n",
            "4\n",
            "5\n",
            "6\n",
            "7\n",
            "8\n",
            "9\n"
          ]
        }
      ]
    },
    {
      "cell_type": "markdown",
      "source": [
        "We don't have to increment the numbers by 1 though; for example, let's generate even numbers from 1 to 16."
      ],
      "metadata": {
        "id": "mDrfZks4jMhP"
      }
    },
    {
      "cell_type": "code",
      "source": [
        "#even numbers from 1 to 16\n",
        "for x in range(2, 17, 2):\n",
        "  print(x)\n"
      ],
      "metadata": {
        "colab": {
          "base_uri": "https://localhost:8080/"
        },
        "id": "49Wz75vrjfFS",
        "outputId": "67553a2f-4a5f-4982-b619-7e93e5b78a94"
      },
      "execution_count": null,
      "outputs": [
        {
          "output_type": "stream",
          "name": "stdout",
          "text": [
            "2\n",
            "4\n",
            "6\n",
            "8\n",
            "10\n",
            "12\n",
            "14\n",
            "16\n"
          ]
        }
      ]
    },
    {
      "cell_type": "markdown",
      "source": [
        "### **Functions**\n",
        "\n",
        "We've already used a few functions, like `print()` or `type()`. In general, functions take inputs called arguments and usually produce something in return. The Python documentation provides a complete [list of built-in functions](https://docs.python.org/3/library/functions.html), and the table below includes some of the commonly used functions.\n",
        "\n",
        "| Function | Description |\n",
        "| --------- |: ----- |\n",
        "| `print()` | prints the output |\n",
        "| `sorted()` | sorts a list in ascending order |\n",
        "| `type()` | returns the data type for an object |\n",
        "| `abs()` | returns the absolute value of a number |\n",
        "| `round()` | returns the number rounded to a specified number of decimal places |\n",
        "| `sum()` | returns the sum of items in an object  |\n",
        "| `len()` | returns the length of an object |\n",
        "| `max()` | returns the largest item in an object |\n",
        "| `min()` | returns the smallest item in an object |   "
      ],
      "metadata": {
        "id": "9vmO8hBuOXAc"
      }
    },
    {
      "cell_type": "code",
      "source": [
        "#define a list from 1 to 10\n",
        "x = [1, 2, 3, 4, 5, 6, 7, 8, 9, 10]"
      ],
      "metadata": {
        "id": "hslY44jD1XH6"
      },
      "execution_count": null,
      "outputs": []
    },
    {
      "cell_type": "code",
      "source": [
        "#add the elements in x together\n",
        "sum(x)"
      ],
      "metadata": {
        "colab": {
          "base_uri": "https://localhost:8080/"
        },
        "id": "h0rzqNRxU5og",
        "outputId": "0ce7c497-ef73-4317-c642-955c47e293e4"
      },
      "execution_count": null,
      "outputs": [
        {
          "output_type": "execute_result",
          "data": {
            "text/plain": [
              "55"
            ]
          },
          "metadata": {},
          "execution_count": 2
        }
      ]
    },
    {
      "cell_type": "code",
      "source": [
        "#find the number of elements in x\n",
        "len(x)"
      ],
      "metadata": {
        "colab": {
          "base_uri": "https://localhost:8080/"
        },
        "id": "7LCJ9OBbU786",
        "outputId": "f3aaa591-324a-4fa9-83bc-d52548126240"
      },
      "execution_count": null,
      "outputs": [
        {
          "output_type": "execute_result",
          "data": {
            "text/plain": [
              "10"
            ]
          },
          "metadata": {},
          "execution_count": 3
        }
      ]
    },
    {
      "cell_type": "code",
      "source": [
        "#find the smallest element in x\n",
        "min(x)"
      ],
      "metadata": {
        "colab": {
          "base_uri": "https://localhost:8080/"
        },
        "id": "gDGZDYK-78by",
        "outputId": "58f4fa21-b8d9-4e68-c193-f68107c772b2"
      },
      "execution_count": null,
      "outputs": [
        {
          "output_type": "execute_result",
          "data": {
            "text/plain": [
              "1"
            ]
          },
          "metadata": {},
          "execution_count": 4
        }
      ]
    },
    {
      "cell_type": "markdown",
      "source": [
        "We can also create our own custom functions. Functions can be extremely helpful if we've written code that will be used multiple times in the same script. Creating a function is a cleaner approach than just copying and pasting code.\n",
        "\n",
        "\n",
        "Declaring a function consists of five parts:\n",
        "1. The `def` keyword\n",
        "2. The function name\n",
        "  * The requirements for a function name are extremely similar to the variable name requirements. It's also recommended to avoid using the same name as an existing function, even though this is technically allowed.\n",
        "3. Arguments\n",
        "  * These are the values that are fed to the function.\n",
        "4. The body of the function\n",
        "5. A return statement\n",
        "  * This is used to define the \"output\" of the function.\n",
        "  * If you need to return more than one value from a  function, you can use a list.\n",
        "\n",
        "The format for declaring a function is as follows:\n",
        "\n",
        "```\n",
        "def function name(arguments):\n",
        "  body of the function\n",
        "  return statement\n",
        "```\n",
        "\n",
        "\n",
        "\n",
        "\n",
        "Let's start with something simple and define a function that adds two numbers. Python has the addition operator, `+`, so this is just to demonstrate the format for defining a function."
      ],
      "metadata": {
        "id": "yV1TnfZe1Xdb"
      }
    },
    {
      "cell_type": "code",
      "source": [
        "def addition(num1, num2): #def keyword, function name, and arguments\n",
        "  sum = num1 + num2       #body of the function\n",
        "  return sum              #return statement"
      ],
      "metadata": {
        "id": "29joAjW2uTxo"
      },
      "execution_count": null,
      "outputs": []
    },
    {
      "cell_type": "code",
      "source": [
        "addition(1, 2)"
      ],
      "metadata": {
        "colab": {
          "base_uri": "https://localhost:8080/"
        },
        "id": "A207N0cJ3LGq",
        "outputId": "656a747a-c6c5-49cf-c91b-a8615bc8933e"
      },
      "execution_count": null,
      "outputs": [
        {
          "output_type": "execute_result",
          "data": {
            "text/plain": [
              "3"
            ]
          },
          "metadata": {},
          "execution_count": 18
        }
      ]
    },
    {
      "cell_type": "markdown",
      "source": [
        "**Practice**: Create a function named `summary` that accepts a list and returns the minimum, maximum, and length of the list. Check that your function works as expected by trying it out on the list, `y`, defined in the code block below. *Hint: You'll need to return a list in order to return the minimum, maximum, and length.*"
      ],
      "metadata": {
        "id": "MPvX52X_9sw5"
      }
    },
    {
      "cell_type": "code",
      "source": [
        "#list to check function\n",
        "y = [2, 3, 4, 5, 6, 7, 8, 9]"
      ],
      "metadata": {
        "id": "M3n7loOTKG_U"
      },
      "execution_count": null,
      "outputs": []
    },
    {
      "cell_type": "code",
      "source": [
        "def summary(list):\n",
        "  minimum = min(list)\n",
        "  maximum = max(list)\n",
        "  length = len(list)\n",
        "  return [minimum, maximum, length]"
      ],
      "metadata": {
        "id": "FvrAdNqbJv4y"
      },
      "execution_count": null,
      "outputs": []
    },
    {
      "cell_type": "code",
      "source": [
        "summary(y)"
      ],
      "metadata": {
        "colab": {
          "base_uri": "https://localhost:8080/"
        },
        "id": "70dmRP2xLkdI",
        "outputId": "2015ae99-463a-4f31-8f99-f972da2d50e2"
      },
      "execution_count": null,
      "outputs": [
        {
          "output_type": "execute_result",
          "data": {
            "text/plain": [
              "[2, 9, 8]"
            ]
          },
          "metadata": {},
          "execution_count": 9
        }
      ]
    },
    {
      "cell_type": "markdown",
      "source": [
        "**Practice**: Create a `for` loop that prints the data type for each element in the `practice` list defined below."
      ],
      "metadata": {
        "id": "-1boCFHimClW"
      }
    },
    {
      "cell_type": "code",
      "source": [
        "practice = ['hello', 47, True, False, 100]"
      ],
      "metadata": {
        "id": "qPe3zRJ8mR0H"
      },
      "execution_count": null,
      "outputs": []
    },
    {
      "cell_type": "code",
      "source": [
        "for x in practice:\n",
        "  print(type(x))"
      ],
      "metadata": {
        "id": "ntl6ciWLrz4V"
      },
      "execution_count": null,
      "outputs": []
    },
    {
      "cell_type": "markdown",
      "source": [
        "### **Errors**\n",
        "\n",
        "There are three types of errors that can occur when coding in Python: syntax errors, runtime errors, and logical errors. The term **debugging** is often used to describe the process of finding and correcting an error.\n",
        "\n",
        "Syntax refers to the rules that define the structure of a programming language, so **syntax errors** occur when the proper syntax is not followed. Some examples of syntax errors are leaving out a comma or a bracket.\n",
        "\n",
        "\n",
        "\n"
      ],
      "metadata": {
        "id": "OFO1mmwmaULY"
      }
    },
    {
      "cell_type": "code",
      "source": [
        "print('hello'"
      ],
      "metadata": {
        "colab": {
          "base_uri": "https://localhost:8080/",
          "height": 106
        },
        "id": "7AmSPHBgFB7j",
        "outputId": "e6ef4495-3acc-45cb-f03b-538e96bc1cd8"
      },
      "execution_count": null,
      "outputs": [
        {
          "output_type": "error",
          "ename": "SyntaxError",
          "evalue": "incomplete input (<ipython-input-1-0b37b907169d>, line 1)",
          "traceback": [
            "\u001b[0;36m  File \u001b[0;32m\"<ipython-input-1-0b37b907169d>\"\u001b[0;36m, line \u001b[0;32m1\u001b[0m\n\u001b[0;31m    print('hello'\u001b[0m\n\u001b[0m                 ^\u001b[0m\n\u001b[0;31mSyntaxError\u001b[0m\u001b[0;31m:\u001b[0m incomplete input\n"
          ]
        }
      ]
    },
    {
      "cell_type": "markdown",
      "source": [
        "**Runtime errors** occur when the syntax is correct, but the program can't run for a different reason, like dividing by zero or trying to access an object that doesn't exist."
      ],
      "metadata": {
        "id": "g4rhq98uFCY2"
      }
    },
    {
      "cell_type": "code",
      "source": [
        "#the name of the set is 'states' not state\n",
        "state"
      ],
      "metadata": {
        "colab": {
          "base_uri": "https://localhost:8080/",
          "height": 141
        },
        "id": "jkZADCncFGPq",
        "outputId": "831fb028-6c9d-4ac9-88d3-57d797b7bd6c"
      },
      "execution_count": null,
      "outputs": [
        {
          "output_type": "error",
          "ename": "NameError",
          "evalue": "name 'state' is not defined",
          "traceback": [
            "\u001b[0;31m---------------------------------------------------------------------------\u001b[0m",
            "\u001b[0;31mNameError\u001b[0m                                 Traceback (most recent call last)",
            "\u001b[0;32m<ipython-input-2-202074563d3b>\u001b[0m in \u001b[0;36m<cell line: 1>\u001b[0;34m()\u001b[0m\n\u001b[0;32m----> 1\u001b[0;31m \u001b[0mstate\u001b[0m\u001b[0;34m\u001b[0m\u001b[0;34m\u001b[0m\u001b[0m\n\u001b[0m",
            "\u001b[0;31mNameError\u001b[0m: name 'state' is not defined"
          ]
        }
      ]
    },
    {
      "cell_type": "markdown",
      "source": [
        "**Logical errors** are the most difficult to fix because there are no error messages. The code runs without any issues, but the result is incorrect due to flawed logic."
      ],
      "metadata": {
        "id": "bryzJqEQFGj5"
      }
    },
    {
      "cell_type": "code",
      "source": [
        "#define a list from 1 to 10\n",
        "x = [1, 2, 3, 4, 5, 6, 7, 8, 9, 10]\n",
        "\n",
        "#find the sum of the first 5 elements (it should be 15)\n",
        "sum(x[0:4])"
      ],
      "metadata": {
        "colab": {
          "base_uri": "https://localhost:8080/"
        },
        "id": "g_a_CvOIgQZk",
        "outputId": "1bde5f65-5c3d-4e6c-96d3-01f8ebf62028"
      },
      "execution_count": null,
      "outputs": [
        {
          "output_type": "execute_result",
          "data": {
            "text/plain": [
              "10"
            ]
          },
          "metadata": {},
          "execution_count": 4
        }
      ]
    },
    {
      "cell_type": "markdown",
      "source": [
        "The code above returned a value of 10 instead of the expected 15. This is because the last value in the range is exclusive.\n",
        "\n",
        "Logical errors can often be fixed by double checking the results of intermediate steps in the code."
      ],
      "metadata": {
        "id": "45bQo0qVgfsf"
      }
    },
    {
      "cell_type": "code",
      "source": [
        "x[0:4] #only the first 4 elements, not 5"
      ],
      "metadata": {
        "colab": {
          "base_uri": "https://localhost:8080/"
        },
        "id": "rDWrevk8ihJ8",
        "outputId": "ed0d2cdd-b484-4e99-9a22-409e39cfce70"
      },
      "execution_count": null,
      "outputs": [
        {
          "output_type": "execute_result",
          "data": {
            "text/plain": [
              "[1, 2, 3, 4]"
            ]
          },
          "metadata": {},
          "execution_count": 5
        }
      ]
    },
    {
      "cell_type": "markdown",
      "source": [
        "### **Libraries**\n",
        "\n",
        "Python has a lot of capabilities on its own, but we can do even more with the use of libraries. Libraries are collections of code and functions that extend the capabilities of Python. Some of the most popular libraries are pandas, NumPy, Plotly, and Matplotlib.\n",
        "\n",
        "### **The pandas Library**\n",
        "\n",
        "We'll start with the pandas library, which contains a variety of tools for doing things like:\n",
        "* manipulating data\n",
        "* reading and writing data\n",
        "* slicing, indexing, and subsetting data\n",
        "* aggregating or transforming data\n",
        "* merging and joining data sets\n",
        "* time series analysis\n",
        "\n",
        "The pandas library also has a [user guide](https://pandas.pydata.org/docs/user_guide/index.html) that covers a wide variety of topics and how pandas can be used to approach data analysis problems.\n",
        "\n",
        "To use a library in Python, we use an `import` statement. It is recommended to import all libraries at the beginning of the script or notebook. Although this isn't necessary, it's common to import libraries under an alias or an alternate shorter name. For example, the pandas library is often imported with an alias of `pd`. This means the library can now be referred to as `pd` instead of `pandas`.\n"
      ],
      "metadata": {
        "id": "NnyOzOYqoAg2"
      }
    },
    {
      "cell_type": "code",
      "source": [
        "import pandas as pd"
      ],
      "metadata": {
        "id": "Tiu6z-n1nlRl"
      },
      "execution_count": 2,
      "outputs": []
    },
    {
      "cell_type": "markdown",
      "source": [
        "The table below contains some functions from the pandas library; however, this is just scratching the surface of the capabilities of pandas. We'll use these functions in the following sections to perform some exploratory data analysis. The pandas [user guide](https://pandas.pydata.org/docs/user_guide/index.html) contains detailed documentation for all of the functions in the library.\n",
        "\n",
        "\n",
        "| Function Name | Use |\n",
        "| --------- |: ----- |\n",
        "| `pd.read_csv()` | imports a csv file as a `DataFrame` |\n",
        "| `DataFrame.info()` | provides a concise summary of a `DataFrame` |\n",
        "| `DataFrame.dtypes` | provides the data types for each column in a `DataFrame` |\n",
        "| `DataFrame.shape` | provides the number of rows and columns in a `DataFrame` |\n",
        "| `DataFrame.describe()` | provides descriptive statistics for each column in a `DataFrame` |\n",
        "| `DataFrame.sample()` | randomly selects a sample from a `Series` or `DataFrame` |\n",
        "| `DataFrame.isin()` | returns a `DataFrame` of booleans showing whether each element was contained in the provided set of values |\n",
        "| `DataFrame.isna()` | returns a `DataFrame` filled with boolean values indicating missing values |\n",
        "| `DataFrame.dropna()` | removes missing values |\n",
        "| `DataFrame.sample()` | randomly selects a sample from a `Series` or `DataFrame` |\n",
        "| `DataFrame.sort_values()` | sorts the values in a `DataFrame` in ascending or descending order based on one or more columns |\n",
        "| `DataFrame.nunique()` | returns a `Series` with the number of distinct elements in each column |\n",
        "| `DataFrame.unique()` | returns unique values in order of appearance |\n",
        "| `DataFrame.value_counts()` | returns a `Series` containing the counts of unique values |\n",
        "| `DataFrame.sum()` | returns the column (or row) sums |\n",
        "| `DataFrame.groupby()` | groups a `DataFrame` by values in one or more columns |\n",
        "| `pd.to_datetime()` | converts the data type to datetime |\n",
        "| `pd.to_numeric()` | converts the data type to numeric |\n",
        "| `pd.to_string()` | converts the data type to string |\n",
        "| `DataFrame.duplicated()` | returns a boolean `Series` denoting duplicate rows |\n",
        "| `DataFrame.drop_duplicates()` | returns a `DataFrame` with duplicate rows removed |\n",
        "| `DataFrame.merge()` | merges two `DataFrame` objects |\n",
        "| `DataFrame.to_excel()` | saves a `DataFrame` as an Excel sheet |\n"
      ],
      "metadata": {
        "id": "mx5b6CBE5PgH"
      }
    },
    {
      "cell_type": "markdown",
      "source": [
        "#### **Importing Data**\n",
        "\n",
        "Let's import a dataset and perform some exploratory data analysis using the pandas library. Often we'll have datasets stored as csv files and pandas makes it easy to import a csv file with the `pd.read_csv()` function. The `pd.read_csv()` function takes a file path as the argument. This can be the path to a file stored on your computer or even a URL.\n",
        "\n",
        "We'll use a purchase card data set to test out some of the capabilities of pandas. Each row in the data set represents a purchase card transaction."
      ],
      "metadata": {
        "id": "LZ7oUyYorHM0"
      }
    },
    {
      "cell_type": "code",
      "source": [
        "#define a variable, 'path', that stores the URL for the data\n",
        "#this step is optional and depends on style preference\n",
        "path = 'https://github.com/kayley-smiley/Python-Training/blob/main/P-Card%20Data.csv?raw=true'\n",
        "\n",
        "#read in the data and name it 'df'\n",
        "df = pd.read_csv(path)"
      ],
      "metadata": {
        "id": "dFqhDArSyyLe"
      },
      "execution_count": 3,
      "outputs": []
    },
    {
      "cell_type": "markdown",
      "source": [
        "When we first import a dataset, it's a good idea to check the size of the dataset and take a look at a couple of rows. To check the size, we can use the `DataFrame.shape` function, which returns the number of rows and columns. To use the function, replace the word `DataFrame` with the name of a `DataFrame` object. In our case, this would be `df`. This general rule applies to any pandas function with `DataFrame` in the name.\n",
        "\n"
      ],
      "metadata": {
        "id": "xooD09SZAnKj"
      }
    },
    {
      "cell_type": "code",
      "source": [
        "df.shape"
      ],
      "metadata": {
        "colab": {
          "base_uri": "https://localhost:8080/"
        },
        "id": "t9uLFWPQcRR8",
        "outputId": "a99b1db3-10f8-4ee7-cf34-7cd970c92694"
      },
      "execution_count": 36,
      "outputs": [
        {
          "output_type": "execute_result",
          "data": {
            "text/plain": [
              "(22846, 7)"
            ]
          },
          "metadata": {},
          "execution_count": 36
        }
      ]
    },
    {
      "cell_type": "markdown",
      "source": [
        "To view a couple rows from the dataset, we can use the `DataFrame.head()` and `DataFrame.tail()` functions. The `DataFrame.head()` function will return rows from the beginning of the dataset and the `DataFrame.tail()` function will return rows from the end of the dataset. Both of these functions have an optional argument, `n`, to specify the number of rows that will be returned. If you don't specify `n`, the function will default to 5 rows."
      ],
      "metadata": {
        "id": "tIKtvQxscPAu"
      }
    },
    {
      "cell_type": "code",
      "source": [
        "#look at the first 5 rows\n",
        "df.head()"
      ],
      "metadata": {
        "colab": {
          "base_uri": "https://localhost:8080/",
          "height": 206
        },
        "id": "rrzBcAeMC3BK",
        "outputId": "40a7b0c0-15ca-4e00-e354-402e27760fae"
      },
      "execution_count": null,
      "outputs": [
        {
          "output_type": "execute_result",
          "data": {
            "text/plain": [
              "   New ID  Vendor Charge_Date Cardholder_Agency  PC_Number  Billing_Amount\n",
              "0  184782  AMAZON   6/25/2023           Library  PC-225445          110.26\n",
              "1  276017  SQUARE   8/28/2023           Library  PC-157370          700.00\n",
              "2  185196  SQUARE   8/19/2023      City Council  PC-194507           30.00\n",
              "3  208673  SQUARE   8/30/2023      City Council  PC-107176         1009.55\n",
              "4  175842  SQUARE   8/26/2023      City Council  PC-215581          564.50"
            ],
            "text/html": [
              "\n",
              "  <div id=\"df-b2087df4-89c9-45d9-8701-1fd2339c377e\" class=\"colab-df-container\">\n",
              "    <div>\n",
              "<style scoped>\n",
              "    .dataframe tbody tr th:only-of-type {\n",
              "        vertical-align: middle;\n",
              "    }\n",
              "\n",
              "    .dataframe tbody tr th {\n",
              "        vertical-align: top;\n",
              "    }\n",
              "\n",
              "    .dataframe thead th {\n",
              "        text-align: right;\n",
              "    }\n",
              "</style>\n",
              "<table border=\"1\" class=\"dataframe\">\n",
              "  <thead>\n",
              "    <tr style=\"text-align: right;\">\n",
              "      <th></th>\n",
              "      <th>New ID</th>\n",
              "      <th>Vendor</th>\n",
              "      <th>Charge_Date</th>\n",
              "      <th>Cardholder_Agency</th>\n",
              "      <th>PC_Number</th>\n",
              "      <th>Billing_Amount</th>\n",
              "    </tr>\n",
              "  </thead>\n",
              "  <tbody>\n",
              "    <tr>\n",
              "      <th>0</th>\n",
              "      <td>184782</td>\n",
              "      <td>AMAZON</td>\n",
              "      <td>6/25/2023</td>\n",
              "      <td>Library</td>\n",
              "      <td>PC-225445</td>\n",
              "      <td>110.26</td>\n",
              "    </tr>\n",
              "    <tr>\n",
              "      <th>1</th>\n",
              "      <td>276017</td>\n",
              "      <td>SQUARE</td>\n",
              "      <td>8/28/2023</td>\n",
              "      <td>Library</td>\n",
              "      <td>PC-157370</td>\n",
              "      <td>700.00</td>\n",
              "    </tr>\n",
              "    <tr>\n",
              "      <th>2</th>\n",
              "      <td>185196</td>\n",
              "      <td>SQUARE</td>\n",
              "      <td>8/19/2023</td>\n",
              "      <td>City Council</td>\n",
              "      <td>PC-194507</td>\n",
              "      <td>30.00</td>\n",
              "    </tr>\n",
              "    <tr>\n",
              "      <th>3</th>\n",
              "      <td>208673</td>\n",
              "      <td>SQUARE</td>\n",
              "      <td>8/30/2023</td>\n",
              "      <td>City Council</td>\n",
              "      <td>PC-107176</td>\n",
              "      <td>1009.55</td>\n",
              "    </tr>\n",
              "    <tr>\n",
              "      <th>4</th>\n",
              "      <td>175842</td>\n",
              "      <td>SQUARE</td>\n",
              "      <td>8/26/2023</td>\n",
              "      <td>City Council</td>\n",
              "      <td>PC-215581</td>\n",
              "      <td>564.50</td>\n",
              "    </tr>\n",
              "  </tbody>\n",
              "</table>\n",
              "</div>\n",
              "    <div class=\"colab-df-buttons\">\n",
              "\n",
              "  <div class=\"colab-df-container\">\n",
              "    <button class=\"colab-df-convert\" onclick=\"convertToInteractive('df-b2087df4-89c9-45d9-8701-1fd2339c377e')\"\n",
              "            title=\"Convert this dataframe to an interactive table.\"\n",
              "            style=\"display:none;\">\n",
              "\n",
              "  <svg xmlns=\"http://www.w3.org/2000/svg\" height=\"24px\" viewBox=\"0 -960 960 960\">\n",
              "    <path d=\"M120-120v-720h720v720H120Zm60-500h600v-160H180v160Zm220 220h160v-160H400v160Zm0 220h160v-160H400v160ZM180-400h160v-160H180v160Zm440 0h160v-160H620v160ZM180-180h160v-160H180v160Zm440 0h160v-160H620v160Z\"/>\n",
              "  </svg>\n",
              "    </button>\n",
              "\n",
              "  <style>\n",
              "    .colab-df-container {\n",
              "      display:flex;\n",
              "      gap: 12px;\n",
              "    }\n",
              "\n",
              "    .colab-df-convert {\n",
              "      background-color: #E8F0FE;\n",
              "      border: none;\n",
              "      border-radius: 50%;\n",
              "      cursor: pointer;\n",
              "      display: none;\n",
              "      fill: #1967D2;\n",
              "      height: 32px;\n",
              "      padding: 0 0 0 0;\n",
              "      width: 32px;\n",
              "    }\n",
              "\n",
              "    .colab-df-convert:hover {\n",
              "      background-color: #E2EBFA;\n",
              "      box-shadow: 0px 1px 2px rgba(60, 64, 67, 0.3), 0px 1px 3px 1px rgba(60, 64, 67, 0.15);\n",
              "      fill: #174EA6;\n",
              "    }\n",
              "\n",
              "    .colab-df-buttons div {\n",
              "      margin-bottom: 4px;\n",
              "    }\n",
              "\n",
              "    [theme=dark] .colab-df-convert {\n",
              "      background-color: #3B4455;\n",
              "      fill: #D2E3FC;\n",
              "    }\n",
              "\n",
              "    [theme=dark] .colab-df-convert:hover {\n",
              "      background-color: #434B5C;\n",
              "      box-shadow: 0px 1px 3px 1px rgba(0, 0, 0, 0.15);\n",
              "      filter: drop-shadow(0px 1px 2px rgba(0, 0, 0, 0.3));\n",
              "      fill: #FFFFFF;\n",
              "    }\n",
              "  </style>\n",
              "\n",
              "    <script>\n",
              "      const buttonEl =\n",
              "        document.querySelector('#df-b2087df4-89c9-45d9-8701-1fd2339c377e button.colab-df-convert');\n",
              "      buttonEl.style.display =\n",
              "        google.colab.kernel.accessAllowed ? 'block' : 'none';\n",
              "\n",
              "      async function convertToInteractive(key) {\n",
              "        const element = document.querySelector('#df-b2087df4-89c9-45d9-8701-1fd2339c377e');\n",
              "        const dataTable =\n",
              "          await google.colab.kernel.invokeFunction('convertToInteractive',\n",
              "                                                    [key], {});\n",
              "        if (!dataTable) return;\n",
              "\n",
              "        const docLinkHtml = 'Like what you see? Visit the ' +\n",
              "          '<a target=\"_blank\" href=https://colab.research.google.com/notebooks/data_table.ipynb>data table notebook</a>'\n",
              "          + ' to learn more about interactive tables.';\n",
              "        element.innerHTML = '';\n",
              "        dataTable['output_type'] = 'display_data';\n",
              "        await google.colab.output.renderOutput(dataTable, element);\n",
              "        const docLink = document.createElement('div');\n",
              "        docLink.innerHTML = docLinkHtml;\n",
              "        element.appendChild(docLink);\n",
              "      }\n",
              "    </script>\n",
              "  </div>\n",
              "\n",
              "\n",
              "<div id=\"df-02fac96d-503b-4142-b036-e0ea0fd2fad2\">\n",
              "  <button class=\"colab-df-quickchart\" onclick=\"quickchart('df-02fac96d-503b-4142-b036-e0ea0fd2fad2')\"\n",
              "            title=\"Suggest charts\"\n",
              "            style=\"display:none;\">\n",
              "\n",
              "<svg xmlns=\"http://www.w3.org/2000/svg\" height=\"24px\"viewBox=\"0 0 24 24\"\n",
              "     width=\"24px\">\n",
              "    <g>\n",
              "        <path d=\"M19 3H5c-1.1 0-2 .9-2 2v14c0 1.1.9 2 2 2h14c1.1 0 2-.9 2-2V5c0-1.1-.9-2-2-2zM9 17H7v-7h2v7zm4 0h-2V7h2v10zm4 0h-2v-4h2v4z\"/>\n",
              "    </g>\n",
              "</svg>\n",
              "  </button>\n",
              "\n",
              "<style>\n",
              "  .colab-df-quickchart {\n",
              "      --bg-color: #E8F0FE;\n",
              "      --fill-color: #1967D2;\n",
              "      --hover-bg-color: #E2EBFA;\n",
              "      --hover-fill-color: #174EA6;\n",
              "      --disabled-fill-color: #AAA;\n",
              "      --disabled-bg-color: #DDD;\n",
              "  }\n",
              "\n",
              "  [theme=dark] .colab-df-quickchart {\n",
              "      --bg-color: #3B4455;\n",
              "      --fill-color: #D2E3FC;\n",
              "      --hover-bg-color: #434B5C;\n",
              "      --hover-fill-color: #FFFFFF;\n",
              "      --disabled-bg-color: #3B4455;\n",
              "      --disabled-fill-color: #666;\n",
              "  }\n",
              "\n",
              "  .colab-df-quickchart {\n",
              "    background-color: var(--bg-color);\n",
              "    border: none;\n",
              "    border-radius: 50%;\n",
              "    cursor: pointer;\n",
              "    display: none;\n",
              "    fill: var(--fill-color);\n",
              "    height: 32px;\n",
              "    padding: 0;\n",
              "    width: 32px;\n",
              "  }\n",
              "\n",
              "  .colab-df-quickchart:hover {\n",
              "    background-color: var(--hover-bg-color);\n",
              "    box-shadow: 0 1px 2px rgba(60, 64, 67, 0.3), 0 1px 3px 1px rgba(60, 64, 67, 0.15);\n",
              "    fill: var(--button-hover-fill-color);\n",
              "  }\n",
              "\n",
              "  .colab-df-quickchart-complete:disabled,\n",
              "  .colab-df-quickchart-complete:disabled:hover {\n",
              "    background-color: var(--disabled-bg-color);\n",
              "    fill: var(--disabled-fill-color);\n",
              "    box-shadow: none;\n",
              "  }\n",
              "\n",
              "  .colab-df-spinner {\n",
              "    border: 2px solid var(--fill-color);\n",
              "    border-color: transparent;\n",
              "    border-bottom-color: var(--fill-color);\n",
              "    animation:\n",
              "      spin 1s steps(1) infinite;\n",
              "  }\n",
              "\n",
              "  @keyframes spin {\n",
              "    0% {\n",
              "      border-color: transparent;\n",
              "      border-bottom-color: var(--fill-color);\n",
              "      border-left-color: var(--fill-color);\n",
              "    }\n",
              "    20% {\n",
              "      border-color: transparent;\n",
              "      border-left-color: var(--fill-color);\n",
              "      border-top-color: var(--fill-color);\n",
              "    }\n",
              "    30% {\n",
              "      border-color: transparent;\n",
              "      border-left-color: var(--fill-color);\n",
              "      border-top-color: var(--fill-color);\n",
              "      border-right-color: var(--fill-color);\n",
              "    }\n",
              "    40% {\n",
              "      border-color: transparent;\n",
              "      border-right-color: var(--fill-color);\n",
              "      border-top-color: var(--fill-color);\n",
              "    }\n",
              "    60% {\n",
              "      border-color: transparent;\n",
              "      border-right-color: var(--fill-color);\n",
              "    }\n",
              "    80% {\n",
              "      border-color: transparent;\n",
              "      border-right-color: var(--fill-color);\n",
              "      border-bottom-color: var(--fill-color);\n",
              "    }\n",
              "    90% {\n",
              "      border-color: transparent;\n",
              "      border-bottom-color: var(--fill-color);\n",
              "    }\n",
              "  }\n",
              "</style>\n",
              "\n",
              "  <script>\n",
              "    async function quickchart(key) {\n",
              "      const quickchartButtonEl =\n",
              "        document.querySelector('#' + key + ' button');\n",
              "      quickchartButtonEl.disabled = true;  // To prevent multiple clicks.\n",
              "      quickchartButtonEl.classList.add('colab-df-spinner');\n",
              "      try {\n",
              "        const charts = await google.colab.kernel.invokeFunction(\n",
              "            'suggestCharts', [key], {});\n",
              "      } catch (error) {\n",
              "        console.error('Error during call to suggestCharts:', error);\n",
              "      }\n",
              "      quickchartButtonEl.classList.remove('colab-df-spinner');\n",
              "      quickchartButtonEl.classList.add('colab-df-quickchart-complete');\n",
              "    }\n",
              "    (() => {\n",
              "      let quickchartButtonEl =\n",
              "        document.querySelector('#df-02fac96d-503b-4142-b036-e0ea0fd2fad2 button');\n",
              "      quickchartButtonEl.style.display =\n",
              "        google.colab.kernel.accessAllowed ? 'block' : 'none';\n",
              "    })();\n",
              "  </script>\n",
              "</div>\n",
              "\n",
              "    </div>\n",
              "  </div>\n"
            ],
            "application/vnd.google.colaboratory.intrinsic+json": {
              "type": "dataframe",
              "variable_name": "df",
              "summary": "{\n  \"name\": \"df\",\n  \"rows\": 22846,\n  \"fields\": [\n    {\n      \"column\": \"New ID\",\n      \"properties\": {\n        \"dtype\": \"category\",\n        \"num_unique_values\": 750,\n        \"samples\": [\n          \"276951\",\n          \"270381\",\n          \"120764\"\n        ],\n        \"semantic_type\": \"\",\n        \"description\": \"\"\n      }\n    },\n    {\n      \"column\": \"Vendor\",\n      \"properties\": {\n        \"dtype\": \"category\",\n        \"num_unique_values\": 5,\n        \"samples\": [\n          \"SQUARE\",\n          \"VENMO\",\n          \"PAYPAL\"\n        ],\n        \"semantic_type\": \"\",\n        \"description\": \"\"\n      }\n    },\n    {\n      \"column\": \"Charge_Date\",\n      \"properties\": {\n        \"dtype\": \"object\",\n        \"num_unique_values\": 360,\n        \"samples\": [\n          \"6/28/2023\",\n          \"6/15/2023\",\n          \"8/8/2023\"\n        ],\n        \"semantic_type\": \"\",\n        \"description\": \"\"\n      }\n    },\n    {\n      \"column\": \"Cardholder_Agency\",\n      \"properties\": {\n        \"dtype\": \"category\",\n        \"num_unique_values\": 19,\n        \"samples\": [\n          \"Library\",\n          \"Economic Development\",\n          \"Human Resources\"\n        ],\n        \"semantic_type\": \"\",\n        \"description\": \"\"\n      }\n    },\n    {\n      \"column\": \"PC_Number\",\n      \"properties\": {\n        \"dtype\": \"string\",\n        \"num_unique_values\": 14692,\n        \"samples\": [\n          \"PC-172938\",\n          \"PC-124696\",\n          \"PC-235151\"\n        ],\n        \"semantic_type\": \"\",\n        \"description\": \"\"\n      }\n    },\n    {\n      \"column\": \"Billing_Amount\",\n      \"properties\": {\n        \"dtype\": \"number\",\n        \"std\": 273.7004840974201,\n        \"min\": -1449.29,\n        \"max\": 8679.25,\n        \"num_unique_values\": 12109,\n        \"samples\": [\n          116.62,\n          15.24,\n          109.15\n        ],\n        \"semantic_type\": \"\",\n        \"description\": \"\"\n      }\n    }\n  ]\n}"
            }
          },
          "metadata": {},
          "execution_count": 3
        }
      ]
    },
    {
      "cell_type": "code",
      "source": [
        "#look at the last 10 rows\n",
        "df.tail(n=10)"
      ],
      "metadata": {
        "colab": {
          "base_uri": "https://localhost:8080/",
          "height": 363
        },
        "id": "Z6fQDSVkDOgh",
        "outputId": "86034b1e-c4b1-42d7-b83f-052db0087e8f"
      },
      "execution_count": null,
      "outputs": [
        {
          "output_type": "execute_result",
          "data": {
            "text/plain": [
              "       New ID  Vendor Charge_Date Cardholder_Agency  PC_Number  Billing_Amount\n",
              "22836  151581  AMAZON  11/24/2023           Library  PC-287196           34.63\n",
              "22837  151581  AMAZON  11/20/2023           Library  PC-101340           86.76\n",
              "22838  191142  AMAZON   10/4/2023           Library  PC-151135          -29.35\n",
              "22839  170469  AMAZON  11/27/2023           Library  PC-252340          438.32\n",
              "22840  191142  AMAZON   11/3/2023           Library  PC-275227           68.22\n",
              "22841  191142  AMAZON   11/4/2023           Library  PC-275227           36.53\n",
              "22842  151581  AMAZON  11/20/2023           Library  PC-184893           31.99\n",
              "22843  151581  AMAZON  11/18/2023           Library  PC-110199           18.22\n",
              "22844  191142  AMAZON   11/5/2023           Library  PC-275227           22.26\n",
              "22845  226031  PAYPAL   9/26/2023           Library  PC-282973          139.20"
            ],
            "text/html": [
              "\n",
              "  <div id=\"df-a2a85cc9-e3d3-4694-ba5f-86f04bd9df2f\" class=\"colab-df-container\">\n",
              "    <div>\n",
              "<style scoped>\n",
              "    .dataframe tbody tr th:only-of-type {\n",
              "        vertical-align: middle;\n",
              "    }\n",
              "\n",
              "    .dataframe tbody tr th {\n",
              "        vertical-align: top;\n",
              "    }\n",
              "\n",
              "    .dataframe thead th {\n",
              "        text-align: right;\n",
              "    }\n",
              "</style>\n",
              "<table border=\"1\" class=\"dataframe\">\n",
              "  <thead>\n",
              "    <tr style=\"text-align: right;\">\n",
              "      <th></th>\n",
              "      <th>New ID</th>\n",
              "      <th>Vendor</th>\n",
              "      <th>Charge_Date</th>\n",
              "      <th>Cardholder_Agency</th>\n",
              "      <th>PC_Number</th>\n",
              "      <th>Billing_Amount</th>\n",
              "    </tr>\n",
              "  </thead>\n",
              "  <tbody>\n",
              "    <tr>\n",
              "      <th>22836</th>\n",
              "      <td>151581</td>\n",
              "      <td>AMAZON</td>\n",
              "      <td>11/24/2023</td>\n",
              "      <td>Library</td>\n",
              "      <td>PC-287196</td>\n",
              "      <td>34.63</td>\n",
              "    </tr>\n",
              "    <tr>\n",
              "      <th>22837</th>\n",
              "      <td>151581</td>\n",
              "      <td>AMAZON</td>\n",
              "      <td>11/20/2023</td>\n",
              "      <td>Library</td>\n",
              "      <td>PC-101340</td>\n",
              "      <td>86.76</td>\n",
              "    </tr>\n",
              "    <tr>\n",
              "      <th>22838</th>\n",
              "      <td>191142</td>\n",
              "      <td>AMAZON</td>\n",
              "      <td>10/4/2023</td>\n",
              "      <td>Library</td>\n",
              "      <td>PC-151135</td>\n",
              "      <td>-29.35</td>\n",
              "    </tr>\n",
              "    <tr>\n",
              "      <th>22839</th>\n",
              "      <td>170469</td>\n",
              "      <td>AMAZON</td>\n",
              "      <td>11/27/2023</td>\n",
              "      <td>Library</td>\n",
              "      <td>PC-252340</td>\n",
              "      <td>438.32</td>\n",
              "    </tr>\n",
              "    <tr>\n",
              "      <th>22840</th>\n",
              "      <td>191142</td>\n",
              "      <td>AMAZON</td>\n",
              "      <td>11/3/2023</td>\n",
              "      <td>Library</td>\n",
              "      <td>PC-275227</td>\n",
              "      <td>68.22</td>\n",
              "    </tr>\n",
              "    <tr>\n",
              "      <th>22841</th>\n",
              "      <td>191142</td>\n",
              "      <td>AMAZON</td>\n",
              "      <td>11/4/2023</td>\n",
              "      <td>Library</td>\n",
              "      <td>PC-275227</td>\n",
              "      <td>36.53</td>\n",
              "    </tr>\n",
              "    <tr>\n",
              "      <th>22842</th>\n",
              "      <td>151581</td>\n",
              "      <td>AMAZON</td>\n",
              "      <td>11/20/2023</td>\n",
              "      <td>Library</td>\n",
              "      <td>PC-184893</td>\n",
              "      <td>31.99</td>\n",
              "    </tr>\n",
              "    <tr>\n",
              "      <th>22843</th>\n",
              "      <td>151581</td>\n",
              "      <td>AMAZON</td>\n",
              "      <td>11/18/2023</td>\n",
              "      <td>Library</td>\n",
              "      <td>PC-110199</td>\n",
              "      <td>18.22</td>\n",
              "    </tr>\n",
              "    <tr>\n",
              "      <th>22844</th>\n",
              "      <td>191142</td>\n",
              "      <td>AMAZON</td>\n",
              "      <td>11/5/2023</td>\n",
              "      <td>Library</td>\n",
              "      <td>PC-275227</td>\n",
              "      <td>22.26</td>\n",
              "    </tr>\n",
              "    <tr>\n",
              "      <th>22845</th>\n",
              "      <td>226031</td>\n",
              "      <td>PAYPAL</td>\n",
              "      <td>9/26/2023</td>\n",
              "      <td>Library</td>\n",
              "      <td>PC-282973</td>\n",
              "      <td>139.20</td>\n",
              "    </tr>\n",
              "  </tbody>\n",
              "</table>\n",
              "</div>\n",
              "    <div class=\"colab-df-buttons\">\n",
              "\n",
              "  <div class=\"colab-df-container\">\n",
              "    <button class=\"colab-df-convert\" onclick=\"convertToInteractive('df-a2a85cc9-e3d3-4694-ba5f-86f04bd9df2f')\"\n",
              "            title=\"Convert this dataframe to an interactive table.\"\n",
              "            style=\"display:none;\">\n",
              "\n",
              "  <svg xmlns=\"http://www.w3.org/2000/svg\" height=\"24px\" viewBox=\"0 -960 960 960\">\n",
              "    <path d=\"M120-120v-720h720v720H120Zm60-500h600v-160H180v160Zm220 220h160v-160H400v160Zm0 220h160v-160H400v160ZM180-400h160v-160H180v160Zm440 0h160v-160H620v160ZM180-180h160v-160H180v160Zm440 0h160v-160H620v160Z\"/>\n",
              "  </svg>\n",
              "    </button>\n",
              "\n",
              "  <style>\n",
              "    .colab-df-container {\n",
              "      display:flex;\n",
              "      gap: 12px;\n",
              "    }\n",
              "\n",
              "    .colab-df-convert {\n",
              "      background-color: #E8F0FE;\n",
              "      border: none;\n",
              "      border-radius: 50%;\n",
              "      cursor: pointer;\n",
              "      display: none;\n",
              "      fill: #1967D2;\n",
              "      height: 32px;\n",
              "      padding: 0 0 0 0;\n",
              "      width: 32px;\n",
              "    }\n",
              "\n",
              "    .colab-df-convert:hover {\n",
              "      background-color: #E2EBFA;\n",
              "      box-shadow: 0px 1px 2px rgba(60, 64, 67, 0.3), 0px 1px 3px 1px rgba(60, 64, 67, 0.15);\n",
              "      fill: #174EA6;\n",
              "    }\n",
              "\n",
              "    .colab-df-buttons div {\n",
              "      margin-bottom: 4px;\n",
              "    }\n",
              "\n",
              "    [theme=dark] .colab-df-convert {\n",
              "      background-color: #3B4455;\n",
              "      fill: #D2E3FC;\n",
              "    }\n",
              "\n",
              "    [theme=dark] .colab-df-convert:hover {\n",
              "      background-color: #434B5C;\n",
              "      box-shadow: 0px 1px 3px 1px rgba(0, 0, 0, 0.15);\n",
              "      filter: drop-shadow(0px 1px 2px rgba(0, 0, 0, 0.3));\n",
              "      fill: #FFFFFF;\n",
              "    }\n",
              "  </style>\n",
              "\n",
              "    <script>\n",
              "      const buttonEl =\n",
              "        document.querySelector('#df-a2a85cc9-e3d3-4694-ba5f-86f04bd9df2f button.colab-df-convert');\n",
              "      buttonEl.style.display =\n",
              "        google.colab.kernel.accessAllowed ? 'block' : 'none';\n",
              "\n",
              "      async function convertToInteractive(key) {\n",
              "        const element = document.querySelector('#df-a2a85cc9-e3d3-4694-ba5f-86f04bd9df2f');\n",
              "        const dataTable =\n",
              "          await google.colab.kernel.invokeFunction('convertToInteractive',\n",
              "                                                    [key], {});\n",
              "        if (!dataTable) return;\n",
              "\n",
              "        const docLinkHtml = 'Like what you see? Visit the ' +\n",
              "          '<a target=\"_blank\" href=https://colab.research.google.com/notebooks/data_table.ipynb>data table notebook</a>'\n",
              "          + ' to learn more about interactive tables.';\n",
              "        element.innerHTML = '';\n",
              "        dataTable['output_type'] = 'display_data';\n",
              "        await google.colab.output.renderOutput(dataTable, element);\n",
              "        const docLink = document.createElement('div');\n",
              "        docLink.innerHTML = docLinkHtml;\n",
              "        element.appendChild(docLink);\n",
              "      }\n",
              "    </script>\n",
              "  </div>\n",
              "\n",
              "\n",
              "<div id=\"df-4fec3157-ff56-4c93-87e8-731390240a9a\">\n",
              "  <button class=\"colab-df-quickchart\" onclick=\"quickchart('df-4fec3157-ff56-4c93-87e8-731390240a9a')\"\n",
              "            title=\"Suggest charts\"\n",
              "            style=\"display:none;\">\n",
              "\n",
              "<svg xmlns=\"http://www.w3.org/2000/svg\" height=\"24px\"viewBox=\"0 0 24 24\"\n",
              "     width=\"24px\">\n",
              "    <g>\n",
              "        <path d=\"M19 3H5c-1.1 0-2 .9-2 2v14c0 1.1.9 2 2 2h14c1.1 0 2-.9 2-2V5c0-1.1-.9-2-2-2zM9 17H7v-7h2v7zm4 0h-2V7h2v10zm4 0h-2v-4h2v4z\"/>\n",
              "    </g>\n",
              "</svg>\n",
              "  </button>\n",
              "\n",
              "<style>\n",
              "  .colab-df-quickchart {\n",
              "      --bg-color: #E8F0FE;\n",
              "      --fill-color: #1967D2;\n",
              "      --hover-bg-color: #E2EBFA;\n",
              "      --hover-fill-color: #174EA6;\n",
              "      --disabled-fill-color: #AAA;\n",
              "      --disabled-bg-color: #DDD;\n",
              "  }\n",
              "\n",
              "  [theme=dark] .colab-df-quickchart {\n",
              "      --bg-color: #3B4455;\n",
              "      --fill-color: #D2E3FC;\n",
              "      --hover-bg-color: #434B5C;\n",
              "      --hover-fill-color: #FFFFFF;\n",
              "      --disabled-bg-color: #3B4455;\n",
              "      --disabled-fill-color: #666;\n",
              "  }\n",
              "\n",
              "  .colab-df-quickchart {\n",
              "    background-color: var(--bg-color);\n",
              "    border: none;\n",
              "    border-radius: 50%;\n",
              "    cursor: pointer;\n",
              "    display: none;\n",
              "    fill: var(--fill-color);\n",
              "    height: 32px;\n",
              "    padding: 0;\n",
              "    width: 32px;\n",
              "  }\n",
              "\n",
              "  .colab-df-quickchart:hover {\n",
              "    background-color: var(--hover-bg-color);\n",
              "    box-shadow: 0 1px 2px rgba(60, 64, 67, 0.3), 0 1px 3px 1px rgba(60, 64, 67, 0.15);\n",
              "    fill: var(--button-hover-fill-color);\n",
              "  }\n",
              "\n",
              "  .colab-df-quickchart-complete:disabled,\n",
              "  .colab-df-quickchart-complete:disabled:hover {\n",
              "    background-color: var(--disabled-bg-color);\n",
              "    fill: var(--disabled-fill-color);\n",
              "    box-shadow: none;\n",
              "  }\n",
              "\n",
              "  .colab-df-spinner {\n",
              "    border: 2px solid var(--fill-color);\n",
              "    border-color: transparent;\n",
              "    border-bottom-color: var(--fill-color);\n",
              "    animation:\n",
              "      spin 1s steps(1) infinite;\n",
              "  }\n",
              "\n",
              "  @keyframes spin {\n",
              "    0% {\n",
              "      border-color: transparent;\n",
              "      border-bottom-color: var(--fill-color);\n",
              "      border-left-color: var(--fill-color);\n",
              "    }\n",
              "    20% {\n",
              "      border-color: transparent;\n",
              "      border-left-color: var(--fill-color);\n",
              "      border-top-color: var(--fill-color);\n",
              "    }\n",
              "    30% {\n",
              "      border-color: transparent;\n",
              "      border-left-color: var(--fill-color);\n",
              "      border-top-color: var(--fill-color);\n",
              "      border-right-color: var(--fill-color);\n",
              "    }\n",
              "    40% {\n",
              "      border-color: transparent;\n",
              "      border-right-color: var(--fill-color);\n",
              "      border-top-color: var(--fill-color);\n",
              "    }\n",
              "    60% {\n",
              "      border-color: transparent;\n",
              "      border-right-color: var(--fill-color);\n",
              "    }\n",
              "    80% {\n",
              "      border-color: transparent;\n",
              "      border-right-color: var(--fill-color);\n",
              "      border-bottom-color: var(--fill-color);\n",
              "    }\n",
              "    90% {\n",
              "      border-color: transparent;\n",
              "      border-bottom-color: var(--fill-color);\n",
              "    }\n",
              "  }\n",
              "</style>\n",
              "\n",
              "  <script>\n",
              "    async function quickchart(key) {\n",
              "      const quickchartButtonEl =\n",
              "        document.querySelector('#' + key + ' button');\n",
              "      quickchartButtonEl.disabled = true;  // To prevent multiple clicks.\n",
              "      quickchartButtonEl.classList.add('colab-df-spinner');\n",
              "      try {\n",
              "        const charts = await google.colab.kernel.invokeFunction(\n",
              "            'suggestCharts', [key], {});\n",
              "      } catch (error) {\n",
              "        console.error('Error during call to suggestCharts:', error);\n",
              "      }\n",
              "      quickchartButtonEl.classList.remove('colab-df-spinner');\n",
              "      quickchartButtonEl.classList.add('colab-df-quickchart-complete');\n",
              "    }\n",
              "    (() => {\n",
              "      let quickchartButtonEl =\n",
              "        document.querySelector('#df-4fec3157-ff56-4c93-87e8-731390240a9a button');\n",
              "      quickchartButtonEl.style.display =\n",
              "        google.colab.kernel.accessAllowed ? 'block' : 'none';\n",
              "    })();\n",
              "  </script>\n",
              "</div>\n",
              "\n",
              "    </div>\n",
              "  </div>\n"
            ],
            "application/vnd.google.colaboratory.intrinsic+json": {
              "type": "dataframe",
              "repr_error": "0"
            }
          },
          "metadata": {},
          "execution_count": 4
        }
      ]
    },
    {
      "cell_type": "markdown",
      "source": [
        "#### **Data Structures**\n",
        "\n",
        "pandas has two widely used data structures: `Series` and `DataFrame`. You can think of a `Series` as a single column of data and a `DataFrame` as a dataset that contains many rows and columns. This means that  our purchase card dataset (`df`) is a `DataFrame` and each of it's columns are `Series`.\n",
        "\n",
        "If we only want to look at specific rows or columns of a `DataFrame`, there are several ways that we can create a subset of the data. The general way to subset a `DataFrame` is by specifying the subset inside square brackets, `[]`, after the name of the `DataFrame`.\n",
        "\n",
        "For example, if we want to just look at the `Vendor` column from `df`, we can use the following code.\n",
        "\n"
      ],
      "metadata": {
        "id": "6xmBSp0vDu7_"
      }
    },
    {
      "cell_type": "code",
      "source": [
        "df['Vendor']"
      ],
      "metadata": {
        "colab": {
          "base_uri": "https://localhost:8080/"
        },
        "id": "LPCLoSJ9g7P9",
        "outputId": "667b3867-b06f-4390-98e3-265e55f13d81"
      },
      "execution_count": null,
      "outputs": [
        {
          "output_type": "execute_result",
          "data": {
            "text/plain": [
              "0        AMAZON\n",
              "1        SQUARE\n",
              "2        SQUARE\n",
              "3        SQUARE\n",
              "4        SQUARE\n",
              "          ...  \n",
              "22841    AMAZON\n",
              "22842    AMAZON\n",
              "22843    AMAZON\n",
              "22844    AMAZON\n",
              "22845    PAYPAL\n",
              "Name: Vendor, Length: 22846, dtype: object"
            ]
          },
          "metadata": {},
          "execution_count": 10
        }
      ]
    },
    {
      "cell_type": "markdown",
      "source": [
        "If we want to view multiple columns of a `DataFrame`, we can provide a list of column names inside the square brackets."
      ],
      "metadata": {
        "id": "8upSFh9nk7fo"
      }
    },
    {
      "cell_type": "code",
      "source": [
        "df[['Vendor', 'Charge_Date']]"
      ],
      "metadata": {
        "colab": {
          "base_uri": "https://localhost:8080/",
          "height": 423
        },
        "id": "RZ38guCXlBEm",
        "outputId": "d1f70f22-1c37-4540-d626-921ded7b27dd"
      },
      "execution_count": null,
      "outputs": [
        {
          "output_type": "execute_result",
          "data": {
            "text/plain": [
              "       Vendor Charge_Date\n",
              "0      AMAZON   6/25/2023\n",
              "1      SQUARE   8/28/2023\n",
              "2      SQUARE   8/19/2023\n",
              "3      SQUARE   8/30/2023\n",
              "4      SQUARE   8/26/2023\n",
              "...       ...         ...\n",
              "22841  AMAZON   11/4/2023\n",
              "22842  AMAZON  11/20/2023\n",
              "22843  AMAZON  11/18/2023\n",
              "22844  AMAZON   11/5/2023\n",
              "22845  PAYPAL   9/26/2023\n",
              "\n",
              "[22846 rows x 2 columns]"
            ],
            "text/html": [
              "\n",
              "  <div id=\"df-99212a65-f531-4187-b76e-75311b491f08\" class=\"colab-df-container\">\n",
              "    <div>\n",
              "<style scoped>\n",
              "    .dataframe tbody tr th:only-of-type {\n",
              "        vertical-align: middle;\n",
              "    }\n",
              "\n",
              "    .dataframe tbody tr th {\n",
              "        vertical-align: top;\n",
              "    }\n",
              "\n",
              "    .dataframe thead th {\n",
              "        text-align: right;\n",
              "    }\n",
              "</style>\n",
              "<table border=\"1\" class=\"dataframe\">\n",
              "  <thead>\n",
              "    <tr style=\"text-align: right;\">\n",
              "      <th></th>\n",
              "      <th>Vendor</th>\n",
              "      <th>Charge_Date</th>\n",
              "    </tr>\n",
              "  </thead>\n",
              "  <tbody>\n",
              "    <tr>\n",
              "      <th>0</th>\n",
              "      <td>AMAZON</td>\n",
              "      <td>6/25/2023</td>\n",
              "    </tr>\n",
              "    <tr>\n",
              "      <th>1</th>\n",
              "      <td>SQUARE</td>\n",
              "      <td>8/28/2023</td>\n",
              "    </tr>\n",
              "    <tr>\n",
              "      <th>2</th>\n",
              "      <td>SQUARE</td>\n",
              "      <td>8/19/2023</td>\n",
              "    </tr>\n",
              "    <tr>\n",
              "      <th>3</th>\n",
              "      <td>SQUARE</td>\n",
              "      <td>8/30/2023</td>\n",
              "    </tr>\n",
              "    <tr>\n",
              "      <th>4</th>\n",
              "      <td>SQUARE</td>\n",
              "      <td>8/26/2023</td>\n",
              "    </tr>\n",
              "    <tr>\n",
              "      <th>...</th>\n",
              "      <td>...</td>\n",
              "      <td>...</td>\n",
              "    </tr>\n",
              "    <tr>\n",
              "      <th>22841</th>\n",
              "      <td>AMAZON</td>\n",
              "      <td>11/4/2023</td>\n",
              "    </tr>\n",
              "    <tr>\n",
              "      <th>22842</th>\n",
              "      <td>AMAZON</td>\n",
              "      <td>11/20/2023</td>\n",
              "    </tr>\n",
              "    <tr>\n",
              "      <th>22843</th>\n",
              "      <td>AMAZON</td>\n",
              "      <td>11/18/2023</td>\n",
              "    </tr>\n",
              "    <tr>\n",
              "      <th>22844</th>\n",
              "      <td>AMAZON</td>\n",
              "      <td>11/5/2023</td>\n",
              "    </tr>\n",
              "    <tr>\n",
              "      <th>22845</th>\n",
              "      <td>PAYPAL</td>\n",
              "      <td>9/26/2023</td>\n",
              "    </tr>\n",
              "  </tbody>\n",
              "</table>\n",
              "<p>22846 rows × 2 columns</p>\n",
              "</div>\n",
              "    <div class=\"colab-df-buttons\">\n",
              "\n",
              "  <div class=\"colab-df-container\">\n",
              "    <button class=\"colab-df-convert\" onclick=\"convertToInteractive('df-99212a65-f531-4187-b76e-75311b491f08')\"\n",
              "            title=\"Convert this dataframe to an interactive table.\"\n",
              "            style=\"display:none;\">\n",
              "\n",
              "  <svg xmlns=\"http://www.w3.org/2000/svg\" height=\"24px\" viewBox=\"0 -960 960 960\">\n",
              "    <path d=\"M120-120v-720h720v720H120Zm60-500h600v-160H180v160Zm220 220h160v-160H400v160Zm0 220h160v-160H400v160ZM180-400h160v-160H180v160Zm440 0h160v-160H620v160ZM180-180h160v-160H180v160Zm440 0h160v-160H620v160Z\"/>\n",
              "  </svg>\n",
              "    </button>\n",
              "\n",
              "  <style>\n",
              "    .colab-df-container {\n",
              "      display:flex;\n",
              "      gap: 12px;\n",
              "    }\n",
              "\n",
              "    .colab-df-convert {\n",
              "      background-color: #E8F0FE;\n",
              "      border: none;\n",
              "      border-radius: 50%;\n",
              "      cursor: pointer;\n",
              "      display: none;\n",
              "      fill: #1967D2;\n",
              "      height: 32px;\n",
              "      padding: 0 0 0 0;\n",
              "      width: 32px;\n",
              "    }\n",
              "\n",
              "    .colab-df-convert:hover {\n",
              "      background-color: #E2EBFA;\n",
              "      box-shadow: 0px 1px 2px rgba(60, 64, 67, 0.3), 0px 1px 3px 1px rgba(60, 64, 67, 0.15);\n",
              "      fill: #174EA6;\n",
              "    }\n",
              "\n",
              "    .colab-df-buttons div {\n",
              "      margin-bottom: 4px;\n",
              "    }\n",
              "\n",
              "    [theme=dark] .colab-df-convert {\n",
              "      background-color: #3B4455;\n",
              "      fill: #D2E3FC;\n",
              "    }\n",
              "\n",
              "    [theme=dark] .colab-df-convert:hover {\n",
              "      background-color: #434B5C;\n",
              "      box-shadow: 0px 1px 3px 1px rgba(0, 0, 0, 0.15);\n",
              "      filter: drop-shadow(0px 1px 2px rgba(0, 0, 0, 0.3));\n",
              "      fill: #FFFFFF;\n",
              "    }\n",
              "  </style>\n",
              "\n",
              "    <script>\n",
              "      const buttonEl =\n",
              "        document.querySelector('#df-99212a65-f531-4187-b76e-75311b491f08 button.colab-df-convert');\n",
              "      buttonEl.style.display =\n",
              "        google.colab.kernel.accessAllowed ? 'block' : 'none';\n",
              "\n",
              "      async function convertToInteractive(key) {\n",
              "        const element = document.querySelector('#df-99212a65-f531-4187-b76e-75311b491f08');\n",
              "        const dataTable =\n",
              "          await google.colab.kernel.invokeFunction('convertToInteractive',\n",
              "                                                    [key], {});\n",
              "        if (!dataTable) return;\n",
              "\n",
              "        const docLinkHtml = 'Like what you see? Visit the ' +\n",
              "          '<a target=\"_blank\" href=https://colab.research.google.com/notebooks/data_table.ipynb>data table notebook</a>'\n",
              "          + ' to learn more about interactive tables.';\n",
              "        element.innerHTML = '';\n",
              "        dataTable['output_type'] = 'display_data';\n",
              "        await google.colab.output.renderOutput(dataTable, element);\n",
              "        const docLink = document.createElement('div');\n",
              "        docLink.innerHTML = docLinkHtml;\n",
              "        element.appendChild(docLink);\n",
              "      }\n",
              "    </script>\n",
              "  </div>\n",
              "\n",
              "\n",
              "<div id=\"df-b2d64b68-175b-4f80-894e-b15fba405e47\">\n",
              "  <button class=\"colab-df-quickchart\" onclick=\"quickchart('df-b2d64b68-175b-4f80-894e-b15fba405e47')\"\n",
              "            title=\"Suggest charts\"\n",
              "            style=\"display:none;\">\n",
              "\n",
              "<svg xmlns=\"http://www.w3.org/2000/svg\" height=\"24px\"viewBox=\"0 0 24 24\"\n",
              "     width=\"24px\">\n",
              "    <g>\n",
              "        <path d=\"M19 3H5c-1.1 0-2 .9-2 2v14c0 1.1.9 2 2 2h14c1.1 0 2-.9 2-2V5c0-1.1-.9-2-2-2zM9 17H7v-7h2v7zm4 0h-2V7h2v10zm4 0h-2v-4h2v4z\"/>\n",
              "    </g>\n",
              "</svg>\n",
              "  </button>\n",
              "\n",
              "<style>\n",
              "  .colab-df-quickchart {\n",
              "      --bg-color: #E8F0FE;\n",
              "      --fill-color: #1967D2;\n",
              "      --hover-bg-color: #E2EBFA;\n",
              "      --hover-fill-color: #174EA6;\n",
              "      --disabled-fill-color: #AAA;\n",
              "      --disabled-bg-color: #DDD;\n",
              "  }\n",
              "\n",
              "  [theme=dark] .colab-df-quickchart {\n",
              "      --bg-color: #3B4455;\n",
              "      --fill-color: #D2E3FC;\n",
              "      --hover-bg-color: #434B5C;\n",
              "      --hover-fill-color: #FFFFFF;\n",
              "      --disabled-bg-color: #3B4455;\n",
              "      --disabled-fill-color: #666;\n",
              "  }\n",
              "\n",
              "  .colab-df-quickchart {\n",
              "    background-color: var(--bg-color);\n",
              "    border: none;\n",
              "    border-radius: 50%;\n",
              "    cursor: pointer;\n",
              "    display: none;\n",
              "    fill: var(--fill-color);\n",
              "    height: 32px;\n",
              "    padding: 0;\n",
              "    width: 32px;\n",
              "  }\n",
              "\n",
              "  .colab-df-quickchart:hover {\n",
              "    background-color: var(--hover-bg-color);\n",
              "    box-shadow: 0 1px 2px rgba(60, 64, 67, 0.3), 0 1px 3px 1px rgba(60, 64, 67, 0.15);\n",
              "    fill: var(--button-hover-fill-color);\n",
              "  }\n",
              "\n",
              "  .colab-df-quickchart-complete:disabled,\n",
              "  .colab-df-quickchart-complete:disabled:hover {\n",
              "    background-color: var(--disabled-bg-color);\n",
              "    fill: var(--disabled-fill-color);\n",
              "    box-shadow: none;\n",
              "  }\n",
              "\n",
              "  .colab-df-spinner {\n",
              "    border: 2px solid var(--fill-color);\n",
              "    border-color: transparent;\n",
              "    border-bottom-color: var(--fill-color);\n",
              "    animation:\n",
              "      spin 1s steps(1) infinite;\n",
              "  }\n",
              "\n",
              "  @keyframes spin {\n",
              "    0% {\n",
              "      border-color: transparent;\n",
              "      border-bottom-color: var(--fill-color);\n",
              "      border-left-color: var(--fill-color);\n",
              "    }\n",
              "    20% {\n",
              "      border-color: transparent;\n",
              "      border-left-color: var(--fill-color);\n",
              "      border-top-color: var(--fill-color);\n",
              "    }\n",
              "    30% {\n",
              "      border-color: transparent;\n",
              "      border-left-color: var(--fill-color);\n",
              "      border-top-color: var(--fill-color);\n",
              "      border-right-color: var(--fill-color);\n",
              "    }\n",
              "    40% {\n",
              "      border-color: transparent;\n",
              "      border-right-color: var(--fill-color);\n",
              "      border-top-color: var(--fill-color);\n",
              "    }\n",
              "    60% {\n",
              "      border-color: transparent;\n",
              "      border-right-color: var(--fill-color);\n",
              "    }\n",
              "    80% {\n",
              "      border-color: transparent;\n",
              "      border-right-color: var(--fill-color);\n",
              "      border-bottom-color: var(--fill-color);\n",
              "    }\n",
              "    90% {\n",
              "      border-color: transparent;\n",
              "      border-bottom-color: var(--fill-color);\n",
              "    }\n",
              "  }\n",
              "</style>\n",
              "\n",
              "  <script>\n",
              "    async function quickchart(key) {\n",
              "      const quickchartButtonEl =\n",
              "        document.querySelector('#' + key + ' button');\n",
              "      quickchartButtonEl.disabled = true;  // To prevent multiple clicks.\n",
              "      quickchartButtonEl.classList.add('colab-df-spinner');\n",
              "      try {\n",
              "        const charts = await google.colab.kernel.invokeFunction(\n",
              "            'suggestCharts', [key], {});\n",
              "      } catch (error) {\n",
              "        console.error('Error during call to suggestCharts:', error);\n",
              "      }\n",
              "      quickchartButtonEl.classList.remove('colab-df-spinner');\n",
              "      quickchartButtonEl.classList.add('colab-df-quickchart-complete');\n",
              "    }\n",
              "    (() => {\n",
              "      let quickchartButtonEl =\n",
              "        document.querySelector('#df-b2d64b68-175b-4f80-894e-b15fba405e47 button');\n",
              "      quickchartButtonEl.style.display =\n",
              "        google.colab.kernel.accessAllowed ? 'block' : 'none';\n",
              "    })();\n",
              "  </script>\n",
              "</div>\n",
              "\n",
              "    </div>\n",
              "  </div>\n"
            ],
            "application/vnd.google.colaboratory.intrinsic+json": {
              "type": "dataframe",
              "summary": "{\n  \"name\": \"df[['Vendor', 'Charge_Date']]\",\n  \"rows\": 22846,\n  \"fields\": [\n    {\n      \"column\": \"Vendor\",\n      \"properties\": {\n        \"dtype\": \"category\",\n        \"num_unique_values\": 5,\n        \"samples\": [\n          \"SQUARE\",\n          \"VENMO\",\n          \"PAYPAL\"\n        ],\n        \"semantic_type\": \"\",\n        \"description\": \"\"\n      }\n    },\n    {\n      \"column\": \"Charge_Date\",\n      \"properties\": {\n        \"dtype\": \"object\",\n        \"num_unique_values\": 360,\n        \"samples\": [\n          \"6/28/2023\",\n          \"6/15/2023\",\n          \"8/8/2023\"\n        ],\n        \"semantic_type\": \"\",\n        \"description\": \"\"\n      }\n    }\n  ]\n}"
            }
          },
          "metadata": {},
          "execution_count": 11
        }
      ]
    },
    {
      "cell_type": "markdown",
      "source": [
        "Similar to what we did with lists earlier, we can also subset a `DataFrame` based on row or column numbers. Remember that Python starts indexing at 0, instead of 1! When specifying row or column numbers, the syntax for subsetting slightly changes to the following:\n",
        "\n",
        "```\n",
        "DataFrame.iloc[row number(s), column number(s)]\n",
        "```\n"
      ],
      "metadata": {
        "id": "JbwXrscomxpI"
      }
    },
    {
      "cell_type": "code",
      "source": [
        "#view the entry in the first row and column\n",
        "df.iloc[0,0]"
      ],
      "metadata": {
        "colab": {
          "base_uri": "https://localhost:8080/",
          "height": 35
        },
        "id": "ThIgl4Uh7I0m",
        "outputId": "a081a965-4707-4438-ed55-832c4cf028ee"
      },
      "execution_count": null,
      "outputs": [
        {
          "output_type": "execute_result",
          "data": {
            "text/plain": [
              "'184782'"
            ],
            "application/vnd.google.colaboratory.intrinsic+json": {
              "type": "string"
            }
          },
          "metadata": {},
          "execution_count": 21
        }
      ]
    },
    {
      "cell_type": "markdown",
      "source": [
        "We can also specify a range row numbers and column numbers. Recall that the first value in a range is inclusive and the last value is exclusive!"
      ],
      "metadata": {
        "id": "qlszSq36AGos"
      }
    },
    {
      "cell_type": "code",
      "source": [
        "#view the first two rows and first two columns\n",
        "df.iloc[0:2, 0:2]"
      ],
      "metadata": {
        "colab": {
          "base_uri": "https://localhost:8080/",
          "height": 112
        },
        "id": "dWfM0h_4APLU",
        "outputId": "843d7bb8-8b76-49b4-f5f2-9517f2834d93"
      },
      "execution_count": null,
      "outputs": [
        {
          "output_type": "execute_result",
          "data": {
            "text/plain": [
              "   New ID  Vendor\n",
              "0  184782  AMAZON\n",
              "1  276017  SQUARE"
            ],
            "text/html": [
              "\n",
              "  <div id=\"df-53641047-0c0e-4c3e-a478-f70ecd0af762\" class=\"colab-df-container\">\n",
              "    <div>\n",
              "<style scoped>\n",
              "    .dataframe tbody tr th:only-of-type {\n",
              "        vertical-align: middle;\n",
              "    }\n",
              "\n",
              "    .dataframe tbody tr th {\n",
              "        vertical-align: top;\n",
              "    }\n",
              "\n",
              "    .dataframe thead th {\n",
              "        text-align: right;\n",
              "    }\n",
              "</style>\n",
              "<table border=\"1\" class=\"dataframe\">\n",
              "  <thead>\n",
              "    <tr style=\"text-align: right;\">\n",
              "      <th></th>\n",
              "      <th>New ID</th>\n",
              "      <th>Vendor</th>\n",
              "    </tr>\n",
              "  </thead>\n",
              "  <tbody>\n",
              "    <tr>\n",
              "      <th>0</th>\n",
              "      <td>184782</td>\n",
              "      <td>AMAZON</td>\n",
              "    </tr>\n",
              "    <tr>\n",
              "      <th>1</th>\n",
              "      <td>276017</td>\n",
              "      <td>SQUARE</td>\n",
              "    </tr>\n",
              "  </tbody>\n",
              "</table>\n",
              "</div>\n",
              "    <div class=\"colab-df-buttons\">\n",
              "\n",
              "  <div class=\"colab-df-container\">\n",
              "    <button class=\"colab-df-convert\" onclick=\"convertToInteractive('df-53641047-0c0e-4c3e-a478-f70ecd0af762')\"\n",
              "            title=\"Convert this dataframe to an interactive table.\"\n",
              "            style=\"display:none;\">\n",
              "\n",
              "  <svg xmlns=\"http://www.w3.org/2000/svg\" height=\"24px\" viewBox=\"0 -960 960 960\">\n",
              "    <path d=\"M120-120v-720h720v720H120Zm60-500h600v-160H180v160Zm220 220h160v-160H400v160Zm0 220h160v-160H400v160ZM180-400h160v-160H180v160Zm440 0h160v-160H620v160ZM180-180h160v-160H180v160Zm440 0h160v-160H620v160Z\"/>\n",
              "  </svg>\n",
              "    </button>\n",
              "\n",
              "  <style>\n",
              "    .colab-df-container {\n",
              "      display:flex;\n",
              "      gap: 12px;\n",
              "    }\n",
              "\n",
              "    .colab-df-convert {\n",
              "      background-color: #E8F0FE;\n",
              "      border: none;\n",
              "      border-radius: 50%;\n",
              "      cursor: pointer;\n",
              "      display: none;\n",
              "      fill: #1967D2;\n",
              "      height: 32px;\n",
              "      padding: 0 0 0 0;\n",
              "      width: 32px;\n",
              "    }\n",
              "\n",
              "    .colab-df-convert:hover {\n",
              "      background-color: #E2EBFA;\n",
              "      box-shadow: 0px 1px 2px rgba(60, 64, 67, 0.3), 0px 1px 3px 1px rgba(60, 64, 67, 0.15);\n",
              "      fill: #174EA6;\n",
              "    }\n",
              "\n",
              "    .colab-df-buttons div {\n",
              "      margin-bottom: 4px;\n",
              "    }\n",
              "\n",
              "    [theme=dark] .colab-df-convert {\n",
              "      background-color: #3B4455;\n",
              "      fill: #D2E3FC;\n",
              "    }\n",
              "\n",
              "    [theme=dark] .colab-df-convert:hover {\n",
              "      background-color: #434B5C;\n",
              "      box-shadow: 0px 1px 3px 1px rgba(0, 0, 0, 0.15);\n",
              "      filter: drop-shadow(0px 1px 2px rgba(0, 0, 0, 0.3));\n",
              "      fill: #FFFFFF;\n",
              "    }\n",
              "  </style>\n",
              "\n",
              "    <script>\n",
              "      const buttonEl =\n",
              "        document.querySelector('#df-53641047-0c0e-4c3e-a478-f70ecd0af762 button.colab-df-convert');\n",
              "      buttonEl.style.display =\n",
              "        google.colab.kernel.accessAllowed ? 'block' : 'none';\n",
              "\n",
              "      async function convertToInteractive(key) {\n",
              "        const element = document.querySelector('#df-53641047-0c0e-4c3e-a478-f70ecd0af762');\n",
              "        const dataTable =\n",
              "          await google.colab.kernel.invokeFunction('convertToInteractive',\n",
              "                                                    [key], {});\n",
              "        if (!dataTable) return;\n",
              "\n",
              "        const docLinkHtml = 'Like what you see? Visit the ' +\n",
              "          '<a target=\"_blank\" href=https://colab.research.google.com/notebooks/data_table.ipynb>data table notebook</a>'\n",
              "          + ' to learn more about interactive tables.';\n",
              "        element.innerHTML = '';\n",
              "        dataTable['output_type'] = 'display_data';\n",
              "        await google.colab.output.renderOutput(dataTable, element);\n",
              "        const docLink = document.createElement('div');\n",
              "        docLink.innerHTML = docLinkHtml;\n",
              "        element.appendChild(docLink);\n",
              "      }\n",
              "    </script>\n",
              "  </div>\n",
              "\n",
              "\n",
              "<div id=\"df-5d764923-b223-417d-9d61-fec78230dad2\">\n",
              "  <button class=\"colab-df-quickchart\" onclick=\"quickchart('df-5d764923-b223-417d-9d61-fec78230dad2')\"\n",
              "            title=\"Suggest charts\"\n",
              "            style=\"display:none;\">\n",
              "\n",
              "<svg xmlns=\"http://www.w3.org/2000/svg\" height=\"24px\"viewBox=\"0 0 24 24\"\n",
              "     width=\"24px\">\n",
              "    <g>\n",
              "        <path d=\"M19 3H5c-1.1 0-2 .9-2 2v14c0 1.1.9 2 2 2h14c1.1 0 2-.9 2-2V5c0-1.1-.9-2-2-2zM9 17H7v-7h2v7zm4 0h-2V7h2v10zm4 0h-2v-4h2v4z\"/>\n",
              "    </g>\n",
              "</svg>\n",
              "  </button>\n",
              "\n",
              "<style>\n",
              "  .colab-df-quickchart {\n",
              "      --bg-color: #E8F0FE;\n",
              "      --fill-color: #1967D2;\n",
              "      --hover-bg-color: #E2EBFA;\n",
              "      --hover-fill-color: #174EA6;\n",
              "      --disabled-fill-color: #AAA;\n",
              "      --disabled-bg-color: #DDD;\n",
              "  }\n",
              "\n",
              "  [theme=dark] .colab-df-quickchart {\n",
              "      --bg-color: #3B4455;\n",
              "      --fill-color: #D2E3FC;\n",
              "      --hover-bg-color: #434B5C;\n",
              "      --hover-fill-color: #FFFFFF;\n",
              "      --disabled-bg-color: #3B4455;\n",
              "      --disabled-fill-color: #666;\n",
              "  }\n",
              "\n",
              "  .colab-df-quickchart {\n",
              "    background-color: var(--bg-color);\n",
              "    border: none;\n",
              "    border-radius: 50%;\n",
              "    cursor: pointer;\n",
              "    display: none;\n",
              "    fill: var(--fill-color);\n",
              "    height: 32px;\n",
              "    padding: 0;\n",
              "    width: 32px;\n",
              "  }\n",
              "\n",
              "  .colab-df-quickchart:hover {\n",
              "    background-color: var(--hover-bg-color);\n",
              "    box-shadow: 0 1px 2px rgba(60, 64, 67, 0.3), 0 1px 3px 1px rgba(60, 64, 67, 0.15);\n",
              "    fill: var(--button-hover-fill-color);\n",
              "  }\n",
              "\n",
              "  .colab-df-quickchart-complete:disabled,\n",
              "  .colab-df-quickchart-complete:disabled:hover {\n",
              "    background-color: var(--disabled-bg-color);\n",
              "    fill: var(--disabled-fill-color);\n",
              "    box-shadow: none;\n",
              "  }\n",
              "\n",
              "  .colab-df-spinner {\n",
              "    border: 2px solid var(--fill-color);\n",
              "    border-color: transparent;\n",
              "    border-bottom-color: var(--fill-color);\n",
              "    animation:\n",
              "      spin 1s steps(1) infinite;\n",
              "  }\n",
              "\n",
              "  @keyframes spin {\n",
              "    0% {\n",
              "      border-color: transparent;\n",
              "      border-bottom-color: var(--fill-color);\n",
              "      border-left-color: var(--fill-color);\n",
              "    }\n",
              "    20% {\n",
              "      border-color: transparent;\n",
              "      border-left-color: var(--fill-color);\n",
              "      border-top-color: var(--fill-color);\n",
              "    }\n",
              "    30% {\n",
              "      border-color: transparent;\n",
              "      border-left-color: var(--fill-color);\n",
              "      border-top-color: var(--fill-color);\n",
              "      border-right-color: var(--fill-color);\n",
              "    }\n",
              "    40% {\n",
              "      border-color: transparent;\n",
              "      border-right-color: var(--fill-color);\n",
              "      border-top-color: var(--fill-color);\n",
              "    }\n",
              "    60% {\n",
              "      border-color: transparent;\n",
              "      border-right-color: var(--fill-color);\n",
              "    }\n",
              "    80% {\n",
              "      border-color: transparent;\n",
              "      border-right-color: var(--fill-color);\n",
              "      border-bottom-color: var(--fill-color);\n",
              "    }\n",
              "    90% {\n",
              "      border-color: transparent;\n",
              "      border-bottom-color: var(--fill-color);\n",
              "    }\n",
              "  }\n",
              "</style>\n",
              "\n",
              "  <script>\n",
              "    async function quickchart(key) {\n",
              "      const quickchartButtonEl =\n",
              "        document.querySelector('#' + key + ' button');\n",
              "      quickchartButtonEl.disabled = true;  // To prevent multiple clicks.\n",
              "      quickchartButtonEl.classList.add('colab-df-spinner');\n",
              "      try {\n",
              "        const charts = await google.colab.kernel.invokeFunction(\n",
              "            'suggestCharts', [key], {});\n",
              "      } catch (error) {\n",
              "        console.error('Error during call to suggestCharts:', error);\n",
              "      }\n",
              "      quickchartButtonEl.classList.remove('colab-df-spinner');\n",
              "      quickchartButtonEl.classList.add('colab-df-quickchart-complete');\n",
              "    }\n",
              "    (() => {\n",
              "      let quickchartButtonEl =\n",
              "        document.querySelector('#df-5d764923-b223-417d-9d61-fec78230dad2 button');\n",
              "      quickchartButtonEl.style.display =\n",
              "        google.colab.kernel.accessAllowed ? 'block' : 'none';\n",
              "    })();\n",
              "  </script>\n",
              "</div>\n",
              "\n",
              "    </div>\n",
              "  </div>\n"
            ],
            "application/vnd.google.colaboratory.intrinsic+json": {
              "type": "dataframe",
              "summary": "{\n  \"name\": \"df\",\n  \"rows\": 2,\n  \"fields\": [\n    {\n      \"column\": \"New ID\",\n      \"properties\": {\n        \"dtype\": \"string\",\n        \"num_unique_values\": 2,\n        \"samples\": [\n          \"276017\",\n          \"184782\"\n        ],\n        \"semantic_type\": \"\",\n        \"description\": \"\"\n      }\n    },\n    {\n      \"column\": \"Vendor\",\n      \"properties\": {\n        \"dtype\": \"string\",\n        \"num_unique_values\": 2,\n        \"samples\": [\n          \"SQUARE\",\n          \"AMAZON\"\n        ],\n        \"semantic_type\": \"\",\n        \"description\": \"\"\n      }\n    }\n  ]\n}"
            }
          },
          "metadata": {},
          "execution_count": 22
        }
      ]
    },
    {
      "cell_type": "markdown",
      "source": [
        "If we only include row numbers in the range, all columns for those rows will be included. Similarily, if we only include column numbers in the range, all rows for those columns will be included."
      ],
      "metadata": {
        "id": "t7Wah4Vs605G"
      }
    },
    {
      "cell_type": "code",
      "source": [
        "#view the second row in the dataframe\n",
        "df.iloc[2,:]"
      ],
      "metadata": {
        "colab": {
          "base_uri": "https://localhost:8080/"
        },
        "id": "XwWe8K8evYhf",
        "outputId": "03db36fa-2f2e-4635-96d3-6d1bba4a3f0e"
      },
      "execution_count": null,
      "outputs": [
        {
          "output_type": "execute_result",
          "data": {
            "text/plain": [
              "New ID                     185196\n",
              "Vendor                     SQUARE\n",
              "Charge_Date             8/19/2023\n",
              "Cardholder_Agency    City Council\n",
              "PC_Number               PC-194507\n",
              "Billing_Amount               30.0\n",
              "Name: 2, dtype: object"
            ]
          },
          "metadata": {},
          "execution_count": 18
        }
      ]
    },
    {
      "cell_type": "code",
      "source": [
        "#view the third column in the dataframe\n",
        "df.iloc[:,3]"
      ],
      "metadata": {
        "colab": {
          "base_uri": "https://localhost:8080/"
        },
        "id": "R4tx1KFgxZGM",
        "outputId": "696e47bc-822d-4454-e5d8-1efff2b012ca"
      },
      "execution_count": null,
      "outputs": [
        {
          "output_type": "execute_result",
          "data": {
            "text/plain": [
              "0             Library\n",
              "1             Library\n",
              "2        City Council\n",
              "3        City Council\n",
              "4        City Council\n",
              "             ...     \n",
              "22841         Library\n",
              "22842         Library\n",
              "22843         Library\n",
              "22844         Library\n",
              "22845         Library\n",
              "Name: Cardholder_Agency, Length: 22846, dtype: object"
            ]
          },
          "metadata": {},
          "execution_count": 17
        }
      ]
    },
    {
      "cell_type": "markdown",
      "source": [
        "We can also subset a `DataFrame` with a boolean expression, where we only include entries that meet a certain condition.\n",
        "\n",
        "For example, one of the entries in `Cardholder_Agency` is `'Library'`. We can look at a subset of `df` that only contains rows where the `Cardholder_Agency` is `'Library'` by placing a boolean condition inside the brackets."
      ],
      "metadata": {
        "id": "HVDrAw-6GCji"
      }
    },
    {
      "cell_type": "code",
      "source": [
        "#look at rows in df where the Cardholder_Agency is Library\n",
        "df[df['Cardholder_Agency'] == 'Library']"
      ],
      "metadata": {
        "colab": {
          "base_uri": "https://localhost:8080/",
          "height": 423
        },
        "id": "PsYO-CV8G0Qt",
        "outputId": "fc426970-cf12-4694-8bf5-d1179b17c5ed"
      },
      "execution_count": null,
      "outputs": [
        {
          "output_type": "execute_result",
          "data": {
            "text/plain": [
              "       New ID  Vendor Charge_Date Cardholder_Agency  PC_Number  Billing_Amount\n",
              "0      184782  AMAZON   6/25/2023           Library  PC-225445          110.26\n",
              "1      276017  SQUARE   8/28/2023           Library  PC-157370          700.00\n",
              "6      129828  AMAZON   8/15/2023           Library  PC-201297           35.48\n",
              "12     280035  AMAZON   9/12/2023           Library  PC-221503          285.88\n",
              "13     280035  AMAZON    9/8/2023           Library  PC-221503          392.04\n",
              "...       ...     ...         ...               ...        ...             ...\n",
              "22841  191142  AMAZON   11/4/2023           Library  PC-275227           36.53\n",
              "22842  151581  AMAZON  11/20/2023           Library  PC-184893           31.99\n",
              "22843  151581  AMAZON  11/18/2023           Library  PC-110199           18.22\n",
              "22844  191142  AMAZON   11/5/2023           Library  PC-275227           22.26\n",
              "22845  226031  PAYPAL   9/26/2023           Library  PC-282973          139.20\n",
              "\n",
              "[3202 rows x 6 columns]"
            ],
            "text/html": [
              "\n",
              "  <div id=\"df-46937889-e153-472f-a293-6e63a0f14821\" class=\"colab-df-container\">\n",
              "    <div>\n",
              "<style scoped>\n",
              "    .dataframe tbody tr th:only-of-type {\n",
              "        vertical-align: middle;\n",
              "    }\n",
              "\n",
              "    .dataframe tbody tr th {\n",
              "        vertical-align: top;\n",
              "    }\n",
              "\n",
              "    .dataframe thead th {\n",
              "        text-align: right;\n",
              "    }\n",
              "</style>\n",
              "<table border=\"1\" class=\"dataframe\">\n",
              "  <thead>\n",
              "    <tr style=\"text-align: right;\">\n",
              "      <th></th>\n",
              "      <th>New ID</th>\n",
              "      <th>Vendor</th>\n",
              "      <th>Charge_Date</th>\n",
              "      <th>Cardholder_Agency</th>\n",
              "      <th>PC_Number</th>\n",
              "      <th>Billing_Amount</th>\n",
              "    </tr>\n",
              "  </thead>\n",
              "  <tbody>\n",
              "    <tr>\n",
              "      <th>0</th>\n",
              "      <td>184782</td>\n",
              "      <td>AMAZON</td>\n",
              "      <td>6/25/2023</td>\n",
              "      <td>Library</td>\n",
              "      <td>PC-225445</td>\n",
              "      <td>110.26</td>\n",
              "    </tr>\n",
              "    <tr>\n",
              "      <th>1</th>\n",
              "      <td>276017</td>\n",
              "      <td>SQUARE</td>\n",
              "      <td>8/28/2023</td>\n",
              "      <td>Library</td>\n",
              "      <td>PC-157370</td>\n",
              "      <td>700.00</td>\n",
              "    </tr>\n",
              "    <tr>\n",
              "      <th>6</th>\n",
              "      <td>129828</td>\n",
              "      <td>AMAZON</td>\n",
              "      <td>8/15/2023</td>\n",
              "      <td>Library</td>\n",
              "      <td>PC-201297</td>\n",
              "      <td>35.48</td>\n",
              "    </tr>\n",
              "    <tr>\n",
              "      <th>12</th>\n",
              "      <td>280035</td>\n",
              "      <td>AMAZON</td>\n",
              "      <td>9/12/2023</td>\n",
              "      <td>Library</td>\n",
              "      <td>PC-221503</td>\n",
              "      <td>285.88</td>\n",
              "    </tr>\n",
              "    <tr>\n",
              "      <th>13</th>\n",
              "      <td>280035</td>\n",
              "      <td>AMAZON</td>\n",
              "      <td>9/8/2023</td>\n",
              "      <td>Library</td>\n",
              "      <td>PC-221503</td>\n",
              "      <td>392.04</td>\n",
              "    </tr>\n",
              "    <tr>\n",
              "      <th>...</th>\n",
              "      <td>...</td>\n",
              "      <td>...</td>\n",
              "      <td>...</td>\n",
              "      <td>...</td>\n",
              "      <td>...</td>\n",
              "      <td>...</td>\n",
              "    </tr>\n",
              "    <tr>\n",
              "      <th>22841</th>\n",
              "      <td>191142</td>\n",
              "      <td>AMAZON</td>\n",
              "      <td>11/4/2023</td>\n",
              "      <td>Library</td>\n",
              "      <td>PC-275227</td>\n",
              "      <td>36.53</td>\n",
              "    </tr>\n",
              "    <tr>\n",
              "      <th>22842</th>\n",
              "      <td>151581</td>\n",
              "      <td>AMAZON</td>\n",
              "      <td>11/20/2023</td>\n",
              "      <td>Library</td>\n",
              "      <td>PC-184893</td>\n",
              "      <td>31.99</td>\n",
              "    </tr>\n",
              "    <tr>\n",
              "      <th>22843</th>\n",
              "      <td>151581</td>\n",
              "      <td>AMAZON</td>\n",
              "      <td>11/18/2023</td>\n",
              "      <td>Library</td>\n",
              "      <td>PC-110199</td>\n",
              "      <td>18.22</td>\n",
              "    </tr>\n",
              "    <tr>\n",
              "      <th>22844</th>\n",
              "      <td>191142</td>\n",
              "      <td>AMAZON</td>\n",
              "      <td>11/5/2023</td>\n",
              "      <td>Library</td>\n",
              "      <td>PC-275227</td>\n",
              "      <td>22.26</td>\n",
              "    </tr>\n",
              "    <tr>\n",
              "      <th>22845</th>\n",
              "      <td>226031</td>\n",
              "      <td>PAYPAL</td>\n",
              "      <td>9/26/2023</td>\n",
              "      <td>Library</td>\n",
              "      <td>PC-282973</td>\n",
              "      <td>139.20</td>\n",
              "    </tr>\n",
              "  </tbody>\n",
              "</table>\n",
              "<p>3202 rows × 6 columns</p>\n",
              "</div>\n",
              "    <div class=\"colab-df-buttons\">\n",
              "\n",
              "  <div class=\"colab-df-container\">\n",
              "    <button class=\"colab-df-convert\" onclick=\"convertToInteractive('df-46937889-e153-472f-a293-6e63a0f14821')\"\n",
              "            title=\"Convert this dataframe to an interactive table.\"\n",
              "            style=\"display:none;\">\n",
              "\n",
              "  <svg xmlns=\"http://www.w3.org/2000/svg\" height=\"24px\" viewBox=\"0 -960 960 960\">\n",
              "    <path d=\"M120-120v-720h720v720H120Zm60-500h600v-160H180v160Zm220 220h160v-160H400v160Zm0 220h160v-160H400v160ZM180-400h160v-160H180v160Zm440 0h160v-160H620v160ZM180-180h160v-160H180v160Zm440 0h160v-160H620v160Z\"/>\n",
              "  </svg>\n",
              "    </button>\n",
              "\n",
              "  <style>\n",
              "    .colab-df-container {\n",
              "      display:flex;\n",
              "      gap: 12px;\n",
              "    }\n",
              "\n",
              "    .colab-df-convert {\n",
              "      background-color: #E8F0FE;\n",
              "      border: none;\n",
              "      border-radius: 50%;\n",
              "      cursor: pointer;\n",
              "      display: none;\n",
              "      fill: #1967D2;\n",
              "      height: 32px;\n",
              "      padding: 0 0 0 0;\n",
              "      width: 32px;\n",
              "    }\n",
              "\n",
              "    .colab-df-convert:hover {\n",
              "      background-color: #E2EBFA;\n",
              "      box-shadow: 0px 1px 2px rgba(60, 64, 67, 0.3), 0px 1px 3px 1px rgba(60, 64, 67, 0.15);\n",
              "      fill: #174EA6;\n",
              "    }\n",
              "\n",
              "    .colab-df-buttons div {\n",
              "      margin-bottom: 4px;\n",
              "    }\n",
              "\n",
              "    [theme=dark] .colab-df-convert {\n",
              "      background-color: #3B4455;\n",
              "      fill: #D2E3FC;\n",
              "    }\n",
              "\n",
              "    [theme=dark] .colab-df-convert:hover {\n",
              "      background-color: #434B5C;\n",
              "      box-shadow: 0px 1px 3px 1px rgba(0, 0, 0, 0.15);\n",
              "      filter: drop-shadow(0px 1px 2px rgba(0, 0, 0, 0.3));\n",
              "      fill: #FFFFFF;\n",
              "    }\n",
              "  </style>\n",
              "\n",
              "    <script>\n",
              "      const buttonEl =\n",
              "        document.querySelector('#df-46937889-e153-472f-a293-6e63a0f14821 button.colab-df-convert');\n",
              "      buttonEl.style.display =\n",
              "        google.colab.kernel.accessAllowed ? 'block' : 'none';\n",
              "\n",
              "      async function convertToInteractive(key) {\n",
              "        const element = document.querySelector('#df-46937889-e153-472f-a293-6e63a0f14821');\n",
              "        const dataTable =\n",
              "          await google.colab.kernel.invokeFunction('convertToInteractive',\n",
              "                                                    [key], {});\n",
              "        if (!dataTable) return;\n",
              "\n",
              "        const docLinkHtml = 'Like what you see? Visit the ' +\n",
              "          '<a target=\"_blank\" href=https://colab.research.google.com/notebooks/data_table.ipynb>data table notebook</a>'\n",
              "          + ' to learn more about interactive tables.';\n",
              "        element.innerHTML = '';\n",
              "        dataTable['output_type'] = 'display_data';\n",
              "        await google.colab.output.renderOutput(dataTable, element);\n",
              "        const docLink = document.createElement('div');\n",
              "        docLink.innerHTML = docLinkHtml;\n",
              "        element.appendChild(docLink);\n",
              "      }\n",
              "    </script>\n",
              "  </div>\n",
              "\n",
              "\n",
              "<div id=\"df-36fc2753-e5c7-4a98-9755-a5193fdf1f35\">\n",
              "  <button class=\"colab-df-quickchart\" onclick=\"quickchart('df-36fc2753-e5c7-4a98-9755-a5193fdf1f35')\"\n",
              "            title=\"Suggest charts\"\n",
              "            style=\"display:none;\">\n",
              "\n",
              "<svg xmlns=\"http://www.w3.org/2000/svg\" height=\"24px\"viewBox=\"0 0 24 24\"\n",
              "     width=\"24px\">\n",
              "    <g>\n",
              "        <path d=\"M19 3H5c-1.1 0-2 .9-2 2v14c0 1.1.9 2 2 2h14c1.1 0 2-.9 2-2V5c0-1.1-.9-2-2-2zM9 17H7v-7h2v7zm4 0h-2V7h2v10zm4 0h-2v-4h2v4z\"/>\n",
              "    </g>\n",
              "</svg>\n",
              "  </button>\n",
              "\n",
              "<style>\n",
              "  .colab-df-quickchart {\n",
              "      --bg-color: #E8F0FE;\n",
              "      --fill-color: #1967D2;\n",
              "      --hover-bg-color: #E2EBFA;\n",
              "      --hover-fill-color: #174EA6;\n",
              "      --disabled-fill-color: #AAA;\n",
              "      --disabled-bg-color: #DDD;\n",
              "  }\n",
              "\n",
              "  [theme=dark] .colab-df-quickchart {\n",
              "      --bg-color: #3B4455;\n",
              "      --fill-color: #D2E3FC;\n",
              "      --hover-bg-color: #434B5C;\n",
              "      --hover-fill-color: #FFFFFF;\n",
              "      --disabled-bg-color: #3B4455;\n",
              "      --disabled-fill-color: #666;\n",
              "  }\n",
              "\n",
              "  .colab-df-quickchart {\n",
              "    background-color: var(--bg-color);\n",
              "    border: none;\n",
              "    border-radius: 50%;\n",
              "    cursor: pointer;\n",
              "    display: none;\n",
              "    fill: var(--fill-color);\n",
              "    height: 32px;\n",
              "    padding: 0;\n",
              "    width: 32px;\n",
              "  }\n",
              "\n",
              "  .colab-df-quickchart:hover {\n",
              "    background-color: var(--hover-bg-color);\n",
              "    box-shadow: 0 1px 2px rgba(60, 64, 67, 0.3), 0 1px 3px 1px rgba(60, 64, 67, 0.15);\n",
              "    fill: var(--button-hover-fill-color);\n",
              "  }\n",
              "\n",
              "  .colab-df-quickchart-complete:disabled,\n",
              "  .colab-df-quickchart-complete:disabled:hover {\n",
              "    background-color: var(--disabled-bg-color);\n",
              "    fill: var(--disabled-fill-color);\n",
              "    box-shadow: none;\n",
              "  }\n",
              "\n",
              "  .colab-df-spinner {\n",
              "    border: 2px solid var(--fill-color);\n",
              "    border-color: transparent;\n",
              "    border-bottom-color: var(--fill-color);\n",
              "    animation:\n",
              "      spin 1s steps(1) infinite;\n",
              "  }\n",
              "\n",
              "  @keyframes spin {\n",
              "    0% {\n",
              "      border-color: transparent;\n",
              "      border-bottom-color: var(--fill-color);\n",
              "      border-left-color: var(--fill-color);\n",
              "    }\n",
              "    20% {\n",
              "      border-color: transparent;\n",
              "      border-left-color: var(--fill-color);\n",
              "      border-top-color: var(--fill-color);\n",
              "    }\n",
              "    30% {\n",
              "      border-color: transparent;\n",
              "      border-left-color: var(--fill-color);\n",
              "      border-top-color: var(--fill-color);\n",
              "      border-right-color: var(--fill-color);\n",
              "    }\n",
              "    40% {\n",
              "      border-color: transparent;\n",
              "      border-right-color: var(--fill-color);\n",
              "      border-top-color: var(--fill-color);\n",
              "    }\n",
              "    60% {\n",
              "      border-color: transparent;\n",
              "      border-right-color: var(--fill-color);\n",
              "    }\n",
              "    80% {\n",
              "      border-color: transparent;\n",
              "      border-right-color: var(--fill-color);\n",
              "      border-bottom-color: var(--fill-color);\n",
              "    }\n",
              "    90% {\n",
              "      border-color: transparent;\n",
              "      border-bottom-color: var(--fill-color);\n",
              "    }\n",
              "  }\n",
              "</style>\n",
              "\n",
              "  <script>\n",
              "    async function quickchart(key) {\n",
              "      const quickchartButtonEl =\n",
              "        document.querySelector('#' + key + ' button');\n",
              "      quickchartButtonEl.disabled = true;  // To prevent multiple clicks.\n",
              "      quickchartButtonEl.classList.add('colab-df-spinner');\n",
              "      try {\n",
              "        const charts = await google.colab.kernel.invokeFunction(\n",
              "            'suggestCharts', [key], {});\n",
              "      } catch (error) {\n",
              "        console.error('Error during call to suggestCharts:', error);\n",
              "      }\n",
              "      quickchartButtonEl.classList.remove('colab-df-spinner');\n",
              "      quickchartButtonEl.classList.add('colab-df-quickchart-complete');\n",
              "    }\n",
              "    (() => {\n",
              "      let quickchartButtonEl =\n",
              "        document.querySelector('#df-36fc2753-e5c7-4a98-9755-a5193fdf1f35 button');\n",
              "      quickchartButtonEl.style.display =\n",
              "        google.colab.kernel.accessAllowed ? 'block' : 'none';\n",
              "    })();\n",
              "  </script>\n",
              "</div>\n",
              "\n",
              "    </div>\n",
              "  </div>\n"
            ],
            "application/vnd.google.colaboratory.intrinsic+json": {
              "type": "dataframe",
              "summary": "{\n  \"name\": \"df[df['Cardholder_Agency'] == 'Library']\",\n  \"rows\": 3202,\n  \"fields\": [\n    {\n      \"column\": \"New ID\",\n      \"properties\": {\n        \"dtype\": \"category\",\n        \"num_unique_values\": 138,\n        \"samples\": [\n          \"205022\",\n          \"271488\",\n          \"134214\"\n        ],\n        \"semantic_type\": \"\",\n        \"description\": \"\"\n      }\n    },\n    {\n      \"column\": \"Vendor\",\n      \"properties\": {\n        \"dtype\": \"category\",\n        \"num_unique_values\": 3,\n        \"samples\": [\n          \"AMAZON\",\n          \"SQUARE\",\n          \"PAYPAL\"\n        ],\n        \"semantic_type\": \"\",\n        \"description\": \"\"\n      }\n    },\n    {\n      \"column\": \"Charge_Date\",\n      \"properties\": {\n        \"dtype\": \"object\",\n        \"num_unique_values\": 357,\n        \"samples\": [\n          \"6/20/2023\",\n          \"10/9/2023\",\n          \"12/18/2023\"\n        ],\n        \"semantic_type\": \"\",\n        \"description\": \"\"\n      }\n    },\n    {\n      \"column\": \"Cardholder_Agency\",\n      \"properties\": {\n        \"dtype\": \"category\",\n        \"num_unique_values\": 1,\n        \"samples\": [\n          \"Library\"\n        ],\n        \"semantic_type\": \"\",\n        \"description\": \"\"\n      }\n    },\n    {\n      \"column\": \"PC_Number\",\n      \"properties\": {\n        \"dtype\": \"string\",\n        \"num_unique_values\": 2267,\n        \"samples\": [\n          \"PC-106689\"\n        ],\n        \"semantic_type\": \"\",\n        \"description\": \"\"\n      }\n    },\n    {\n      \"column\": \"Billing_Amount\",\n      \"properties\": {\n        \"dtype\": \"number\",\n        \"std\": 135.79082193948008,\n        \"min\": -259.11,\n        \"max\": 1920.6,\n        \"num_unique_values\": 2318,\n        \"samples\": [\n          259.21\n        ],\n        \"semantic_type\": \"\",\n        \"description\": \"\"\n      }\n    }\n  ]\n}"
            }
          },
          "metadata": {},
          "execution_count": 23
        }
      ]
    },
    {
      "cell_type": "markdown",
      "source": [
        "We can also use a compound boolean expression to subset a `DataFrame`. Let's look at the subset that contains all rows where the `Cardholder_Agency` is `'Library'` and the `Vendor` is `'AMAZON'`."
      ],
      "metadata": {
        "id": "7941UeK2HGZ_"
      }
    },
    {
      "cell_type": "code",
      "source": [
        "#look at rows in df where the Cardholder_Agency is Library and the Vendor is AMAZON\n",
        "df[(df['Cardholder_Agency'] == 'Library') & (df['Vendor'] == 'AMAZON')]"
      ],
      "metadata": {
        "colab": {
          "base_uri": "https://localhost:8080/",
          "height": 579
        },
        "id": "fA1s6xJqH0JY",
        "outputId": "4358f064-8bc0-4cf6-c240-9b1748326875"
      },
      "execution_count": null,
      "outputs": [
        {
          "output_type": "execute_result",
          "data": {
            "text/plain": [
              "       New ID  Vendor Charge_Date                  Cardholder_Agency  \\\n",
              "8      201485  AMAZON  2023-10-16                       City Council   \n",
              "9      197267  AMAZON  2023-10-30                            Airport   \n",
              "10     103860  AMAZON  2023-09-28                       City Council   \n",
              "11     237456  AMAZON  2023-08-27                       City Council   \n",
              "15     216875  AMAZON  2023-08-10                      Public Health   \n",
              "...       ...     ...         ...                                ...   \n",
              "22427  211100  AMAZON  2023-01-13  Transportation and Infrastructure   \n",
              "22428  211100  AMAZON  2023-01-11  Transportation and Infrastructure   \n",
              "22429  211100  AMAZON  2023-01-11  Transportation and Infrastructure   \n",
              "22432  211100  AMAZON  2023-01-13  Transportation and Infrastructure   \n",
              "22433  211100  AMAZON  2023-01-13  Transportation and Infrastructure   \n",
              "\n",
              "       PC_Number  Billing_Amount Charge_Day  \n",
              "8      PC-283774           87.99     Monday  \n",
              "9      PC-298024           26.10     Monday  \n",
              "10     PC-174559           16.19   Thursday  \n",
              "11     PC-211871           58.78     Sunday  \n",
              "15     PC-261900          279.21   Thursday  \n",
              "...          ...             ...        ...  \n",
              "22427  PC-256106           25.72     Friday  \n",
              "22428  PC-128938           25.72  Wednesday  \n",
              "22429  PC-144104           25.72  Wednesday  \n",
              "22432  PC-144912           25.72     Friday  \n",
              "22433  PC-213591           25.72     Friday  \n",
              "\n",
              "[18693 rows x 7 columns]"
            ],
            "text/html": [
              "\n",
              "  <div id=\"df-df9736ae-2545-4216-8725-cb142bc35e00\" class=\"colab-df-container\">\n",
              "    <div>\n",
              "<style scoped>\n",
              "    .dataframe tbody tr th:only-of-type {\n",
              "        vertical-align: middle;\n",
              "    }\n",
              "\n",
              "    .dataframe tbody tr th {\n",
              "        vertical-align: top;\n",
              "    }\n",
              "\n",
              "    .dataframe thead th {\n",
              "        text-align: right;\n",
              "    }\n",
              "</style>\n",
              "<table border=\"1\" class=\"dataframe\">\n",
              "  <thead>\n",
              "    <tr style=\"text-align: right;\">\n",
              "      <th></th>\n",
              "      <th>New ID</th>\n",
              "      <th>Vendor</th>\n",
              "      <th>Charge_Date</th>\n",
              "      <th>Cardholder_Agency</th>\n",
              "      <th>PC_Number</th>\n",
              "      <th>Billing_Amount</th>\n",
              "      <th>Charge_Day</th>\n",
              "    </tr>\n",
              "  </thead>\n",
              "  <tbody>\n",
              "    <tr>\n",
              "      <th>8</th>\n",
              "      <td>201485</td>\n",
              "      <td>AMAZON</td>\n",
              "      <td>2023-10-16</td>\n",
              "      <td>City Council</td>\n",
              "      <td>PC-283774</td>\n",
              "      <td>87.99</td>\n",
              "      <td>Monday</td>\n",
              "    </tr>\n",
              "    <tr>\n",
              "      <th>9</th>\n",
              "      <td>197267</td>\n",
              "      <td>AMAZON</td>\n",
              "      <td>2023-10-30</td>\n",
              "      <td>Airport</td>\n",
              "      <td>PC-298024</td>\n",
              "      <td>26.10</td>\n",
              "      <td>Monday</td>\n",
              "    </tr>\n",
              "    <tr>\n",
              "      <th>10</th>\n",
              "      <td>103860</td>\n",
              "      <td>AMAZON</td>\n",
              "      <td>2023-09-28</td>\n",
              "      <td>City Council</td>\n",
              "      <td>PC-174559</td>\n",
              "      <td>16.19</td>\n",
              "      <td>Thursday</td>\n",
              "    </tr>\n",
              "    <tr>\n",
              "      <th>11</th>\n",
              "      <td>237456</td>\n",
              "      <td>AMAZON</td>\n",
              "      <td>2023-08-27</td>\n",
              "      <td>City Council</td>\n",
              "      <td>PC-211871</td>\n",
              "      <td>58.78</td>\n",
              "      <td>Sunday</td>\n",
              "    </tr>\n",
              "    <tr>\n",
              "      <th>15</th>\n",
              "      <td>216875</td>\n",
              "      <td>AMAZON</td>\n",
              "      <td>2023-08-10</td>\n",
              "      <td>Public Health</td>\n",
              "      <td>PC-261900</td>\n",
              "      <td>279.21</td>\n",
              "      <td>Thursday</td>\n",
              "    </tr>\n",
              "    <tr>\n",
              "      <th>...</th>\n",
              "      <td>...</td>\n",
              "      <td>...</td>\n",
              "      <td>...</td>\n",
              "      <td>...</td>\n",
              "      <td>...</td>\n",
              "      <td>...</td>\n",
              "      <td>...</td>\n",
              "    </tr>\n",
              "    <tr>\n",
              "      <th>22427</th>\n",
              "      <td>211100</td>\n",
              "      <td>AMAZON</td>\n",
              "      <td>2023-01-13</td>\n",
              "      <td>Transportation and Infrastructure</td>\n",
              "      <td>PC-256106</td>\n",
              "      <td>25.72</td>\n",
              "      <td>Friday</td>\n",
              "    </tr>\n",
              "    <tr>\n",
              "      <th>22428</th>\n",
              "      <td>211100</td>\n",
              "      <td>AMAZON</td>\n",
              "      <td>2023-01-11</td>\n",
              "      <td>Transportation and Infrastructure</td>\n",
              "      <td>PC-128938</td>\n",
              "      <td>25.72</td>\n",
              "      <td>Wednesday</td>\n",
              "    </tr>\n",
              "    <tr>\n",
              "      <th>22429</th>\n",
              "      <td>211100</td>\n",
              "      <td>AMAZON</td>\n",
              "      <td>2023-01-11</td>\n",
              "      <td>Transportation and Infrastructure</td>\n",
              "      <td>PC-144104</td>\n",
              "      <td>25.72</td>\n",
              "      <td>Wednesday</td>\n",
              "    </tr>\n",
              "    <tr>\n",
              "      <th>22432</th>\n",
              "      <td>211100</td>\n",
              "      <td>AMAZON</td>\n",
              "      <td>2023-01-13</td>\n",
              "      <td>Transportation and Infrastructure</td>\n",
              "      <td>PC-144912</td>\n",
              "      <td>25.72</td>\n",
              "      <td>Friday</td>\n",
              "    </tr>\n",
              "    <tr>\n",
              "      <th>22433</th>\n",
              "      <td>211100</td>\n",
              "      <td>AMAZON</td>\n",
              "      <td>2023-01-13</td>\n",
              "      <td>Transportation and Infrastructure</td>\n",
              "      <td>PC-213591</td>\n",
              "      <td>25.72</td>\n",
              "      <td>Friday</td>\n",
              "    </tr>\n",
              "  </tbody>\n",
              "</table>\n",
              "<p>18693 rows × 7 columns</p>\n",
              "</div>\n",
              "    <div class=\"colab-df-buttons\">\n",
              "\n",
              "  <div class=\"colab-df-container\">\n",
              "    <button class=\"colab-df-convert\" onclick=\"convertToInteractive('df-df9736ae-2545-4216-8725-cb142bc35e00')\"\n",
              "            title=\"Convert this dataframe to an interactive table.\"\n",
              "            style=\"display:none;\">\n",
              "\n",
              "  <svg xmlns=\"http://www.w3.org/2000/svg\" height=\"24px\" viewBox=\"0 -960 960 960\">\n",
              "    <path d=\"M120-120v-720h720v720H120Zm60-500h600v-160H180v160Zm220 220h160v-160H400v160Zm0 220h160v-160H400v160ZM180-400h160v-160H180v160Zm440 0h160v-160H620v160ZM180-180h160v-160H180v160Zm440 0h160v-160H620v160Z\"/>\n",
              "  </svg>\n",
              "    </button>\n",
              "\n",
              "  <style>\n",
              "    .colab-df-container {\n",
              "      display:flex;\n",
              "      gap: 12px;\n",
              "    }\n",
              "\n",
              "    .colab-df-convert {\n",
              "      background-color: #E8F0FE;\n",
              "      border: none;\n",
              "      border-radius: 50%;\n",
              "      cursor: pointer;\n",
              "      display: none;\n",
              "      fill: #1967D2;\n",
              "      height: 32px;\n",
              "      padding: 0 0 0 0;\n",
              "      width: 32px;\n",
              "    }\n",
              "\n",
              "    .colab-df-convert:hover {\n",
              "      background-color: #E2EBFA;\n",
              "      box-shadow: 0px 1px 2px rgba(60, 64, 67, 0.3), 0px 1px 3px 1px rgba(60, 64, 67, 0.15);\n",
              "      fill: #174EA6;\n",
              "    }\n",
              "\n",
              "    .colab-df-buttons div {\n",
              "      margin-bottom: 4px;\n",
              "    }\n",
              "\n",
              "    [theme=dark] .colab-df-convert {\n",
              "      background-color: #3B4455;\n",
              "      fill: #D2E3FC;\n",
              "    }\n",
              "\n",
              "    [theme=dark] .colab-df-convert:hover {\n",
              "      background-color: #434B5C;\n",
              "      box-shadow: 0px 1px 3px 1px rgba(0, 0, 0, 0.15);\n",
              "      filter: drop-shadow(0px 1px 2px rgba(0, 0, 0, 0.3));\n",
              "      fill: #FFFFFF;\n",
              "    }\n",
              "  </style>\n",
              "\n",
              "    <script>\n",
              "      const buttonEl =\n",
              "        document.querySelector('#df-df9736ae-2545-4216-8725-cb142bc35e00 button.colab-df-convert');\n",
              "      buttonEl.style.display =\n",
              "        google.colab.kernel.accessAllowed ? 'block' : 'none';\n",
              "\n",
              "      async function convertToInteractive(key) {\n",
              "        const element = document.querySelector('#df-df9736ae-2545-4216-8725-cb142bc35e00');\n",
              "        const dataTable =\n",
              "          await google.colab.kernel.invokeFunction('convertToInteractive',\n",
              "                                                    [key], {});\n",
              "        if (!dataTable) return;\n",
              "\n",
              "        const docLinkHtml = 'Like what you see? Visit the ' +\n",
              "          '<a target=\"_blank\" href=https://colab.research.google.com/notebooks/data_table.ipynb>data table notebook</a>'\n",
              "          + ' to learn more about interactive tables.';\n",
              "        element.innerHTML = '';\n",
              "        dataTable['output_type'] = 'display_data';\n",
              "        await google.colab.output.renderOutput(dataTable, element);\n",
              "        const docLink = document.createElement('div');\n",
              "        docLink.innerHTML = docLinkHtml;\n",
              "        element.appendChild(docLink);\n",
              "      }\n",
              "    </script>\n",
              "  </div>\n",
              "\n",
              "\n",
              "<div id=\"df-7a983cdd-b445-4bf2-971c-447b87f7cdc9\">\n",
              "  <button class=\"colab-df-quickchart\" onclick=\"quickchart('df-7a983cdd-b445-4bf2-971c-447b87f7cdc9')\"\n",
              "            title=\"Suggest charts\"\n",
              "            style=\"display:none;\">\n",
              "\n",
              "<svg xmlns=\"http://www.w3.org/2000/svg\" height=\"24px\"viewBox=\"0 0 24 24\"\n",
              "     width=\"24px\">\n",
              "    <g>\n",
              "        <path d=\"M19 3H5c-1.1 0-2 .9-2 2v14c0 1.1.9 2 2 2h14c1.1 0 2-.9 2-2V5c0-1.1-.9-2-2-2zM9 17H7v-7h2v7zm4 0h-2V7h2v10zm4 0h-2v-4h2v4z\"/>\n",
              "    </g>\n",
              "</svg>\n",
              "  </button>\n",
              "\n",
              "<style>\n",
              "  .colab-df-quickchart {\n",
              "      --bg-color: #E8F0FE;\n",
              "      --fill-color: #1967D2;\n",
              "      --hover-bg-color: #E2EBFA;\n",
              "      --hover-fill-color: #174EA6;\n",
              "      --disabled-fill-color: #AAA;\n",
              "      --disabled-bg-color: #DDD;\n",
              "  }\n",
              "\n",
              "  [theme=dark] .colab-df-quickchart {\n",
              "      --bg-color: #3B4455;\n",
              "      --fill-color: #D2E3FC;\n",
              "      --hover-bg-color: #434B5C;\n",
              "      --hover-fill-color: #FFFFFF;\n",
              "      --disabled-bg-color: #3B4455;\n",
              "      --disabled-fill-color: #666;\n",
              "  }\n",
              "\n",
              "  .colab-df-quickchart {\n",
              "    background-color: var(--bg-color);\n",
              "    border: none;\n",
              "    border-radius: 50%;\n",
              "    cursor: pointer;\n",
              "    display: none;\n",
              "    fill: var(--fill-color);\n",
              "    height: 32px;\n",
              "    padding: 0;\n",
              "    width: 32px;\n",
              "  }\n",
              "\n",
              "  .colab-df-quickchart:hover {\n",
              "    background-color: var(--hover-bg-color);\n",
              "    box-shadow: 0 1px 2px rgba(60, 64, 67, 0.3), 0 1px 3px 1px rgba(60, 64, 67, 0.15);\n",
              "    fill: var(--button-hover-fill-color);\n",
              "  }\n",
              "\n",
              "  .colab-df-quickchart-complete:disabled,\n",
              "  .colab-df-quickchart-complete:disabled:hover {\n",
              "    background-color: var(--disabled-bg-color);\n",
              "    fill: var(--disabled-fill-color);\n",
              "    box-shadow: none;\n",
              "  }\n",
              "\n",
              "  .colab-df-spinner {\n",
              "    border: 2px solid var(--fill-color);\n",
              "    border-color: transparent;\n",
              "    border-bottom-color: var(--fill-color);\n",
              "    animation:\n",
              "      spin 1s steps(1) infinite;\n",
              "  }\n",
              "\n",
              "  @keyframes spin {\n",
              "    0% {\n",
              "      border-color: transparent;\n",
              "      border-bottom-color: var(--fill-color);\n",
              "      border-left-color: var(--fill-color);\n",
              "    }\n",
              "    20% {\n",
              "      border-color: transparent;\n",
              "      border-left-color: var(--fill-color);\n",
              "      border-top-color: var(--fill-color);\n",
              "    }\n",
              "    30% {\n",
              "      border-color: transparent;\n",
              "      border-left-color: var(--fill-color);\n",
              "      border-top-color: var(--fill-color);\n",
              "      border-right-color: var(--fill-color);\n",
              "    }\n",
              "    40% {\n",
              "      border-color: transparent;\n",
              "      border-right-color: var(--fill-color);\n",
              "      border-top-color: var(--fill-color);\n",
              "    }\n",
              "    60% {\n",
              "      border-color: transparent;\n",
              "      border-right-color: var(--fill-color);\n",
              "    }\n",
              "    80% {\n",
              "      border-color: transparent;\n",
              "      border-right-color: var(--fill-color);\n",
              "      border-bottom-color: var(--fill-color);\n",
              "    }\n",
              "    90% {\n",
              "      border-color: transparent;\n",
              "      border-bottom-color: var(--fill-color);\n",
              "    }\n",
              "  }\n",
              "</style>\n",
              "\n",
              "  <script>\n",
              "    async function quickchart(key) {\n",
              "      const quickchartButtonEl =\n",
              "        document.querySelector('#' + key + ' button');\n",
              "      quickchartButtonEl.disabled = true;  // To prevent multiple clicks.\n",
              "      quickchartButtonEl.classList.add('colab-df-spinner');\n",
              "      try {\n",
              "        const charts = await google.colab.kernel.invokeFunction(\n",
              "            'suggestCharts', [key], {});\n",
              "      } catch (error) {\n",
              "        console.error('Error during call to suggestCharts:', error);\n",
              "      }\n",
              "      quickchartButtonEl.classList.remove('colab-df-spinner');\n",
              "      quickchartButtonEl.classList.add('colab-df-quickchart-complete');\n",
              "    }\n",
              "    (() => {\n",
              "      let quickchartButtonEl =\n",
              "        document.querySelector('#df-7a983cdd-b445-4bf2-971c-447b87f7cdc9 button');\n",
              "      quickchartButtonEl.style.display =\n",
              "        google.colab.kernel.accessAllowed ? 'block' : 'none';\n",
              "    })();\n",
              "  </script>\n",
              "</div>\n",
              "\n",
              "    </div>\n",
              "  </div>\n"
            ],
            "application/vnd.google.colaboratory.intrinsic+json": {
              "type": "dataframe",
              "summary": "{\n  \"name\": \"df[~(df['Cardholder_Agency'] == 'Library') & (df['Vendor'] == 'AMAZON')]\",\n  \"rows\": 18693,\n  \"fields\": [\n    {\n      \"column\": \"New ID\",\n      \"properties\": {\n        \"dtype\": \"category\",\n        \"num_unique_values\": 561,\n        \"samples\": [\n          \"153839\",\n          \"201781\",\n          \"180088\"\n        ],\n        \"semantic_type\": \"\",\n        \"description\": \"\"\n      }\n    },\n    {\n      \"column\": \"Vendor\",\n      \"properties\": {\n        \"dtype\": \"category\",\n        \"num_unique_values\": 1,\n        \"samples\": [\n          \"AMAZON\"\n        ],\n        \"semantic_type\": \"\",\n        \"description\": \"\"\n      }\n    },\n    {\n      \"column\": \"Charge_Date\",\n      \"properties\": {\n        \"dtype\": \"date\",\n        \"min\": \"2023-01-01 00:00:00\",\n        \"max\": \"2023-12-26 00:00:00\",\n        \"num_unique_values\": 360,\n        \"samples\": [\n          \"2023-03-29 00:00:00\"\n        ],\n        \"semantic_type\": \"\",\n        \"description\": \"\"\n      }\n    },\n    {\n      \"column\": \"Cardholder_Agency\",\n      \"properties\": {\n        \"dtype\": \"category\",\n        \"num_unique_values\": 18,\n        \"samples\": [\n          \"City Council\"\n        ],\n        \"semantic_type\": \"\",\n        \"description\": \"\"\n      }\n    },\n    {\n      \"column\": \"PC_Number\",\n      \"properties\": {\n        \"dtype\": \"string\",\n        \"num_unique_values\": 11919,\n        \"samples\": [\n          \"PC-132005\"\n        ],\n        \"semantic_type\": \"\",\n        \"description\": \"\"\n      }\n    },\n    {\n      \"column\": \"Billing_Amount\",\n      \"properties\": {\n        \"dtype\": \"number\",\n        \"std\": 252.07433894795477,\n        \"min\": -1449.29,\n        \"max\": 8679.25,\n        \"num_unique_values\": 10717,\n        \"samples\": [\n          7.28\n        ],\n        \"semantic_type\": \"\",\n        \"description\": \"\"\n      }\n    },\n    {\n      \"column\": \"Charge_Day\",\n      \"properties\": {\n        \"dtype\": \"category\",\n        \"num_unique_values\": 7,\n        \"samples\": [\n          \"Monday\"\n        ],\n        \"semantic_type\": \"\",\n        \"description\": \"\"\n      }\n    }\n  ]\n}"
            }
          },
          "metadata": {},
          "execution_count": 31
        }
      ]
    },
    {
      "cell_type": "markdown",
      "source": [
        "If we're interested in only looking at transactions from a handful of agencies, we can use the `DataFrame.isin()` function. This function checks if each element is contained in a group of values.\n"
      ],
      "metadata": {
        "id": "1LVYijOLkuPl"
      }
    },
    {
      "cell_type": "code",
      "source": [
        "#set of agencies we're interested in\n",
        "agencies = {'City Council', 'Public Health', 'Transportation and Infrastructure'}\n",
        "\n",
        "df[df['Cardholder_Agency'].isin(agencies)]"
      ],
      "metadata": {
        "colab": {
          "base_uri": "https://localhost:8080/",
          "height": 597
        },
        "id": "Jm6yHW2ZZSXe",
        "outputId": "b9b0e04b-e86e-4d3b-cc91-9074f11c654b"
      },
      "execution_count": 33,
      "outputs": [
        {
          "output_type": "execute_result",
          "data": {
            "text/plain": [
              "       New ID  Vendor Charge_Date                  Cardholder_Agency  \\\n",
              "2      185196  SQUARE  2023-08-19                       City Council   \n",
              "3      208673  SQUARE  2023-08-30                       City Council   \n",
              "4      175842  SQUARE  2023-08-26                       City Council   \n",
              "7      249598  SQUARE  2023-09-07                       City Council   \n",
              "8      201485  AMAZON  2023-10-16                       City Council   \n",
              "...       ...     ...         ...                                ...   \n",
              "22427  211100  AMAZON  2023-01-13  Transportation and Infrastructure   \n",
              "22428  211100  AMAZON  2023-01-11  Transportation and Infrastructure   \n",
              "22429  211100  AMAZON  2023-01-11  Transportation and Infrastructure   \n",
              "22432  211100  AMAZON  2023-01-13  Transportation and Infrastructure   \n",
              "22433  211100  AMAZON  2023-01-13  Transportation and Infrastructure   \n",
              "\n",
              "       PC_Number  Billing_Amount Charge_Day  \n",
              "2      PC-194507           30.00   Saturday  \n",
              "3      PC-107176         1009.55  Wednesday  \n",
              "4      PC-215581          564.50   Saturday  \n",
              "7      PC-217341         1290.50   Thursday  \n",
              "8      PC-283774           87.99     Monday  \n",
              "...          ...             ...        ...  \n",
              "22427  PC-256106           25.72     Friday  \n",
              "22428  PC-128938           25.72  Wednesday  \n",
              "22429  PC-144104           25.72  Wednesday  \n",
              "22432  PC-144912           25.72     Friday  \n",
              "22433  PC-213591           25.72     Friday  \n",
              "\n",
              "[9516 rows x 7 columns]"
            ],
            "text/html": [
              "\n",
              "  <div id=\"df-7de16927-3252-466f-a174-8f72ebb29cd9\" class=\"colab-df-container\">\n",
              "    <div>\n",
              "<style scoped>\n",
              "    .dataframe tbody tr th:only-of-type {\n",
              "        vertical-align: middle;\n",
              "    }\n",
              "\n",
              "    .dataframe tbody tr th {\n",
              "        vertical-align: top;\n",
              "    }\n",
              "\n",
              "    .dataframe thead th {\n",
              "        text-align: right;\n",
              "    }\n",
              "</style>\n",
              "<table border=\"1\" class=\"dataframe\">\n",
              "  <thead>\n",
              "    <tr style=\"text-align: right;\">\n",
              "      <th></th>\n",
              "      <th>New ID</th>\n",
              "      <th>Vendor</th>\n",
              "      <th>Charge_Date</th>\n",
              "      <th>Cardholder_Agency</th>\n",
              "      <th>PC_Number</th>\n",
              "      <th>Billing_Amount</th>\n",
              "      <th>Charge_Day</th>\n",
              "    </tr>\n",
              "  </thead>\n",
              "  <tbody>\n",
              "    <tr>\n",
              "      <th>2</th>\n",
              "      <td>185196</td>\n",
              "      <td>SQUARE</td>\n",
              "      <td>2023-08-19</td>\n",
              "      <td>City Council</td>\n",
              "      <td>PC-194507</td>\n",
              "      <td>30.00</td>\n",
              "      <td>Saturday</td>\n",
              "    </tr>\n",
              "    <tr>\n",
              "      <th>3</th>\n",
              "      <td>208673</td>\n",
              "      <td>SQUARE</td>\n",
              "      <td>2023-08-30</td>\n",
              "      <td>City Council</td>\n",
              "      <td>PC-107176</td>\n",
              "      <td>1009.55</td>\n",
              "      <td>Wednesday</td>\n",
              "    </tr>\n",
              "    <tr>\n",
              "      <th>4</th>\n",
              "      <td>175842</td>\n",
              "      <td>SQUARE</td>\n",
              "      <td>2023-08-26</td>\n",
              "      <td>City Council</td>\n",
              "      <td>PC-215581</td>\n",
              "      <td>564.50</td>\n",
              "      <td>Saturday</td>\n",
              "    </tr>\n",
              "    <tr>\n",
              "      <th>7</th>\n",
              "      <td>249598</td>\n",
              "      <td>SQUARE</td>\n",
              "      <td>2023-09-07</td>\n",
              "      <td>City Council</td>\n",
              "      <td>PC-217341</td>\n",
              "      <td>1290.50</td>\n",
              "      <td>Thursday</td>\n",
              "    </tr>\n",
              "    <tr>\n",
              "      <th>8</th>\n",
              "      <td>201485</td>\n",
              "      <td>AMAZON</td>\n",
              "      <td>2023-10-16</td>\n",
              "      <td>City Council</td>\n",
              "      <td>PC-283774</td>\n",
              "      <td>87.99</td>\n",
              "      <td>Monday</td>\n",
              "    </tr>\n",
              "    <tr>\n",
              "      <th>...</th>\n",
              "      <td>...</td>\n",
              "      <td>...</td>\n",
              "      <td>...</td>\n",
              "      <td>...</td>\n",
              "      <td>...</td>\n",
              "      <td>...</td>\n",
              "      <td>...</td>\n",
              "    </tr>\n",
              "    <tr>\n",
              "      <th>22427</th>\n",
              "      <td>211100</td>\n",
              "      <td>AMAZON</td>\n",
              "      <td>2023-01-13</td>\n",
              "      <td>Transportation and Infrastructure</td>\n",
              "      <td>PC-256106</td>\n",
              "      <td>25.72</td>\n",
              "      <td>Friday</td>\n",
              "    </tr>\n",
              "    <tr>\n",
              "      <th>22428</th>\n",
              "      <td>211100</td>\n",
              "      <td>AMAZON</td>\n",
              "      <td>2023-01-11</td>\n",
              "      <td>Transportation and Infrastructure</td>\n",
              "      <td>PC-128938</td>\n",
              "      <td>25.72</td>\n",
              "      <td>Wednesday</td>\n",
              "    </tr>\n",
              "    <tr>\n",
              "      <th>22429</th>\n",
              "      <td>211100</td>\n",
              "      <td>AMAZON</td>\n",
              "      <td>2023-01-11</td>\n",
              "      <td>Transportation and Infrastructure</td>\n",
              "      <td>PC-144104</td>\n",
              "      <td>25.72</td>\n",
              "      <td>Wednesday</td>\n",
              "    </tr>\n",
              "    <tr>\n",
              "      <th>22432</th>\n",
              "      <td>211100</td>\n",
              "      <td>AMAZON</td>\n",
              "      <td>2023-01-13</td>\n",
              "      <td>Transportation and Infrastructure</td>\n",
              "      <td>PC-144912</td>\n",
              "      <td>25.72</td>\n",
              "      <td>Friday</td>\n",
              "    </tr>\n",
              "    <tr>\n",
              "      <th>22433</th>\n",
              "      <td>211100</td>\n",
              "      <td>AMAZON</td>\n",
              "      <td>2023-01-13</td>\n",
              "      <td>Transportation and Infrastructure</td>\n",
              "      <td>PC-213591</td>\n",
              "      <td>25.72</td>\n",
              "      <td>Friday</td>\n",
              "    </tr>\n",
              "  </tbody>\n",
              "</table>\n",
              "<p>9516 rows × 7 columns</p>\n",
              "</div>\n",
              "    <div class=\"colab-df-buttons\">\n",
              "\n",
              "  <div class=\"colab-df-container\">\n",
              "    <button class=\"colab-df-convert\" onclick=\"convertToInteractive('df-7de16927-3252-466f-a174-8f72ebb29cd9')\"\n",
              "            title=\"Convert this dataframe to an interactive table.\"\n",
              "            style=\"display:none;\">\n",
              "\n",
              "  <svg xmlns=\"http://www.w3.org/2000/svg\" height=\"24px\" viewBox=\"0 -960 960 960\">\n",
              "    <path d=\"M120-120v-720h720v720H120Zm60-500h600v-160H180v160Zm220 220h160v-160H400v160Zm0 220h160v-160H400v160ZM180-400h160v-160H180v160Zm440 0h160v-160H620v160ZM180-180h160v-160H180v160Zm440 0h160v-160H620v160Z\"/>\n",
              "  </svg>\n",
              "    </button>\n",
              "\n",
              "  <style>\n",
              "    .colab-df-container {\n",
              "      display:flex;\n",
              "      gap: 12px;\n",
              "    }\n",
              "\n",
              "    .colab-df-convert {\n",
              "      background-color: #E8F0FE;\n",
              "      border: none;\n",
              "      border-radius: 50%;\n",
              "      cursor: pointer;\n",
              "      display: none;\n",
              "      fill: #1967D2;\n",
              "      height: 32px;\n",
              "      padding: 0 0 0 0;\n",
              "      width: 32px;\n",
              "    }\n",
              "\n",
              "    .colab-df-convert:hover {\n",
              "      background-color: #E2EBFA;\n",
              "      box-shadow: 0px 1px 2px rgba(60, 64, 67, 0.3), 0px 1px 3px 1px rgba(60, 64, 67, 0.15);\n",
              "      fill: #174EA6;\n",
              "    }\n",
              "\n",
              "    .colab-df-buttons div {\n",
              "      margin-bottom: 4px;\n",
              "    }\n",
              "\n",
              "    [theme=dark] .colab-df-convert {\n",
              "      background-color: #3B4455;\n",
              "      fill: #D2E3FC;\n",
              "    }\n",
              "\n",
              "    [theme=dark] .colab-df-convert:hover {\n",
              "      background-color: #434B5C;\n",
              "      box-shadow: 0px 1px 3px 1px rgba(0, 0, 0, 0.15);\n",
              "      filter: drop-shadow(0px 1px 2px rgba(0, 0, 0, 0.3));\n",
              "      fill: #FFFFFF;\n",
              "    }\n",
              "  </style>\n",
              "\n",
              "    <script>\n",
              "      const buttonEl =\n",
              "        document.querySelector('#df-7de16927-3252-466f-a174-8f72ebb29cd9 button.colab-df-convert');\n",
              "      buttonEl.style.display =\n",
              "        google.colab.kernel.accessAllowed ? 'block' : 'none';\n",
              "\n",
              "      async function convertToInteractive(key) {\n",
              "        const element = document.querySelector('#df-7de16927-3252-466f-a174-8f72ebb29cd9');\n",
              "        const dataTable =\n",
              "          await google.colab.kernel.invokeFunction('convertToInteractive',\n",
              "                                                    [key], {});\n",
              "        if (!dataTable) return;\n",
              "\n",
              "        const docLinkHtml = 'Like what you see? Visit the ' +\n",
              "          '<a target=\"_blank\" href=https://colab.research.google.com/notebooks/data_table.ipynb>data table notebook</a>'\n",
              "          + ' to learn more about interactive tables.';\n",
              "        element.innerHTML = '';\n",
              "        dataTable['output_type'] = 'display_data';\n",
              "        await google.colab.output.renderOutput(dataTable, element);\n",
              "        const docLink = document.createElement('div');\n",
              "        docLink.innerHTML = docLinkHtml;\n",
              "        element.appendChild(docLink);\n",
              "      }\n",
              "    </script>\n",
              "  </div>\n",
              "\n",
              "\n",
              "<div id=\"df-de4c9325-513f-4d0e-bd85-0f922650eba0\">\n",
              "  <button class=\"colab-df-quickchart\" onclick=\"quickchart('df-de4c9325-513f-4d0e-bd85-0f922650eba0')\"\n",
              "            title=\"Suggest charts\"\n",
              "            style=\"display:none;\">\n",
              "\n",
              "<svg xmlns=\"http://www.w3.org/2000/svg\" height=\"24px\"viewBox=\"0 0 24 24\"\n",
              "     width=\"24px\">\n",
              "    <g>\n",
              "        <path d=\"M19 3H5c-1.1 0-2 .9-2 2v14c0 1.1.9 2 2 2h14c1.1 0 2-.9 2-2V5c0-1.1-.9-2-2-2zM9 17H7v-7h2v7zm4 0h-2V7h2v10zm4 0h-2v-4h2v4z\"/>\n",
              "    </g>\n",
              "</svg>\n",
              "  </button>\n",
              "\n",
              "<style>\n",
              "  .colab-df-quickchart {\n",
              "      --bg-color: #E8F0FE;\n",
              "      --fill-color: #1967D2;\n",
              "      --hover-bg-color: #E2EBFA;\n",
              "      --hover-fill-color: #174EA6;\n",
              "      --disabled-fill-color: #AAA;\n",
              "      --disabled-bg-color: #DDD;\n",
              "  }\n",
              "\n",
              "  [theme=dark] .colab-df-quickchart {\n",
              "      --bg-color: #3B4455;\n",
              "      --fill-color: #D2E3FC;\n",
              "      --hover-bg-color: #434B5C;\n",
              "      --hover-fill-color: #FFFFFF;\n",
              "      --disabled-bg-color: #3B4455;\n",
              "      --disabled-fill-color: #666;\n",
              "  }\n",
              "\n",
              "  .colab-df-quickchart {\n",
              "    background-color: var(--bg-color);\n",
              "    border: none;\n",
              "    border-radius: 50%;\n",
              "    cursor: pointer;\n",
              "    display: none;\n",
              "    fill: var(--fill-color);\n",
              "    height: 32px;\n",
              "    padding: 0;\n",
              "    width: 32px;\n",
              "  }\n",
              "\n",
              "  .colab-df-quickchart:hover {\n",
              "    background-color: var(--hover-bg-color);\n",
              "    box-shadow: 0 1px 2px rgba(60, 64, 67, 0.3), 0 1px 3px 1px rgba(60, 64, 67, 0.15);\n",
              "    fill: var(--button-hover-fill-color);\n",
              "  }\n",
              "\n",
              "  .colab-df-quickchart-complete:disabled,\n",
              "  .colab-df-quickchart-complete:disabled:hover {\n",
              "    background-color: var(--disabled-bg-color);\n",
              "    fill: var(--disabled-fill-color);\n",
              "    box-shadow: none;\n",
              "  }\n",
              "\n",
              "  .colab-df-spinner {\n",
              "    border: 2px solid var(--fill-color);\n",
              "    border-color: transparent;\n",
              "    border-bottom-color: var(--fill-color);\n",
              "    animation:\n",
              "      spin 1s steps(1) infinite;\n",
              "  }\n",
              "\n",
              "  @keyframes spin {\n",
              "    0% {\n",
              "      border-color: transparent;\n",
              "      border-bottom-color: var(--fill-color);\n",
              "      border-left-color: var(--fill-color);\n",
              "    }\n",
              "    20% {\n",
              "      border-color: transparent;\n",
              "      border-left-color: var(--fill-color);\n",
              "      border-top-color: var(--fill-color);\n",
              "    }\n",
              "    30% {\n",
              "      border-color: transparent;\n",
              "      border-left-color: var(--fill-color);\n",
              "      border-top-color: var(--fill-color);\n",
              "      border-right-color: var(--fill-color);\n",
              "    }\n",
              "    40% {\n",
              "      border-color: transparent;\n",
              "      border-right-color: var(--fill-color);\n",
              "      border-top-color: var(--fill-color);\n",
              "    }\n",
              "    60% {\n",
              "      border-color: transparent;\n",
              "      border-right-color: var(--fill-color);\n",
              "    }\n",
              "    80% {\n",
              "      border-color: transparent;\n",
              "      border-right-color: var(--fill-color);\n",
              "      border-bottom-color: var(--fill-color);\n",
              "    }\n",
              "    90% {\n",
              "      border-color: transparent;\n",
              "      border-bottom-color: var(--fill-color);\n",
              "    }\n",
              "  }\n",
              "</style>\n",
              "\n",
              "  <script>\n",
              "    async function quickchart(key) {\n",
              "      const quickchartButtonEl =\n",
              "        document.querySelector('#' + key + ' button');\n",
              "      quickchartButtonEl.disabled = true;  // To prevent multiple clicks.\n",
              "      quickchartButtonEl.classList.add('colab-df-spinner');\n",
              "      try {\n",
              "        const charts = await google.colab.kernel.invokeFunction(\n",
              "            'suggestCharts', [key], {});\n",
              "      } catch (error) {\n",
              "        console.error('Error during call to suggestCharts:', error);\n",
              "      }\n",
              "      quickchartButtonEl.classList.remove('colab-df-spinner');\n",
              "      quickchartButtonEl.classList.add('colab-df-quickchart-complete');\n",
              "    }\n",
              "    (() => {\n",
              "      let quickchartButtonEl =\n",
              "        document.querySelector('#df-de4c9325-513f-4d0e-bd85-0f922650eba0 button');\n",
              "      quickchartButtonEl.style.display =\n",
              "        google.colab.kernel.accessAllowed ? 'block' : 'none';\n",
              "    })();\n",
              "  </script>\n",
              "</div>\n",
              "\n",
              "    </div>\n",
              "  </div>\n"
            ],
            "application/vnd.google.colaboratory.intrinsic+json": {
              "type": "dataframe",
              "summary": "{\n  \"name\": \"df[df['Cardholder_Agency']\",\n  \"rows\": 9516,\n  \"fields\": [\n    {\n      \"column\": \"New ID\",\n      \"properties\": {\n        \"dtype\": \"category\",\n        \"num_unique_values\": 270,\n        \"samples\": [\n          \"216570\",\n          \"182154\",\n          \"212001\"\n        ],\n        \"semantic_type\": \"\",\n        \"description\": \"\"\n      }\n    },\n    {\n      \"column\": \"Vendor\",\n      \"properties\": {\n        \"dtype\": \"category\",\n        \"num_unique_values\": 5,\n        \"samples\": [\n          \"AMAZON\",\n          \"VENMO\",\n          \"ETSY\"\n        ],\n        \"semantic_type\": \"\",\n        \"description\": \"\"\n      }\n    },\n    {\n      \"column\": \"Charge_Date\",\n      \"properties\": {\n        \"dtype\": \"date\",\n        \"min\": \"2023-01-02 00:00:00\",\n        \"max\": \"2023-12-26 00:00:00\",\n        \"num_unique_values\": 359,\n        \"samples\": [\n          \"2023-11-15 00:00:00\",\n          \"2023-12-09 00:00:00\",\n          \"2023-02-10 00:00:00\"\n        ],\n        \"semantic_type\": \"\",\n        \"description\": \"\"\n      }\n    },\n    {\n      \"column\": \"Cardholder_Agency\",\n      \"properties\": {\n        \"dtype\": \"category\",\n        \"num_unique_values\": 3,\n        \"samples\": [\n          \"City Council\",\n          \"Public Health\",\n          \"Transportation and Infrastructure\"\n        ],\n        \"semantic_type\": \"\",\n        \"description\": \"\"\n      }\n    },\n    {\n      \"column\": \"PC_Number\",\n      \"properties\": {\n        \"dtype\": \"string\",\n        \"num_unique_values\": 5880,\n        \"samples\": [\n          \"PC-218242\",\n          \"PC-294387\",\n          \"PC-158218\"\n        ],\n        \"semantic_type\": \"\",\n        \"description\": \"\"\n      }\n    },\n    {\n      \"column\": \"Billing_Amount\",\n      \"properties\": {\n        \"dtype\": \"number\",\n        \"std\": 269.4939144796085,\n        \"min\": -1081.61,\n        \"max\": 8679.25,\n        \"num_unique_values\": 6378,\n        \"samples\": [\n          62.21,\n          2.84,\n          32.07\n        ],\n        \"semantic_type\": \"\",\n        \"description\": \"\"\n      }\n    },\n    {\n      \"column\": \"Charge_Day\",\n      \"properties\": {\n        \"dtype\": \"category\",\n        \"num_unique_values\": 7,\n        \"samples\": [\n          \"Saturday\",\n          \"Wednesday\",\n          \"Tuesday\"\n        ],\n        \"semantic_type\": \"\",\n        \"description\": \"\"\n      }\n    }\n  ]\n}"
            }
          },
          "metadata": {},
          "execution_count": 33
        }
      ]
    },
    {
      "cell_type": "markdown",
      "source": [
        "Technically, we could have accomplished the same thing with the following code. However, using the `DataFrame.isin()` function is a cleaner approach, especially if the set of agencies was larger."
      ],
      "metadata": {
        "id": "wKEcq8LTaTow"
      }
    },
    {
      "cell_type": "code",
      "source": [
        "df[(df['Cardholder_Agency'] == 'City Council') | (df['Cardholder_Agency'] == 'Public Health') |\n",
        "   (df['Cardholder_Agency'] == 'Transportation and Infrastructure')]"
      ],
      "metadata": {
        "colab": {
          "base_uri": "https://localhost:8080/",
          "height": 597
        },
        "id": "9HK9YDmcaWsc",
        "outputId": "f3e64cb2-6f07-4340-a9b3-8ceb48ff94e1"
      },
      "execution_count": 34,
      "outputs": [
        {
          "output_type": "execute_result",
          "data": {
            "text/plain": [
              "       New ID  Vendor Charge_Date                  Cardholder_Agency  \\\n",
              "2      185196  SQUARE  2023-08-19                       City Council   \n",
              "3      208673  SQUARE  2023-08-30                       City Council   \n",
              "4      175842  SQUARE  2023-08-26                       City Council   \n",
              "7      249598  SQUARE  2023-09-07                       City Council   \n",
              "8      201485  AMAZON  2023-10-16                       City Council   \n",
              "...       ...     ...         ...                                ...   \n",
              "22427  211100  AMAZON  2023-01-13  Transportation and Infrastructure   \n",
              "22428  211100  AMAZON  2023-01-11  Transportation and Infrastructure   \n",
              "22429  211100  AMAZON  2023-01-11  Transportation and Infrastructure   \n",
              "22432  211100  AMAZON  2023-01-13  Transportation and Infrastructure   \n",
              "22433  211100  AMAZON  2023-01-13  Transportation and Infrastructure   \n",
              "\n",
              "       PC_Number  Billing_Amount Charge_Day  \n",
              "2      PC-194507           30.00   Saturday  \n",
              "3      PC-107176         1009.55  Wednesday  \n",
              "4      PC-215581          564.50   Saturday  \n",
              "7      PC-217341         1290.50   Thursday  \n",
              "8      PC-283774           87.99     Monday  \n",
              "...          ...             ...        ...  \n",
              "22427  PC-256106           25.72     Friday  \n",
              "22428  PC-128938           25.72  Wednesday  \n",
              "22429  PC-144104           25.72  Wednesday  \n",
              "22432  PC-144912           25.72     Friday  \n",
              "22433  PC-213591           25.72     Friday  \n",
              "\n",
              "[9516 rows x 7 columns]"
            ],
            "text/html": [
              "\n",
              "  <div id=\"df-bbf9eed3-e048-433f-8a05-4c9f54d7a27a\" class=\"colab-df-container\">\n",
              "    <div>\n",
              "<style scoped>\n",
              "    .dataframe tbody tr th:only-of-type {\n",
              "        vertical-align: middle;\n",
              "    }\n",
              "\n",
              "    .dataframe tbody tr th {\n",
              "        vertical-align: top;\n",
              "    }\n",
              "\n",
              "    .dataframe thead th {\n",
              "        text-align: right;\n",
              "    }\n",
              "</style>\n",
              "<table border=\"1\" class=\"dataframe\">\n",
              "  <thead>\n",
              "    <tr style=\"text-align: right;\">\n",
              "      <th></th>\n",
              "      <th>New ID</th>\n",
              "      <th>Vendor</th>\n",
              "      <th>Charge_Date</th>\n",
              "      <th>Cardholder_Agency</th>\n",
              "      <th>PC_Number</th>\n",
              "      <th>Billing_Amount</th>\n",
              "      <th>Charge_Day</th>\n",
              "    </tr>\n",
              "  </thead>\n",
              "  <tbody>\n",
              "    <tr>\n",
              "      <th>2</th>\n",
              "      <td>185196</td>\n",
              "      <td>SQUARE</td>\n",
              "      <td>2023-08-19</td>\n",
              "      <td>City Council</td>\n",
              "      <td>PC-194507</td>\n",
              "      <td>30.00</td>\n",
              "      <td>Saturday</td>\n",
              "    </tr>\n",
              "    <tr>\n",
              "      <th>3</th>\n",
              "      <td>208673</td>\n",
              "      <td>SQUARE</td>\n",
              "      <td>2023-08-30</td>\n",
              "      <td>City Council</td>\n",
              "      <td>PC-107176</td>\n",
              "      <td>1009.55</td>\n",
              "      <td>Wednesday</td>\n",
              "    </tr>\n",
              "    <tr>\n",
              "      <th>4</th>\n",
              "      <td>175842</td>\n",
              "      <td>SQUARE</td>\n",
              "      <td>2023-08-26</td>\n",
              "      <td>City Council</td>\n",
              "      <td>PC-215581</td>\n",
              "      <td>564.50</td>\n",
              "      <td>Saturday</td>\n",
              "    </tr>\n",
              "    <tr>\n",
              "      <th>7</th>\n",
              "      <td>249598</td>\n",
              "      <td>SQUARE</td>\n",
              "      <td>2023-09-07</td>\n",
              "      <td>City Council</td>\n",
              "      <td>PC-217341</td>\n",
              "      <td>1290.50</td>\n",
              "      <td>Thursday</td>\n",
              "    </tr>\n",
              "    <tr>\n",
              "      <th>8</th>\n",
              "      <td>201485</td>\n",
              "      <td>AMAZON</td>\n",
              "      <td>2023-10-16</td>\n",
              "      <td>City Council</td>\n",
              "      <td>PC-283774</td>\n",
              "      <td>87.99</td>\n",
              "      <td>Monday</td>\n",
              "    </tr>\n",
              "    <tr>\n",
              "      <th>...</th>\n",
              "      <td>...</td>\n",
              "      <td>...</td>\n",
              "      <td>...</td>\n",
              "      <td>...</td>\n",
              "      <td>...</td>\n",
              "      <td>...</td>\n",
              "      <td>...</td>\n",
              "    </tr>\n",
              "    <tr>\n",
              "      <th>22427</th>\n",
              "      <td>211100</td>\n",
              "      <td>AMAZON</td>\n",
              "      <td>2023-01-13</td>\n",
              "      <td>Transportation and Infrastructure</td>\n",
              "      <td>PC-256106</td>\n",
              "      <td>25.72</td>\n",
              "      <td>Friday</td>\n",
              "    </tr>\n",
              "    <tr>\n",
              "      <th>22428</th>\n",
              "      <td>211100</td>\n",
              "      <td>AMAZON</td>\n",
              "      <td>2023-01-11</td>\n",
              "      <td>Transportation and Infrastructure</td>\n",
              "      <td>PC-128938</td>\n",
              "      <td>25.72</td>\n",
              "      <td>Wednesday</td>\n",
              "    </tr>\n",
              "    <tr>\n",
              "      <th>22429</th>\n",
              "      <td>211100</td>\n",
              "      <td>AMAZON</td>\n",
              "      <td>2023-01-11</td>\n",
              "      <td>Transportation and Infrastructure</td>\n",
              "      <td>PC-144104</td>\n",
              "      <td>25.72</td>\n",
              "      <td>Wednesday</td>\n",
              "    </tr>\n",
              "    <tr>\n",
              "      <th>22432</th>\n",
              "      <td>211100</td>\n",
              "      <td>AMAZON</td>\n",
              "      <td>2023-01-13</td>\n",
              "      <td>Transportation and Infrastructure</td>\n",
              "      <td>PC-144912</td>\n",
              "      <td>25.72</td>\n",
              "      <td>Friday</td>\n",
              "    </tr>\n",
              "    <tr>\n",
              "      <th>22433</th>\n",
              "      <td>211100</td>\n",
              "      <td>AMAZON</td>\n",
              "      <td>2023-01-13</td>\n",
              "      <td>Transportation and Infrastructure</td>\n",
              "      <td>PC-213591</td>\n",
              "      <td>25.72</td>\n",
              "      <td>Friday</td>\n",
              "    </tr>\n",
              "  </tbody>\n",
              "</table>\n",
              "<p>9516 rows × 7 columns</p>\n",
              "</div>\n",
              "    <div class=\"colab-df-buttons\">\n",
              "\n",
              "  <div class=\"colab-df-container\">\n",
              "    <button class=\"colab-df-convert\" onclick=\"convertToInteractive('df-bbf9eed3-e048-433f-8a05-4c9f54d7a27a')\"\n",
              "            title=\"Convert this dataframe to an interactive table.\"\n",
              "            style=\"display:none;\">\n",
              "\n",
              "  <svg xmlns=\"http://www.w3.org/2000/svg\" height=\"24px\" viewBox=\"0 -960 960 960\">\n",
              "    <path d=\"M120-120v-720h720v720H120Zm60-500h600v-160H180v160Zm220 220h160v-160H400v160Zm0 220h160v-160H400v160ZM180-400h160v-160H180v160Zm440 0h160v-160H620v160ZM180-180h160v-160H180v160Zm440 0h160v-160H620v160Z\"/>\n",
              "  </svg>\n",
              "    </button>\n",
              "\n",
              "  <style>\n",
              "    .colab-df-container {\n",
              "      display:flex;\n",
              "      gap: 12px;\n",
              "    }\n",
              "\n",
              "    .colab-df-convert {\n",
              "      background-color: #E8F0FE;\n",
              "      border: none;\n",
              "      border-radius: 50%;\n",
              "      cursor: pointer;\n",
              "      display: none;\n",
              "      fill: #1967D2;\n",
              "      height: 32px;\n",
              "      padding: 0 0 0 0;\n",
              "      width: 32px;\n",
              "    }\n",
              "\n",
              "    .colab-df-convert:hover {\n",
              "      background-color: #E2EBFA;\n",
              "      box-shadow: 0px 1px 2px rgba(60, 64, 67, 0.3), 0px 1px 3px 1px rgba(60, 64, 67, 0.15);\n",
              "      fill: #174EA6;\n",
              "    }\n",
              "\n",
              "    .colab-df-buttons div {\n",
              "      margin-bottom: 4px;\n",
              "    }\n",
              "\n",
              "    [theme=dark] .colab-df-convert {\n",
              "      background-color: #3B4455;\n",
              "      fill: #D2E3FC;\n",
              "    }\n",
              "\n",
              "    [theme=dark] .colab-df-convert:hover {\n",
              "      background-color: #434B5C;\n",
              "      box-shadow: 0px 1px 3px 1px rgba(0, 0, 0, 0.15);\n",
              "      filter: drop-shadow(0px 1px 2px rgba(0, 0, 0, 0.3));\n",
              "      fill: #FFFFFF;\n",
              "    }\n",
              "  </style>\n",
              "\n",
              "    <script>\n",
              "      const buttonEl =\n",
              "        document.querySelector('#df-bbf9eed3-e048-433f-8a05-4c9f54d7a27a button.colab-df-convert');\n",
              "      buttonEl.style.display =\n",
              "        google.colab.kernel.accessAllowed ? 'block' : 'none';\n",
              "\n",
              "      async function convertToInteractive(key) {\n",
              "        const element = document.querySelector('#df-bbf9eed3-e048-433f-8a05-4c9f54d7a27a');\n",
              "        const dataTable =\n",
              "          await google.colab.kernel.invokeFunction('convertToInteractive',\n",
              "                                                    [key], {});\n",
              "        if (!dataTable) return;\n",
              "\n",
              "        const docLinkHtml = 'Like what you see? Visit the ' +\n",
              "          '<a target=\"_blank\" href=https://colab.research.google.com/notebooks/data_table.ipynb>data table notebook</a>'\n",
              "          + ' to learn more about interactive tables.';\n",
              "        element.innerHTML = '';\n",
              "        dataTable['output_type'] = 'display_data';\n",
              "        await google.colab.output.renderOutput(dataTable, element);\n",
              "        const docLink = document.createElement('div');\n",
              "        docLink.innerHTML = docLinkHtml;\n",
              "        element.appendChild(docLink);\n",
              "      }\n",
              "    </script>\n",
              "  </div>\n",
              "\n",
              "\n",
              "<div id=\"df-bbb18720-fae7-4036-98c0-305b5dad592e\">\n",
              "  <button class=\"colab-df-quickchart\" onclick=\"quickchart('df-bbb18720-fae7-4036-98c0-305b5dad592e')\"\n",
              "            title=\"Suggest charts\"\n",
              "            style=\"display:none;\">\n",
              "\n",
              "<svg xmlns=\"http://www.w3.org/2000/svg\" height=\"24px\"viewBox=\"0 0 24 24\"\n",
              "     width=\"24px\">\n",
              "    <g>\n",
              "        <path d=\"M19 3H5c-1.1 0-2 .9-2 2v14c0 1.1.9 2 2 2h14c1.1 0 2-.9 2-2V5c0-1.1-.9-2-2-2zM9 17H7v-7h2v7zm4 0h-2V7h2v10zm4 0h-2v-4h2v4z\"/>\n",
              "    </g>\n",
              "</svg>\n",
              "  </button>\n",
              "\n",
              "<style>\n",
              "  .colab-df-quickchart {\n",
              "      --bg-color: #E8F0FE;\n",
              "      --fill-color: #1967D2;\n",
              "      --hover-bg-color: #E2EBFA;\n",
              "      --hover-fill-color: #174EA6;\n",
              "      --disabled-fill-color: #AAA;\n",
              "      --disabled-bg-color: #DDD;\n",
              "  }\n",
              "\n",
              "  [theme=dark] .colab-df-quickchart {\n",
              "      --bg-color: #3B4455;\n",
              "      --fill-color: #D2E3FC;\n",
              "      --hover-bg-color: #434B5C;\n",
              "      --hover-fill-color: #FFFFFF;\n",
              "      --disabled-bg-color: #3B4455;\n",
              "      --disabled-fill-color: #666;\n",
              "  }\n",
              "\n",
              "  .colab-df-quickchart {\n",
              "    background-color: var(--bg-color);\n",
              "    border: none;\n",
              "    border-radius: 50%;\n",
              "    cursor: pointer;\n",
              "    display: none;\n",
              "    fill: var(--fill-color);\n",
              "    height: 32px;\n",
              "    padding: 0;\n",
              "    width: 32px;\n",
              "  }\n",
              "\n",
              "  .colab-df-quickchart:hover {\n",
              "    background-color: var(--hover-bg-color);\n",
              "    box-shadow: 0 1px 2px rgba(60, 64, 67, 0.3), 0 1px 3px 1px rgba(60, 64, 67, 0.15);\n",
              "    fill: var(--button-hover-fill-color);\n",
              "  }\n",
              "\n",
              "  .colab-df-quickchart-complete:disabled,\n",
              "  .colab-df-quickchart-complete:disabled:hover {\n",
              "    background-color: var(--disabled-bg-color);\n",
              "    fill: var(--disabled-fill-color);\n",
              "    box-shadow: none;\n",
              "  }\n",
              "\n",
              "  .colab-df-spinner {\n",
              "    border: 2px solid var(--fill-color);\n",
              "    border-color: transparent;\n",
              "    border-bottom-color: var(--fill-color);\n",
              "    animation:\n",
              "      spin 1s steps(1) infinite;\n",
              "  }\n",
              "\n",
              "  @keyframes spin {\n",
              "    0% {\n",
              "      border-color: transparent;\n",
              "      border-bottom-color: var(--fill-color);\n",
              "      border-left-color: var(--fill-color);\n",
              "    }\n",
              "    20% {\n",
              "      border-color: transparent;\n",
              "      border-left-color: var(--fill-color);\n",
              "      border-top-color: var(--fill-color);\n",
              "    }\n",
              "    30% {\n",
              "      border-color: transparent;\n",
              "      border-left-color: var(--fill-color);\n",
              "      border-top-color: var(--fill-color);\n",
              "      border-right-color: var(--fill-color);\n",
              "    }\n",
              "    40% {\n",
              "      border-color: transparent;\n",
              "      border-right-color: var(--fill-color);\n",
              "      border-top-color: var(--fill-color);\n",
              "    }\n",
              "    60% {\n",
              "      border-color: transparent;\n",
              "      border-right-color: var(--fill-color);\n",
              "    }\n",
              "    80% {\n",
              "      border-color: transparent;\n",
              "      border-right-color: var(--fill-color);\n",
              "      border-bottom-color: var(--fill-color);\n",
              "    }\n",
              "    90% {\n",
              "      border-color: transparent;\n",
              "      border-bottom-color: var(--fill-color);\n",
              "    }\n",
              "  }\n",
              "</style>\n",
              "\n",
              "  <script>\n",
              "    async function quickchart(key) {\n",
              "      const quickchartButtonEl =\n",
              "        document.querySelector('#' + key + ' button');\n",
              "      quickchartButtonEl.disabled = true;  // To prevent multiple clicks.\n",
              "      quickchartButtonEl.classList.add('colab-df-spinner');\n",
              "      try {\n",
              "        const charts = await google.colab.kernel.invokeFunction(\n",
              "            'suggestCharts', [key], {});\n",
              "      } catch (error) {\n",
              "        console.error('Error during call to suggestCharts:', error);\n",
              "      }\n",
              "      quickchartButtonEl.classList.remove('colab-df-spinner');\n",
              "      quickchartButtonEl.classList.add('colab-df-quickchart-complete');\n",
              "    }\n",
              "    (() => {\n",
              "      let quickchartButtonEl =\n",
              "        document.querySelector('#df-bbb18720-fae7-4036-98c0-305b5dad592e button');\n",
              "      quickchartButtonEl.style.display =\n",
              "        google.colab.kernel.accessAllowed ? 'block' : 'none';\n",
              "    })();\n",
              "  </script>\n",
              "</div>\n",
              "\n",
              "    </div>\n",
              "  </div>\n"
            ],
            "application/vnd.google.colaboratory.intrinsic+json": {
              "type": "dataframe",
              "summary": "{\n  \"name\": \"   (df['Cardholder_Agency'] == 'Transportation and Infrastructure')]\",\n  \"rows\": 9516,\n  \"fields\": [\n    {\n      \"column\": \"New ID\",\n      \"properties\": {\n        \"dtype\": \"category\",\n        \"num_unique_values\": 270,\n        \"samples\": [\n          \"216570\",\n          \"182154\",\n          \"212001\"\n        ],\n        \"semantic_type\": \"\",\n        \"description\": \"\"\n      }\n    },\n    {\n      \"column\": \"Vendor\",\n      \"properties\": {\n        \"dtype\": \"category\",\n        \"num_unique_values\": 5,\n        \"samples\": [\n          \"AMAZON\",\n          \"VENMO\",\n          \"ETSY\"\n        ],\n        \"semantic_type\": \"\",\n        \"description\": \"\"\n      }\n    },\n    {\n      \"column\": \"Charge_Date\",\n      \"properties\": {\n        \"dtype\": \"date\",\n        \"min\": \"2023-01-02 00:00:00\",\n        \"max\": \"2023-12-26 00:00:00\",\n        \"num_unique_values\": 359,\n        \"samples\": [\n          \"2023-11-15 00:00:00\",\n          \"2023-12-09 00:00:00\",\n          \"2023-02-10 00:00:00\"\n        ],\n        \"semantic_type\": \"\",\n        \"description\": \"\"\n      }\n    },\n    {\n      \"column\": \"Cardholder_Agency\",\n      \"properties\": {\n        \"dtype\": \"category\",\n        \"num_unique_values\": 3,\n        \"samples\": [\n          \"City Council\",\n          \"Public Health\",\n          \"Transportation and Infrastructure\"\n        ],\n        \"semantic_type\": \"\",\n        \"description\": \"\"\n      }\n    },\n    {\n      \"column\": \"PC_Number\",\n      \"properties\": {\n        \"dtype\": \"string\",\n        \"num_unique_values\": 5880,\n        \"samples\": [\n          \"PC-218242\",\n          \"PC-294387\",\n          \"PC-158218\"\n        ],\n        \"semantic_type\": \"\",\n        \"description\": \"\"\n      }\n    },\n    {\n      \"column\": \"Billing_Amount\",\n      \"properties\": {\n        \"dtype\": \"number\",\n        \"std\": 269.4939144796085,\n        \"min\": -1081.61,\n        \"max\": 8679.25,\n        \"num_unique_values\": 6378,\n        \"samples\": [\n          62.21,\n          2.84,\n          32.07\n        ],\n        \"semantic_type\": \"\",\n        \"description\": \"\"\n      }\n    },\n    {\n      \"column\": \"Charge_Day\",\n      \"properties\": {\n        \"dtype\": \"category\",\n        \"num_unique_values\": 7,\n        \"samples\": [\n          \"Saturday\",\n          \"Wednesday\",\n          \"Tuesday\"\n        ],\n        \"semantic_type\": \"\",\n        \"description\": \"\"\n      }\n    }\n  ]\n}"
            }
          },
          "metadata": {},
          "execution_count": 34
        }
      ]
    },
    {
      "cell_type": "markdown",
      "source": [
        "#### **Data Types**\n",
        "\n",
        "For the most part, there is not a big difference between the data types we talked about earlier and data types in pandas. However, we will discuss two additional data types that are specific to pandas: `objects` and `datetime objects`.\n",
        "\n",
        "When you import a `DataFrame`, pandas attempts to guess the data type for each column. Columns with text are marked as `objects` by default. The `object` data type also includes any columns that pandas couldn't easily assign a more specific data type.\n",
        "\n",
        "Let's check the data types for the variables in `df` using the `DataFrame.dtypes` function."
      ],
      "metadata": {
        "id": "6kknSflMg6df"
      }
    },
    {
      "cell_type": "code",
      "source": [
        "df.dtypes"
      ],
      "metadata": {
        "colab": {
          "base_uri": "https://localhost:8080/"
        },
        "id": "Qv1Ai08cINCv",
        "outputId": "e758becd-8c82-4e1a-c96d-6528ccc57831"
      },
      "execution_count": null,
      "outputs": [
        {
          "output_type": "execute_result",
          "data": {
            "text/plain": [
              "New ID                object\n",
              "Vendor                object\n",
              "Charge_Date           object\n",
              "Cardholder_Agency     object\n",
              "PC_Number             object\n",
              "Billing_Amount       float64\n",
              "dtype: object"
            ]
          },
          "metadata": {},
          "execution_count": 7
        }
      ]
    },
    {
      "cell_type": "markdown",
      "source": [
        "Notice that most of the variables are `objects`. Since these data types are just guesses by pandas, some may not be the most appropriate choices. For example, `float` is appropriate for `Billing_Amount`, but `object` is not the best fit for `Charge_Date`. The pandas `datetime` data type is more appropriate for `Charge_Date` because pandas contains certain functions that can only be used on `datetime` objects. For example, if we wanted to create a variable that contains the day of the week for each transaction, we can use the `Series.dt.day_name()` function, but notice we get an error if we try to use that on an `object`.\n",
        "\n",
        "\n",
        "\n",
        "\n",
        "\n",
        "\n",
        "\n",
        "\n",
        "\n"
      ],
      "metadata": {
        "id": "3VizTtFXFulE"
      }
    },
    {
      "cell_type": "code",
      "source": [
        "df['Charge_Date'].dt.day_name()"
      ],
      "metadata": {
        "colab": {
          "base_uri": "https://localhost:8080/",
          "height": 252
        },
        "id": "u_HePX7MNVRf",
        "outputId": "5f042f75-d5a2-4a32-92de-cb4fee718836"
      },
      "execution_count": null,
      "outputs": [
        {
          "output_type": "error",
          "ename": "AttributeError",
          "evalue": "Can only use .dt accessor with datetimelike values",
          "traceback": [
            "\u001b[0;31m---------------------------------------------------------------------------\u001b[0m",
            "\u001b[0;31mAttributeError\u001b[0m                            Traceback (most recent call last)",
            "\u001b[0;32m<ipython-input-17-631e5bfa37b4>\u001b[0m in \u001b[0;36m<cell line: 1>\u001b[0;34m()\u001b[0m\n\u001b[0;32m----> 1\u001b[0;31m \u001b[0mdf\u001b[0m\u001b[0;34m[\u001b[0m\u001b[0;34m'Charge_Date'\u001b[0m\u001b[0;34m]\u001b[0m\u001b[0;34m.\u001b[0m\u001b[0mdt\u001b[0m\u001b[0;34m.\u001b[0m\u001b[0mday_name\u001b[0m\u001b[0;34m(\u001b[0m\u001b[0;34m)\u001b[0m\u001b[0;34m\u001b[0m\u001b[0;34m\u001b[0m\u001b[0m\n\u001b[0m",
            "\u001b[0;32m/usr/local/lib/python3.10/dist-packages/pandas/core/generic.py\u001b[0m in \u001b[0;36m__getattr__\u001b[0;34m(self, name)\u001b[0m\n\u001b[1;32m   5900\u001b[0m         ):\n\u001b[1;32m   5901\u001b[0m             \u001b[0;32mreturn\u001b[0m \u001b[0mself\u001b[0m\u001b[0;34m[\u001b[0m\u001b[0mname\u001b[0m\u001b[0;34m]\u001b[0m\u001b[0;34m\u001b[0m\u001b[0;34m\u001b[0m\u001b[0m\n\u001b[0;32m-> 5902\u001b[0;31m         \u001b[0;32mreturn\u001b[0m \u001b[0mobject\u001b[0m\u001b[0;34m.\u001b[0m\u001b[0m__getattribute__\u001b[0m\u001b[0;34m(\u001b[0m\u001b[0mself\u001b[0m\u001b[0;34m,\u001b[0m \u001b[0mname\u001b[0m\u001b[0;34m)\u001b[0m\u001b[0;34m\u001b[0m\u001b[0;34m\u001b[0m\u001b[0m\n\u001b[0m\u001b[1;32m   5903\u001b[0m \u001b[0;34m\u001b[0m\u001b[0m\n\u001b[1;32m   5904\u001b[0m     \u001b[0;32mdef\u001b[0m \u001b[0m__setattr__\u001b[0m\u001b[0;34m(\u001b[0m\u001b[0mself\u001b[0m\u001b[0;34m,\u001b[0m \u001b[0mname\u001b[0m\u001b[0;34m:\u001b[0m \u001b[0mstr\u001b[0m\u001b[0;34m,\u001b[0m \u001b[0mvalue\u001b[0m\u001b[0;34m)\u001b[0m \u001b[0;34m->\u001b[0m \u001b[0;32mNone\u001b[0m\u001b[0;34m:\u001b[0m\u001b[0;34m\u001b[0m\u001b[0;34m\u001b[0m\u001b[0m\n",
            "\u001b[0;32m/usr/local/lib/python3.10/dist-packages/pandas/core/accessor.py\u001b[0m in \u001b[0;36m__get__\u001b[0;34m(self, obj, cls)\u001b[0m\n\u001b[1;32m    180\u001b[0m             \u001b[0;31m# we're accessing the attribute of the class, i.e., Dataset.geo\u001b[0m\u001b[0;34m\u001b[0m\u001b[0;34m\u001b[0m\u001b[0m\n\u001b[1;32m    181\u001b[0m             \u001b[0;32mreturn\u001b[0m \u001b[0mself\u001b[0m\u001b[0;34m.\u001b[0m\u001b[0m_accessor\u001b[0m\u001b[0;34m\u001b[0m\u001b[0;34m\u001b[0m\u001b[0m\n\u001b[0;32m--> 182\u001b[0;31m         \u001b[0maccessor_obj\u001b[0m \u001b[0;34m=\u001b[0m \u001b[0mself\u001b[0m\u001b[0;34m.\u001b[0m\u001b[0m_accessor\u001b[0m\u001b[0;34m(\u001b[0m\u001b[0mobj\u001b[0m\u001b[0;34m)\u001b[0m\u001b[0;34m\u001b[0m\u001b[0;34m\u001b[0m\u001b[0m\n\u001b[0m\u001b[1;32m    183\u001b[0m         \u001b[0;31m# Replace the property with the accessor object. Inspired by:\u001b[0m\u001b[0;34m\u001b[0m\u001b[0;34m\u001b[0m\u001b[0m\n\u001b[1;32m    184\u001b[0m         \u001b[0;31m# https://www.pydanny.com/cached-property.html\u001b[0m\u001b[0;34m\u001b[0m\u001b[0;34m\u001b[0m\u001b[0m\n",
            "\u001b[0;32m/usr/local/lib/python3.10/dist-packages/pandas/core/indexes/accessors.py\u001b[0m in \u001b[0;36m__new__\u001b[0;34m(cls, data)\u001b[0m\n\u001b[1;32m    510\u001b[0m             \u001b[0;32mreturn\u001b[0m \u001b[0mPeriodProperties\u001b[0m\u001b[0;34m(\u001b[0m\u001b[0mdata\u001b[0m\u001b[0;34m,\u001b[0m \u001b[0morig\u001b[0m\u001b[0;34m)\u001b[0m\u001b[0;34m\u001b[0m\u001b[0;34m\u001b[0m\u001b[0m\n\u001b[1;32m    511\u001b[0m \u001b[0;34m\u001b[0m\u001b[0m\n\u001b[0;32m--> 512\u001b[0;31m         \u001b[0;32mraise\u001b[0m \u001b[0mAttributeError\u001b[0m\u001b[0;34m(\u001b[0m\u001b[0;34m\"Can only use .dt accessor with datetimelike values\"\u001b[0m\u001b[0;34m)\u001b[0m\u001b[0;34m\u001b[0m\u001b[0;34m\u001b[0m\u001b[0m\n\u001b[0m",
            "\u001b[0;31mAttributeError\u001b[0m: Can only use .dt accessor with datetimelike values"
          ]
        }
      ]
    },
    {
      "cell_type": "markdown",
      "source": [
        "As the error says, we can only use that function with a `datetime` object, so we first need to change the data type for `Charge_Date`.\n",
        "\n",
        "There are a couple of different ways to change data types in pandas, so we'll just cover the following functions:\n",
        "  * `pd.to_datetime()` changes the data type to `datetime`\n",
        "  * `pd.to_numeric()` changes the data type to `numeric`\n",
        "    * pandas will further label it as `float` or `int` based on the data provided\n",
        "  * `pd.to_string()` changes the data type to `string`\n"
      ],
      "metadata": {
        "id": "BZbeCnRIXGi_"
      }
    },
    {
      "cell_type": "code",
      "source": [
        "pd.to_datetime(df['Charge_Date'])"
      ],
      "metadata": {
        "colab": {
          "base_uri": "https://localhost:8080/"
        },
        "id": "i3JC72SEOEDP",
        "outputId": "975b702e-cf95-46cd-ff28-2e20481b0646"
      },
      "execution_count": null,
      "outputs": [
        {
          "output_type": "execute_result",
          "data": {
            "text/plain": [
              "0       2023-06-25\n",
              "1       2023-08-28\n",
              "2       2023-08-19\n",
              "3       2023-08-30\n",
              "4       2023-08-26\n",
              "           ...    \n",
              "22841   2023-11-04\n",
              "22842   2023-11-20\n",
              "22843   2023-11-18\n",
              "22844   2023-11-05\n",
              "22845   2023-09-26\n",
              "Name: Charge_Date, Length: 22846, dtype: datetime64[ns]"
            ]
          },
          "metadata": {},
          "execution_count": 4
        }
      ]
    },
    {
      "cell_type": "markdown",
      "source": [
        "However, this code alone doesn't change the data type for the variable in `df`. To do this, we essentially need to save over the old `Charge_Date` variable with the new version."
      ],
      "metadata": {
        "id": "utAWGVjwOY9b"
      }
    },
    {
      "cell_type": "code",
      "source": [
        "df['Charge_Date'] = pd.to_datetime(df['Charge_Date'])"
      ],
      "metadata": {
        "id": "MLo_z8ccOkQB"
      },
      "execution_count": 5,
      "outputs": []
    },
    {
      "cell_type": "markdown",
      "source": [
        "Now, let's try the `Series.dt.day_name()` function again."
      ],
      "metadata": {
        "id": "fTAjiVC80dBP"
      }
    },
    {
      "cell_type": "code",
      "source": [
        "df['Charge_Date'].dt.day_name()"
      ],
      "metadata": {
        "colab": {
          "base_uri": "https://localhost:8080/"
        },
        "id": "7KwOpeSa0nMR",
        "outputId": "15276fea-8376-41bf-d68a-f2983bcd2671"
      },
      "execution_count": null,
      "outputs": [
        {
          "output_type": "execute_result",
          "data": {
            "text/plain": [
              "0           Sunday\n",
              "1           Monday\n",
              "2         Saturday\n",
              "3        Wednesday\n",
              "4         Saturday\n",
              "           ...    \n",
              "22841     Saturday\n",
              "22842       Monday\n",
              "22843     Saturday\n",
              "22844       Sunday\n",
              "22845      Tuesday\n",
              "Name: Charge_Date, Length: 22846, dtype: object"
            ]
          },
          "metadata": {},
          "execution_count": 6
        }
      ]
    },
    {
      "cell_type": "markdown",
      "source": [
        "This looks like what we want! Let's add this new variable to `df` and name it `Charge_Day`."
      ],
      "metadata": {
        "id": "3sdFE9X70uO_"
      }
    },
    {
      "cell_type": "code",
      "source": [
        "df['Charge_Day'] = df['Charge_Date'].dt.day_name()\n",
        "\n",
        "df"
      ],
      "metadata": {
        "colab": {
          "base_uri": "https://localhost:8080/",
          "height": 423
        },
        "id": "y-vFFgRw2N0V",
        "outputId": "bffebc15-d323-4342-9360-5f8b2aaa292d"
      },
      "execution_count": 6,
      "outputs": [
        {
          "output_type": "execute_result",
          "data": {
            "text/plain": [
              "       New ID  Vendor Charge_Date Cardholder_Agency  PC_Number  \\\n",
              "0      184782  AMAZON  2023-06-25           Library  PC-225445   \n",
              "1      276017  SQUARE  2023-08-28           Library  PC-157370   \n",
              "2      185196  SQUARE  2023-08-19      City Council  PC-194507   \n",
              "3      208673  SQUARE  2023-08-30      City Council  PC-107176   \n",
              "4      175842  SQUARE  2023-08-26      City Council  PC-215581   \n",
              "...       ...     ...         ...               ...        ...   \n",
              "22841  191142  AMAZON  2023-11-04           Library  PC-275227   \n",
              "22842  151581  AMAZON  2023-11-20           Library  PC-184893   \n",
              "22843  151581  AMAZON  2023-11-18           Library  PC-110199   \n",
              "22844  191142  AMAZON  2023-11-05           Library  PC-275227   \n",
              "22845  226031  PAYPAL  2023-09-26           Library  PC-282973   \n",
              "\n",
              "       Billing_Amount Charge_Day  \n",
              "0              110.26     Sunday  \n",
              "1              700.00     Monday  \n",
              "2               30.00   Saturday  \n",
              "3             1009.55  Wednesday  \n",
              "4              564.50   Saturday  \n",
              "...               ...        ...  \n",
              "22841           36.53   Saturday  \n",
              "22842           31.99     Monday  \n",
              "22843           18.22   Saturday  \n",
              "22844           22.26     Sunday  \n",
              "22845          139.20    Tuesday  \n",
              "\n",
              "[22846 rows x 7 columns]"
            ],
            "text/html": [
              "\n",
              "  <div id=\"df-ea53b4f2-b48f-43ff-a88f-a88dd62f6753\" class=\"colab-df-container\">\n",
              "    <div>\n",
              "<style scoped>\n",
              "    .dataframe tbody tr th:only-of-type {\n",
              "        vertical-align: middle;\n",
              "    }\n",
              "\n",
              "    .dataframe tbody tr th {\n",
              "        vertical-align: top;\n",
              "    }\n",
              "\n",
              "    .dataframe thead th {\n",
              "        text-align: right;\n",
              "    }\n",
              "</style>\n",
              "<table border=\"1\" class=\"dataframe\">\n",
              "  <thead>\n",
              "    <tr style=\"text-align: right;\">\n",
              "      <th></th>\n",
              "      <th>New ID</th>\n",
              "      <th>Vendor</th>\n",
              "      <th>Charge_Date</th>\n",
              "      <th>Cardholder_Agency</th>\n",
              "      <th>PC_Number</th>\n",
              "      <th>Billing_Amount</th>\n",
              "      <th>Charge_Day</th>\n",
              "    </tr>\n",
              "  </thead>\n",
              "  <tbody>\n",
              "    <tr>\n",
              "      <th>0</th>\n",
              "      <td>184782</td>\n",
              "      <td>AMAZON</td>\n",
              "      <td>2023-06-25</td>\n",
              "      <td>Library</td>\n",
              "      <td>PC-225445</td>\n",
              "      <td>110.26</td>\n",
              "      <td>Sunday</td>\n",
              "    </tr>\n",
              "    <tr>\n",
              "      <th>1</th>\n",
              "      <td>276017</td>\n",
              "      <td>SQUARE</td>\n",
              "      <td>2023-08-28</td>\n",
              "      <td>Library</td>\n",
              "      <td>PC-157370</td>\n",
              "      <td>700.00</td>\n",
              "      <td>Monday</td>\n",
              "    </tr>\n",
              "    <tr>\n",
              "      <th>2</th>\n",
              "      <td>185196</td>\n",
              "      <td>SQUARE</td>\n",
              "      <td>2023-08-19</td>\n",
              "      <td>City Council</td>\n",
              "      <td>PC-194507</td>\n",
              "      <td>30.00</td>\n",
              "      <td>Saturday</td>\n",
              "    </tr>\n",
              "    <tr>\n",
              "      <th>3</th>\n",
              "      <td>208673</td>\n",
              "      <td>SQUARE</td>\n",
              "      <td>2023-08-30</td>\n",
              "      <td>City Council</td>\n",
              "      <td>PC-107176</td>\n",
              "      <td>1009.55</td>\n",
              "      <td>Wednesday</td>\n",
              "    </tr>\n",
              "    <tr>\n",
              "      <th>4</th>\n",
              "      <td>175842</td>\n",
              "      <td>SQUARE</td>\n",
              "      <td>2023-08-26</td>\n",
              "      <td>City Council</td>\n",
              "      <td>PC-215581</td>\n",
              "      <td>564.50</td>\n",
              "      <td>Saturday</td>\n",
              "    </tr>\n",
              "    <tr>\n",
              "      <th>...</th>\n",
              "      <td>...</td>\n",
              "      <td>...</td>\n",
              "      <td>...</td>\n",
              "      <td>...</td>\n",
              "      <td>...</td>\n",
              "      <td>...</td>\n",
              "      <td>...</td>\n",
              "    </tr>\n",
              "    <tr>\n",
              "      <th>22841</th>\n",
              "      <td>191142</td>\n",
              "      <td>AMAZON</td>\n",
              "      <td>2023-11-04</td>\n",
              "      <td>Library</td>\n",
              "      <td>PC-275227</td>\n",
              "      <td>36.53</td>\n",
              "      <td>Saturday</td>\n",
              "    </tr>\n",
              "    <tr>\n",
              "      <th>22842</th>\n",
              "      <td>151581</td>\n",
              "      <td>AMAZON</td>\n",
              "      <td>2023-11-20</td>\n",
              "      <td>Library</td>\n",
              "      <td>PC-184893</td>\n",
              "      <td>31.99</td>\n",
              "      <td>Monday</td>\n",
              "    </tr>\n",
              "    <tr>\n",
              "      <th>22843</th>\n",
              "      <td>151581</td>\n",
              "      <td>AMAZON</td>\n",
              "      <td>2023-11-18</td>\n",
              "      <td>Library</td>\n",
              "      <td>PC-110199</td>\n",
              "      <td>18.22</td>\n",
              "      <td>Saturday</td>\n",
              "    </tr>\n",
              "    <tr>\n",
              "      <th>22844</th>\n",
              "      <td>191142</td>\n",
              "      <td>AMAZON</td>\n",
              "      <td>2023-11-05</td>\n",
              "      <td>Library</td>\n",
              "      <td>PC-275227</td>\n",
              "      <td>22.26</td>\n",
              "      <td>Sunday</td>\n",
              "    </tr>\n",
              "    <tr>\n",
              "      <th>22845</th>\n",
              "      <td>226031</td>\n",
              "      <td>PAYPAL</td>\n",
              "      <td>2023-09-26</td>\n",
              "      <td>Library</td>\n",
              "      <td>PC-282973</td>\n",
              "      <td>139.20</td>\n",
              "      <td>Tuesday</td>\n",
              "    </tr>\n",
              "  </tbody>\n",
              "</table>\n",
              "<p>22846 rows × 7 columns</p>\n",
              "</div>\n",
              "    <div class=\"colab-df-buttons\">\n",
              "\n",
              "  <div class=\"colab-df-container\">\n",
              "    <button class=\"colab-df-convert\" onclick=\"convertToInteractive('df-ea53b4f2-b48f-43ff-a88f-a88dd62f6753')\"\n",
              "            title=\"Convert this dataframe to an interactive table.\"\n",
              "            style=\"display:none;\">\n",
              "\n",
              "  <svg xmlns=\"http://www.w3.org/2000/svg\" height=\"24px\" viewBox=\"0 -960 960 960\">\n",
              "    <path d=\"M120-120v-720h720v720H120Zm60-500h600v-160H180v160Zm220 220h160v-160H400v160Zm0 220h160v-160H400v160ZM180-400h160v-160H180v160Zm440 0h160v-160H620v160ZM180-180h160v-160H180v160Zm440 0h160v-160H620v160Z\"/>\n",
              "  </svg>\n",
              "    </button>\n",
              "\n",
              "  <style>\n",
              "    .colab-df-container {\n",
              "      display:flex;\n",
              "      gap: 12px;\n",
              "    }\n",
              "\n",
              "    .colab-df-convert {\n",
              "      background-color: #E8F0FE;\n",
              "      border: none;\n",
              "      border-radius: 50%;\n",
              "      cursor: pointer;\n",
              "      display: none;\n",
              "      fill: #1967D2;\n",
              "      height: 32px;\n",
              "      padding: 0 0 0 0;\n",
              "      width: 32px;\n",
              "    }\n",
              "\n",
              "    .colab-df-convert:hover {\n",
              "      background-color: #E2EBFA;\n",
              "      box-shadow: 0px 1px 2px rgba(60, 64, 67, 0.3), 0px 1px 3px 1px rgba(60, 64, 67, 0.15);\n",
              "      fill: #174EA6;\n",
              "    }\n",
              "\n",
              "    .colab-df-buttons div {\n",
              "      margin-bottom: 4px;\n",
              "    }\n",
              "\n",
              "    [theme=dark] .colab-df-convert {\n",
              "      background-color: #3B4455;\n",
              "      fill: #D2E3FC;\n",
              "    }\n",
              "\n",
              "    [theme=dark] .colab-df-convert:hover {\n",
              "      background-color: #434B5C;\n",
              "      box-shadow: 0px 1px 3px 1px rgba(0, 0, 0, 0.15);\n",
              "      filter: drop-shadow(0px 1px 2px rgba(0, 0, 0, 0.3));\n",
              "      fill: #FFFFFF;\n",
              "    }\n",
              "  </style>\n",
              "\n",
              "    <script>\n",
              "      const buttonEl =\n",
              "        document.querySelector('#df-ea53b4f2-b48f-43ff-a88f-a88dd62f6753 button.colab-df-convert');\n",
              "      buttonEl.style.display =\n",
              "        google.colab.kernel.accessAllowed ? 'block' : 'none';\n",
              "\n",
              "      async function convertToInteractive(key) {\n",
              "        const element = document.querySelector('#df-ea53b4f2-b48f-43ff-a88f-a88dd62f6753');\n",
              "        const dataTable =\n",
              "          await google.colab.kernel.invokeFunction('convertToInteractive',\n",
              "                                                    [key], {});\n",
              "        if (!dataTable) return;\n",
              "\n",
              "        const docLinkHtml = 'Like what you see? Visit the ' +\n",
              "          '<a target=\"_blank\" href=https://colab.research.google.com/notebooks/data_table.ipynb>data table notebook</a>'\n",
              "          + ' to learn more about interactive tables.';\n",
              "        element.innerHTML = '';\n",
              "        dataTable['output_type'] = 'display_data';\n",
              "        await google.colab.output.renderOutput(dataTable, element);\n",
              "        const docLink = document.createElement('div');\n",
              "        docLink.innerHTML = docLinkHtml;\n",
              "        element.appendChild(docLink);\n",
              "      }\n",
              "    </script>\n",
              "  </div>\n",
              "\n",
              "\n",
              "<div id=\"df-27f509eb-303f-466d-86b9-f158ae2fcfdd\">\n",
              "  <button class=\"colab-df-quickchart\" onclick=\"quickchart('df-27f509eb-303f-466d-86b9-f158ae2fcfdd')\"\n",
              "            title=\"Suggest charts\"\n",
              "            style=\"display:none;\">\n",
              "\n",
              "<svg xmlns=\"http://www.w3.org/2000/svg\" height=\"24px\"viewBox=\"0 0 24 24\"\n",
              "     width=\"24px\">\n",
              "    <g>\n",
              "        <path d=\"M19 3H5c-1.1 0-2 .9-2 2v14c0 1.1.9 2 2 2h14c1.1 0 2-.9 2-2V5c0-1.1-.9-2-2-2zM9 17H7v-7h2v7zm4 0h-2V7h2v10zm4 0h-2v-4h2v4z\"/>\n",
              "    </g>\n",
              "</svg>\n",
              "  </button>\n",
              "\n",
              "<style>\n",
              "  .colab-df-quickchart {\n",
              "      --bg-color: #E8F0FE;\n",
              "      --fill-color: #1967D2;\n",
              "      --hover-bg-color: #E2EBFA;\n",
              "      --hover-fill-color: #174EA6;\n",
              "      --disabled-fill-color: #AAA;\n",
              "      --disabled-bg-color: #DDD;\n",
              "  }\n",
              "\n",
              "  [theme=dark] .colab-df-quickchart {\n",
              "      --bg-color: #3B4455;\n",
              "      --fill-color: #D2E3FC;\n",
              "      --hover-bg-color: #434B5C;\n",
              "      --hover-fill-color: #FFFFFF;\n",
              "      --disabled-bg-color: #3B4455;\n",
              "      --disabled-fill-color: #666;\n",
              "  }\n",
              "\n",
              "  .colab-df-quickchart {\n",
              "    background-color: var(--bg-color);\n",
              "    border: none;\n",
              "    border-radius: 50%;\n",
              "    cursor: pointer;\n",
              "    display: none;\n",
              "    fill: var(--fill-color);\n",
              "    height: 32px;\n",
              "    padding: 0;\n",
              "    width: 32px;\n",
              "  }\n",
              "\n",
              "  .colab-df-quickchart:hover {\n",
              "    background-color: var(--hover-bg-color);\n",
              "    box-shadow: 0 1px 2px rgba(60, 64, 67, 0.3), 0 1px 3px 1px rgba(60, 64, 67, 0.15);\n",
              "    fill: var(--button-hover-fill-color);\n",
              "  }\n",
              "\n",
              "  .colab-df-quickchart-complete:disabled,\n",
              "  .colab-df-quickchart-complete:disabled:hover {\n",
              "    background-color: var(--disabled-bg-color);\n",
              "    fill: var(--disabled-fill-color);\n",
              "    box-shadow: none;\n",
              "  }\n",
              "\n",
              "  .colab-df-spinner {\n",
              "    border: 2px solid var(--fill-color);\n",
              "    border-color: transparent;\n",
              "    border-bottom-color: var(--fill-color);\n",
              "    animation:\n",
              "      spin 1s steps(1) infinite;\n",
              "  }\n",
              "\n",
              "  @keyframes spin {\n",
              "    0% {\n",
              "      border-color: transparent;\n",
              "      border-bottom-color: var(--fill-color);\n",
              "      border-left-color: var(--fill-color);\n",
              "    }\n",
              "    20% {\n",
              "      border-color: transparent;\n",
              "      border-left-color: var(--fill-color);\n",
              "      border-top-color: var(--fill-color);\n",
              "    }\n",
              "    30% {\n",
              "      border-color: transparent;\n",
              "      border-left-color: var(--fill-color);\n",
              "      border-top-color: var(--fill-color);\n",
              "      border-right-color: var(--fill-color);\n",
              "    }\n",
              "    40% {\n",
              "      border-color: transparent;\n",
              "      border-right-color: var(--fill-color);\n",
              "      border-top-color: var(--fill-color);\n",
              "    }\n",
              "    60% {\n",
              "      border-color: transparent;\n",
              "      border-right-color: var(--fill-color);\n",
              "    }\n",
              "    80% {\n",
              "      border-color: transparent;\n",
              "      border-right-color: var(--fill-color);\n",
              "      border-bottom-color: var(--fill-color);\n",
              "    }\n",
              "    90% {\n",
              "      border-color: transparent;\n",
              "      border-bottom-color: var(--fill-color);\n",
              "    }\n",
              "  }\n",
              "</style>\n",
              "\n",
              "  <script>\n",
              "    async function quickchart(key) {\n",
              "      const quickchartButtonEl =\n",
              "        document.querySelector('#' + key + ' button');\n",
              "      quickchartButtonEl.disabled = true;  // To prevent multiple clicks.\n",
              "      quickchartButtonEl.classList.add('colab-df-spinner');\n",
              "      try {\n",
              "        const charts = await google.colab.kernel.invokeFunction(\n",
              "            'suggestCharts', [key], {});\n",
              "      } catch (error) {\n",
              "        console.error('Error during call to suggestCharts:', error);\n",
              "      }\n",
              "      quickchartButtonEl.classList.remove('colab-df-spinner');\n",
              "      quickchartButtonEl.classList.add('colab-df-quickchart-complete');\n",
              "    }\n",
              "    (() => {\n",
              "      let quickchartButtonEl =\n",
              "        document.querySelector('#df-27f509eb-303f-466d-86b9-f158ae2fcfdd button');\n",
              "      quickchartButtonEl.style.display =\n",
              "        google.colab.kernel.accessAllowed ? 'block' : 'none';\n",
              "    })();\n",
              "  </script>\n",
              "</div>\n",
              "\n",
              "  <div id=\"id_8a76e5ea-5318-4af4-a9f2-fb373d9042ba\">\n",
              "    <style>\n",
              "      .colab-df-generate {\n",
              "        background-color: #E8F0FE;\n",
              "        border: none;\n",
              "        border-radius: 50%;\n",
              "        cursor: pointer;\n",
              "        display: none;\n",
              "        fill: #1967D2;\n",
              "        height: 32px;\n",
              "        padding: 0 0 0 0;\n",
              "        width: 32px;\n",
              "      }\n",
              "\n",
              "      .colab-df-generate:hover {\n",
              "        background-color: #E2EBFA;\n",
              "        box-shadow: 0px 1px 2px rgba(60, 64, 67, 0.3), 0px 1px 3px 1px rgba(60, 64, 67, 0.15);\n",
              "        fill: #174EA6;\n",
              "      }\n",
              "\n",
              "      [theme=dark] .colab-df-generate {\n",
              "        background-color: #3B4455;\n",
              "        fill: #D2E3FC;\n",
              "      }\n",
              "\n",
              "      [theme=dark] .colab-df-generate:hover {\n",
              "        background-color: #434B5C;\n",
              "        box-shadow: 0px 1px 3px 1px rgba(0, 0, 0, 0.15);\n",
              "        filter: drop-shadow(0px 1px 2px rgba(0, 0, 0, 0.3));\n",
              "        fill: #FFFFFF;\n",
              "      }\n",
              "    </style>\n",
              "    <button class=\"colab-df-generate\" onclick=\"generateWithVariable('df')\"\n",
              "            title=\"Generate code using this dataframe.\"\n",
              "            style=\"display:none;\">\n",
              "\n",
              "  <svg xmlns=\"http://www.w3.org/2000/svg\" height=\"24px\"viewBox=\"0 0 24 24\"\n",
              "       width=\"24px\">\n",
              "    <path d=\"M7,19H8.4L18.45,9,17,7.55,7,17.6ZM5,21V16.75L18.45,3.32a2,2,0,0,1,2.83,0l1.4,1.43a1.91,1.91,0,0,1,.58,1.4,1.91,1.91,0,0,1-.58,1.4L9.25,21ZM18.45,9,17,7.55Zm-12,3A5.31,5.31,0,0,0,4.9,8.1,5.31,5.31,0,0,0,1,6.5,5.31,5.31,0,0,0,4.9,4.9,5.31,5.31,0,0,0,6.5,1,5.31,5.31,0,0,0,8.1,4.9,5.31,5.31,0,0,0,12,6.5,5.46,5.46,0,0,0,6.5,12Z\"/>\n",
              "  </svg>\n",
              "    </button>\n",
              "    <script>\n",
              "      (() => {\n",
              "      const buttonEl =\n",
              "        document.querySelector('#id_8a76e5ea-5318-4af4-a9f2-fb373d9042ba button.colab-df-generate');\n",
              "      buttonEl.style.display =\n",
              "        google.colab.kernel.accessAllowed ? 'block' : 'none';\n",
              "\n",
              "      buttonEl.onclick = () => {\n",
              "        google.colab.notebook.generateWithVariable('df');\n",
              "      }\n",
              "      })();\n",
              "    </script>\n",
              "  </div>\n",
              "\n",
              "    </div>\n",
              "  </div>\n"
            ],
            "application/vnd.google.colaboratory.intrinsic+json": {
              "type": "dataframe",
              "variable_name": "df",
              "summary": "{\n  \"name\": \"df\",\n  \"rows\": 22846,\n  \"fields\": [\n    {\n      \"column\": \"New ID\",\n      \"properties\": {\n        \"dtype\": \"category\",\n        \"num_unique_values\": 750,\n        \"samples\": [\n          \"276951\",\n          \"270381\",\n          \"120764\"\n        ],\n        \"semantic_type\": \"\",\n        \"description\": \"\"\n      }\n    },\n    {\n      \"column\": \"Vendor\",\n      \"properties\": {\n        \"dtype\": \"category\",\n        \"num_unique_values\": 5,\n        \"samples\": [\n          \"SQUARE\",\n          \"VENMO\",\n          \"PAYPAL\"\n        ],\n        \"semantic_type\": \"\",\n        \"description\": \"\"\n      }\n    },\n    {\n      \"column\": \"Charge_Date\",\n      \"properties\": {\n        \"dtype\": \"date\",\n        \"min\": \"2023-01-01 00:00:00\",\n        \"max\": \"2023-12-26 00:00:00\",\n        \"num_unique_values\": 360,\n        \"samples\": [\n          \"2023-06-28 00:00:00\",\n          \"2023-06-15 00:00:00\",\n          \"2023-08-08 00:00:00\"\n        ],\n        \"semantic_type\": \"\",\n        \"description\": \"\"\n      }\n    },\n    {\n      \"column\": \"Cardholder_Agency\",\n      \"properties\": {\n        \"dtype\": \"category\",\n        \"num_unique_values\": 19,\n        \"samples\": [\n          \"Library\",\n          \"Economic Development\",\n          \"Human Resources\"\n        ],\n        \"semantic_type\": \"\",\n        \"description\": \"\"\n      }\n    },\n    {\n      \"column\": \"PC_Number\",\n      \"properties\": {\n        \"dtype\": \"string\",\n        \"num_unique_values\": 14692,\n        \"samples\": [\n          \"PC-172938\",\n          \"PC-124696\",\n          \"PC-235151\"\n        ],\n        \"semantic_type\": \"\",\n        \"description\": \"\"\n      }\n    },\n    {\n      \"column\": \"Billing_Amount\",\n      \"properties\": {\n        \"dtype\": \"number\",\n        \"std\": 273.7004840974201,\n        \"min\": -1449.29,\n        \"max\": 8679.25,\n        \"num_unique_values\": 12109,\n        \"samples\": [\n          116.62,\n          15.24,\n          109.15\n        ],\n        \"semantic_type\": \"\",\n        \"description\": \"\"\n      }\n    },\n    {\n      \"column\": \"Charge_Day\",\n      \"properties\": {\n        \"dtype\": \"category\",\n        \"num_unique_values\": 7,\n        \"samples\": [\n          \"Sunday\",\n          \"Monday\",\n          \"Thursday\"\n        ],\n        \"semantic_type\": \"\",\n        \"description\": \"\"\n      }\n    }\n  ]\n}"
            }
          },
          "metadata": {},
          "execution_count": 6
        }
      ]
    },
    {
      "cell_type": "markdown",
      "source": [
        "#### **Checking for Data Completeness**\n",
        "\n",
        "When we first get a dataset, it's a good idea to check for **completeness**. Data completeness is the extent to which a dataset contains all the necessary elements and observations for a given purpose or analysis.\n",
        "\n",
        "First, we should check that the dataset includes what we expect. For example, our purchase card data (`df`) should only contain transactions from 2023. Let's double-check that the date range is what we expect. To do this, we can look at the minimum and maximum values for the `Charge_Date` column.\n",
        "\n",
        "\n",
        "\n",
        "\n",
        "\n",
        "\n",
        "\n"
      ],
      "metadata": {
        "id": "6XqUhgnU6HNp"
      }
    },
    {
      "cell_type": "code",
      "source": [
        "#find the minimum charge date\n",
        "min(df['Charge_Date'])"
      ],
      "metadata": {
        "colab": {
          "base_uri": "https://localhost:8080/"
        },
        "id": "Lk4pzT2-4hnU",
        "outputId": "398f491b-e073-42c8-df70-0fc6eb0be445"
      },
      "execution_count": null,
      "outputs": [
        {
          "output_type": "execute_result",
          "data": {
            "text/plain": [
              "Timestamp('2023-01-01 00:00:00')"
            ]
          },
          "metadata": {},
          "execution_count": 8
        }
      ]
    },
    {
      "cell_type": "code",
      "source": [
        "#find the maximum charge date\n",
        "max(df['Charge_Date'])"
      ],
      "metadata": {
        "colab": {
          "base_uri": "https://localhost:8080/"
        },
        "id": "4qnAP00L4zOU",
        "outputId": "09fb72c7-bd42-4816-8e59-a2635e53be6e"
      },
      "execution_count": null,
      "outputs": [
        {
          "output_type": "execute_result",
          "data": {
            "text/plain": [
              "Timestamp('2023-12-26 00:00:00')"
            ]
          },
          "metadata": {},
          "execution_count": 9
        }
      ]
    },
    {
      "cell_type": "markdown",
      "source": [
        "Just as we expect, the purchase card data only spans 2023.\n",
        "\n",
        "Next, we should identify any **missing values** and decide how to handle them. To identify missing values, we can use the `DataFrame.isna()` function. This function will return a boolean `DataFrame` of the same size indicating if each entry is missing (`True`) or not (`False`). It is worth mentioning here that this function only detects true missing values, not empty strings, `''`, or strings like `'NA'`.\n",
        "\n",
        "\n"
      ],
      "metadata": {
        "id": "p1j10k4s4est"
      }
    },
    {
      "cell_type": "code",
      "source": [
        "df.isna()"
      ],
      "metadata": {
        "colab": {
          "base_uri": "https://localhost:8080/",
          "height": 423
        },
        "id": "9aCHDfu8FgGv",
        "outputId": "f31718a0-91d4-4aeb-e368-e586c8fa1ae7"
      },
      "execution_count": null,
      "outputs": [
        {
          "output_type": "execute_result",
          "data": {
            "text/plain": [
              "       New ID  Vendor  Charge_Date  Cardholder_Agency  PC_Number  \\\n",
              "0       False   False        False              False      False   \n",
              "1       False   False        False              False      False   \n",
              "2       False   False        False              False      False   \n",
              "3       False   False        False              False      False   \n",
              "4       False   False        False              False      False   \n",
              "...       ...     ...          ...                ...        ...   \n",
              "22841   False   False        False              False      False   \n",
              "22842   False   False        False              False      False   \n",
              "22843   False   False        False              False      False   \n",
              "22844   False   False        False              False      False   \n",
              "22845   False   False        False              False      False   \n",
              "\n",
              "       Billing_Amount  Charge_Day  \n",
              "0               False       False  \n",
              "1               False       False  \n",
              "2               False       False  \n",
              "3               False       False  \n",
              "4               False       False  \n",
              "...               ...         ...  \n",
              "22841           False       False  \n",
              "22842           False       False  \n",
              "22843           False       False  \n",
              "22844           False       False  \n",
              "22845           False       False  \n",
              "\n",
              "[22846 rows x 7 columns]"
            ],
            "text/html": [
              "\n",
              "  <div id=\"df-52640b19-0a92-44d8-b85c-9b04085626d9\" class=\"colab-df-container\">\n",
              "    <div>\n",
              "<style scoped>\n",
              "    .dataframe tbody tr th:only-of-type {\n",
              "        vertical-align: middle;\n",
              "    }\n",
              "\n",
              "    .dataframe tbody tr th {\n",
              "        vertical-align: top;\n",
              "    }\n",
              "\n",
              "    .dataframe thead th {\n",
              "        text-align: right;\n",
              "    }\n",
              "</style>\n",
              "<table border=\"1\" class=\"dataframe\">\n",
              "  <thead>\n",
              "    <tr style=\"text-align: right;\">\n",
              "      <th></th>\n",
              "      <th>New ID</th>\n",
              "      <th>Vendor</th>\n",
              "      <th>Charge_Date</th>\n",
              "      <th>Cardholder_Agency</th>\n",
              "      <th>PC_Number</th>\n",
              "      <th>Billing_Amount</th>\n",
              "      <th>Charge_Day</th>\n",
              "    </tr>\n",
              "  </thead>\n",
              "  <tbody>\n",
              "    <tr>\n",
              "      <th>0</th>\n",
              "      <td>False</td>\n",
              "      <td>False</td>\n",
              "      <td>False</td>\n",
              "      <td>False</td>\n",
              "      <td>False</td>\n",
              "      <td>False</td>\n",
              "      <td>False</td>\n",
              "    </tr>\n",
              "    <tr>\n",
              "      <th>1</th>\n",
              "      <td>False</td>\n",
              "      <td>False</td>\n",
              "      <td>False</td>\n",
              "      <td>False</td>\n",
              "      <td>False</td>\n",
              "      <td>False</td>\n",
              "      <td>False</td>\n",
              "    </tr>\n",
              "    <tr>\n",
              "      <th>2</th>\n",
              "      <td>False</td>\n",
              "      <td>False</td>\n",
              "      <td>False</td>\n",
              "      <td>False</td>\n",
              "      <td>False</td>\n",
              "      <td>False</td>\n",
              "      <td>False</td>\n",
              "    </tr>\n",
              "    <tr>\n",
              "      <th>3</th>\n",
              "      <td>False</td>\n",
              "      <td>False</td>\n",
              "      <td>False</td>\n",
              "      <td>False</td>\n",
              "      <td>False</td>\n",
              "      <td>False</td>\n",
              "      <td>False</td>\n",
              "    </tr>\n",
              "    <tr>\n",
              "      <th>4</th>\n",
              "      <td>False</td>\n",
              "      <td>False</td>\n",
              "      <td>False</td>\n",
              "      <td>False</td>\n",
              "      <td>False</td>\n",
              "      <td>False</td>\n",
              "      <td>False</td>\n",
              "    </tr>\n",
              "    <tr>\n",
              "      <th>...</th>\n",
              "      <td>...</td>\n",
              "      <td>...</td>\n",
              "      <td>...</td>\n",
              "      <td>...</td>\n",
              "      <td>...</td>\n",
              "      <td>...</td>\n",
              "      <td>...</td>\n",
              "    </tr>\n",
              "    <tr>\n",
              "      <th>22841</th>\n",
              "      <td>False</td>\n",
              "      <td>False</td>\n",
              "      <td>False</td>\n",
              "      <td>False</td>\n",
              "      <td>False</td>\n",
              "      <td>False</td>\n",
              "      <td>False</td>\n",
              "    </tr>\n",
              "    <tr>\n",
              "      <th>22842</th>\n",
              "      <td>False</td>\n",
              "      <td>False</td>\n",
              "      <td>False</td>\n",
              "      <td>False</td>\n",
              "      <td>False</td>\n",
              "      <td>False</td>\n",
              "      <td>False</td>\n",
              "    </tr>\n",
              "    <tr>\n",
              "      <th>22843</th>\n",
              "      <td>False</td>\n",
              "      <td>False</td>\n",
              "      <td>False</td>\n",
              "      <td>False</td>\n",
              "      <td>False</td>\n",
              "      <td>False</td>\n",
              "      <td>False</td>\n",
              "    </tr>\n",
              "    <tr>\n",
              "      <th>22844</th>\n",
              "      <td>False</td>\n",
              "      <td>False</td>\n",
              "      <td>False</td>\n",
              "      <td>False</td>\n",
              "      <td>False</td>\n",
              "      <td>False</td>\n",
              "      <td>False</td>\n",
              "    </tr>\n",
              "    <tr>\n",
              "      <th>22845</th>\n",
              "      <td>False</td>\n",
              "      <td>False</td>\n",
              "      <td>False</td>\n",
              "      <td>False</td>\n",
              "      <td>False</td>\n",
              "      <td>False</td>\n",
              "      <td>False</td>\n",
              "    </tr>\n",
              "  </tbody>\n",
              "</table>\n",
              "<p>22846 rows × 7 columns</p>\n",
              "</div>\n",
              "    <div class=\"colab-df-buttons\">\n",
              "\n",
              "  <div class=\"colab-df-container\">\n",
              "    <button class=\"colab-df-convert\" onclick=\"convertToInteractive('df-52640b19-0a92-44d8-b85c-9b04085626d9')\"\n",
              "            title=\"Convert this dataframe to an interactive table.\"\n",
              "            style=\"display:none;\">\n",
              "\n",
              "  <svg xmlns=\"http://www.w3.org/2000/svg\" height=\"24px\" viewBox=\"0 -960 960 960\">\n",
              "    <path d=\"M120-120v-720h720v720H120Zm60-500h600v-160H180v160Zm220 220h160v-160H400v160Zm0 220h160v-160H400v160ZM180-400h160v-160H180v160Zm440 0h160v-160H620v160ZM180-180h160v-160H180v160Zm440 0h160v-160H620v160Z\"/>\n",
              "  </svg>\n",
              "    </button>\n",
              "\n",
              "  <style>\n",
              "    .colab-df-container {\n",
              "      display:flex;\n",
              "      gap: 12px;\n",
              "    }\n",
              "\n",
              "    .colab-df-convert {\n",
              "      background-color: #E8F0FE;\n",
              "      border: none;\n",
              "      border-radius: 50%;\n",
              "      cursor: pointer;\n",
              "      display: none;\n",
              "      fill: #1967D2;\n",
              "      height: 32px;\n",
              "      padding: 0 0 0 0;\n",
              "      width: 32px;\n",
              "    }\n",
              "\n",
              "    .colab-df-convert:hover {\n",
              "      background-color: #E2EBFA;\n",
              "      box-shadow: 0px 1px 2px rgba(60, 64, 67, 0.3), 0px 1px 3px 1px rgba(60, 64, 67, 0.15);\n",
              "      fill: #174EA6;\n",
              "    }\n",
              "\n",
              "    .colab-df-buttons div {\n",
              "      margin-bottom: 4px;\n",
              "    }\n",
              "\n",
              "    [theme=dark] .colab-df-convert {\n",
              "      background-color: #3B4455;\n",
              "      fill: #D2E3FC;\n",
              "    }\n",
              "\n",
              "    [theme=dark] .colab-df-convert:hover {\n",
              "      background-color: #434B5C;\n",
              "      box-shadow: 0px 1px 3px 1px rgba(0, 0, 0, 0.15);\n",
              "      filter: drop-shadow(0px 1px 2px rgba(0, 0, 0, 0.3));\n",
              "      fill: #FFFFFF;\n",
              "    }\n",
              "  </style>\n",
              "\n",
              "    <script>\n",
              "      const buttonEl =\n",
              "        document.querySelector('#df-52640b19-0a92-44d8-b85c-9b04085626d9 button.colab-df-convert');\n",
              "      buttonEl.style.display =\n",
              "        google.colab.kernel.accessAllowed ? 'block' : 'none';\n",
              "\n",
              "      async function convertToInteractive(key) {\n",
              "        const element = document.querySelector('#df-52640b19-0a92-44d8-b85c-9b04085626d9');\n",
              "        const dataTable =\n",
              "          await google.colab.kernel.invokeFunction('convertToInteractive',\n",
              "                                                    [key], {});\n",
              "        if (!dataTable) return;\n",
              "\n",
              "        const docLinkHtml = 'Like what you see? Visit the ' +\n",
              "          '<a target=\"_blank\" href=https://colab.research.google.com/notebooks/data_table.ipynb>data table notebook</a>'\n",
              "          + ' to learn more about interactive tables.';\n",
              "        element.innerHTML = '';\n",
              "        dataTable['output_type'] = 'display_data';\n",
              "        await google.colab.output.renderOutput(dataTable, element);\n",
              "        const docLink = document.createElement('div');\n",
              "        docLink.innerHTML = docLinkHtml;\n",
              "        element.appendChild(docLink);\n",
              "      }\n",
              "    </script>\n",
              "  </div>\n",
              "\n",
              "\n",
              "<div id=\"df-97387bb0-addb-4b24-baf8-b98cc3530f68\">\n",
              "  <button class=\"colab-df-quickchart\" onclick=\"quickchart('df-97387bb0-addb-4b24-baf8-b98cc3530f68')\"\n",
              "            title=\"Suggest charts\"\n",
              "            style=\"display:none;\">\n",
              "\n",
              "<svg xmlns=\"http://www.w3.org/2000/svg\" height=\"24px\"viewBox=\"0 0 24 24\"\n",
              "     width=\"24px\">\n",
              "    <g>\n",
              "        <path d=\"M19 3H5c-1.1 0-2 .9-2 2v14c0 1.1.9 2 2 2h14c1.1 0 2-.9 2-2V5c0-1.1-.9-2-2-2zM9 17H7v-7h2v7zm4 0h-2V7h2v10zm4 0h-2v-4h2v4z\"/>\n",
              "    </g>\n",
              "</svg>\n",
              "  </button>\n",
              "\n",
              "<style>\n",
              "  .colab-df-quickchart {\n",
              "      --bg-color: #E8F0FE;\n",
              "      --fill-color: #1967D2;\n",
              "      --hover-bg-color: #E2EBFA;\n",
              "      --hover-fill-color: #174EA6;\n",
              "      --disabled-fill-color: #AAA;\n",
              "      --disabled-bg-color: #DDD;\n",
              "  }\n",
              "\n",
              "  [theme=dark] .colab-df-quickchart {\n",
              "      --bg-color: #3B4455;\n",
              "      --fill-color: #D2E3FC;\n",
              "      --hover-bg-color: #434B5C;\n",
              "      --hover-fill-color: #FFFFFF;\n",
              "      --disabled-bg-color: #3B4455;\n",
              "      --disabled-fill-color: #666;\n",
              "  }\n",
              "\n",
              "  .colab-df-quickchart {\n",
              "    background-color: var(--bg-color);\n",
              "    border: none;\n",
              "    border-radius: 50%;\n",
              "    cursor: pointer;\n",
              "    display: none;\n",
              "    fill: var(--fill-color);\n",
              "    height: 32px;\n",
              "    padding: 0;\n",
              "    width: 32px;\n",
              "  }\n",
              "\n",
              "  .colab-df-quickchart:hover {\n",
              "    background-color: var(--hover-bg-color);\n",
              "    box-shadow: 0 1px 2px rgba(60, 64, 67, 0.3), 0 1px 3px 1px rgba(60, 64, 67, 0.15);\n",
              "    fill: var(--button-hover-fill-color);\n",
              "  }\n",
              "\n",
              "  .colab-df-quickchart-complete:disabled,\n",
              "  .colab-df-quickchart-complete:disabled:hover {\n",
              "    background-color: var(--disabled-bg-color);\n",
              "    fill: var(--disabled-fill-color);\n",
              "    box-shadow: none;\n",
              "  }\n",
              "\n",
              "  .colab-df-spinner {\n",
              "    border: 2px solid var(--fill-color);\n",
              "    border-color: transparent;\n",
              "    border-bottom-color: var(--fill-color);\n",
              "    animation:\n",
              "      spin 1s steps(1) infinite;\n",
              "  }\n",
              "\n",
              "  @keyframes spin {\n",
              "    0% {\n",
              "      border-color: transparent;\n",
              "      border-bottom-color: var(--fill-color);\n",
              "      border-left-color: var(--fill-color);\n",
              "    }\n",
              "    20% {\n",
              "      border-color: transparent;\n",
              "      border-left-color: var(--fill-color);\n",
              "      border-top-color: var(--fill-color);\n",
              "    }\n",
              "    30% {\n",
              "      border-color: transparent;\n",
              "      border-left-color: var(--fill-color);\n",
              "      border-top-color: var(--fill-color);\n",
              "      border-right-color: var(--fill-color);\n",
              "    }\n",
              "    40% {\n",
              "      border-color: transparent;\n",
              "      border-right-color: var(--fill-color);\n",
              "      border-top-color: var(--fill-color);\n",
              "    }\n",
              "    60% {\n",
              "      border-color: transparent;\n",
              "      border-right-color: var(--fill-color);\n",
              "    }\n",
              "    80% {\n",
              "      border-color: transparent;\n",
              "      border-right-color: var(--fill-color);\n",
              "      border-bottom-color: var(--fill-color);\n",
              "    }\n",
              "    90% {\n",
              "      border-color: transparent;\n",
              "      border-bottom-color: var(--fill-color);\n",
              "    }\n",
              "  }\n",
              "</style>\n",
              "\n",
              "  <script>\n",
              "    async function quickchart(key) {\n",
              "      const quickchartButtonEl =\n",
              "        document.querySelector('#' + key + ' button');\n",
              "      quickchartButtonEl.disabled = true;  // To prevent multiple clicks.\n",
              "      quickchartButtonEl.classList.add('colab-df-spinner');\n",
              "      try {\n",
              "        const charts = await google.colab.kernel.invokeFunction(\n",
              "            'suggestCharts', [key], {});\n",
              "      } catch (error) {\n",
              "        console.error('Error during call to suggestCharts:', error);\n",
              "      }\n",
              "      quickchartButtonEl.classList.remove('colab-df-spinner');\n",
              "      quickchartButtonEl.classList.add('colab-df-quickchart-complete');\n",
              "    }\n",
              "    (() => {\n",
              "      let quickchartButtonEl =\n",
              "        document.querySelector('#df-97387bb0-addb-4b24-baf8-b98cc3530f68 button');\n",
              "      quickchartButtonEl.style.display =\n",
              "        google.colab.kernel.accessAllowed ? 'block' : 'none';\n",
              "    })();\n",
              "  </script>\n",
              "</div>\n",
              "\n",
              "    </div>\n",
              "  </div>\n"
            ],
            "application/vnd.google.colaboratory.intrinsic+json": {
              "type": "dataframe",
              "summary": "{\n  \"name\": \"df\",\n  \"rows\": 22846,\n  \"fields\": [\n    {\n      \"column\": \"New ID\",\n      \"properties\": {\n        \"dtype\": \"boolean\",\n        \"num_unique_values\": 1,\n        \"samples\": [\n          false\n        ],\n        \"semantic_type\": \"\",\n        \"description\": \"\"\n      }\n    },\n    {\n      \"column\": \"Vendor\",\n      \"properties\": {\n        \"dtype\": \"boolean\",\n        \"num_unique_values\": 1,\n        \"samples\": [\n          false\n        ],\n        \"semantic_type\": \"\",\n        \"description\": \"\"\n      }\n    },\n    {\n      \"column\": \"Charge_Date\",\n      \"properties\": {\n        \"dtype\": \"boolean\",\n        \"num_unique_values\": 1,\n        \"samples\": [\n          false\n        ],\n        \"semantic_type\": \"\",\n        \"description\": \"\"\n      }\n    },\n    {\n      \"column\": \"Cardholder_Agency\",\n      \"properties\": {\n        \"dtype\": \"boolean\",\n        \"num_unique_values\": 1,\n        \"samples\": [\n          false\n        ],\n        \"semantic_type\": \"\",\n        \"description\": \"\"\n      }\n    },\n    {\n      \"column\": \"PC_Number\",\n      \"properties\": {\n        \"dtype\": \"boolean\",\n        \"num_unique_values\": 1,\n        \"samples\": [\n          false\n        ],\n        \"semantic_type\": \"\",\n        \"description\": \"\"\n      }\n    },\n    {\n      \"column\": \"Billing_Amount\",\n      \"properties\": {\n        \"dtype\": \"boolean\",\n        \"num_unique_values\": 1,\n        \"samples\": [\n          false\n        ],\n        \"semantic_type\": \"\",\n        \"description\": \"\"\n      }\n    },\n    {\n      \"column\": \"Charge_Day\",\n      \"properties\": {\n        \"dtype\": \"boolean\",\n        \"num_unique_values\": 1,\n        \"samples\": [\n          false\n        ],\n        \"semantic_type\": \"\",\n        \"description\": \"\"\n      }\n    }\n  ]\n}"
            }
          },
          "metadata": {},
          "execution_count": 10
        }
      ]
    },
    {
      "cell_type": "markdown",
      "source": [
        "This output isn't super helpful on its own for a large `DataFrame`. It would be more useful to have a count of missing values. Remember earlier when we mentioned that adding booleans would come in handy? Since `True` is equivalent to `1`, if we find the sum of boolean values, this is equivalent to counting the missing values.\n",
        "\n",
        "The `DataFrame.sum()` function will return the column sums for a `DataFrame` by default. If the optional `axis` argument is specified as `1`, then the row sums will be returned."
      ],
      "metadata": {
        "id": "jd31inJGFofV"
      }
    },
    {
      "cell_type": "code",
      "source": [
        "#sum of missing values\n",
        "(df.isna()).sum()"
      ],
      "metadata": {
        "id": "KMY9KdKvE73x",
        "colab": {
          "base_uri": "https://localhost:8080/"
        },
        "outputId": "9dabb363-729b-4ddf-be77-91564a59717c"
      },
      "execution_count": 7,
      "outputs": [
        {
          "output_type": "execute_result",
          "data": {
            "text/plain": [
              "New ID               0\n",
              "Vendor               0\n",
              "Charge_Date          0\n",
              "Cardholder_Agency    0\n",
              "PC_Number            0\n",
              "Billing_Amount       0\n",
              "Charge_Day           0\n",
              "dtype: int64"
            ]
          },
          "metadata": {},
          "execution_count": 7
        }
      ]
    },
    {
      "cell_type": "markdown",
      "source": [
        "Now that we've quantified how many values are missing, we need to decide how to handle them. This largely depends on the quantity of missing values and context of the analysis. To inform the decision making process, it can be helpful to see which rows contain missing values. To do this, we can combine the `DataFrame.isna()` function with the `DataFrame.any()` function. When applied to a `DataFrame`, the `DataFrame.any()` function returns a `Series` indicating if any row or column contains a `True` value. By defult, the function checks columns, so we need to specify the optional `axis` argument as `1`.\n",
        "\n",
        "\n",
        "\n"
      ],
      "metadata": {
        "id": "KQTrpjF3A7HJ"
      }
    },
    {
      "cell_type": "code",
      "source": [
        "(df.isna()).any(axis = 1)"
      ],
      "metadata": {
        "colab": {
          "base_uri": "https://localhost:8080/"
        },
        "id": "lG2TbWq4E5zG",
        "outputId": "d953e968-884f-451c-bef4-7d0501e11838"
      },
      "execution_count": 9,
      "outputs": [
        {
          "output_type": "execute_result",
          "data": {
            "text/plain": [
              "0        False\n",
              "1        False\n",
              "2        False\n",
              "3        False\n",
              "4        False\n",
              "         ...  \n",
              "22841    False\n",
              "22842    False\n",
              "22843    False\n",
              "22844    False\n",
              "22845    False\n",
              "Length: 22846, dtype: bool"
            ]
          },
          "metadata": {},
          "execution_count": 9
        }
      ]
    },
    {
      "cell_type": "markdown",
      "source": [
        "Now, we have a `Series` with `True` if the row contains at least one missing value and `False` if the row doesn't contain any missing values. If we want to view the actual rows that contain missing values, we can use this boolean `Series` to subset `df`."
      ],
      "metadata": {
        "id": "NCJx7Z1FFQ1Q"
      }
    },
    {
      "cell_type": "code",
      "source": [
        "df[(df.isna()).any(axis = 1)]"
      ],
      "metadata": {
        "colab": {
          "base_uri": "https://localhost:8080/",
          "height": 53
        },
        "id": "JexrqnroFhou",
        "outputId": "4d9e1cdb-2a4e-4dc2-d633-e9b1a4f1dffc"
      },
      "execution_count": 10,
      "outputs": [
        {
          "output_type": "execute_result",
          "data": {
            "text/plain": [
              "Empty DataFrame\n",
              "Columns: [New ID, Vendor, Charge_Date, Cardholder_Agency, PC_Number, Billing_Amount, Charge_Day]\n",
              "Index: []"
            ],
            "text/html": [
              "\n",
              "  <div id=\"df-0f02128c-f773-4d97-aa06-0096d3e20464\" class=\"colab-df-container\">\n",
              "    <div>\n",
              "<style scoped>\n",
              "    .dataframe tbody tr th:only-of-type {\n",
              "        vertical-align: middle;\n",
              "    }\n",
              "\n",
              "    .dataframe tbody tr th {\n",
              "        vertical-align: top;\n",
              "    }\n",
              "\n",
              "    .dataframe thead th {\n",
              "        text-align: right;\n",
              "    }\n",
              "</style>\n",
              "<table border=\"1\" class=\"dataframe\">\n",
              "  <thead>\n",
              "    <tr style=\"text-align: right;\">\n",
              "      <th></th>\n",
              "      <th>New ID</th>\n",
              "      <th>Vendor</th>\n",
              "      <th>Charge_Date</th>\n",
              "      <th>Cardholder_Agency</th>\n",
              "      <th>PC_Number</th>\n",
              "      <th>Billing_Amount</th>\n",
              "      <th>Charge_Day</th>\n",
              "    </tr>\n",
              "  </thead>\n",
              "  <tbody>\n",
              "  </tbody>\n",
              "</table>\n",
              "</div>\n",
              "    <div class=\"colab-df-buttons\">\n",
              "\n",
              "  <div class=\"colab-df-container\">\n",
              "    <button class=\"colab-df-convert\" onclick=\"convertToInteractive('df-0f02128c-f773-4d97-aa06-0096d3e20464')\"\n",
              "            title=\"Convert this dataframe to an interactive table.\"\n",
              "            style=\"display:none;\">\n",
              "\n",
              "  <svg xmlns=\"http://www.w3.org/2000/svg\" height=\"24px\" viewBox=\"0 -960 960 960\">\n",
              "    <path d=\"M120-120v-720h720v720H120Zm60-500h600v-160H180v160Zm220 220h160v-160H400v160Zm0 220h160v-160H400v160ZM180-400h160v-160H180v160Zm440 0h160v-160H620v160ZM180-180h160v-160H180v160Zm440 0h160v-160H620v160Z\"/>\n",
              "  </svg>\n",
              "    </button>\n",
              "\n",
              "  <style>\n",
              "    .colab-df-container {\n",
              "      display:flex;\n",
              "      gap: 12px;\n",
              "    }\n",
              "\n",
              "    .colab-df-convert {\n",
              "      background-color: #E8F0FE;\n",
              "      border: none;\n",
              "      border-radius: 50%;\n",
              "      cursor: pointer;\n",
              "      display: none;\n",
              "      fill: #1967D2;\n",
              "      height: 32px;\n",
              "      padding: 0 0 0 0;\n",
              "      width: 32px;\n",
              "    }\n",
              "\n",
              "    .colab-df-convert:hover {\n",
              "      background-color: #E2EBFA;\n",
              "      box-shadow: 0px 1px 2px rgba(60, 64, 67, 0.3), 0px 1px 3px 1px rgba(60, 64, 67, 0.15);\n",
              "      fill: #174EA6;\n",
              "    }\n",
              "\n",
              "    .colab-df-buttons div {\n",
              "      margin-bottom: 4px;\n",
              "    }\n",
              "\n",
              "    [theme=dark] .colab-df-convert {\n",
              "      background-color: #3B4455;\n",
              "      fill: #D2E3FC;\n",
              "    }\n",
              "\n",
              "    [theme=dark] .colab-df-convert:hover {\n",
              "      background-color: #434B5C;\n",
              "      box-shadow: 0px 1px 3px 1px rgba(0, 0, 0, 0.15);\n",
              "      filter: drop-shadow(0px 1px 2px rgba(0, 0, 0, 0.3));\n",
              "      fill: #FFFFFF;\n",
              "    }\n",
              "  </style>\n",
              "\n",
              "    <script>\n",
              "      const buttonEl =\n",
              "        document.querySelector('#df-0f02128c-f773-4d97-aa06-0096d3e20464 button.colab-df-convert');\n",
              "      buttonEl.style.display =\n",
              "        google.colab.kernel.accessAllowed ? 'block' : 'none';\n",
              "\n",
              "      async function convertToInteractive(key) {\n",
              "        const element = document.querySelector('#df-0f02128c-f773-4d97-aa06-0096d3e20464');\n",
              "        const dataTable =\n",
              "          await google.colab.kernel.invokeFunction('convertToInteractive',\n",
              "                                                    [key], {});\n",
              "        if (!dataTable) return;\n",
              "\n",
              "        const docLinkHtml = 'Like what you see? Visit the ' +\n",
              "          '<a target=\"_blank\" href=https://colab.research.google.com/notebooks/data_table.ipynb>data table notebook</a>'\n",
              "          + ' to learn more about interactive tables.';\n",
              "        element.innerHTML = '';\n",
              "        dataTable['output_type'] = 'display_data';\n",
              "        await google.colab.output.renderOutput(dataTable, element);\n",
              "        const docLink = document.createElement('div');\n",
              "        docLink.innerHTML = docLinkHtml;\n",
              "        element.appendChild(docLink);\n",
              "      }\n",
              "    </script>\n",
              "  </div>\n",
              "\n",
              "\n",
              "    </div>\n",
              "  </div>\n"
            ],
            "application/vnd.google.colaboratory.intrinsic+json": {
              "type": "dataframe",
              "repr_error": "Out of range float values are not JSON compliant: nan"
            }
          },
          "metadata": {},
          "execution_count": 10
        }
      ]
    },
    {
      "cell_type": "markdown",
      "source": [
        "It's important to deal with missing values in an appropriate way because they can significantly affect results. For example, any arithmetic operation involving a missing value will result in a missing value.\n",
        "- describe pd.NA data type\n",
        "\n"
      ],
      "metadata": {
        "id": "aGG1GXuxvQ6Z"
      }
    },
    {
      "cell_type": "code",
      "source": [
        "pd.NA"
      ],
      "metadata": {
        "colab": {
          "base_uri": "https://localhost:8080/"
        },
        "id": "-tcMfMjOHtdE",
        "outputId": "475a701d-252e-4d52-e5e6-605ce5ab22e9"
      },
      "execution_count": 12,
      "outputs": [
        {
          "output_type": "execute_result",
          "data": {
            "text/plain": [
              "<NA>"
            ]
          },
          "metadata": {},
          "execution_count": 12
        }
      ]
    },
    {
      "cell_type": "markdown",
      "source": [
        "If the missing value was due to some kind of data entry error and you know what should be in it's place,  \n",
        "\n",
        "- dropna() function\n",
        "- fillna() function"
      ],
      "metadata": {
        "id": "hhLf5BH_IIDC"
      }
    },
    {
      "cell_type": "markdown",
      "source": [
        "Lastly, we should check for **duplicate rows** in the dataset. To identify any duplicates, we can use the `DataFrame.duplicated()` function. This function returns a boolean `Series` indicating which rows are duplicates. The function has two optional arguments: `subset` and `keep`.\n",
        "- `subset`: can be used to specify a subset of columns that should be used to identify duplicates (if we don't want to base duplicates off of every column)\n",
        "- `keep`: determines which\n"
      ],
      "metadata": {
        "id": "Hcja5T4m_SDC"
      }
    },
    {
      "cell_type": "markdown",
      "source": [
        "#### **Exploratory Data Analysis**\n",
        "- checking unique values\n",
        "- checking for outliers\n",
        "- summary statistics\n",
        "- some group by summary statistics"
      ],
      "metadata": {
        "id": "wKK-7aKb34z_"
      }
    },
    {
      "cell_type": "markdown",
      "source": [
        "#### **Sampling**\n",
        "- how to pull a random sample"
      ],
      "metadata": {
        "id": "5UcwD9Aj323t"
      }
    },
    {
      "cell_type": "markdown",
      "source": [
        "#### **Exporting Results**\n",
        "- saving a specific result"
      ],
      "metadata": {
        "id": "Wq-zyy9030Mm"
      }
    },
    {
      "cell_type": "markdown",
      "source": [
        "### **Practice**\n",
        "\n",
        "*Assign some EDA tasks using functions described above and concepts from the first half.*"
      ],
      "metadata": {
        "id": "eB4OgyMA6lT6"
      }
    },
    {
      "cell_type": "markdown",
      "source": [
        "### **Helpful Tips for Running Code**\n",
        "\n",
        "*at the end, have them run multiple blocks at once using these shortcuts*\n",
        "\n",
        "If we have a large number of code blocks, it can be tedious to go through and run every block individually. Instead of doing that, we have a couple of options for running multiple blocks of code.\n",
        "\n",
        "* Runtime → Run all will run all cells in the notebook from top to bottom.\n",
        "\n",
        "* Runtime → Run before will run all cells before the current cell.\n",
        "\n",
        "* Runtime → Run after will run all cells after the current cell.\n",
        "\n",
        "There are also some situations where we might want to stop the code we're running or restart our current session.\n",
        "\n",
        "* Runtime → Restart session will give you a fresh start as if you haven't run any code. Restarting the session can be useful if you're having difficulty debugging your code. However, all of your variables will be gone!\n",
        "\n",
        "* Runtime → Interrupt session will stop whatever code is running. This can be helpful if you accidentally code an infinite loop or a code block is taking longer to run than expected.\n",
        "\n"
      ],
      "metadata": {
        "id": "B4c5gBlpshD6"
      }
    },
    {
      "cell_type": "markdown",
      "source": [
        "### **Sources**\n",
        "\n",
        "* Gaddis, Tony. (2015). Starting out with Python, 3rd Edition.\n",
        "* [W3 Schools Python Tutorial](https://www.w3schools.com/python/)\n",
        "* [pandas User Guide](https://pandas.pydata.org/docs/user_guide/index.html)\n",
        "\n"
      ],
      "metadata": {
        "id": "Td-JkplTLtns"
      }
    }
  ]
}