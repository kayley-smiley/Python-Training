{
  "nbformat": 4,
  "nbformat_minor": 0,
  "metadata": {
    "colab": {
      "provenance": []
    },
    "kernelspec": {
      "name": "python3",
      "display_name": "Python 3"
    },
    "language_info": {
      "name": "python"
    }
  },
  "cells": [
    {
      "cell_type": "markdown",
      "source": [
        "# **Python for Beginners: Part 1**\n",
        "\n",
        "---------------------------------------------------------------------------\n",
        "\n",
        "This training will introduce you to coding in Python and teach you some fundamental concepts for using Python for data analysis.\n",
        "\n",
        "Specifically, we'll cover:\n",
        "\n",
        "* data types and structures\n",
        "* variables\n",
        "* functions\n",
        "* the pandas library\n",
        "* importing a data set\n",
        "* conducting exploratory data analysis\n",
        "\n",
        "\n",
        "We will use Google Colab to execute the code for this training because it doesn't require any installation or setup before getting started. However, when using Python to analyze a data set containing confidential information, it is highly recommended that you do not use Google Colab because there is no guaranteed data privacy.\n",
        "\n",
        "\n",
        "### **What is Python?**\n",
        "\n",
        "* Python is a popular programming language in the data science and machine learning communities.\n",
        "* Python can handle large amounts of data and be used to perform complex analysis.\n",
        "* It is considered one of the more beginner-friendly programming languages.\n",
        "* Python is \"open source\", which means that it's source code is made available for use and modification.\n",
        "  * Using Python is free!\n",
        "* It has a large community of developers, which means it's relatively easy to find tutorials and get answers to questions.\n",
        "* Python's capabilities can be extended even further with it's extensive collection of libraries, which provide pre-written code.\n",
        "\n",
        "### **Getting Started**\n",
        "\n",
        "To conduct data analysis with Python, we will use what's called a \"notebook.\" Notebooks contain a mixture of code and text, which make it fairly easy to present your work in an organized way, reproduce your work on other data sets, and share your work with others. If you wanted to start a new notebook, you could do so by clicking File → New Notebook in the bar above.\n",
        "\n",
        "### **Running Code**\n",
        "\n",
        "When using Python, we can execute or run our code as soon as we write it, which makes it easy to test out ideas. To execute a code block, click the \"play\" symbol located on the left side of the code block. The output for the code will be displayed below the block."
      ],
      "metadata": {
        "id": "LaOEidnve-Rh"
      }
    },
    {
      "cell_type": "code",
      "source": [
        "1 + 1"
      ],
      "metadata": {
        "colab": {
          "base_uri": "https://localhost:8080/"
        },
        "id": "Sz2DC-GjP9Lo",
        "outputId": "63153f69-f16b-4360-c3d6-d8e5acefe420"
      },
      "execution_count": 18,
      "outputs": [
        {
          "output_type": "execute_result",
          "data": {
            "text/plain": [
              "2"
            ]
          },
          "metadata": {},
          "execution_count": 18
        }
      ]
    },
    {
      "cell_type": "code",
      "source": [
        "10 - 2"
      ],
      "metadata": {
        "colab": {
          "base_uri": "https://localhost:8080/"
        },
        "id": "RqGRRDOTpplQ",
        "outputId": "284d628d-6323-48dc-db1d-66ecd9c7bf1f"
      },
      "execution_count": null,
      "outputs": [
        {
          "output_type": "execute_result",
          "data": {
            "text/plain": [
              "8"
            ]
          },
          "metadata": {},
          "execution_count": 2
        }
      ]
    },
    {
      "cell_type": "markdown",
      "source": [
        "The table below provides the symbols for some common operations.\n",
        "\n",
        "| Operation | Symbol |\n",
        "| --------- |: ----- |\n",
        "| Addition | `+` |\n",
        "| Subtraction | `-` |\n",
        "| Multiplication | `*` |\n",
        "| Division | `/` |\n",
        "| Exponentiation | `**` |\n",
        "\n",
        "\n",
        "**Practice**: Calculate $5 \\times 10$ in the code block below."
      ],
      "metadata": {
        "id": "qzH7OxX8CsMq"
      }
    },
    {
      "cell_type": "code",
      "source": [
        "5 * 10"
      ],
      "metadata": {
        "id": "LBwScnF1CpZr",
        "colab": {
          "base_uri": "https://localhost:8080/"
        },
        "outputId": "e0840d1c-61d1-4ff4-b4cd-c1d951fa614a"
      },
      "execution_count": null,
      "outputs": [
        {
          "output_type": "execute_result",
          "data": {
            "text/plain": [
              "50"
            ]
          },
          "metadata": {},
          "execution_count": 3
        }
      ]
    },
    {
      "cell_type": "markdown",
      "source": [
        "**Practice**: Calculate $2^3$ in the code block below."
      ],
      "metadata": {
        "id": "8nuh-e9qGpF9"
      }
    },
    {
      "cell_type": "code",
      "source": [
        "2**3"
      ],
      "metadata": {
        "colab": {
          "base_uri": "https://localhost:8080/"
        },
        "id": "PTNfp-qqGvqh",
        "outputId": "434f268b-1fd0-4b7f-a297-85fadb18c48c"
      },
      "execution_count": null,
      "outputs": [
        {
          "output_type": "execute_result",
          "data": {
            "text/plain": [
              "8"
            ]
          },
          "metadata": {},
          "execution_count": 4
        }
      ]
    },
    {
      "cell_type": "markdown",
      "source": [
        "You can type multiple lines of code in the same code block, but output will only display for the last line of code. If you want to print multiple outputs, you can either use separate code blocks or you can use the built-in `print()` function.\n",
        "\n",
        "It is common practice to use separate code blocks for separate topics."
      ],
      "metadata": {
        "id": "5WYzq7S6KNBz"
      }
    },
    {
      "cell_type": "code",
      "source": [
        "#only the output for the last line prints\n",
        "2**3\n",
        "5+10"
      ],
      "metadata": {
        "colab": {
          "base_uri": "https://localhost:8080/"
        },
        "id": "3LBwC_A2XCZx",
        "outputId": "26528fba-39e6-40ad-97fd-f0c0deb6de07"
      },
      "execution_count": null,
      "outputs": [
        {
          "output_type": "execute_result",
          "data": {
            "text/plain": [
              "15"
            ]
          },
          "metadata": {},
          "execution_count": 5
        }
      ]
    },
    {
      "cell_type": "code",
      "source": [
        "#printing both outputs\n",
        "print(2**3)\n",
        "print(5+10)"
      ],
      "metadata": {
        "colab": {
          "base_uri": "https://localhost:8080/"
        },
        "id": "VT-3JEDSXInD",
        "outputId": "6a16561c-ad1c-4380-bbfe-838ff19ebad2"
      },
      "execution_count": null,
      "outputs": [
        {
          "output_type": "stream",
          "name": "stdout",
          "text": [
            "8\n",
            "15\n"
          ]
        }
      ]
    },
    {
      "cell_type": "markdown",
      "source": [
        "### **Comments**\n",
        "\n",
        "Comments are short notes that you can place in code blocks. They are part of the code, but Python ignores them when the code is run. They are intended to provide clarity for people reading the code or prevent execution when testing code.\n",
        "\n",
        "Comments start with the `#` symbol and everything typed to the right of the `#` symbol will be ignored. You can confirm what is included in the comment because the text will be green."
      ],
      "metadata": {
        "id": "yxOQT9KooK0I"
      }
    },
    {
      "cell_type": "code",
      "source": [
        "#this is a comment"
      ],
      "metadata": {
        "id": "-7VboMyVZ2pI"
      },
      "execution_count": null,
      "outputs": []
    },
    {
      "cell_type": "markdown",
      "source": [
        "In the code below, Python adds `5 + 2` and ignores everything to the right of `#`.\n",
        "\n"
      ],
      "metadata": {
        "id": "MeeRM6vYDLUE"
      }
    },
    {
      "cell_type": "code",
      "source": [
        "5 + 2 #adding 5 + 2"
      ],
      "metadata": {
        "colab": {
          "base_uri": "https://localhost:8080/"
        },
        "id": "j5r9NtBRaCqH",
        "outputId": "1904192b-84c4-4953-bb04-ef49a823c353"
      },
      "execution_count": null,
      "outputs": [
        {
          "output_type": "execute_result",
          "data": {
            "text/plain": [
              "7"
            ]
          },
          "metadata": {},
          "execution_count": 8
        }
      ]
    },
    {
      "cell_type": "code",
      "source": [
        "#the code below will run because it's on a new line\n",
        "5 + 8"
      ],
      "metadata": {
        "colab": {
          "base_uri": "https://localhost:8080/"
        },
        "id": "tpDY8yChOJcY",
        "outputId": "5feb8401-2065-4291-f8a5-4a3ec1d1bc92"
      },
      "execution_count": null,
      "outputs": [
        {
          "output_type": "execute_result",
          "data": {
            "text/plain": [
              "13"
            ]
          },
          "metadata": {},
          "execution_count": 9
        }
      ]
    },
    {
      "cell_type": "code",
      "source": [
        "#we can also create comments that\n",
        "#are multiple lines"
      ],
      "metadata": {
        "id": "FDJRLXFDOOnK"
      },
      "execution_count": null,
      "outputs": []
    },
    {
      "cell_type": "markdown",
      "source": [
        "### **Variables**\n",
        "\n",
        "Variables are essentially containers for storing data. You can also think of them as names that you assign to objects. Variables make it easy to store and reference data in our code.\n",
        "\n",
        "To create a variable, we use the `=` sign.\n"
      ],
      "metadata": {
        "id": "wr-6XwkSoHL8"
      }
    },
    {
      "cell_type": "code",
      "source": [
        "x = 3"
      ],
      "metadata": {
        "id": "1wcOFw24GuRR"
      },
      "execution_count": null,
      "outputs": []
    },
    {
      "cell_type": "markdown",
      "source": [
        "After you've defined a variable, you can see what it equals by typing the variable name or using the `print()` function."
      ],
      "metadata": {
        "id": "wnCitZzEG-jU"
      }
    },
    {
      "cell_type": "code",
      "source": [
        "x"
      ],
      "metadata": {
        "colab": {
          "base_uri": "https://localhost:8080/"
        },
        "id": "BnlQFrRFG-Cj",
        "outputId": "259f390a-af21-44fd-a965-00e0b3929f37"
      },
      "execution_count": null,
      "outputs": [
        {
          "output_type": "execute_result",
          "data": {
            "text/plain": [
              "3"
            ]
          },
          "metadata": {},
          "execution_count": 12
        }
      ]
    },
    {
      "cell_type": "code",
      "source": [
        "print(x)"
      ],
      "metadata": {
        "colab": {
          "base_uri": "https://localhost:8080/"
        },
        "id": "zGw-f_iKXUzO",
        "outputId": "a461042a-b9a1-482e-df94-67be01ba40be"
      },
      "execution_count": null,
      "outputs": [
        {
          "output_type": "stream",
          "name": "stdout",
          "text": [
            "3\n"
          ]
        }
      ]
    },
    {
      "cell_type": "markdown",
      "source": [
        "There are several rules when it comes to naming variables:\n",
        "\n",
        "\n",
        "* A variable name **cannot** contain spaces.\n",
        "* The first character in the name must be either a letter or an underscore.\n",
        "  * After the first character, you can use numbers too.\n",
        "*  Uppercase and lowercase letters are distinct.\n",
        "  * `a` and `A` are different variables.\n",
        "* A variable name **cannot** be one of Python's key words, such  as `for`, `and`, `or`, `else`, and `in`.\n",
        "* It is recommended that you choose names that are somewhat informative and short.\n",
        "\n",
        "In Colab, clicking on the $\\{x\\}$ symbol to the left will provide a list of variables currently in use.\n",
        "\n",
        "It is important to note that you can save over existing variables! We defined `x` as $3$ earlier, but if we run the code below, `x` is now $10$.\n",
        "\n"
      ],
      "metadata": {
        "id": "nnbEqanEHrpX"
      }
    },
    {
      "cell_type": "code",
      "source": [
        "x = 10\n",
        "x"
      ],
      "metadata": {
        "colab": {
          "base_uri": "https://localhost:8080/"
        },
        "id": "5F0hq0xKSG4l",
        "outputId": "90978d0f-4dc9-41b6-c843-a3908ae49e47"
      },
      "execution_count": null,
      "outputs": [
        {
          "output_type": "execute_result",
          "data": {
            "text/plain": [
              "10"
            ]
          },
          "metadata": {},
          "execution_count": 16
        }
      ]
    },
    {
      "cell_type": "markdown",
      "source": [
        "**Practice**:"
      ],
      "metadata": {
        "id": "GUiuN2R59c-Q"
      }
    },
    {
      "cell_type": "markdown",
      "source": [
        "**Practice**:"
      ],
      "metadata": {
        "id": "-eovwApK9mKj"
      }
    },
    {
      "cell_type": "markdown",
      "source": [
        "### **Data Types**\n",
        "\n",
        "Variables can store different types of data, which have unique purposes. The table below contains some frequently used data types. There are more data types, such as complex numbers, but we won't discuss these.\n",
        "\n",
        "| Type | Description | Example |\n",
        "| :--------- |:----- |:----|\n",
        "| str | text/characters  | `'hello'` |\n",
        "| int | integer/whole number | `1` |\n",
        "| float | decimals | `1.2` |\n",
        "| bool | logical value | `True`, `False` |\n",
        "| list | ordered collection of data | `['apple', 'banana', 'cherry']` |\n",
        "| set | unordered collection of data | `{'apple', 'banana', 'cherry'}` |\n",
        "\n",
        "\n",
        "To check the data type for a variable, you can use the built-in `type()` function. Let's check the type of the variable, `x`, we defined earlier."
      ],
      "metadata": {
        "id": "F67K2bRjQdCl"
      }
    },
    {
      "cell_type": "code",
      "source": [
        "type(x)"
      ],
      "metadata": {
        "colab": {
          "base_uri": "https://localhost:8080/"
        },
        "id": "p7XwJvwflEhe",
        "outputId": "35ba8911-2429-4ebe-d443-e9b3517c4bfe"
      },
      "execution_count": null,
      "outputs": [
        {
          "output_type": "execute_result",
          "data": {
            "text/plain": [
              "int"
            ]
          },
          "metadata": {},
          "execution_count": 13
        }
      ]
    },
    {
      "cell_type": "code",
      "source": [
        "type('hello')"
      ],
      "metadata": {
        "colab": {
          "base_uri": "https://localhost:8080/"
        },
        "id": "2Ok_JWqaWDWY",
        "outputId": "ea0dc995-1e9f-4124-d071-8bb60b335f6b"
      },
      "execution_count": null,
      "outputs": [
        {
          "output_type": "execute_result",
          "data": {
            "text/plain": [
              "str"
            ]
          },
          "metadata": {},
          "execution_count": 14
        }
      ]
    },
    {
      "cell_type": "code",
      "source": [
        "type([1, 2, 3])"
      ],
      "metadata": {
        "colab": {
          "base_uri": "https://localhost:8080/"
        },
        "id": "abUrcNLtXvGM",
        "outputId": "1d761794-1dbb-4fae-f55e-6a1997bb74c9"
      },
      "execution_count": null,
      "outputs": [
        {
          "output_type": "execute_result",
          "data": {
            "text/plain": [
              "list"
            ]
          },
          "metadata": {},
          "execution_count": 15
        }
      ]
    },
    {
      "cell_type": "markdown",
      "source": [
        "**Practice**: In the code block below, find the data type for `31.8`."
      ],
      "metadata": {
        "id": "WuD2WYS3WLcQ"
      }
    },
    {
      "cell_type": "code",
      "source": [
        "type(31.8)"
      ],
      "metadata": {
        "colab": {
          "base_uri": "https://localhost:8080/"
        },
        "id": "_MLW8RcvWDKM",
        "outputId": "9a367385-3c82-4c03-e163-a31e4c52e46f"
      },
      "execution_count": null,
      "outputs": [
        {
          "output_type": "execute_result",
          "data": {
            "text/plain": [
              "float"
            ]
          },
          "metadata": {},
          "execution_count": 16
        }
      ]
    },
    {
      "cell_type": "markdown",
      "source": [
        "**Practice**: In the code block below, find the data type for `{2, 4, 6}`."
      ],
      "metadata": {
        "id": "tJy1Ft22XhKZ"
      }
    },
    {
      "cell_type": "code",
      "source": [
        "type({2, 4, 6})"
      ],
      "metadata": {
        "colab": {
          "base_uri": "https://localhost:8080/"
        },
        "id": "-s2hrHqcXai3",
        "outputId": "533d4f34-be67-4af3-bc5e-9d4db52e7abc"
      },
      "execution_count": null,
      "outputs": [
        {
          "output_type": "execute_result",
          "data": {
            "text/plain": [
              "set"
            ]
          },
          "metadata": {},
          "execution_count": 17
        }
      ]
    },
    {
      "cell_type": "markdown",
      "source": [
        "#### **Booleans**"
      ],
      "metadata": {
        "id": "TkZHPc3fduSJ"
      }
    },
    {
      "cell_type": "markdown",
      "source": [
        "Booleans (bool) represent one of two values: `True` or `False`.\n",
        "\n",
        "What would we use the Boolean data type for? In programming, we often want to know if a statement is `True` or `False`.  "
      ],
      "metadata": {
        "id": "gYeVcC9EYgvJ"
      }
    },
    {
      "cell_type": "code",
      "source": [
        "10 > 9"
      ],
      "metadata": {
        "colab": {
          "base_uri": "https://localhost:8080/"
        },
        "id": "YDc2FK_KZQNW",
        "outputId": "5e62ea98-5580-4bd4-bb4d-c553056c322a"
      },
      "execution_count": null,
      "outputs": [
        {
          "output_type": "execute_result",
          "data": {
            "text/plain": [
              "True"
            ]
          },
          "metadata": {},
          "execution_count": 18
        }
      ]
    },
    {
      "cell_type": "code",
      "source": [
        "type(10 > 9)"
      ],
      "metadata": {
        "colab": {
          "base_uri": "https://localhost:8080/"
        },
        "id": "Qu6AyqOcZcJ6",
        "outputId": "ca5c2dd8-2161-4a13-e1c2-ec545d12e239"
      },
      "execution_count": null,
      "outputs": [
        {
          "output_type": "execute_result",
          "data": {
            "text/plain": [
              "bool"
            ]
          },
          "metadata": {},
          "execution_count": 19
        }
      ]
    },
    {
      "cell_type": "markdown",
      "source": [
        "However, if we wanted to check for equality, we can't use `=` since that's how we assign variables. To check for equality, Python uses `==`. The table below provides the symbols for logical operators.\n",
        "\n",
        "| Operator | Symbol |\n",
        "| --------- |: ----- |\n",
        "| equal to | `==`  |\n",
        "| greater than | `>` |  \n",
        "| less than | `<`  |\n",
        "| greater than or equal to | `>=` |\n",
        "| less than or equal to | `<=` |"
      ],
      "metadata": {
        "id": "rR8l9XIQZfIi"
      }
    },
    {
      "cell_type": "code",
      "source": [
        "1 == 1"
      ],
      "metadata": {
        "colab": {
          "base_uri": "https://localhost:8080/"
        },
        "id": "aiPjBfZAZ7KO",
        "outputId": "ed86c6ab-bfb5-4681-e7ea-ce77e65d8f86"
      },
      "execution_count": null,
      "outputs": [
        {
          "output_type": "execute_result",
          "data": {
            "text/plain": [
              "True"
            ]
          },
          "metadata": {},
          "execution_count": 20
        }
      ]
    },
    {
      "cell_type": "markdown",
      "source": [
        "**Practice**: In the code block below, create variables `x` and `y` that equal `1` and `1.0001`, respectfully. Then, check to see if `x` is greater than or equal to `y`."
      ],
      "metadata": {
        "id": "E4ThtPnxaIvl"
      }
    },
    {
      "cell_type": "code",
      "source": [
        "x = 1\n",
        "y = 1.0001\n",
        "x >= y"
      ],
      "metadata": {
        "colab": {
          "base_uri": "https://localhost:8080/"
        },
        "id": "e_dCD8f7bVpz",
        "outputId": "13b8d985-9776-45fe-aa0f-35f8f2e9391e"
      },
      "execution_count": null,
      "outputs": [
        {
          "output_type": "execute_result",
          "data": {
            "text/plain": [
              "False"
            ]
          },
          "metadata": {},
          "execution_count": 21
        }
      ]
    },
    {
      "cell_type": "markdown",
      "source": [
        "#### **Lists and Sets**\n",
        "\n",
        "Lists and sets look very similar, so what are the differences between the two?\n",
        "\n",
        "First, lists are **ordered** and sets are not. For example, the set `{1, 2, 3}` is equal to the set `{2, 3, 1}` because they contain the same elements. However, the list `[1, 2, 3]` is not equal to the list `[2, 3, 1]` because even though they contain the same elements, they are not in the same order.\n",
        "\n",
        "Just as we used logical operators to check if single elements are equal, we can also check if sets or lists are equal.\n",
        "\n",
        "\n",
        "\n",
        "\n",
        "\n",
        "\n",
        "\n"
      ],
      "metadata": {
        "id": "41Dn2RcPeEFQ"
      }
    },
    {
      "cell_type": "code",
      "source": [
        "{1, 2, 3} == {2, 3, 1}"
      ],
      "metadata": {
        "colab": {
          "base_uri": "https://localhost:8080/"
        },
        "id": "92PeAbjDCp0N",
        "outputId": "38c023ef-11b5-4e1f-cd95-af79fc68153e"
      },
      "execution_count": null,
      "outputs": [
        {
          "output_type": "execute_result",
          "data": {
            "text/plain": [
              "True"
            ]
          },
          "metadata": {},
          "execution_count": 22
        }
      ]
    },
    {
      "cell_type": "code",
      "source": [
        "[1, 2, 3] == [2, 3, 1]"
      ],
      "metadata": {
        "colab": {
          "base_uri": "https://localhost:8080/"
        },
        "id": "zfHNvdjuDNNF",
        "outputId": "a157d50d-9e8c-4e3b-b104-f9e9062c2e3a"
      },
      "execution_count": null,
      "outputs": [
        {
          "output_type": "execute_result",
          "data": {
            "text/plain": [
              "False"
            ]
          },
          "metadata": {},
          "execution_count": 23
        }
      ]
    },
    {
      "cell_type": "markdown",
      "source": [
        "Because lists are ordered, they are also **indexed**. This means we can access elements within a list by referencing their index.\n",
        "\n",
        "It's important to note here that Python begins indexing with 0. So, the \"first\" item in a list has index 0, not 1. To access an element by it's index, we put the index within brackets, `[]`, after the list name."
      ],
      "metadata": {
        "id": "vYXMLEhnSnRp"
      }
    },
    {
      "cell_type": "code",
      "source": [
        "#define a list that contains cities in Colorado\n",
        "cities = ['Denver', 'Lakewood', 'Centennial', 'Littleton', 'Aurora']\n",
        "\n",
        "#access the first element in the list\n",
        "cities[0]"
      ],
      "metadata": {
        "colab": {
          "base_uri": "https://localhost:8080/",
          "height": 35
        },
        "id": "u-Xwdx8EXerg",
        "outputId": "143a8a8c-b608-413c-8715-d8264415114a"
      },
      "execution_count": null,
      "outputs": [
        {
          "output_type": "execute_result",
          "data": {
            "text/plain": [
              "'Denver'"
            ],
            "application/vnd.google.colaboratory.intrinsic+json": {
              "type": "string"
            }
          },
          "metadata": {},
          "execution_count": 26
        }
      ]
    },
    {
      "cell_type": "markdown",
      "source": [
        "We can also use negative indices, which will start at the end of the list instead of the beginning. This can be a convenient way to see the last item in a list if you're not sure how long the list is."
      ],
      "metadata": {
        "id": "COxlwQfldOzS"
      }
    },
    {
      "cell_type": "code",
      "source": [
        "#access the last element in the list\n",
        "cities[-1]"
      ],
      "metadata": {
        "colab": {
          "base_uri": "https://localhost:8080/",
          "height": 35
        },
        "id": "_5HHaitrdfFm",
        "outputId": "9cff091b-cf91-4e0a-88af-e070e586a02c"
      },
      "execution_count": null,
      "outputs": [
        {
          "output_type": "execute_result",
          "data": {
            "text/plain": [
              "'Aurora'"
            ],
            "application/vnd.google.colaboratory.intrinsic+json": {
              "type": "string"
            }
          },
          "metadata": {},
          "execution_count": 19
        }
      ]
    },
    {
      "cell_type": "markdown",
      "source": [
        "We can access more than just one element at a time by giving a range of indices, such as `[0:2]`. However, in Python, the first number given in the range is inclusive and the last one is not. So, the range `[0:2]`, will provide the elements for indices `[0]` and `[1]`."
      ],
      "metadata": {
        "id": "2_Kj-ONWZpL8"
      }
    },
    {
      "cell_type": "code",
      "source": [
        "#access the first two elements in the list\n",
        "cities[0:2]"
      ],
      "metadata": {
        "colab": {
          "base_uri": "https://localhost:8080/"
        },
        "id": "DsnBRmleZvtq",
        "outputId": "f17f6392-31a4-4fc4-d74f-9f5f64fd5e08"
      },
      "execution_count": null,
      "outputs": [
        {
          "output_type": "execute_result",
          "data": {
            "text/plain": [
              "['Denver', 'Lakewood']"
            ]
          },
          "metadata": {},
          "execution_count": 20
        }
      ]
    },
    {
      "cell_type": "markdown",
      "source": [
        "If we leave off the starting index for a range, the range will start with the first item in the list by default. Similarily, if we leave off the ending index for a range, the range will end with the last item in the list by default."
      ],
      "metadata": {
        "id": "bPhiK3QDdG5Z"
      }
    },
    {
      "cell_type": "code",
      "source": [
        "#access all elements with an index of three or larger\n",
        "cities[2:]"
      ],
      "metadata": {
        "colab": {
          "base_uri": "https://localhost:8080/"
        },
        "id": "Sm6UwvBPdx5o",
        "outputId": "29ad2e8e-1c79-4551-ce0a-fb1db35f7f50"
      },
      "execution_count": null,
      "outputs": [
        {
          "output_type": "execute_result",
          "data": {
            "text/plain": [
              "['Centennial', 'Littleton', 'Aurora']"
            ]
          },
          "metadata": {},
          "execution_count": 21
        }
      ]
    },
    {
      "cell_type": "markdown",
      "source": [
        "Because the items in a set are unordered, they don't have indices, which means we can't refer to them by an index.\n",
        "\n",
        "Lists and sets are both **mutable** collections of elements. An object is considered mutable if it's data or attributes can be altered after it's created.\n",
        "\n",
        "We can alter a set by adding or removing items with the `add()` and `remove()` functions. However, the elements in a set are unchangable themselves (aside from removing them).\n",
        "\n",
        "\n",
        "\n",
        "\n",
        "\n"
      ],
      "metadata": {
        "id": "DV2Xh72yGfwH"
      }
    },
    {
      "cell_type": "code",
      "source": [
        "#define a set of states\n",
        "states = {'California', 'Washington', 'Oregon', 'Nevada', 'Utah'}\n",
        "\n",
        "#add 'Arizona' to the list\n",
        "states.add('Arizona')\n",
        "\n",
        "#view what elements are in 'states'\n",
        "states"
      ],
      "metadata": {
        "colab": {
          "base_uri": "https://localhost:8080/"
        },
        "id": "oDtSzj2ZsWjZ",
        "outputId": "815c12cd-f626-4f65-a981-d4c57b4a7d5c"
      },
      "execution_count": null,
      "outputs": [
        {
          "output_type": "execute_result",
          "data": {
            "text/plain": [
              "{'Arizona', 'California', 'Nevada', 'Oregon', 'Utah', 'Washington'}"
            ]
          },
          "metadata": {},
          "execution_count": 33
        }
      ]
    },
    {
      "cell_type": "code",
      "source": [
        "#remove 'Washington' from the list\n",
        "states.remove('Washington')\n",
        "\n",
        "#view what elements are in 'states'\n",
        "states"
      ],
      "metadata": {
        "colab": {
          "base_uri": "https://localhost:8080/"
        },
        "id": "OFElBMqvtLL9",
        "outputId": "004654dd-ecc2-4569-e361-f3e7e86220b7"
      },
      "execution_count": null,
      "outputs": [
        {
          "output_type": "execute_result",
          "data": {
            "text/plain": [
              "{'Arizona', 'California', 'Nevada', 'Oregon', 'Utah'}"
            ]
          },
          "metadata": {},
          "execution_count": 34
        }
      ]
    },
    {
      "cell_type": "markdown",
      "source": [
        "We can alter a list by adding elements using the `append()` or `insert()` functions. The `append()` function will add an element to the end of the list and the `insert()` function will insert an element at a specified index."
      ],
      "metadata": {
        "id": "sjN7gLZppUYa"
      }
    },
    {
      "cell_type": "code",
      "source": [
        "#add 'Boulder' to the end of the cities list\n",
        "cities.append('Boulder')\n",
        "\n",
        "cities"
      ],
      "metadata": {
        "colab": {
          "base_uri": "https://localhost:8080/"
        },
        "id": "YeMDshuSpXKx",
        "outputId": "0286a71e-ec5c-4e84-e2db-cd51d0ac2caa"
      },
      "execution_count": null,
      "outputs": [
        {
          "output_type": "execute_result",
          "data": {
            "text/plain": [
              "['Denver', 'Lakewood', 'Centennial', 'Littleton', 'Aurora', 'Boulder']"
            ]
          },
          "metadata": {},
          "execution_count": 27
        }
      ]
    },
    {
      "cell_type": "code",
      "source": [
        "#make 'Golden' the third element in the cities list\n",
        "cities.insert(2, 'Golden')\n",
        "\n",
        "cities"
      ],
      "metadata": {
        "colab": {
          "base_uri": "https://localhost:8080/"
        },
        "id": "2Jjrud0BvTgx",
        "outputId": "4072664b-5bae-4f3c-bd30-dc4936d63215"
      },
      "execution_count": null,
      "outputs": [
        {
          "output_type": "execute_result",
          "data": {
            "text/plain": [
              "['Denver',\n",
              " 'Lakewood',\n",
              " 'Golden',\n",
              " 'Centennial',\n",
              " 'Littleton',\n",
              " 'Aurora',\n",
              " 'Boulder']"
            ]
          },
          "metadata": {},
          "execution_count": 28
        }
      ]
    },
    {
      "cell_type": "markdown",
      "source": [
        "We can also alter a list by changing it's elements."
      ],
      "metadata": {
        "id": "HhWQqQ2Zq3GH"
      }
    },
    {
      "cell_type": "code",
      "source": [
        "#replace 'Littleton', the third element, with 'Denver'\n",
        "cities[4] = 'Denver'\n",
        "\n",
        "cities"
      ],
      "metadata": {
        "id": "Lmfd4cavwsQ7",
        "colab": {
          "base_uri": "https://localhost:8080/"
        },
        "outputId": "5efcab33-9aa1-4fca-fa63-66cf72022078"
      },
      "execution_count": null,
      "outputs": [
        {
          "output_type": "execute_result",
          "data": {
            "text/plain": [
              "['Denver', 'Lakewood', 'Golden', 'Centennial', 'Denver', 'Aurora', 'Boulder']"
            ]
          },
          "metadata": {},
          "execution_count": 29
        }
      ]
    },
    {
      "cell_type": "markdown",
      "source": [
        "Notice the `cities` list contains two `'Denver'` elements now. Lists can contain **duplicate items**, whereas sets cannot. If we try to add a duplicate item to a set, it gets removed, but if we do the same in a list, it stays."
      ],
      "metadata": {
        "id": "2qtX27IQDQnL"
      }
    },
    {
      "cell_type": "code",
      "source": [
        "{1, 2, 3, 2}"
      ],
      "metadata": {
        "colab": {
          "base_uri": "https://localhost:8080/"
        },
        "id": "NCKoIBGKEnb9",
        "outputId": "c560ae10-c05c-4ab9-d983-c28455d13707"
      },
      "execution_count": null,
      "outputs": [
        {
          "output_type": "execute_result",
          "data": {
            "text/plain": [
              "{1, 2, 3}"
            ]
          },
          "metadata": {},
          "execution_count": 30
        }
      ]
    },
    {
      "cell_type": "code",
      "source": [
        "[1, 2, 3, 2]"
      ],
      "metadata": {
        "colab": {
          "base_uri": "https://localhost:8080/"
        },
        "id": "NN6T1-kSFYUs",
        "outputId": "b49415fd-a53d-412b-fc05-ec4c22791467"
      },
      "execution_count": null,
      "outputs": [
        {
          "output_type": "execute_result",
          "data": {
            "text/plain": [
              "[1, 2, 3, 2]"
            ]
          },
          "metadata": {},
          "execution_count": 31
        }
      ]
    },
    {
      "cell_type": "markdown",
      "source": [
        "Lastly, if we want to check the length of a set or list, we can use the built-in `len()` function."
      ],
      "metadata": {
        "id": "_8_EJp_zsC75"
      }
    },
    {
      "cell_type": "code",
      "source": [
        "#check the length of the states set\n",
        "len(states)"
      ],
      "metadata": {
        "colab": {
          "base_uri": "https://localhost:8080/"
        },
        "id": "hjs2Lh_dn_7Z",
        "outputId": "fee3b5ab-8f8c-45a7-efc5-2fe5c27d11ce"
      },
      "execution_count": null,
      "outputs": [
        {
          "output_type": "execute_result",
          "data": {
            "text/plain": [
              "5"
            ]
          },
          "metadata": {},
          "execution_count": 35
        }
      ]
    },
    {
      "cell_type": "code",
      "source": [
        "#check the length of the cities list\n",
        "len(cities)"
      ],
      "metadata": {
        "colab": {
          "base_uri": "https://localhost:8080/"
        },
        "id": "FQmPfZnioMDv",
        "outputId": "d3757629-e8bf-483c-e8ec-2ab166fe197d"
      },
      "execution_count": null,
      "outputs": [
        {
          "output_type": "execute_result",
          "data": {
            "text/plain": [
              "7"
            ]
          },
          "metadata": {},
          "execution_count": 36
        }
      ]
    },
    {
      "cell_type": "markdown",
      "source": [
        "Although lists and sets often contain items of the same data type, there is no requirement that the items have the same data type. For example, the list below contains the string `'Denver'`, Denver's population, and the number of neighborhoods."
      ],
      "metadata": {
        "id": "4gcF_tIjClz_"
      }
    },
    {
      "cell_type": "code",
      "source": [
        "#define a list with multiple data types\n",
        "denver = ['Denver', 2931000, 78]\n",
        "\n",
        "#view the list\n",
        "denver"
      ],
      "metadata": {
        "colab": {
          "base_uri": "https://localhost:8080/"
        },
        "id": "htno5Be-Cmhh",
        "outputId": "0d50a062-89fb-4922-a24b-dcc4279a6851"
      },
      "execution_count": null,
      "outputs": [
        {
          "output_type": "execute_result",
          "data": {
            "text/plain": [
              "['Denver', 2931000, 78]"
            ]
          },
          "metadata": {},
          "execution_count": 21
        }
      ]
    },
    {
      "cell_type": "markdown",
      "source": [
        "The table below summarizes the similarities and differences between lists and sets.\n",
        "\n",
        "| | Lists | Sets |\n",
        "| --------- |: ----- |: ----- |\n",
        "| Mutable | $\\checkmark$ | $\\checkmark$ |\n",
        "| Ordered | $\\checkmark$ |  |\n",
        "| Allow for duplicate items | $\\checkmark$  | |\n",
        "| Indexed | $\\checkmark$ | |\n",
        "| Allow for different data types | $\\checkmark$ | $\\checkmark$ |"
      ],
      "metadata": {
        "id": "pF6XEt5jCf_C"
      }
    },
    {
      "cell_type": "markdown",
      "source": [
        "**Practice**: Create a list..."
      ],
      "metadata": {
        "id": "PKFWG5PkaDuk"
      }
    },
    {
      "cell_type": "markdown",
      "source": [
        "**Practice**: Create a set..."
      ],
      "metadata": {
        "id": "7o9YGaYJfTPN"
      }
    },
    {
      "cell_type": "markdown",
      "source": [
        "### **If Statements and Loops?**"
      ],
      "metadata": {
        "id": "TCLJRoosMHMn"
      }
    },
    {
      "cell_type": "markdown",
      "source": [
        "### **Functions**\n",
        "\n",
        "We've already used a few functions, like `print()` or `type()`. In general, functions take inputs called arguments and usually produce something in return. The Python documentation provides a complete [list of built-in functions](https://docs.python.org/3/library/functions.html), and the table below includes some of the commonly used functions.\n",
        "\n",
        "| Function | Description |\n",
        "| --------- |: ----- |\n",
        "| `print()` | prints the output |\n",
        "| `sorted()` | sorts a list in ascending order |\n",
        "| `type()` | returns the data type for an object |\n",
        "| `abs()` | returns the absolute value of a number |\n",
        "| `round()` | returns the number rounded to a specified number of decimal places |\n",
        "| `sum()` | returns the sum of items in an object  |\n",
        "| `len()` | returns the length of an object |\n",
        "| `max()` | returns the largest item in an object |\n",
        "| `min()` | returns the smallest item in an object |   "
      ],
      "metadata": {
        "id": "9vmO8hBuOXAc"
      }
    },
    {
      "cell_type": "code",
      "source": [
        "#define a list from 1 to 10\n",
        "x = [1, 2, 3, 4, 5, 6, 7, 8, 9, 10]"
      ],
      "metadata": {
        "id": "hslY44jD1XH6"
      },
      "execution_count": null,
      "outputs": []
    },
    {
      "cell_type": "code",
      "source": [
        "#add the elements in x together\n",
        "sum(x)"
      ],
      "metadata": {
        "colab": {
          "base_uri": "https://localhost:8080/"
        },
        "id": "h0rzqNRxU5og",
        "outputId": "0ce7c497-ef73-4317-c642-955c47e293e4"
      },
      "execution_count": null,
      "outputs": [
        {
          "output_type": "execute_result",
          "data": {
            "text/plain": [
              "55"
            ]
          },
          "metadata": {},
          "execution_count": 2
        }
      ]
    },
    {
      "cell_type": "code",
      "source": [
        "#find the number of elements in x\n",
        "len(x)"
      ],
      "metadata": {
        "colab": {
          "base_uri": "https://localhost:8080/"
        },
        "id": "7LCJ9OBbU786",
        "outputId": "f3aaa591-324a-4fa9-83bc-d52548126240"
      },
      "execution_count": null,
      "outputs": [
        {
          "output_type": "execute_result",
          "data": {
            "text/plain": [
              "10"
            ]
          },
          "metadata": {},
          "execution_count": 3
        }
      ]
    },
    {
      "cell_type": "code",
      "source": [
        "#find the smallest element in x\n",
        "min(x)"
      ],
      "metadata": {
        "colab": {
          "base_uri": "https://localhost:8080/"
        },
        "id": "gDGZDYK-78by",
        "outputId": "58f4fa21-b8d9-4e68-c193-f68107c772b2"
      },
      "execution_count": null,
      "outputs": [
        {
          "output_type": "execute_result",
          "data": {
            "text/plain": [
              "1"
            ]
          },
          "metadata": {},
          "execution_count": 4
        }
      ]
    },
    {
      "cell_type": "markdown",
      "source": [
        "We can also create our own custom functions. Functions can be extremely helpful if we've written code that will be used multiple times in the same script. Creating a function is a cleaner approach than just copying and pasting code.\n",
        "\n",
        "\n",
        "Declaring a function consists of five parts:\n",
        "1. The `def` keyword\n",
        "2. The function name\n",
        "  * The requirements for a function name are extremely similar to the variable name requirements. It's also recommended to avoid using the same name as an existing function, even though this is technically allowed.\n",
        "3. Arguments\n",
        "  * These are the values that are fed to the function.\n",
        "4. The body of the function\n",
        "5. A return statement\n",
        "  * This is used to define the \"output\" of the function.\n",
        "  * If you need to return more than one value from a  function, you can use a list.\n",
        "\n",
        "\n",
        "Let's start with something simple and define a function that adds two numbers. Python has the addition operator, `+`, so this is just to demonstrate the format for defining a function."
      ],
      "metadata": {
        "id": "yV1TnfZe1Xdb"
      }
    },
    {
      "cell_type": "code",
      "source": [
        "def addition(num1, num2): #def keyword, function name, and arguments\n",
        "  sum = num1 + num2       #body of the function\n",
        "  return sum              #return statement"
      ],
      "metadata": {
        "id": "29joAjW2uTxo"
      },
      "execution_count": null,
      "outputs": []
    },
    {
      "cell_type": "code",
      "source": [
        "addition(1, 2)"
      ],
      "metadata": {
        "colab": {
          "base_uri": "https://localhost:8080/"
        },
        "id": "A207N0cJ3LGq",
        "outputId": "656a747a-c6c5-49cf-c91b-a8615bc8933e"
      },
      "execution_count": null,
      "outputs": [
        {
          "output_type": "execute_result",
          "data": {
            "text/plain": [
              "3"
            ]
          },
          "metadata": {},
          "execution_count": 18
        }
      ]
    },
    {
      "cell_type": "markdown",
      "source": [
        "**Practice**: Create a function named `summary` that accepts a list and returns the minimum, maximum, and length of the list. Check that your function works as expected by trying it out on the list, `y`, defined in the code block below. *Hint: You'll need to return a list in order to return the minimum, maximum, and length.*"
      ],
      "metadata": {
        "id": "MPvX52X_9sw5"
      }
    },
    {
      "cell_type": "code",
      "source": [
        "#list to check function\n",
        "y = [2, 3, 4, 5, 6, 7, 8, 9]"
      ],
      "metadata": {
        "id": "M3n7loOTKG_U"
      },
      "execution_count": null,
      "outputs": []
    },
    {
      "cell_type": "code",
      "source": [
        "def summary(list):\n",
        "  minimum = min(list)\n",
        "  maximum = max(list)\n",
        "  length = len(list)\n",
        "  return [minimum, maximum, length]"
      ],
      "metadata": {
        "id": "FvrAdNqbJv4y"
      },
      "execution_count": null,
      "outputs": []
    },
    {
      "cell_type": "code",
      "source": [
        "summary(y)"
      ],
      "metadata": {
        "colab": {
          "base_uri": "https://localhost:8080/"
        },
        "id": "70dmRP2xLkdI",
        "outputId": "2015ae99-463a-4f31-8f99-f972da2d50e2"
      },
      "execution_count": null,
      "outputs": [
        {
          "output_type": "execute_result",
          "data": {
            "text/plain": [
              "[2, 9, 8]"
            ]
          },
          "metadata": {},
          "execution_count": 9
        }
      ]
    },
    {
      "cell_type": "markdown",
      "source": [
        "### **Errors**\n",
        "\n",
        "There are three types of errors that can occur when coding in Python: syntax errors, runtime errors, and logical errors.\n",
        "\n",
        "Syntax refers to the rules that define the structure of a programming language, so **syntax errors** occur when the proper syntax is not followed. Some examples of syntax errors are leaving out a comma or a bracket.\n",
        "\n",
        "\n",
        "\n"
      ],
      "metadata": {
        "id": "OFO1mmwmaULY"
      }
    },
    {
      "cell_type": "code",
      "source": [
        "print('hello'"
      ],
      "metadata": {
        "colab": {
          "base_uri": "https://localhost:8080/",
          "height": 106
        },
        "id": "7AmSPHBgFB7j",
        "outputId": "e6ef4495-3acc-45cb-f03b-538e96bc1cd8"
      },
      "execution_count": null,
      "outputs": [
        {
          "output_type": "error",
          "ename": "SyntaxError",
          "evalue": "incomplete input (<ipython-input-1-0b37b907169d>, line 1)",
          "traceback": [
            "\u001b[0;36m  File \u001b[0;32m\"<ipython-input-1-0b37b907169d>\"\u001b[0;36m, line \u001b[0;32m1\u001b[0m\n\u001b[0;31m    print('hello'\u001b[0m\n\u001b[0m                 ^\u001b[0m\n\u001b[0;31mSyntaxError\u001b[0m\u001b[0;31m:\u001b[0m incomplete input\n"
          ]
        }
      ]
    },
    {
      "cell_type": "markdown",
      "source": [
        "**Runtime errors** occur when the syntax is correct, but the program can't run for a different reason, like dividing by zero or trying to access an object that doesn't exist."
      ],
      "metadata": {
        "id": "g4rhq98uFCY2"
      }
    },
    {
      "cell_type": "code",
      "source": [
        "#the name of the set is 'states' not state\n",
        "state"
      ],
      "metadata": {
        "colab": {
          "base_uri": "https://localhost:8080/",
          "height": 141
        },
        "id": "jkZADCncFGPq",
        "outputId": "831fb028-6c9d-4ac9-88d3-57d797b7bd6c"
      },
      "execution_count": null,
      "outputs": [
        {
          "output_type": "error",
          "ename": "NameError",
          "evalue": "name 'state' is not defined",
          "traceback": [
            "\u001b[0;31m---------------------------------------------------------------------------\u001b[0m",
            "\u001b[0;31mNameError\u001b[0m                                 Traceback (most recent call last)",
            "\u001b[0;32m<ipython-input-2-202074563d3b>\u001b[0m in \u001b[0;36m<cell line: 1>\u001b[0;34m()\u001b[0m\n\u001b[0;32m----> 1\u001b[0;31m \u001b[0mstate\u001b[0m\u001b[0;34m\u001b[0m\u001b[0;34m\u001b[0m\u001b[0m\n\u001b[0m",
            "\u001b[0;31mNameError\u001b[0m: name 'state' is not defined"
          ]
        }
      ]
    },
    {
      "cell_type": "markdown",
      "source": [
        "**Logical errors** are the most difficult to fix because there are no error messages. The code runs without any issues, but the result is incorrect due to flawed logic."
      ],
      "metadata": {
        "id": "bryzJqEQFGj5"
      }
    },
    {
      "cell_type": "code",
      "source": [
        "#define a list from 1 to 10\n",
        "x = [1, 2, 3, 4, 5, 6, 7, 8, 9, 10]\n",
        "\n",
        "#find the sum of the first 5 elements (it should be 15)\n",
        "sum(x[0:4])"
      ],
      "metadata": {
        "colab": {
          "base_uri": "https://localhost:8080/"
        },
        "id": "g_a_CvOIgQZk",
        "outputId": "1bde5f65-5c3d-4e6c-96d3-01f8ebf62028"
      },
      "execution_count": null,
      "outputs": [
        {
          "output_type": "execute_result",
          "data": {
            "text/plain": [
              "10"
            ]
          },
          "metadata": {},
          "execution_count": 4
        }
      ]
    },
    {
      "cell_type": "markdown",
      "source": [
        "The code above returned a value of 10 instead of the expected 15. This is because the last value in the range is exclusive.\n",
        "\n",
        "Logical errors can often be fixed by double checking the results of intermediate steps in the code."
      ],
      "metadata": {
        "id": "45bQo0qVgfsf"
      }
    },
    {
      "cell_type": "code",
      "source": [
        "x[0:4] #only the first 4 elements, not 5"
      ],
      "metadata": {
        "colab": {
          "base_uri": "https://localhost:8080/"
        },
        "id": "rDWrevk8ihJ8",
        "outputId": "ed0d2cdd-b484-4e99-9a22-409e39cfce70"
      },
      "execution_count": null,
      "outputs": [
        {
          "output_type": "execute_result",
          "data": {
            "text/plain": [
              "[1, 2, 3, 4]"
            ]
          },
          "metadata": {},
          "execution_count": 5
        }
      ]
    },
    {
      "cell_type": "markdown",
      "source": [
        "### **Libraries**\n",
        "\n",
        "Python has a lot of capabilities on its own, but we can do even more with the use of libraries. Libraries are collections of code and functions that extend the capabilities of Python. Some of the most popular libraries are pandas, NumPy, Plotly, and Matplotlib.\n",
        "\n",
        "### **The pandas Library**\n",
        "\n",
        "We'll start with the pandas library, which contains a variety of tools for doing things like:\n",
        "* manipulating data\n",
        "* reading and writing data\n",
        "* slicing, indexing, and subsetting data\n",
        "* aggregating or transforming data\n",
        "* merging and joining of data sets\n",
        "* time series analysis\n",
        "\n",
        "The pandas library also has a [user guide](https://pandas.pydata.org/docs/user_guide/index.html) that covers a wide variety of topics and how pandas can be used to approach data analysis problems.\n",
        "\n",
        "To use a library in Python, we use an `import` statement. It is recommended to import all libraries at the beginning of the script or notebook. Although this isn't necessary, it's common to import libraries under an alias or an alternate shorter name. For example, the pandas library is often imported with an alias of `pd`. This means the library can now be referred to as `pd` instead of `pandas`.\n"
      ],
      "metadata": {
        "id": "NnyOzOYqoAg2"
      }
    },
    {
      "cell_type": "code",
      "source": [
        "import pandas as pd"
      ],
      "metadata": {
        "id": "Tiu6z-n1nlRl"
      },
      "execution_count": null,
      "outputs": []
    },
    {
      "cell_type": "markdown",
      "source": [
        "#### **Importing Data**\n",
        "\n",
        "Let's import a dataset and perform some exploratory data analysis using the pandas library. Often we'll have datasets stored as csv files and pandas makes it easy to import a csv file with the `pd.read_csv()` function. The `pd.read_csv()` function takes a file path as the argument. This can be the path to a file stored on your computer or even a URL.\n",
        "\n",
        "We'll use the American Community Survey data for the Denver neighborhoods to test out some of the capabilities of pandas. Each row in the data set represents a neighborhood and each column contains demographic information for the neighborhoods.\n",
        "\n",
        "*Use the P-Card data instead.*"
      ],
      "metadata": {
        "id": "LZ7oUyYorHM0"
      }
    },
    {
      "cell_type": "code",
      "source": [
        "#define a variable, 'path', that stores the URL for the data\n",
        "#this step is optional and depends on style preference\n",
        "path = 'https://github.com/kayley-smiley/Python-Training/blob/main/american_community_survey_nbrhd_2017_2021.csv?raw=true'\n",
        "\n",
        "#read in the data and name it 'df'\n",
        "df = pd.read_csv(path)"
      ],
      "metadata": {
        "id": "dFqhDArSyyLe"
      },
      "execution_count": null,
      "outputs": []
    },
    {
      "cell_type": "markdown",
      "source": [
        "pandas has two widely used data structures: `Series` and `DataFrame`. You can think of a `Series` as a single column of data and a `DataFrame` as a dataset that contains many rows and columns. Let's check the structure of the dataset we just imported, `df`, using the `type()` function."
      ],
      "metadata": {
        "id": "fLxZxEBc-nyD"
      }
    },
    {
      "cell_type": "code",
      "source": [
        "type(df)"
      ],
      "metadata": {
        "colab": {
          "base_uri": "https://localhost:8080/",
          "height": 203
        },
        "id": "AIOsIy0_mb8B",
        "outputId": "7fce59fa-df0d-4843-c9a2-53e55163e024"
      },
      "execution_count": null,
      "outputs": [
        {
          "output_type": "execute_result",
          "data": {
            "text/plain": [
              "pandas.core.frame.DataFrame"
            ],
            "text/html": [
              "<div style=\"max-width:800px; border: 1px solid var(--colab-border-color);\"><style>\n",
              "      pre.function-repr-contents {\n",
              "        overflow-x: auto;\n",
              "        padding: 8px 12px;\n",
              "        max-height: 500px;\n",
              "      }\n",
              "\n",
              "      pre.function-repr-contents.function-repr-contents-collapsed {\n",
              "        cursor: pointer;\n",
              "        max-height: 100px;\n",
              "      }\n",
              "    </style>\n",
              "    <pre style=\"white-space: initial; background:\n",
              "         var(--colab-secondary-surface-color); padding: 8px 12px;\n",
              "         border-bottom: 1px solid var(--colab-border-color);\"><b>pandas.core.frame.DataFrame</b><br/>def __init__(data=None, index: Axes | None=None, columns: Axes | None=None, dtype: Dtype | None=None, copy: bool | None=None) -&gt; None</pre><pre class=\"function-repr-contents function-repr-contents-collapsed\" style=\"\"><a class=\"filepath\" style=\"display:none\" href=\"#\">/usr/local/lib/python3.10/dist-packages/pandas/core/frame.py</a>Two-dimensional, size-mutable, potentially heterogeneous tabular data.\n",
              "\n",
              "Data structure also contains labeled axes (rows and columns).\n",
              "Arithmetic operations align on both row and column labels. Can be\n",
              "thought of as a dict-like container for Series objects. The primary\n",
              "pandas data structure.\n",
              "\n",
              "Parameters\n",
              "----------\n",
              "data : ndarray (structured or homogeneous), Iterable, dict, or DataFrame\n",
              "    Dict can contain Series, arrays, constants, dataclass or list-like objects. If\n",
              "    data is a dict, column order follows insertion-order. If a dict contains Series\n",
              "    which have an index defined, it is aligned by its index.\n",
              "\n",
              "    .. versionchanged:: 0.25.0\n",
              "       If data is a list of dicts, column order follows insertion-order.\n",
              "\n",
              "index : Index or array-like\n",
              "    Index to use for resulting frame. Will default to RangeIndex if\n",
              "    no indexing information part of input data and no index provided.\n",
              "columns : Index or array-like\n",
              "    Column labels to use for resulting frame when data does not have them,\n",
              "    defaulting to RangeIndex(0, 1, 2, ..., n). If data contains column labels,\n",
              "    will perform column selection instead.\n",
              "dtype : dtype, default None\n",
              "    Data type to force. Only a single dtype is allowed. If None, infer.\n",
              "copy : bool or None, default None\n",
              "    Copy data from inputs.\n",
              "    For dict data, the default of None behaves like ``copy=True``.  For DataFrame\n",
              "    or 2d ndarray input, the default of None behaves like ``copy=False``.\n",
              "    If data is a dict containing one or more Series (possibly of different dtypes),\n",
              "    ``copy=False`` will ensure that these inputs are not copied.\n",
              "\n",
              "    .. versionchanged:: 1.3.0\n",
              "\n",
              "See Also\n",
              "--------\n",
              "DataFrame.from_records : Constructor from tuples, also record arrays.\n",
              "DataFrame.from_dict : From dicts of Series, arrays, or dicts.\n",
              "read_csv : Read a comma-separated values (csv) file into DataFrame.\n",
              "read_table : Read general delimited file into DataFrame.\n",
              "read_clipboard : Read text from clipboard into DataFrame.\n",
              "\n",
              "Notes\n",
              "-----\n",
              "Please reference the :ref:`User Guide &lt;basics.dataframe&gt;` for more information.\n",
              "\n",
              "Examples\n",
              "--------\n",
              "Constructing DataFrame from a dictionary.\n",
              "\n",
              "&gt;&gt;&gt; d = {&#x27;col1&#x27;: [1, 2], &#x27;col2&#x27;: [3, 4]}\n",
              "&gt;&gt;&gt; df = pd.DataFrame(data=d)\n",
              "&gt;&gt;&gt; df\n",
              "   col1  col2\n",
              "0     1     3\n",
              "1     2     4\n",
              "\n",
              "Notice that the inferred dtype is int64.\n",
              "\n",
              "&gt;&gt;&gt; df.dtypes\n",
              "col1    int64\n",
              "col2    int64\n",
              "dtype: object\n",
              "\n",
              "To enforce a single dtype:\n",
              "\n",
              "&gt;&gt;&gt; df = pd.DataFrame(data=d, dtype=np.int8)\n",
              "&gt;&gt;&gt; df.dtypes\n",
              "col1    int8\n",
              "col2    int8\n",
              "dtype: object\n",
              "\n",
              "Constructing DataFrame from a dictionary including Series:\n",
              "\n",
              "&gt;&gt;&gt; d = {&#x27;col1&#x27;: [0, 1, 2, 3], &#x27;col2&#x27;: pd.Series([2, 3], index=[2, 3])}\n",
              "&gt;&gt;&gt; pd.DataFrame(data=d, index=[0, 1, 2, 3])\n",
              "   col1  col2\n",
              "0     0   NaN\n",
              "1     1   NaN\n",
              "2     2   2.0\n",
              "3     3   3.0\n",
              "\n",
              "Constructing DataFrame from numpy ndarray:\n",
              "\n",
              "&gt;&gt;&gt; df2 = pd.DataFrame(np.array([[1, 2, 3], [4, 5, 6], [7, 8, 9]]),\n",
              "...                    columns=[&#x27;a&#x27;, &#x27;b&#x27;, &#x27;c&#x27;])\n",
              "&gt;&gt;&gt; df2\n",
              "   a  b  c\n",
              "0  1  2  3\n",
              "1  4  5  6\n",
              "2  7  8  9\n",
              "\n",
              "Constructing DataFrame from a numpy ndarray that has labeled columns:\n",
              "\n",
              "&gt;&gt;&gt; data = np.array([(1, 2, 3), (4, 5, 6), (7, 8, 9)],\n",
              "...                 dtype=[(&quot;a&quot;, &quot;i4&quot;), (&quot;b&quot;, &quot;i4&quot;), (&quot;c&quot;, &quot;i4&quot;)])\n",
              "&gt;&gt;&gt; df3 = pd.DataFrame(data, columns=[&#x27;c&#x27;, &#x27;a&#x27;])\n",
              "...\n",
              "&gt;&gt;&gt; df3\n",
              "   c  a\n",
              "0  3  1\n",
              "1  6  4\n",
              "2  9  7\n",
              "\n",
              "Constructing DataFrame from dataclass:\n",
              "\n",
              "&gt;&gt;&gt; from dataclasses import make_dataclass\n",
              "&gt;&gt;&gt; Point = make_dataclass(&quot;Point&quot;, [(&quot;x&quot;, int), (&quot;y&quot;, int)])\n",
              "&gt;&gt;&gt; pd.DataFrame([Point(0, 0), Point(0, 3), Point(2, 3)])\n",
              "   x  y\n",
              "0  0  0\n",
              "1  0  3\n",
              "2  2  3</pre>\n",
              "      <script>\n",
              "      if (google.colab.kernel.accessAllowed && google.colab.files && google.colab.files.view) {\n",
              "        for (const element of document.querySelectorAll('.filepath')) {\n",
              "          element.style.display = 'block'\n",
              "          element.onclick = (event) => {\n",
              "            event.preventDefault();\n",
              "            event.stopPropagation();\n",
              "            google.colab.files.view(element.textContent, 475);\n",
              "          };\n",
              "        }\n",
              "      }\n",
              "      for (const element of document.querySelectorAll('.function-repr-contents')) {\n",
              "        element.onclick = (event) => {\n",
              "          event.preventDefault();\n",
              "          event.stopPropagation();\n",
              "          element.classList.toggle('function-repr-contents-collapsed');\n",
              "        };\n",
              "      }\n",
              "      </script>\n",
              "      </div>"
            ]
          },
          "metadata": {},
          "execution_count": 13
        }
      ]
    },
    {
      "cell_type": "markdown",
      "source": [
        "`df` is a `DataFrame` because the dataset contains many rows and columns (or `Series`).\n",
        "\n",
        "**Practice**: In the code block below, check the structure of one of the columns in `df`."
      ],
      "metadata": {
        "id": "dQJal2x1NNaj"
      }
    },
    {
      "cell_type": "code",
      "source": [
        "type(df['AGE65PLUS'])"
      ],
      "metadata": {
        "colab": {
          "base_uri": "https://localhost:8080/",
          "height": 203
        },
        "id": "mis8xxQuNngr",
        "outputId": "ec2e8f71-a908-4049-e01b-5a538899a0ef"
      },
      "execution_count": null,
      "outputs": [
        {
          "output_type": "execute_result",
          "data": {
            "text/plain": [
              "pandas.core.series.Series"
            ],
            "text/html": [
              "<div style=\"max-width:800px; border: 1px solid var(--colab-border-color);\"><style>\n",
              "      pre.function-repr-contents {\n",
              "        overflow-x: auto;\n",
              "        padding: 8px 12px;\n",
              "        max-height: 500px;\n",
              "      }\n",
              "\n",
              "      pre.function-repr-contents.function-repr-contents-collapsed {\n",
              "        cursor: pointer;\n",
              "        max-height: 100px;\n",
              "      }\n",
              "    </style>\n",
              "    <pre style=\"white-space: initial; background:\n",
              "         var(--colab-secondary-surface-color); padding: 8px 12px;\n",
              "         border-bottom: 1px solid var(--colab-border-color);\"><b>pandas.core.series.Series</b><br/>def __init__(data=None, index=None, dtype: Dtype | None=None, name=None, copy: bool=False, fastpath: bool=False) -&gt; None</pre><pre class=\"function-repr-contents function-repr-contents-collapsed\" style=\"\"><a class=\"filepath\" style=\"display:none\" href=\"#\">/usr/local/lib/python3.10/dist-packages/pandas/core/series.py</a>One-dimensional ndarray with axis labels (including time series).\n",
              "\n",
              "Labels need not be unique but must be a hashable type. The object\n",
              "supports both integer- and label-based indexing and provides a host of\n",
              "methods for performing operations involving the index. Statistical\n",
              "methods from ndarray have been overridden to automatically exclude\n",
              "missing data (currently represented as NaN).\n",
              "\n",
              "Operations between Series (+, -, /, \\*, \\*\\*) align values based on their\n",
              "associated index values-- they need not be the same length. The result\n",
              "index will be the sorted union of the two indexes.\n",
              "\n",
              "Parameters\n",
              "----------\n",
              "data : array-like, Iterable, dict, or scalar value\n",
              "    Contains data stored in Series. If data is a dict, argument order is\n",
              "    maintained.\n",
              "index : array-like or Index (1d)\n",
              "    Values must be hashable and have the same length as `data`.\n",
              "    Non-unique index values are allowed. Will default to\n",
              "    RangeIndex (0, 1, 2, ..., n) if not provided. If data is dict-like\n",
              "    and index is None, then the keys in the data are used as the index. If the\n",
              "    index is not None, the resulting Series is reindexed with the index values.\n",
              "dtype : str, numpy.dtype, or ExtensionDtype, optional\n",
              "    Data type for the output Series. If not specified, this will be\n",
              "    inferred from `data`.\n",
              "    See the :ref:`user guide &lt;basics.dtypes&gt;` for more usages.\n",
              "name : str, optional\n",
              "    The name to give to the Series.\n",
              "copy : bool, default False\n",
              "    Copy input data. Only affects Series or 1d ndarray input. See examples.\n",
              "\n",
              "Notes\n",
              "-----\n",
              "Please reference the :ref:`User Guide &lt;basics.series&gt;` for more information.\n",
              "\n",
              "Examples\n",
              "--------\n",
              "Constructing Series from a dictionary with an Index specified\n",
              "\n",
              "&gt;&gt;&gt; d = {&#x27;a&#x27;: 1, &#x27;b&#x27;: 2, &#x27;c&#x27;: 3}\n",
              "&gt;&gt;&gt; ser = pd.Series(data=d, index=[&#x27;a&#x27;, &#x27;b&#x27;, &#x27;c&#x27;])\n",
              "&gt;&gt;&gt; ser\n",
              "a   1\n",
              "b   2\n",
              "c   3\n",
              "dtype: int64\n",
              "\n",
              "The keys of the dictionary match with the Index values, hence the Index\n",
              "values have no effect.\n",
              "\n",
              "&gt;&gt;&gt; d = {&#x27;a&#x27;: 1, &#x27;b&#x27;: 2, &#x27;c&#x27;: 3}\n",
              "&gt;&gt;&gt; ser = pd.Series(data=d, index=[&#x27;x&#x27;, &#x27;y&#x27;, &#x27;z&#x27;])\n",
              "&gt;&gt;&gt; ser\n",
              "x   NaN\n",
              "y   NaN\n",
              "z   NaN\n",
              "dtype: float64\n",
              "\n",
              "Note that the Index is first build with the keys from the dictionary.\n",
              "After this the Series is reindexed with the given Index values, hence we\n",
              "get all NaN as a result.\n",
              "\n",
              "Constructing Series from a list with `copy=False`.\n",
              "\n",
              "&gt;&gt;&gt; r = [1, 2]\n",
              "&gt;&gt;&gt; ser = pd.Series(r, copy=False)\n",
              "&gt;&gt;&gt; ser.iloc[0] = 999\n",
              "&gt;&gt;&gt; r\n",
              "[1, 2]\n",
              "&gt;&gt;&gt; ser\n",
              "0    999\n",
              "1      2\n",
              "dtype: int64\n",
              "\n",
              "Due to input data type the Series has a `copy` of\n",
              "the original data even though `copy=False`, so\n",
              "the data is unchanged.\n",
              "\n",
              "Constructing Series from a 1d ndarray with `copy=False`.\n",
              "\n",
              "&gt;&gt;&gt; r = np.array([1, 2])\n",
              "&gt;&gt;&gt; ser = pd.Series(r, copy=False)\n",
              "&gt;&gt;&gt; ser.iloc[0] = 999\n",
              "&gt;&gt;&gt; r\n",
              "array([999,   2])\n",
              "&gt;&gt;&gt; ser\n",
              "0    999\n",
              "1      2\n",
              "dtype: int64\n",
              "\n",
              "Due to input data type the Series has a `view` on\n",
              "the original data, so\n",
              "the data is changed as well.</pre>\n",
              "      <script>\n",
              "      if (google.colab.kernel.accessAllowed && google.colab.files && google.colab.files.view) {\n",
              "        for (const element of document.querySelectorAll('.filepath')) {\n",
              "          element.style.display = 'block'\n",
              "          element.onclick = (event) => {\n",
              "            event.preventDefault();\n",
              "            event.stopPropagation();\n",
              "            google.colab.files.view(element.textContent, 216);\n",
              "          };\n",
              "        }\n",
              "      }\n",
              "      for (const element of document.querySelectorAll('.function-repr-contents')) {\n",
              "        element.onclick = (event) => {\n",
              "          event.preventDefault();\n",
              "          event.stopPropagation();\n",
              "          element.classList.toggle('function-repr-contents-collapsed');\n",
              "        };\n",
              "      }\n",
              "      </script>\n",
              "      </div>"
            ]
          },
          "metadata": {},
          "execution_count": 14
        }
      ]
    },
    {
      "cell_type": "markdown",
      "source": [
        "As expected, it is a `Series`.\n",
        "\n",
        "#### **Data Frames**\n",
        " If you've just imported a data set and want to take a look at the first or last few rows, we can use the `DataFrame.head()` and `DataFrame.tail()` functions. To use either function, replace the word `DataFrame` with the name of a `DataFrame` object. In our case, this would be `df`. Both of these functions have an optional argument, `n`, to specify the number of rows we want returned. If you don't specify `n`, the function will default to 5 rows."
      ],
      "metadata": {
        "id": "eYoBl5svNwvq"
      }
    },
    {
      "cell_type": "code",
      "source": [
        "df.head()"
      ],
      "metadata": {
        "colab": {
          "base_uri": "https://localhost:8080/",
          "height": 486
        },
        "id": "7XRTzx8mQFAi",
        "outputId": "4315a9dd-c07a-4c88-d978-9d81f7503dda"
      },
      "execution_count": null,
      "outputs": [
        {
          "output_type": "execute_result",
          "data": {
            "text/plain": [
              "                                               Shape  \\\n",
              "0  <geoprocessing describe geometry object object...   \n",
              "1  <geoprocessing describe geometry object object...   \n",
              "2  <geoprocessing describe geometry object object...   \n",
              "3  <geoprocessing describe geometry object object...   \n",
              "4  <geoprocessing describe geometry object object...   \n",
              "\n",
              "                  NBHD_NAME  TTL_POPULATION_ALL  HISPANIC_OR_LATINO   WHITE  \\\n",
              "0  Washington Virginia Vale             14775.0              2316.0  8098.0   \n",
              "1      Washington Park West              7382.0               555.0  6167.0   \n",
              "2                Sun Valley              1133.0               505.0    88.0   \n",
              "3            Cory - Merrill              4215.0               213.0  3572.0   \n",
              "4                  Rosedale              2713.0               502.0  1911.0   \n",
              "\n",
              "    BLACK  NATIVE_AMERICAN  ASIAN  HAWAIIAN_PI  OTHER_RACE  TWO_OR_MORE  \\\n",
              "0  2642.0             13.0  665.0          0.0       180.0        861.0   \n",
              "1    59.0              0.0  202.0          0.0         0.0        399.0   \n",
              "2   457.0             35.0   46.0          0.0         0.0          2.0   \n",
              "3    15.0              3.0  240.0          0.0         6.0        166.0   \n",
              "4   142.0             11.0   77.0          0.0         0.0         70.0   \n",
              "\n",
              "   PCT_HISPANIC  PCT_WHITE  PCT_BLACK  PCT_NATIVEAM  PCT_ASIAN  \\\n",
              "0     15.675127  54.808799  17.881557      0.087986   4.500846   \n",
              "1      7.518288  83.541046   0.799241      0.000000   2.736386   \n",
              "2     44.571933   7.766990  40.335393      3.089144   4.060018   \n",
              "3      5.053381  84.744958   0.355872      0.071174   5.693950   \n",
              "4     18.503502  70.438629   5.234058      0.405455   2.838187   \n",
              "\n",
              "   PCT_HAWAIIANPI  PCT_OTHERRACE  PCT_TWOORMORE_RACES    MALE  FEMALE  \\\n",
              "0             0.0       1.218274             5.827411  7643.0  7132.0   \n",
              "1             0.0       0.000000             5.405039  4028.0  3354.0   \n",
              "2             0.0       0.000000             0.176523   553.0   580.0   \n",
              "3             0.0       0.142349             3.938316  2215.0  2000.0   \n",
              "4             0.0       0.000000             2.580170  1274.0  1439.0   \n",
              "\n",
              "   AGE_LESS_5  AGE_5_TO_9  AGE_10_TO_14  AGE_15_TO_17  AGE_0_TO_9  \\\n",
              "0       814.0       894.0         790.0         401.0      1708.0   \n",
              "1       398.0       222.0         217.0          72.0       620.0   \n",
              "2       155.0       168.0         167.0         123.0       323.0   \n",
              "3       286.0       292.0         229.0         154.0       578.0   \n",
              "4       183.0        68.0          91.0          19.0       251.0   \n",
              "\n",
              "   AGE_10_TO_19  AGE_20_TO_29  AGE_30_TO_39  AGE_40_TO_49  AGE_50_TO_59  \\\n",
              "0        1498.0        2909.0        2681.0        2243.0        1317.0   \n",
              "1         329.0        1677.0        2058.0         924.0         847.0   \n",
              "2         323.0          54.0         299.0          29.0          40.0   \n",
              "3         477.0         269.0         881.0         598.0         421.0   \n",
              "4         110.0         689.0         573.0         364.0         210.0   \n",
              "\n",
              "   AGE_60_TO_69  AGE_70_TO_79  AGE_80_PLUS  AGELESS18  AGE65PLUS  \\\n",
              "0         993.0         871.0        555.0     2899.0     2738.0   \n",
              "1         506.0         355.0         66.0      909.0      905.0   \n",
              "2          34.0          15.0         16.0      613.0       52.0   \n",
              "3         568.0         334.0         89.0      961.0      821.0   \n",
              "4         254.0         123.0        139.0      361.0      422.0   \n",
              "\n",
              "   PCT_AGELESS18  PCT_AGE65PLUS  MEDIAN_AGE_ALL  MEDIAN_AGE_MALE  \\\n",
              "0      19.620981      18.531303       34.271727        32.868953   \n",
              "1      12.313736      12.259550       34.657434        33.761321   \n",
              "2      54.104148       4.589585       16.800000        12.800000   \n",
              "3      22.799526      19.478055       39.000000        38.700000   \n",
              "4      13.306303      15.554736       34.300000        36.000000   \n",
              "\n",
              "   MEDIAN_AGE_FEMALE  TTL_AGE_3_PLUS_ENRSTATUS  ENROLLED_IN_SCHOOL  \\\n",
              "0          35.770833                     14336                3199   \n",
              "1          35.609218                      7141                1028   \n",
              "2          30.800000                      1058                 546   \n",
              "3          39.600000                      4038                1036   \n",
              "4          33.200000                      2664                 357   \n",
              "\n",
              "   NURSERY_OR_PRESCHOOL  KINDERGARTEN  GRADES_1_TO_4  GRADES_5_TO_8  \\\n",
              "0                   223           227            741            476   \n",
              "1                   132            59            117            205   \n",
              "2                    67            16            154            128   \n",
              "3                   130            67            225            171   \n",
              "4                    42            36             41             82   \n",
              "\n",
              "   GRADES_9_TO_12  COLLEGE_UNDERGRADUATE  GRADUATE_SCHOOL  NOT_ENROLLED  \\\n",
              "0             636                    651              245         11137   \n",
              "1              94                    217              204          6113   \n",
              "2             141                     40                0           512   \n",
              "3             194                    167               82          3002   \n",
              "4              19                     43               94          2307   \n",
              "\n",
              "   TOTAL_COMMUTERS  COMMUTE_LESS_15  COMMUTE_15_TO_30  COMMUTE_30_TO_45  \\\n",
              "0           6853.0           1546.0            2538.0            2076.0   \n",
              "1           3705.0            688.0            1711.0            1031.0   \n",
              "2            276.0             72.0             114.0              40.0   \n",
              "3           1528.0            538.0             588.0             265.0   \n",
              "4           1371.0            219.0             723.0             260.0   \n",
              "\n",
              "   COMMUTE_45_TO_60  COMMUTE_60_TO_PLUS  TTLPOP_25PLUS_EDU  \\\n",
              "0             356.0               337.0            10710.0   \n",
              "1             150.0               125.0             5974.0   \n",
              "2               0.0                50.0              474.0   \n",
              "3              62.0                75.0             3030.0   \n",
              "4             142.0                27.0             2246.0   \n",
              "\n",
              "   LESS_THAN_HS_DIPLOMA_EDU  HSGRAD_OR_EQUIV_EDU  SOMECOLLEGE_OR_AA_EDU  \\\n",
              "0                     541.0               1814.0                 2659.0   \n",
              "1                      91.0                394.0                  768.0   \n",
              "2                     161.0                196.0                   68.0   \n",
              "3                      21.0                202.0                  437.0   \n",
              "4                      82.0                188.0                  540.0   \n",
              "\n",
              "   BACHELORS_OR_HIGHER_EDU  TTLPOP_5PLUS_LNG  ONLY_ENGLISH_LNG  SPANISH_LNG  \\\n",
              "0                   5696.0           13961.0           10848.0        938.0   \n",
              "1                   4721.0            6984.0            6410.0        278.0   \n",
              "2                     49.0             978.0             709.0         92.0   \n",
              "3                   2370.0            3929.0            3539.0        114.0   \n",
              "4                   1436.0            2530.0            2207.0        210.0   \n",
              "\n",
              "   TTL_HOUSING_UNITS  OCCUPIED_HU  VACANT_HU  OWNER_OCCUPIED_HU  \\\n",
              "0               7353         6737        616               2878   \n",
              "1               4121         3887        234               1878   \n",
              "2                422          383         39                 36   \n",
              "3               1783         1704         79               1403   \n",
              "4               1489         1400         89                670   \n",
              "\n",
              "   RENTER_OCCUPIED_HU  TTL_HOUSEHOLDS  FAMILY_HOUSEHOLDS  \\\n",
              "0                3859            6737               3048   \n",
              "1                2009            3887               1417   \n",
              "2                 347             383                325   \n",
              "3                 301            1704               1132   \n",
              "4                 730            1400                489   \n",
              "\n",
              "   MARRIED_COUPLE_FAMILY  OTHER_FAMILY  MALE_HHLDR_NO_WIFE_PRESENT  \\\n",
              "0                   1914          1134                         369   \n",
              "1                   1196           221                          60   \n",
              "2                     75           250                           7   \n",
              "3                   1003           129                          50   \n",
              "4                    425            64                          57   \n",
              "\n",
              "   FEMALE_HHLDR_NO_HSBND_PRESENT  NONFAMILY_HOUSEHOLD  HOUSEHOLDER_ALONE  \\\n",
              "0                            765                 3689               2601   \n",
              "1                            161                 2470               1645   \n",
              "2                            243                   58                 58   \n",
              "3                             79                  572                412   \n",
              "4                              7                  911                624   \n",
              "\n",
              "   HOUSEHOLDER_NOT_ALONE  HH_INC_LESS_10000  HH_INC_10000_14999  \\\n",
              "0                   1088                383                 247   \n",
              "1                    825                131                 122   \n",
              "2                      0                124                  21   \n",
              "3                    160                 43                  13   \n",
              "4                    287                 52                   0   \n",
              "\n",
              "   HH_INC_15000_19999  HH_INC_20000_24999  HH_INC_25000_29999  \\\n",
              "0                 187                 197                 400   \n",
              "1                  20                  72                  92   \n",
              "2                  50                 101                  35   \n",
              "3                   0                  32                   0   \n",
              "4                  16                  63                  33   \n",
              "\n",
              "   HH_INC_30000_34999  HH_INC_35000_39999  HH_INC_40000_44999  \\\n",
              "0                 201                 326                 634   \n",
              "1                 137                 161                 138   \n",
              "2                  29                   0                   0   \n",
              "3                  56                  31                   8   \n",
              "4                  46                 113                  20   \n",
              "\n",
              "   HH_INC_45000_49999  HH_INC_50000_59999  HH_INC_60000_74999  \\\n",
              "0                 355                 698                 674   \n",
              "1                  58                 256                 332   \n",
              "2                   0                   0                   0   \n",
              "3                  10                  65                 108   \n",
              "4                  21                 124                 112   \n",
              "\n",
              "   HH_INC_75000_99999  HH_INC_100000_124999  HH_INC_125000_149999  \\\n",
              "0                 654                   504                   376   \n",
              "1                 463                   328                   303   \n",
              "2                   0                    23                     0   \n",
              "3                  94                   220                   169   \n",
              "4                 151                   136                    64   \n",
              "\n",
              "   HH_INC_150000_199999  HH_INC_OVER_200000  MED_HH_INCOME  MED_FAMILY_INCOME  \\\n",
              "0                   422                 479          56282              68623   \n",
              "1                   473                 801          97920             154719   \n",
              "2                     0                   0          19650              20292   \n",
              "3                   323                 532         150441             182174   \n",
              "4                   299                 150          89400             128393   \n",
              "\n",
              "   PER_CAPITA_INCOME  AVG_HH_INCOME  AVG_FAM_INCOME  MEDIAN_EARNINGS  \\\n",
              "0              38425          85537          101677            38374   \n",
              "1              70630         134188          188029            62336   \n",
              "2               7970          22163           23720            16350   \n",
              "3              82192         201440          239710            95000   \n",
              "4              54712         109105          146813            65087   \n",
              "\n",
              "   MEDIAN_EARN_MALE  MEDIAN_EARN_FEMALE  MEDEARN_LESSHS  MEDEARN_HIGHSCHOOL  \\\n",
              "0             40554               33180               0               21736   \n",
              "1             63980               60213            6458                   0   \n",
              "2             27552               11750           18015               16450   \n",
              "3            115387               73007               0                   0   \n",
              "4             71774               57036               0                   0   \n",
              "\n",
              "   MEDEARN_SOMECOLLEGE  MEDEARN_BACHELORS  MEDEARN_GRAD_PROFESSIONAL  \\\n",
              "0                37190              38118                      59192   \n",
              "1                20491              69479                      88584   \n",
              "2                 2499                  0                          0   \n",
              "3                60769             109363                      79659   \n",
              "4                36250              68988                      80385   \n",
              "\n",
              "   MED_YR_STRUCTURE_BUILT  BUILT_2014_OR_LATER  BUILT_2010_2013  \\\n",
              "0             1971.950244                    0               33   \n",
              "1             1939.000000                    0              455   \n",
              "2             1952.000000                    0                0   \n",
              "3             1954.000000                    0              139   \n",
              "4             1952.000000                    0               87   \n",
              "\n",
              "   BUILT_2000_2009  BUILT_1990_1999  BUILT_1980_1989  BUILT_1970_1979  \\\n",
              "0              200              661              854             2462   \n",
              "1              185               50               56              128   \n",
              "2                0                0                7               61   \n",
              "3              317               38              105               16   \n",
              "4               10               17              112               95   \n",
              "\n",
              "   BUILT_1960_1969  BUILT_1950_1959  BUILT_1940_1949  BUILT_1939_OR_EARLIER  \\\n",
              "0             1884             1155               79                     25   \n",
              "1              125              413              192                   2517   \n",
              "2               70               95              110                     79   \n",
              "3               61              362              469                    276   \n",
              "4              195              300              305                    368   \n",
              "\n",
              "   MED_CONTRACT_RENT  MED_GROSS_RENT  MEDIAN_HOME_VALUE  NATIVE  \\\n",
              "0                948             965             437046   12448   \n",
              "1               1036            1081             680135    6969   \n",
              "2                193             239             535700     996   \n",
              "3               1942            1995             723700    3927   \n",
              "4               1633            1671             593000    2534   \n",
              "\n",
              "   FOREIGN_BORN_FB  EUROPEAN_FB  NORTHERN_EUROPE_FB  WESTERN_EUROPE_FB  \\\n",
              "0             2327          542                  36                  0   \n",
              "1              413           76                  41                  0   \n",
              "2              137            1                   0                  0   \n",
              "3              288          124                  45                 30   \n",
              "4              179           37                   6                 11   \n",
              "\n",
              "   SOUTHERN_EUROPE_FB  EASTERN_EUROPE_FB  ASIA_FB  EASTERN_ASIA_FB  \\\n",
              "0                  55                451      641               68   \n",
              "1                  35                  0      177               49   \n",
              "2                   1                  0       27                0   \n",
              "3                   9                 40      137               40   \n",
              "4                   0                 20       40                0   \n",
              "\n",
              "   SOUTH_CENTRAL_ASIA_FB  SOUTH_EASTERN_ASIA_FB  WESTERN_ASIA_FB  AFRICA_FB  \\\n",
              "0                    334                    118              121        683   \n",
              "1                     69                     51                8         14   \n",
              "2                      0                     27                0         91   \n",
              "3                     73                     24                0         11   \n",
              "4                      0                     24               16          0   \n",
              "\n",
              "   EASTERN_AFRICA_FB  MIDDLE_AFRICA_FB  SOUTHERN_AFRICA_FB  WESTERN_AFRICA_FB  \\\n",
              "0                106                41                   0                129   \n",
              "1                 14                 0                   0                  0   \n",
              "2                 19                55                   0                 17   \n",
              "3                  0                 0                  11                  0   \n",
              "4                  0                 0                   0                  0   \n",
              "\n",
              "   OCEANIA_FB  AMERICAS_FB  LATIN_AMERICA_FB  CARRIBEAN_FB  \\\n",
              "0          22          439               396            13   \n",
              "1          23          123               123             0   \n",
              "2           0           18                18             0   \n",
              "3           0           16                16             0   \n",
              "4           0          102               102            24   \n",
              "\n",
              "   CENTRAL_AMERICA_FB  SOUTH_AMERICA_FB  NORTH_AMERICA_FB  PCT_POVERTY  \\\n",
              "0                 318                65                43       13.175   \n",
              "1                 123                 0                 0        6.350   \n",
              "2                  18                 0                 0       77.700   \n",
              "3                   0                16                 0        5.200   \n",
              "4                  62                16                 0        7.500   \n",
              "\n",
              "   PCT_FAM_POVERTY  \n",
              "0         7.084978  \n",
              "1         3.541058  \n",
              "2        75.384615  \n",
              "3         1.413428  \n",
              "4         0.000000  "
            ],
            "text/html": [
              "\n",
              "  <div id=\"df-c61d9736-7839-4fe5-b7c7-4348caaafbf7\" class=\"colab-df-container\">\n",
              "    <div>\n",
              "<style scoped>\n",
              "    .dataframe tbody tr th:only-of-type {\n",
              "        vertical-align: middle;\n",
              "    }\n",
              "\n",
              "    .dataframe tbody tr th {\n",
              "        vertical-align: top;\n",
              "    }\n",
              "\n",
              "    .dataframe thead th {\n",
              "        text-align: right;\n",
              "    }\n",
              "</style>\n",
              "<table border=\"1\" class=\"dataframe\">\n",
              "  <thead>\n",
              "    <tr style=\"text-align: right;\">\n",
              "      <th></th>\n",
              "      <th>Shape</th>\n",
              "      <th>NBHD_NAME</th>\n",
              "      <th>TTL_POPULATION_ALL</th>\n",
              "      <th>HISPANIC_OR_LATINO</th>\n",
              "      <th>WHITE</th>\n",
              "      <th>BLACK</th>\n",
              "      <th>NATIVE_AMERICAN</th>\n",
              "      <th>ASIAN</th>\n",
              "      <th>HAWAIIAN_PI</th>\n",
              "      <th>OTHER_RACE</th>\n",
              "      <th>TWO_OR_MORE</th>\n",
              "      <th>PCT_HISPANIC</th>\n",
              "      <th>PCT_WHITE</th>\n",
              "      <th>PCT_BLACK</th>\n",
              "      <th>PCT_NATIVEAM</th>\n",
              "      <th>PCT_ASIAN</th>\n",
              "      <th>PCT_HAWAIIANPI</th>\n",
              "      <th>PCT_OTHERRACE</th>\n",
              "      <th>PCT_TWOORMORE_RACES</th>\n",
              "      <th>MALE</th>\n",
              "      <th>FEMALE</th>\n",
              "      <th>AGE_LESS_5</th>\n",
              "      <th>AGE_5_TO_9</th>\n",
              "      <th>AGE_10_TO_14</th>\n",
              "      <th>AGE_15_TO_17</th>\n",
              "      <th>AGE_0_TO_9</th>\n",
              "      <th>AGE_10_TO_19</th>\n",
              "      <th>AGE_20_TO_29</th>\n",
              "      <th>AGE_30_TO_39</th>\n",
              "      <th>AGE_40_TO_49</th>\n",
              "      <th>AGE_50_TO_59</th>\n",
              "      <th>AGE_60_TO_69</th>\n",
              "      <th>AGE_70_TO_79</th>\n",
              "      <th>AGE_80_PLUS</th>\n",
              "      <th>AGELESS18</th>\n",
              "      <th>AGE65PLUS</th>\n",
              "      <th>PCT_AGELESS18</th>\n",
              "      <th>PCT_AGE65PLUS</th>\n",
              "      <th>MEDIAN_AGE_ALL</th>\n",
              "      <th>MEDIAN_AGE_MALE</th>\n",
              "      <th>MEDIAN_AGE_FEMALE</th>\n",
              "      <th>TTL_AGE_3_PLUS_ENRSTATUS</th>\n",
              "      <th>ENROLLED_IN_SCHOOL</th>\n",
              "      <th>NURSERY_OR_PRESCHOOL</th>\n",
              "      <th>KINDERGARTEN</th>\n",
              "      <th>GRADES_1_TO_4</th>\n",
              "      <th>GRADES_5_TO_8</th>\n",
              "      <th>GRADES_9_TO_12</th>\n",
              "      <th>COLLEGE_UNDERGRADUATE</th>\n",
              "      <th>GRADUATE_SCHOOL</th>\n",
              "      <th>NOT_ENROLLED</th>\n",
              "      <th>TOTAL_COMMUTERS</th>\n",
              "      <th>COMMUTE_LESS_15</th>\n",
              "      <th>COMMUTE_15_TO_30</th>\n",
              "      <th>COMMUTE_30_TO_45</th>\n",
              "      <th>COMMUTE_45_TO_60</th>\n",
              "      <th>COMMUTE_60_TO_PLUS</th>\n",
              "      <th>TTLPOP_25PLUS_EDU</th>\n",
              "      <th>LESS_THAN_HS_DIPLOMA_EDU</th>\n",
              "      <th>HSGRAD_OR_EQUIV_EDU</th>\n",
              "      <th>SOMECOLLEGE_OR_AA_EDU</th>\n",
              "      <th>BACHELORS_OR_HIGHER_EDU</th>\n",
              "      <th>TTLPOP_5PLUS_LNG</th>\n",
              "      <th>ONLY_ENGLISH_LNG</th>\n",
              "      <th>SPANISH_LNG</th>\n",
              "      <th>TTL_HOUSING_UNITS</th>\n",
              "      <th>OCCUPIED_HU</th>\n",
              "      <th>VACANT_HU</th>\n",
              "      <th>OWNER_OCCUPIED_HU</th>\n",
              "      <th>RENTER_OCCUPIED_HU</th>\n",
              "      <th>TTL_HOUSEHOLDS</th>\n",
              "      <th>FAMILY_HOUSEHOLDS</th>\n",
              "      <th>MARRIED_COUPLE_FAMILY</th>\n",
              "      <th>OTHER_FAMILY</th>\n",
              "      <th>MALE_HHLDR_NO_WIFE_PRESENT</th>\n",
              "      <th>FEMALE_HHLDR_NO_HSBND_PRESENT</th>\n",
              "      <th>NONFAMILY_HOUSEHOLD</th>\n",
              "      <th>HOUSEHOLDER_ALONE</th>\n",
              "      <th>HOUSEHOLDER_NOT_ALONE</th>\n",
              "      <th>HH_INC_LESS_10000</th>\n",
              "      <th>HH_INC_10000_14999</th>\n",
              "      <th>HH_INC_15000_19999</th>\n",
              "      <th>HH_INC_20000_24999</th>\n",
              "      <th>HH_INC_25000_29999</th>\n",
              "      <th>HH_INC_30000_34999</th>\n",
              "      <th>HH_INC_35000_39999</th>\n",
              "      <th>HH_INC_40000_44999</th>\n",
              "      <th>HH_INC_45000_49999</th>\n",
              "      <th>HH_INC_50000_59999</th>\n",
              "      <th>HH_INC_60000_74999</th>\n",
              "      <th>HH_INC_75000_99999</th>\n",
              "      <th>HH_INC_100000_124999</th>\n",
              "      <th>HH_INC_125000_149999</th>\n",
              "      <th>HH_INC_150000_199999</th>\n",
              "      <th>HH_INC_OVER_200000</th>\n",
              "      <th>MED_HH_INCOME</th>\n",
              "      <th>MED_FAMILY_INCOME</th>\n",
              "      <th>PER_CAPITA_INCOME</th>\n",
              "      <th>AVG_HH_INCOME</th>\n",
              "      <th>AVG_FAM_INCOME</th>\n",
              "      <th>MEDIAN_EARNINGS</th>\n",
              "      <th>MEDIAN_EARN_MALE</th>\n",
              "      <th>MEDIAN_EARN_FEMALE</th>\n",
              "      <th>MEDEARN_LESSHS</th>\n",
              "      <th>MEDEARN_HIGHSCHOOL</th>\n",
              "      <th>MEDEARN_SOMECOLLEGE</th>\n",
              "      <th>MEDEARN_BACHELORS</th>\n",
              "      <th>MEDEARN_GRAD_PROFESSIONAL</th>\n",
              "      <th>MED_YR_STRUCTURE_BUILT</th>\n",
              "      <th>BUILT_2014_OR_LATER</th>\n",
              "      <th>BUILT_2010_2013</th>\n",
              "      <th>BUILT_2000_2009</th>\n",
              "      <th>BUILT_1990_1999</th>\n",
              "      <th>BUILT_1980_1989</th>\n",
              "      <th>BUILT_1970_1979</th>\n",
              "      <th>BUILT_1960_1969</th>\n",
              "      <th>BUILT_1950_1959</th>\n",
              "      <th>BUILT_1940_1949</th>\n",
              "      <th>BUILT_1939_OR_EARLIER</th>\n",
              "      <th>MED_CONTRACT_RENT</th>\n",
              "      <th>MED_GROSS_RENT</th>\n",
              "      <th>MEDIAN_HOME_VALUE</th>\n",
              "      <th>NATIVE</th>\n",
              "      <th>FOREIGN_BORN_FB</th>\n",
              "      <th>EUROPEAN_FB</th>\n",
              "      <th>NORTHERN_EUROPE_FB</th>\n",
              "      <th>WESTERN_EUROPE_FB</th>\n",
              "      <th>SOUTHERN_EUROPE_FB</th>\n",
              "      <th>EASTERN_EUROPE_FB</th>\n",
              "      <th>ASIA_FB</th>\n",
              "      <th>EASTERN_ASIA_FB</th>\n",
              "      <th>SOUTH_CENTRAL_ASIA_FB</th>\n",
              "      <th>SOUTH_EASTERN_ASIA_FB</th>\n",
              "      <th>WESTERN_ASIA_FB</th>\n",
              "      <th>AFRICA_FB</th>\n",
              "      <th>EASTERN_AFRICA_FB</th>\n",
              "      <th>MIDDLE_AFRICA_FB</th>\n",
              "      <th>SOUTHERN_AFRICA_FB</th>\n",
              "      <th>WESTERN_AFRICA_FB</th>\n",
              "      <th>OCEANIA_FB</th>\n",
              "      <th>AMERICAS_FB</th>\n",
              "      <th>LATIN_AMERICA_FB</th>\n",
              "      <th>CARRIBEAN_FB</th>\n",
              "      <th>CENTRAL_AMERICA_FB</th>\n",
              "      <th>SOUTH_AMERICA_FB</th>\n",
              "      <th>NORTH_AMERICA_FB</th>\n",
              "      <th>PCT_POVERTY</th>\n",
              "      <th>PCT_FAM_POVERTY</th>\n",
              "    </tr>\n",
              "  </thead>\n",
              "  <tbody>\n",
              "    <tr>\n",
              "      <th>0</th>\n",
              "      <td>&lt;geoprocessing describe geometry object object...</td>\n",
              "      <td>Washington Virginia Vale</td>\n",
              "      <td>14775.0</td>\n",
              "      <td>2316.0</td>\n",
              "      <td>8098.0</td>\n",
              "      <td>2642.0</td>\n",
              "      <td>13.0</td>\n",
              "      <td>665.0</td>\n",
              "      <td>0.0</td>\n",
              "      <td>180.0</td>\n",
              "      <td>861.0</td>\n",
              "      <td>15.675127</td>\n",
              "      <td>54.808799</td>\n",
              "      <td>17.881557</td>\n",
              "      <td>0.087986</td>\n",
              "      <td>4.500846</td>\n",
              "      <td>0.0</td>\n",
              "      <td>1.218274</td>\n",
              "      <td>5.827411</td>\n",
              "      <td>7643.0</td>\n",
              "      <td>7132.0</td>\n",
              "      <td>814.0</td>\n",
              "      <td>894.0</td>\n",
              "      <td>790.0</td>\n",
              "      <td>401.0</td>\n",
              "      <td>1708.0</td>\n",
              "      <td>1498.0</td>\n",
              "      <td>2909.0</td>\n",
              "      <td>2681.0</td>\n",
              "      <td>2243.0</td>\n",
              "      <td>1317.0</td>\n",
              "      <td>993.0</td>\n",
              "      <td>871.0</td>\n",
              "      <td>555.0</td>\n",
              "      <td>2899.0</td>\n",
              "      <td>2738.0</td>\n",
              "      <td>19.620981</td>\n",
              "      <td>18.531303</td>\n",
              "      <td>34.271727</td>\n",
              "      <td>32.868953</td>\n",
              "      <td>35.770833</td>\n",
              "      <td>14336</td>\n",
              "      <td>3199</td>\n",
              "      <td>223</td>\n",
              "      <td>227</td>\n",
              "      <td>741</td>\n",
              "      <td>476</td>\n",
              "      <td>636</td>\n",
              "      <td>651</td>\n",
              "      <td>245</td>\n",
              "      <td>11137</td>\n",
              "      <td>6853.0</td>\n",
              "      <td>1546.0</td>\n",
              "      <td>2538.0</td>\n",
              "      <td>2076.0</td>\n",
              "      <td>356.0</td>\n",
              "      <td>337.0</td>\n",
              "      <td>10710.0</td>\n",
              "      <td>541.0</td>\n",
              "      <td>1814.0</td>\n",
              "      <td>2659.0</td>\n",
              "      <td>5696.0</td>\n",
              "      <td>13961.0</td>\n",
              "      <td>10848.0</td>\n",
              "      <td>938.0</td>\n",
              "      <td>7353</td>\n",
              "      <td>6737</td>\n",
              "      <td>616</td>\n",
              "      <td>2878</td>\n",
              "      <td>3859</td>\n",
              "      <td>6737</td>\n",
              "      <td>3048</td>\n",
              "      <td>1914</td>\n",
              "      <td>1134</td>\n",
              "      <td>369</td>\n",
              "      <td>765</td>\n",
              "      <td>3689</td>\n",
              "      <td>2601</td>\n",
              "      <td>1088</td>\n",
              "      <td>383</td>\n",
              "      <td>247</td>\n",
              "      <td>187</td>\n",
              "      <td>197</td>\n",
              "      <td>400</td>\n",
              "      <td>201</td>\n",
              "      <td>326</td>\n",
              "      <td>634</td>\n",
              "      <td>355</td>\n",
              "      <td>698</td>\n",
              "      <td>674</td>\n",
              "      <td>654</td>\n",
              "      <td>504</td>\n",
              "      <td>376</td>\n",
              "      <td>422</td>\n",
              "      <td>479</td>\n",
              "      <td>56282</td>\n",
              "      <td>68623</td>\n",
              "      <td>38425</td>\n",
              "      <td>85537</td>\n",
              "      <td>101677</td>\n",
              "      <td>38374</td>\n",
              "      <td>40554</td>\n",
              "      <td>33180</td>\n",
              "      <td>0</td>\n",
              "      <td>21736</td>\n",
              "      <td>37190</td>\n",
              "      <td>38118</td>\n",
              "      <td>59192</td>\n",
              "      <td>1971.950244</td>\n",
              "      <td>0</td>\n",
              "      <td>33</td>\n",
              "      <td>200</td>\n",
              "      <td>661</td>\n",
              "      <td>854</td>\n",
              "      <td>2462</td>\n",
              "      <td>1884</td>\n",
              "      <td>1155</td>\n",
              "      <td>79</td>\n",
              "      <td>25</td>\n",
              "      <td>948</td>\n",
              "      <td>965</td>\n",
              "      <td>437046</td>\n",
              "      <td>12448</td>\n",
              "      <td>2327</td>\n",
              "      <td>542</td>\n",
              "      <td>36</td>\n",
              "      <td>0</td>\n",
              "      <td>55</td>\n",
              "      <td>451</td>\n",
              "      <td>641</td>\n",
              "      <td>68</td>\n",
              "      <td>334</td>\n",
              "      <td>118</td>\n",
              "      <td>121</td>\n",
              "      <td>683</td>\n",
              "      <td>106</td>\n",
              "      <td>41</td>\n",
              "      <td>0</td>\n",
              "      <td>129</td>\n",
              "      <td>22</td>\n",
              "      <td>439</td>\n",
              "      <td>396</td>\n",
              "      <td>13</td>\n",
              "      <td>318</td>\n",
              "      <td>65</td>\n",
              "      <td>43</td>\n",
              "      <td>13.175</td>\n",
              "      <td>7.084978</td>\n",
              "    </tr>\n",
              "    <tr>\n",
              "      <th>1</th>\n",
              "      <td>&lt;geoprocessing describe geometry object object...</td>\n",
              "      <td>Washington Park West</td>\n",
              "      <td>7382.0</td>\n",
              "      <td>555.0</td>\n",
              "      <td>6167.0</td>\n",
              "      <td>59.0</td>\n",
              "      <td>0.0</td>\n",
              "      <td>202.0</td>\n",
              "      <td>0.0</td>\n",
              "      <td>0.0</td>\n",
              "      <td>399.0</td>\n",
              "      <td>7.518288</td>\n",
              "      <td>83.541046</td>\n",
              "      <td>0.799241</td>\n",
              "      <td>0.000000</td>\n",
              "      <td>2.736386</td>\n",
              "      <td>0.0</td>\n",
              "      <td>0.000000</td>\n",
              "      <td>5.405039</td>\n",
              "      <td>4028.0</td>\n",
              "      <td>3354.0</td>\n",
              "      <td>398.0</td>\n",
              "      <td>222.0</td>\n",
              "      <td>217.0</td>\n",
              "      <td>72.0</td>\n",
              "      <td>620.0</td>\n",
              "      <td>329.0</td>\n",
              "      <td>1677.0</td>\n",
              "      <td>2058.0</td>\n",
              "      <td>924.0</td>\n",
              "      <td>847.0</td>\n",
              "      <td>506.0</td>\n",
              "      <td>355.0</td>\n",
              "      <td>66.0</td>\n",
              "      <td>909.0</td>\n",
              "      <td>905.0</td>\n",
              "      <td>12.313736</td>\n",
              "      <td>12.259550</td>\n",
              "      <td>34.657434</td>\n",
              "      <td>33.761321</td>\n",
              "      <td>35.609218</td>\n",
              "      <td>7141</td>\n",
              "      <td>1028</td>\n",
              "      <td>132</td>\n",
              "      <td>59</td>\n",
              "      <td>117</td>\n",
              "      <td>205</td>\n",
              "      <td>94</td>\n",
              "      <td>217</td>\n",
              "      <td>204</td>\n",
              "      <td>6113</td>\n",
              "      <td>3705.0</td>\n",
              "      <td>688.0</td>\n",
              "      <td>1711.0</td>\n",
              "      <td>1031.0</td>\n",
              "      <td>150.0</td>\n",
              "      <td>125.0</td>\n",
              "      <td>5974.0</td>\n",
              "      <td>91.0</td>\n",
              "      <td>394.0</td>\n",
              "      <td>768.0</td>\n",
              "      <td>4721.0</td>\n",
              "      <td>6984.0</td>\n",
              "      <td>6410.0</td>\n",
              "      <td>278.0</td>\n",
              "      <td>4121</td>\n",
              "      <td>3887</td>\n",
              "      <td>234</td>\n",
              "      <td>1878</td>\n",
              "      <td>2009</td>\n",
              "      <td>3887</td>\n",
              "      <td>1417</td>\n",
              "      <td>1196</td>\n",
              "      <td>221</td>\n",
              "      <td>60</td>\n",
              "      <td>161</td>\n",
              "      <td>2470</td>\n",
              "      <td>1645</td>\n",
              "      <td>825</td>\n",
              "      <td>131</td>\n",
              "      <td>122</td>\n",
              "      <td>20</td>\n",
              "      <td>72</td>\n",
              "      <td>92</td>\n",
              "      <td>137</td>\n",
              "      <td>161</td>\n",
              "      <td>138</td>\n",
              "      <td>58</td>\n",
              "      <td>256</td>\n",
              "      <td>332</td>\n",
              "      <td>463</td>\n",
              "      <td>328</td>\n",
              "      <td>303</td>\n",
              "      <td>473</td>\n",
              "      <td>801</td>\n",
              "      <td>97920</td>\n",
              "      <td>154719</td>\n",
              "      <td>70630</td>\n",
              "      <td>134188</td>\n",
              "      <td>188029</td>\n",
              "      <td>62336</td>\n",
              "      <td>63980</td>\n",
              "      <td>60213</td>\n",
              "      <td>6458</td>\n",
              "      <td>0</td>\n",
              "      <td>20491</td>\n",
              "      <td>69479</td>\n",
              "      <td>88584</td>\n",
              "      <td>1939.000000</td>\n",
              "      <td>0</td>\n",
              "      <td>455</td>\n",
              "      <td>185</td>\n",
              "      <td>50</td>\n",
              "      <td>56</td>\n",
              "      <td>128</td>\n",
              "      <td>125</td>\n",
              "      <td>413</td>\n",
              "      <td>192</td>\n",
              "      <td>2517</td>\n",
              "      <td>1036</td>\n",
              "      <td>1081</td>\n",
              "      <td>680135</td>\n",
              "      <td>6969</td>\n",
              "      <td>413</td>\n",
              "      <td>76</td>\n",
              "      <td>41</td>\n",
              "      <td>0</td>\n",
              "      <td>35</td>\n",
              "      <td>0</td>\n",
              "      <td>177</td>\n",
              "      <td>49</td>\n",
              "      <td>69</td>\n",
              "      <td>51</td>\n",
              "      <td>8</td>\n",
              "      <td>14</td>\n",
              "      <td>14</td>\n",
              "      <td>0</td>\n",
              "      <td>0</td>\n",
              "      <td>0</td>\n",
              "      <td>23</td>\n",
              "      <td>123</td>\n",
              "      <td>123</td>\n",
              "      <td>0</td>\n",
              "      <td>123</td>\n",
              "      <td>0</td>\n",
              "      <td>0</td>\n",
              "      <td>6.350</td>\n",
              "      <td>3.541058</td>\n",
              "    </tr>\n",
              "    <tr>\n",
              "      <th>2</th>\n",
              "      <td>&lt;geoprocessing describe geometry object object...</td>\n",
              "      <td>Sun Valley</td>\n",
              "      <td>1133.0</td>\n",
              "      <td>505.0</td>\n",
              "      <td>88.0</td>\n",
              "      <td>457.0</td>\n",
              "      <td>35.0</td>\n",
              "      <td>46.0</td>\n",
              "      <td>0.0</td>\n",
              "      <td>0.0</td>\n",
              "      <td>2.0</td>\n",
              "      <td>44.571933</td>\n",
              "      <td>7.766990</td>\n",
              "      <td>40.335393</td>\n",
              "      <td>3.089144</td>\n",
              "      <td>4.060018</td>\n",
              "      <td>0.0</td>\n",
              "      <td>0.000000</td>\n",
              "      <td>0.176523</td>\n",
              "      <td>553.0</td>\n",
              "      <td>580.0</td>\n",
              "      <td>155.0</td>\n",
              "      <td>168.0</td>\n",
              "      <td>167.0</td>\n",
              "      <td>123.0</td>\n",
              "      <td>323.0</td>\n",
              "      <td>323.0</td>\n",
              "      <td>54.0</td>\n",
              "      <td>299.0</td>\n",
              "      <td>29.0</td>\n",
              "      <td>40.0</td>\n",
              "      <td>34.0</td>\n",
              "      <td>15.0</td>\n",
              "      <td>16.0</td>\n",
              "      <td>613.0</td>\n",
              "      <td>52.0</td>\n",
              "      <td>54.104148</td>\n",
              "      <td>4.589585</td>\n",
              "      <td>16.800000</td>\n",
              "      <td>12.800000</td>\n",
              "      <td>30.800000</td>\n",
              "      <td>1058</td>\n",
              "      <td>546</td>\n",
              "      <td>67</td>\n",
              "      <td>16</td>\n",
              "      <td>154</td>\n",
              "      <td>128</td>\n",
              "      <td>141</td>\n",
              "      <td>40</td>\n",
              "      <td>0</td>\n",
              "      <td>512</td>\n",
              "      <td>276.0</td>\n",
              "      <td>72.0</td>\n",
              "      <td>114.0</td>\n",
              "      <td>40.0</td>\n",
              "      <td>0.0</td>\n",
              "      <td>50.0</td>\n",
              "      <td>474.0</td>\n",
              "      <td>161.0</td>\n",
              "      <td>196.0</td>\n",
              "      <td>68.0</td>\n",
              "      <td>49.0</td>\n",
              "      <td>978.0</td>\n",
              "      <td>709.0</td>\n",
              "      <td>92.0</td>\n",
              "      <td>422</td>\n",
              "      <td>383</td>\n",
              "      <td>39</td>\n",
              "      <td>36</td>\n",
              "      <td>347</td>\n",
              "      <td>383</td>\n",
              "      <td>325</td>\n",
              "      <td>75</td>\n",
              "      <td>250</td>\n",
              "      <td>7</td>\n",
              "      <td>243</td>\n",
              "      <td>58</td>\n",
              "      <td>58</td>\n",
              "      <td>0</td>\n",
              "      <td>124</td>\n",
              "      <td>21</td>\n",
              "      <td>50</td>\n",
              "      <td>101</td>\n",
              "      <td>35</td>\n",
              "      <td>29</td>\n",
              "      <td>0</td>\n",
              "      <td>0</td>\n",
              "      <td>0</td>\n",
              "      <td>0</td>\n",
              "      <td>0</td>\n",
              "      <td>0</td>\n",
              "      <td>23</td>\n",
              "      <td>0</td>\n",
              "      <td>0</td>\n",
              "      <td>0</td>\n",
              "      <td>19650</td>\n",
              "      <td>20292</td>\n",
              "      <td>7970</td>\n",
              "      <td>22163</td>\n",
              "      <td>23720</td>\n",
              "      <td>16350</td>\n",
              "      <td>27552</td>\n",
              "      <td>11750</td>\n",
              "      <td>18015</td>\n",
              "      <td>16450</td>\n",
              "      <td>2499</td>\n",
              "      <td>0</td>\n",
              "      <td>0</td>\n",
              "      <td>1952.000000</td>\n",
              "      <td>0</td>\n",
              "      <td>0</td>\n",
              "      <td>0</td>\n",
              "      <td>0</td>\n",
              "      <td>7</td>\n",
              "      <td>61</td>\n",
              "      <td>70</td>\n",
              "      <td>95</td>\n",
              "      <td>110</td>\n",
              "      <td>79</td>\n",
              "      <td>193</td>\n",
              "      <td>239</td>\n",
              "      <td>535700</td>\n",
              "      <td>996</td>\n",
              "      <td>137</td>\n",
              "      <td>1</td>\n",
              "      <td>0</td>\n",
              "      <td>0</td>\n",
              "      <td>1</td>\n",
              "      <td>0</td>\n",
              "      <td>27</td>\n",
              "      <td>0</td>\n",
              "      <td>0</td>\n",
              "      <td>27</td>\n",
              "      <td>0</td>\n",
              "      <td>91</td>\n",
              "      <td>19</td>\n",
              "      <td>55</td>\n",
              "      <td>0</td>\n",
              "      <td>17</td>\n",
              "      <td>0</td>\n",
              "      <td>18</td>\n",
              "      <td>18</td>\n",
              "      <td>0</td>\n",
              "      <td>18</td>\n",
              "      <td>0</td>\n",
              "      <td>0</td>\n",
              "      <td>77.700</td>\n",
              "      <td>75.384615</td>\n",
              "    </tr>\n",
              "    <tr>\n",
              "      <th>3</th>\n",
              "      <td>&lt;geoprocessing describe geometry object object...</td>\n",
              "      <td>Cory - Merrill</td>\n",
              "      <td>4215.0</td>\n",
              "      <td>213.0</td>\n",
              "      <td>3572.0</td>\n",
              "      <td>15.0</td>\n",
              "      <td>3.0</td>\n",
              "      <td>240.0</td>\n",
              "      <td>0.0</td>\n",
              "      <td>6.0</td>\n",
              "      <td>166.0</td>\n",
              "      <td>5.053381</td>\n",
              "      <td>84.744958</td>\n",
              "      <td>0.355872</td>\n",
              "      <td>0.071174</td>\n",
              "      <td>5.693950</td>\n",
              "      <td>0.0</td>\n",
              "      <td>0.142349</td>\n",
              "      <td>3.938316</td>\n",
              "      <td>2215.0</td>\n",
              "      <td>2000.0</td>\n",
              "      <td>286.0</td>\n",
              "      <td>292.0</td>\n",
              "      <td>229.0</td>\n",
              "      <td>154.0</td>\n",
              "      <td>578.0</td>\n",
              "      <td>477.0</td>\n",
              "      <td>269.0</td>\n",
              "      <td>881.0</td>\n",
              "      <td>598.0</td>\n",
              "      <td>421.0</td>\n",
              "      <td>568.0</td>\n",
              "      <td>334.0</td>\n",
              "      <td>89.0</td>\n",
              "      <td>961.0</td>\n",
              "      <td>821.0</td>\n",
              "      <td>22.799526</td>\n",
              "      <td>19.478055</td>\n",
              "      <td>39.000000</td>\n",
              "      <td>38.700000</td>\n",
              "      <td>39.600000</td>\n",
              "      <td>4038</td>\n",
              "      <td>1036</td>\n",
              "      <td>130</td>\n",
              "      <td>67</td>\n",
              "      <td>225</td>\n",
              "      <td>171</td>\n",
              "      <td>194</td>\n",
              "      <td>167</td>\n",
              "      <td>82</td>\n",
              "      <td>3002</td>\n",
              "      <td>1528.0</td>\n",
              "      <td>538.0</td>\n",
              "      <td>588.0</td>\n",
              "      <td>265.0</td>\n",
              "      <td>62.0</td>\n",
              "      <td>75.0</td>\n",
              "      <td>3030.0</td>\n",
              "      <td>21.0</td>\n",
              "      <td>202.0</td>\n",
              "      <td>437.0</td>\n",
              "      <td>2370.0</td>\n",
              "      <td>3929.0</td>\n",
              "      <td>3539.0</td>\n",
              "      <td>114.0</td>\n",
              "      <td>1783</td>\n",
              "      <td>1704</td>\n",
              "      <td>79</td>\n",
              "      <td>1403</td>\n",
              "      <td>301</td>\n",
              "      <td>1704</td>\n",
              "      <td>1132</td>\n",
              "      <td>1003</td>\n",
              "      <td>129</td>\n",
              "      <td>50</td>\n",
              "      <td>79</td>\n",
              "      <td>572</td>\n",
              "      <td>412</td>\n",
              "      <td>160</td>\n",
              "      <td>43</td>\n",
              "      <td>13</td>\n",
              "      <td>0</td>\n",
              "      <td>32</td>\n",
              "      <td>0</td>\n",
              "      <td>56</td>\n",
              "      <td>31</td>\n",
              "      <td>8</td>\n",
              "      <td>10</td>\n",
              "      <td>65</td>\n",
              "      <td>108</td>\n",
              "      <td>94</td>\n",
              "      <td>220</td>\n",
              "      <td>169</td>\n",
              "      <td>323</td>\n",
              "      <td>532</td>\n",
              "      <td>150441</td>\n",
              "      <td>182174</td>\n",
              "      <td>82192</td>\n",
              "      <td>201440</td>\n",
              "      <td>239710</td>\n",
              "      <td>95000</td>\n",
              "      <td>115387</td>\n",
              "      <td>73007</td>\n",
              "      <td>0</td>\n",
              "      <td>0</td>\n",
              "      <td>60769</td>\n",
              "      <td>109363</td>\n",
              "      <td>79659</td>\n",
              "      <td>1954.000000</td>\n",
              "      <td>0</td>\n",
              "      <td>139</td>\n",
              "      <td>317</td>\n",
              "      <td>38</td>\n",
              "      <td>105</td>\n",
              "      <td>16</td>\n",
              "      <td>61</td>\n",
              "      <td>362</td>\n",
              "      <td>469</td>\n",
              "      <td>276</td>\n",
              "      <td>1942</td>\n",
              "      <td>1995</td>\n",
              "      <td>723700</td>\n",
              "      <td>3927</td>\n",
              "      <td>288</td>\n",
              "      <td>124</td>\n",
              "      <td>45</td>\n",
              "      <td>30</td>\n",
              "      <td>9</td>\n",
              "      <td>40</td>\n",
              "      <td>137</td>\n",
              "      <td>40</td>\n",
              "      <td>73</td>\n",
              "      <td>24</td>\n",
              "      <td>0</td>\n",
              "      <td>11</td>\n",
              "      <td>0</td>\n",
              "      <td>0</td>\n",
              "      <td>11</td>\n",
              "      <td>0</td>\n",
              "      <td>0</td>\n",
              "      <td>16</td>\n",
              "      <td>16</td>\n",
              "      <td>0</td>\n",
              "      <td>0</td>\n",
              "      <td>16</td>\n",
              "      <td>0</td>\n",
              "      <td>5.200</td>\n",
              "      <td>1.413428</td>\n",
              "    </tr>\n",
              "    <tr>\n",
              "      <th>4</th>\n",
              "      <td>&lt;geoprocessing describe geometry object object...</td>\n",
              "      <td>Rosedale</td>\n",
              "      <td>2713.0</td>\n",
              "      <td>502.0</td>\n",
              "      <td>1911.0</td>\n",
              "      <td>142.0</td>\n",
              "      <td>11.0</td>\n",
              "      <td>77.0</td>\n",
              "      <td>0.0</td>\n",
              "      <td>0.0</td>\n",
              "      <td>70.0</td>\n",
              "      <td>18.503502</td>\n",
              "      <td>70.438629</td>\n",
              "      <td>5.234058</td>\n",
              "      <td>0.405455</td>\n",
              "      <td>2.838187</td>\n",
              "      <td>0.0</td>\n",
              "      <td>0.000000</td>\n",
              "      <td>2.580170</td>\n",
              "      <td>1274.0</td>\n",
              "      <td>1439.0</td>\n",
              "      <td>183.0</td>\n",
              "      <td>68.0</td>\n",
              "      <td>91.0</td>\n",
              "      <td>19.0</td>\n",
              "      <td>251.0</td>\n",
              "      <td>110.0</td>\n",
              "      <td>689.0</td>\n",
              "      <td>573.0</td>\n",
              "      <td>364.0</td>\n",
              "      <td>210.0</td>\n",
              "      <td>254.0</td>\n",
              "      <td>123.0</td>\n",
              "      <td>139.0</td>\n",
              "      <td>361.0</td>\n",
              "      <td>422.0</td>\n",
              "      <td>13.306303</td>\n",
              "      <td>15.554736</td>\n",
              "      <td>34.300000</td>\n",
              "      <td>36.000000</td>\n",
              "      <td>33.200000</td>\n",
              "      <td>2664</td>\n",
              "      <td>357</td>\n",
              "      <td>42</td>\n",
              "      <td>36</td>\n",
              "      <td>41</td>\n",
              "      <td>82</td>\n",
              "      <td>19</td>\n",
              "      <td>43</td>\n",
              "      <td>94</td>\n",
              "      <td>2307</td>\n",
              "      <td>1371.0</td>\n",
              "      <td>219.0</td>\n",
              "      <td>723.0</td>\n",
              "      <td>260.0</td>\n",
              "      <td>142.0</td>\n",
              "      <td>27.0</td>\n",
              "      <td>2246.0</td>\n",
              "      <td>82.0</td>\n",
              "      <td>188.0</td>\n",
              "      <td>540.0</td>\n",
              "      <td>1436.0</td>\n",
              "      <td>2530.0</td>\n",
              "      <td>2207.0</td>\n",
              "      <td>210.0</td>\n",
              "      <td>1489</td>\n",
              "      <td>1400</td>\n",
              "      <td>89</td>\n",
              "      <td>670</td>\n",
              "      <td>730</td>\n",
              "      <td>1400</td>\n",
              "      <td>489</td>\n",
              "      <td>425</td>\n",
              "      <td>64</td>\n",
              "      <td>57</td>\n",
              "      <td>7</td>\n",
              "      <td>911</td>\n",
              "      <td>624</td>\n",
              "      <td>287</td>\n",
              "      <td>52</td>\n",
              "      <td>0</td>\n",
              "      <td>16</td>\n",
              "      <td>63</td>\n",
              "      <td>33</td>\n",
              "      <td>46</td>\n",
              "      <td>113</td>\n",
              "      <td>20</td>\n",
              "      <td>21</td>\n",
              "      <td>124</td>\n",
              "      <td>112</td>\n",
              "      <td>151</td>\n",
              "      <td>136</td>\n",
              "      <td>64</td>\n",
              "      <td>299</td>\n",
              "      <td>150</td>\n",
              "      <td>89400</td>\n",
              "      <td>128393</td>\n",
              "      <td>54712</td>\n",
              "      <td>109105</td>\n",
              "      <td>146813</td>\n",
              "      <td>65087</td>\n",
              "      <td>71774</td>\n",
              "      <td>57036</td>\n",
              "      <td>0</td>\n",
              "      <td>0</td>\n",
              "      <td>36250</td>\n",
              "      <td>68988</td>\n",
              "      <td>80385</td>\n",
              "      <td>1952.000000</td>\n",
              "      <td>0</td>\n",
              "      <td>87</td>\n",
              "      <td>10</td>\n",
              "      <td>17</td>\n",
              "      <td>112</td>\n",
              "      <td>95</td>\n",
              "      <td>195</td>\n",
              "      <td>300</td>\n",
              "      <td>305</td>\n",
              "      <td>368</td>\n",
              "      <td>1633</td>\n",
              "      <td>1671</td>\n",
              "      <td>593000</td>\n",
              "      <td>2534</td>\n",
              "      <td>179</td>\n",
              "      <td>37</td>\n",
              "      <td>6</td>\n",
              "      <td>11</td>\n",
              "      <td>0</td>\n",
              "      <td>20</td>\n",
              "      <td>40</td>\n",
              "      <td>0</td>\n",
              "      <td>0</td>\n",
              "      <td>24</td>\n",
              "      <td>16</td>\n",
              "      <td>0</td>\n",
              "      <td>0</td>\n",
              "      <td>0</td>\n",
              "      <td>0</td>\n",
              "      <td>0</td>\n",
              "      <td>0</td>\n",
              "      <td>102</td>\n",
              "      <td>102</td>\n",
              "      <td>24</td>\n",
              "      <td>62</td>\n",
              "      <td>16</td>\n",
              "      <td>0</td>\n",
              "      <td>7.500</td>\n",
              "      <td>0.000000</td>\n",
              "    </tr>\n",
              "  </tbody>\n",
              "</table>\n",
              "</div>\n",
              "    <div class=\"colab-df-buttons\">\n",
              "\n",
              "  <div class=\"colab-df-container\">\n",
              "    <button class=\"colab-df-convert\" onclick=\"convertToInteractive('df-c61d9736-7839-4fe5-b7c7-4348caaafbf7')\"\n",
              "            title=\"Convert this dataframe to an interactive table.\"\n",
              "            style=\"display:none;\">\n",
              "\n",
              "  <svg xmlns=\"http://www.w3.org/2000/svg\" height=\"24px\" viewBox=\"0 -960 960 960\">\n",
              "    <path d=\"M120-120v-720h720v720H120Zm60-500h600v-160H180v160Zm220 220h160v-160H400v160Zm0 220h160v-160H400v160ZM180-400h160v-160H180v160Zm440 0h160v-160H620v160ZM180-180h160v-160H180v160Zm440 0h160v-160H620v160Z\"/>\n",
              "  </svg>\n",
              "    </button>\n",
              "\n",
              "  <style>\n",
              "    .colab-df-container {\n",
              "      display:flex;\n",
              "      gap: 12px;\n",
              "    }\n",
              "\n",
              "    .colab-df-convert {\n",
              "      background-color: #E8F0FE;\n",
              "      border: none;\n",
              "      border-radius: 50%;\n",
              "      cursor: pointer;\n",
              "      display: none;\n",
              "      fill: #1967D2;\n",
              "      height: 32px;\n",
              "      padding: 0 0 0 0;\n",
              "      width: 32px;\n",
              "    }\n",
              "\n",
              "    .colab-df-convert:hover {\n",
              "      background-color: #E2EBFA;\n",
              "      box-shadow: 0px 1px 2px rgba(60, 64, 67, 0.3), 0px 1px 3px 1px rgba(60, 64, 67, 0.15);\n",
              "      fill: #174EA6;\n",
              "    }\n",
              "\n",
              "    .colab-df-buttons div {\n",
              "      margin-bottom: 4px;\n",
              "    }\n",
              "\n",
              "    [theme=dark] .colab-df-convert {\n",
              "      background-color: #3B4455;\n",
              "      fill: #D2E3FC;\n",
              "    }\n",
              "\n",
              "    [theme=dark] .colab-df-convert:hover {\n",
              "      background-color: #434B5C;\n",
              "      box-shadow: 0px 1px 3px 1px rgba(0, 0, 0, 0.15);\n",
              "      filter: drop-shadow(0px 1px 2px rgba(0, 0, 0, 0.3));\n",
              "      fill: #FFFFFF;\n",
              "    }\n",
              "  </style>\n",
              "\n",
              "    <script>\n",
              "      const buttonEl =\n",
              "        document.querySelector('#df-c61d9736-7839-4fe5-b7c7-4348caaafbf7 button.colab-df-convert');\n",
              "      buttonEl.style.display =\n",
              "        google.colab.kernel.accessAllowed ? 'block' : 'none';\n",
              "\n",
              "      async function convertToInteractive(key) {\n",
              "        const element = document.querySelector('#df-c61d9736-7839-4fe5-b7c7-4348caaafbf7');\n",
              "        const dataTable =\n",
              "          await google.colab.kernel.invokeFunction('convertToInteractive',\n",
              "                                                    [key], {});\n",
              "        if (!dataTable) return;\n",
              "\n",
              "        const docLinkHtml = 'Like what you see? Visit the ' +\n",
              "          '<a target=\"_blank\" href=https://colab.research.google.com/notebooks/data_table.ipynb>data table notebook</a>'\n",
              "          + ' to learn more about interactive tables.';\n",
              "        element.innerHTML = '';\n",
              "        dataTable['output_type'] = 'display_data';\n",
              "        await google.colab.output.renderOutput(dataTable, element);\n",
              "        const docLink = document.createElement('div');\n",
              "        docLink.innerHTML = docLinkHtml;\n",
              "        element.appendChild(docLink);\n",
              "      }\n",
              "    </script>\n",
              "  </div>\n",
              "\n",
              "\n",
              "<div id=\"df-eb7c336d-64b9-4752-865e-a1cf6f11b7e8\">\n",
              "  <button class=\"colab-df-quickchart\" onclick=\"quickchart('df-eb7c336d-64b9-4752-865e-a1cf6f11b7e8')\"\n",
              "            title=\"Suggest charts\"\n",
              "            style=\"display:none;\">\n",
              "\n",
              "<svg xmlns=\"http://www.w3.org/2000/svg\" height=\"24px\"viewBox=\"0 0 24 24\"\n",
              "     width=\"24px\">\n",
              "    <g>\n",
              "        <path d=\"M19 3H5c-1.1 0-2 .9-2 2v14c0 1.1.9 2 2 2h14c1.1 0 2-.9 2-2V5c0-1.1-.9-2-2-2zM9 17H7v-7h2v7zm4 0h-2V7h2v10zm4 0h-2v-4h2v4z\"/>\n",
              "    </g>\n",
              "</svg>\n",
              "  </button>\n",
              "\n",
              "<style>\n",
              "  .colab-df-quickchart {\n",
              "      --bg-color: #E8F0FE;\n",
              "      --fill-color: #1967D2;\n",
              "      --hover-bg-color: #E2EBFA;\n",
              "      --hover-fill-color: #174EA6;\n",
              "      --disabled-fill-color: #AAA;\n",
              "      --disabled-bg-color: #DDD;\n",
              "  }\n",
              "\n",
              "  [theme=dark] .colab-df-quickchart {\n",
              "      --bg-color: #3B4455;\n",
              "      --fill-color: #D2E3FC;\n",
              "      --hover-bg-color: #434B5C;\n",
              "      --hover-fill-color: #FFFFFF;\n",
              "      --disabled-bg-color: #3B4455;\n",
              "      --disabled-fill-color: #666;\n",
              "  }\n",
              "\n",
              "  .colab-df-quickchart {\n",
              "    background-color: var(--bg-color);\n",
              "    border: none;\n",
              "    border-radius: 50%;\n",
              "    cursor: pointer;\n",
              "    display: none;\n",
              "    fill: var(--fill-color);\n",
              "    height: 32px;\n",
              "    padding: 0;\n",
              "    width: 32px;\n",
              "  }\n",
              "\n",
              "  .colab-df-quickchart:hover {\n",
              "    background-color: var(--hover-bg-color);\n",
              "    box-shadow: 0 1px 2px rgba(60, 64, 67, 0.3), 0 1px 3px 1px rgba(60, 64, 67, 0.15);\n",
              "    fill: var(--button-hover-fill-color);\n",
              "  }\n",
              "\n",
              "  .colab-df-quickchart-complete:disabled,\n",
              "  .colab-df-quickchart-complete:disabled:hover {\n",
              "    background-color: var(--disabled-bg-color);\n",
              "    fill: var(--disabled-fill-color);\n",
              "    box-shadow: none;\n",
              "  }\n",
              "\n",
              "  .colab-df-spinner {\n",
              "    border: 2px solid var(--fill-color);\n",
              "    border-color: transparent;\n",
              "    border-bottom-color: var(--fill-color);\n",
              "    animation:\n",
              "      spin 1s steps(1) infinite;\n",
              "  }\n",
              "\n",
              "  @keyframes spin {\n",
              "    0% {\n",
              "      border-color: transparent;\n",
              "      border-bottom-color: var(--fill-color);\n",
              "      border-left-color: var(--fill-color);\n",
              "    }\n",
              "    20% {\n",
              "      border-color: transparent;\n",
              "      border-left-color: var(--fill-color);\n",
              "      border-top-color: var(--fill-color);\n",
              "    }\n",
              "    30% {\n",
              "      border-color: transparent;\n",
              "      border-left-color: var(--fill-color);\n",
              "      border-top-color: var(--fill-color);\n",
              "      border-right-color: var(--fill-color);\n",
              "    }\n",
              "    40% {\n",
              "      border-color: transparent;\n",
              "      border-right-color: var(--fill-color);\n",
              "      border-top-color: var(--fill-color);\n",
              "    }\n",
              "    60% {\n",
              "      border-color: transparent;\n",
              "      border-right-color: var(--fill-color);\n",
              "    }\n",
              "    80% {\n",
              "      border-color: transparent;\n",
              "      border-right-color: var(--fill-color);\n",
              "      border-bottom-color: var(--fill-color);\n",
              "    }\n",
              "    90% {\n",
              "      border-color: transparent;\n",
              "      border-bottom-color: var(--fill-color);\n",
              "    }\n",
              "  }\n",
              "</style>\n",
              "\n",
              "  <script>\n",
              "    async function quickchart(key) {\n",
              "      const quickchartButtonEl =\n",
              "        document.querySelector('#' + key + ' button');\n",
              "      quickchartButtonEl.disabled = true;  // To prevent multiple clicks.\n",
              "      quickchartButtonEl.classList.add('colab-df-spinner');\n",
              "      try {\n",
              "        const charts = await google.colab.kernel.invokeFunction(\n",
              "            'suggestCharts', [key], {});\n",
              "      } catch (error) {\n",
              "        console.error('Error during call to suggestCharts:', error);\n",
              "      }\n",
              "      quickchartButtonEl.classList.remove('colab-df-spinner');\n",
              "      quickchartButtonEl.classList.add('colab-df-quickchart-complete');\n",
              "    }\n",
              "    (() => {\n",
              "      let quickchartButtonEl =\n",
              "        document.querySelector('#df-eb7c336d-64b9-4752-865e-a1cf6f11b7e8 button');\n",
              "      quickchartButtonEl.style.display =\n",
              "        google.colab.kernel.accessAllowed ? 'block' : 'none';\n",
              "    })();\n",
              "  </script>\n",
              "</div>\n",
              "\n",
              "    </div>\n",
              "  </div>\n"
            ],
            "application/vnd.google.colaboratory.intrinsic+json": {
              "type": "dataframe",
              "variable_name": "df"
            }
          },
          "metadata": {},
          "execution_count": 17
        }
      ]
    },
    {
      "cell_type": "markdown",
      "source": [
        "In the output above, we can only see some of the columns. If we want to change this, we can use the `pd.set_option()` function with the `'display.max_columns'` argument  to change the default number of columns displayed. Similarly, we can change the default number of rows displayed with the `'display.max_rows'` argument."
      ],
      "metadata": {
        "id": "KILdHF84ODzW"
      }
    },
    {
      "cell_type": "code",
      "source": [
        "#change the number of columns displayed to 150\n",
        "pd.set_option('display.max_columns', 150)"
      ],
      "metadata": {
        "id": "cgURfo3SOKki"
      },
      "execution_count": null,
      "outputs": []
    },
    {
      "cell_type": "markdown",
      "source": [
        "Now, try re-running the same code."
      ],
      "metadata": {
        "id": "ErP_F5MYQBHf"
      }
    },
    {
      "cell_type": "code",
      "source": [
        "df.head()"
      ],
      "metadata": {
        "id": "ypWYZJ7dQC7O"
      },
      "execution_count": null,
      "outputs": []
    },
    {
      "cell_type": "markdown",
      "source": [
        "**Practice**: Using the code block below, look at the last 8 rows of `df`."
      ],
      "metadata": {
        "id": "PwB_r0NNQhxK"
      }
    },
    {
      "cell_type": "code",
      "source": [
        "df.tail(n=8)"
      ],
      "metadata": {
        "colab": {
          "base_uri": "https://localhost:8080/",
          "height": 349
        },
        "id": "TmjLW_rLQvhS",
        "outputId": "b5de3de1-194a-42da-ad13-55305248c601"
      },
      "execution_count": null,
      "outputs": [
        {
          "output_type": "execute_result",
          "data": {
            "text/plain": [
              "                                                Shape      NBHD_NAME  \\\n",
              "75  <geoprocessing describe geometry object object...       Westwood   \n",
              "76  <geoprocessing describe geometry object object...     Villa Park   \n",
              "77  <geoprocessing describe geometry object object...  Hampden South   \n",
              "\n",
              "    TTL_POPULATION_ALL  HISPANIC_OR_LATINO    WHITE   BLACK  NATIVE_AMERICAN  \\\n",
              "75             17771.0             14627.0   2240.0   497.0            145.0   \n",
              "76              8859.0              6065.0   2346.0   244.0             61.0   \n",
              "77             16718.0              2697.0  11851.0  1336.0             57.0   \n",
              "\n",
              "    ASIAN  HAWAIIAN_PI  OTHER_RACE  ...  WESTERN_AFRICA_FB  OCEANIA_FB  \\\n",
              "75  179.0          0.0         7.0  ...                  0           0   \n",
              "76   43.0          0.0         0.0  ...                  0           0   \n",
              "77  320.0          0.0        15.0  ...                  0           0   \n",
              "\n",
              "    AMERICAS_FB  LATIN_AMERICA_FB  CARRIBEAN_FB  CENTRAL_AMERICA_FB  \\\n",
              "75         5398              5385            74                5291   \n",
              "76         1605              1605            35                1570   \n",
              "77          840               790            17                 709   \n",
              "\n",
              "    SOUTH_AMERICA_FB  NORTH_AMERICA_FB  PCT_POVERTY  PCT_FAM_POVERTY  \n",
              "75                20                13       30.025        28.412088  \n",
              "76                 0                 0       27.050        23.242180  \n",
              "77                64                50        5.925         3.428282  \n",
              "\n",
              "[3 rows x 148 columns]"
            ],
            "text/html": [
              "\n",
              "  <div id=\"df-a038c6d8-0316-4d2d-91c8-a5113a35d581\" class=\"colab-df-container\">\n",
              "    <div>\n",
              "<style scoped>\n",
              "    .dataframe tbody tr th:only-of-type {\n",
              "        vertical-align: middle;\n",
              "    }\n",
              "\n",
              "    .dataframe tbody tr th {\n",
              "        vertical-align: top;\n",
              "    }\n",
              "\n",
              "    .dataframe thead th {\n",
              "        text-align: right;\n",
              "    }\n",
              "</style>\n",
              "<table border=\"1\" class=\"dataframe\">\n",
              "  <thead>\n",
              "    <tr style=\"text-align: right;\">\n",
              "      <th></th>\n",
              "      <th>Shape</th>\n",
              "      <th>NBHD_NAME</th>\n",
              "      <th>TTL_POPULATION_ALL</th>\n",
              "      <th>HISPANIC_OR_LATINO</th>\n",
              "      <th>WHITE</th>\n",
              "      <th>BLACK</th>\n",
              "      <th>NATIVE_AMERICAN</th>\n",
              "      <th>ASIAN</th>\n",
              "      <th>HAWAIIAN_PI</th>\n",
              "      <th>OTHER_RACE</th>\n",
              "      <th>...</th>\n",
              "      <th>WESTERN_AFRICA_FB</th>\n",
              "      <th>OCEANIA_FB</th>\n",
              "      <th>AMERICAS_FB</th>\n",
              "      <th>LATIN_AMERICA_FB</th>\n",
              "      <th>CARRIBEAN_FB</th>\n",
              "      <th>CENTRAL_AMERICA_FB</th>\n",
              "      <th>SOUTH_AMERICA_FB</th>\n",
              "      <th>NORTH_AMERICA_FB</th>\n",
              "      <th>PCT_POVERTY</th>\n",
              "      <th>PCT_FAM_POVERTY</th>\n",
              "    </tr>\n",
              "  </thead>\n",
              "  <tbody>\n",
              "    <tr>\n",
              "      <th>75</th>\n",
              "      <td>&lt;geoprocessing describe geometry object object...</td>\n",
              "      <td>Westwood</td>\n",
              "      <td>17771.0</td>\n",
              "      <td>14627.0</td>\n",
              "      <td>2240.0</td>\n",
              "      <td>497.0</td>\n",
              "      <td>145.0</td>\n",
              "      <td>179.0</td>\n",
              "      <td>0.0</td>\n",
              "      <td>7.0</td>\n",
              "      <td>...</td>\n",
              "      <td>0</td>\n",
              "      <td>0</td>\n",
              "      <td>5398</td>\n",
              "      <td>5385</td>\n",
              "      <td>74</td>\n",
              "      <td>5291</td>\n",
              "      <td>20</td>\n",
              "      <td>13</td>\n",
              "      <td>30.025</td>\n",
              "      <td>28.412088</td>\n",
              "    </tr>\n",
              "    <tr>\n",
              "      <th>76</th>\n",
              "      <td>&lt;geoprocessing describe geometry object object...</td>\n",
              "      <td>Villa Park</td>\n",
              "      <td>8859.0</td>\n",
              "      <td>6065.0</td>\n",
              "      <td>2346.0</td>\n",
              "      <td>244.0</td>\n",
              "      <td>61.0</td>\n",
              "      <td>43.0</td>\n",
              "      <td>0.0</td>\n",
              "      <td>0.0</td>\n",
              "      <td>...</td>\n",
              "      <td>0</td>\n",
              "      <td>0</td>\n",
              "      <td>1605</td>\n",
              "      <td>1605</td>\n",
              "      <td>35</td>\n",
              "      <td>1570</td>\n",
              "      <td>0</td>\n",
              "      <td>0</td>\n",
              "      <td>27.050</td>\n",
              "      <td>23.242180</td>\n",
              "    </tr>\n",
              "    <tr>\n",
              "      <th>77</th>\n",
              "      <td>&lt;geoprocessing describe geometry object object...</td>\n",
              "      <td>Hampden South</td>\n",
              "      <td>16718.0</td>\n",
              "      <td>2697.0</td>\n",
              "      <td>11851.0</td>\n",
              "      <td>1336.0</td>\n",
              "      <td>57.0</td>\n",
              "      <td>320.0</td>\n",
              "      <td>0.0</td>\n",
              "      <td>15.0</td>\n",
              "      <td>...</td>\n",
              "      <td>0</td>\n",
              "      <td>0</td>\n",
              "      <td>840</td>\n",
              "      <td>790</td>\n",
              "      <td>17</td>\n",
              "      <td>709</td>\n",
              "      <td>64</td>\n",
              "      <td>50</td>\n",
              "      <td>5.925</td>\n",
              "      <td>3.428282</td>\n",
              "    </tr>\n",
              "  </tbody>\n",
              "</table>\n",
              "<p>3 rows × 148 columns</p>\n",
              "</div>\n",
              "    <div class=\"colab-df-buttons\">\n",
              "\n",
              "  <div class=\"colab-df-container\">\n",
              "    <button class=\"colab-df-convert\" onclick=\"convertToInteractive('df-a038c6d8-0316-4d2d-91c8-a5113a35d581')\"\n",
              "            title=\"Convert this dataframe to an interactive table.\"\n",
              "            style=\"display:none;\">\n",
              "\n",
              "  <svg xmlns=\"http://www.w3.org/2000/svg\" height=\"24px\" viewBox=\"0 -960 960 960\">\n",
              "    <path d=\"M120-120v-720h720v720H120Zm60-500h600v-160H180v160Zm220 220h160v-160H400v160Zm0 220h160v-160H400v160ZM180-400h160v-160H180v160Zm440 0h160v-160H620v160ZM180-180h160v-160H180v160Zm440 0h160v-160H620v160Z\"/>\n",
              "  </svg>\n",
              "    </button>\n",
              "\n",
              "  <style>\n",
              "    .colab-df-container {\n",
              "      display:flex;\n",
              "      gap: 12px;\n",
              "    }\n",
              "\n",
              "    .colab-df-convert {\n",
              "      background-color: #E8F0FE;\n",
              "      border: none;\n",
              "      border-radius: 50%;\n",
              "      cursor: pointer;\n",
              "      display: none;\n",
              "      fill: #1967D2;\n",
              "      height: 32px;\n",
              "      padding: 0 0 0 0;\n",
              "      width: 32px;\n",
              "    }\n",
              "\n",
              "    .colab-df-convert:hover {\n",
              "      background-color: #E2EBFA;\n",
              "      box-shadow: 0px 1px 2px rgba(60, 64, 67, 0.3), 0px 1px 3px 1px rgba(60, 64, 67, 0.15);\n",
              "      fill: #174EA6;\n",
              "    }\n",
              "\n",
              "    .colab-df-buttons div {\n",
              "      margin-bottom: 4px;\n",
              "    }\n",
              "\n",
              "    [theme=dark] .colab-df-convert {\n",
              "      background-color: #3B4455;\n",
              "      fill: #D2E3FC;\n",
              "    }\n",
              "\n",
              "    [theme=dark] .colab-df-convert:hover {\n",
              "      background-color: #434B5C;\n",
              "      box-shadow: 0px 1px 3px 1px rgba(0, 0, 0, 0.15);\n",
              "      filter: drop-shadow(0px 1px 2px rgba(0, 0, 0, 0.3));\n",
              "      fill: #FFFFFF;\n",
              "    }\n",
              "  </style>\n",
              "\n",
              "    <script>\n",
              "      const buttonEl =\n",
              "        document.querySelector('#df-a038c6d8-0316-4d2d-91c8-a5113a35d581 button.colab-df-convert');\n",
              "      buttonEl.style.display =\n",
              "        google.colab.kernel.accessAllowed ? 'block' : 'none';\n",
              "\n",
              "      async function convertToInteractive(key) {\n",
              "        const element = document.querySelector('#df-a038c6d8-0316-4d2d-91c8-a5113a35d581');\n",
              "        const dataTable =\n",
              "          await google.colab.kernel.invokeFunction('convertToInteractive',\n",
              "                                                    [key], {});\n",
              "        if (!dataTable) return;\n",
              "\n",
              "        const docLinkHtml = 'Like what you see? Visit the ' +\n",
              "          '<a target=\"_blank\" href=https://colab.research.google.com/notebooks/data_table.ipynb>data table notebook</a>'\n",
              "          + ' to learn more about interactive tables.';\n",
              "        element.innerHTML = '';\n",
              "        dataTable['output_type'] = 'display_data';\n",
              "        await google.colab.output.renderOutput(dataTable, element);\n",
              "        const docLink = document.createElement('div');\n",
              "        docLink.innerHTML = docLinkHtml;\n",
              "        element.appendChild(docLink);\n",
              "      }\n",
              "    </script>\n",
              "  </div>\n",
              "\n",
              "\n",
              "<div id=\"df-2b1a9b5e-b60b-4b9c-bc8d-51a0bfec1fd4\">\n",
              "  <button class=\"colab-df-quickchart\" onclick=\"quickchart('df-2b1a9b5e-b60b-4b9c-bc8d-51a0bfec1fd4')\"\n",
              "            title=\"Suggest charts\"\n",
              "            style=\"display:none;\">\n",
              "\n",
              "<svg xmlns=\"http://www.w3.org/2000/svg\" height=\"24px\"viewBox=\"0 0 24 24\"\n",
              "     width=\"24px\">\n",
              "    <g>\n",
              "        <path d=\"M19 3H5c-1.1 0-2 .9-2 2v14c0 1.1.9 2 2 2h14c1.1 0 2-.9 2-2V5c0-1.1-.9-2-2-2zM9 17H7v-7h2v7zm4 0h-2V7h2v10zm4 0h-2v-4h2v4z\"/>\n",
              "    </g>\n",
              "</svg>\n",
              "  </button>\n",
              "\n",
              "<style>\n",
              "  .colab-df-quickchart {\n",
              "      --bg-color: #E8F0FE;\n",
              "      --fill-color: #1967D2;\n",
              "      --hover-bg-color: #E2EBFA;\n",
              "      --hover-fill-color: #174EA6;\n",
              "      --disabled-fill-color: #AAA;\n",
              "      --disabled-bg-color: #DDD;\n",
              "  }\n",
              "\n",
              "  [theme=dark] .colab-df-quickchart {\n",
              "      --bg-color: #3B4455;\n",
              "      --fill-color: #D2E3FC;\n",
              "      --hover-bg-color: #434B5C;\n",
              "      --hover-fill-color: #FFFFFF;\n",
              "      --disabled-bg-color: #3B4455;\n",
              "      --disabled-fill-color: #666;\n",
              "  }\n",
              "\n",
              "  .colab-df-quickchart {\n",
              "    background-color: var(--bg-color);\n",
              "    border: none;\n",
              "    border-radius: 50%;\n",
              "    cursor: pointer;\n",
              "    display: none;\n",
              "    fill: var(--fill-color);\n",
              "    height: 32px;\n",
              "    padding: 0;\n",
              "    width: 32px;\n",
              "  }\n",
              "\n",
              "  .colab-df-quickchart:hover {\n",
              "    background-color: var(--hover-bg-color);\n",
              "    box-shadow: 0 1px 2px rgba(60, 64, 67, 0.3), 0 1px 3px 1px rgba(60, 64, 67, 0.15);\n",
              "    fill: var(--button-hover-fill-color);\n",
              "  }\n",
              "\n",
              "  .colab-df-quickchart-complete:disabled,\n",
              "  .colab-df-quickchart-complete:disabled:hover {\n",
              "    background-color: var(--disabled-bg-color);\n",
              "    fill: var(--disabled-fill-color);\n",
              "    box-shadow: none;\n",
              "  }\n",
              "\n",
              "  .colab-df-spinner {\n",
              "    border: 2px solid var(--fill-color);\n",
              "    border-color: transparent;\n",
              "    border-bottom-color: var(--fill-color);\n",
              "    animation:\n",
              "      spin 1s steps(1) infinite;\n",
              "  }\n",
              "\n",
              "  @keyframes spin {\n",
              "    0% {\n",
              "      border-color: transparent;\n",
              "      border-bottom-color: var(--fill-color);\n",
              "      border-left-color: var(--fill-color);\n",
              "    }\n",
              "    20% {\n",
              "      border-color: transparent;\n",
              "      border-left-color: var(--fill-color);\n",
              "      border-top-color: var(--fill-color);\n",
              "    }\n",
              "    30% {\n",
              "      border-color: transparent;\n",
              "      border-left-color: var(--fill-color);\n",
              "      border-top-color: var(--fill-color);\n",
              "      border-right-color: var(--fill-color);\n",
              "    }\n",
              "    40% {\n",
              "      border-color: transparent;\n",
              "      border-right-color: var(--fill-color);\n",
              "      border-top-color: var(--fill-color);\n",
              "    }\n",
              "    60% {\n",
              "      border-color: transparent;\n",
              "      border-right-color: var(--fill-color);\n",
              "    }\n",
              "    80% {\n",
              "      border-color: transparent;\n",
              "      border-right-color: var(--fill-color);\n",
              "      border-bottom-color: var(--fill-color);\n",
              "    }\n",
              "    90% {\n",
              "      border-color: transparent;\n",
              "      border-bottom-color: var(--fill-color);\n",
              "    }\n",
              "  }\n",
              "</style>\n",
              "\n",
              "  <script>\n",
              "    async function quickchart(key) {\n",
              "      const quickchartButtonEl =\n",
              "        document.querySelector('#' + key + ' button');\n",
              "      quickchartButtonEl.disabled = true;  // To prevent multiple clicks.\n",
              "      quickchartButtonEl.classList.add('colab-df-spinner');\n",
              "      try {\n",
              "        const charts = await google.colab.kernel.invokeFunction(\n",
              "            'suggestCharts', [key], {});\n",
              "      } catch (error) {\n",
              "        console.error('Error during call to suggestCharts:', error);\n",
              "      }\n",
              "      quickchartButtonEl.classList.remove('colab-df-spinner');\n",
              "      quickchartButtonEl.classList.add('colab-df-quickchart-complete');\n",
              "    }\n",
              "    (() => {\n",
              "      let quickchartButtonEl =\n",
              "        document.querySelector('#df-2b1a9b5e-b60b-4b9c-bc8d-51a0bfec1fd4 button');\n",
              "      quickchartButtonEl.style.display =\n",
              "        google.colab.kernel.accessAllowed ? 'block' : 'none';\n",
              "    })();\n",
              "  </script>\n",
              "</div>\n",
              "\n",
              "    </div>\n",
              "  </div>\n"
            ]
          },
          "metadata": {},
          "execution_count": 8
        }
      ]
    },
    {
      "cell_type": "markdown",
      "source": [
        "The table below contains some helpful functions from the pandas library.\n",
        "\n",
        "\n",
        "| Function Name | Use |\n",
        "| --------- |: ----- |\n",
        "| `DataFrame.info()` | provides a concise summary of a `DataFrame` |\n",
        "| `DataFrame.dtypes()` | provides the data types for each column in a `DataFrame` |\n",
        "| `DataFrame.shape` | provides the number of rows and columns in a `DataFrame` |\n",
        "| `DataFrame.describe()` | provides descriptive statistics for each column in a `DataFrame` |\n",
        "| `DataFrame.sample()` | randomly selects a sample from a `Series` or `DataFrame` |\n",
        "| `DataFrame.isna()` | returns a `DataFrame` filled with boolean values indicating missing values |\n",
        "| `DataFrame.dropna()` | removes missing values |\n",
        "| `DataFrame.sample()` | randomly selects a sample from a `Series` or `DataFrame` |\n",
        "| `DataFrame.sort_values()` | sorts the values in a `DataFrame` in ascending or descending order based on one or more columns |\n",
        "| `DataFrame.nunique()` | returns a `Series` with the number of distinct elements in each column |\n",
        "| `DataFrame.unique()` | returns unique values in order of appearance |\n",
        "| `DataFrame.value_counts()` | returns a `Series` containing the counts of unique values |\n",
        "| `DataFrame.groupby()` | groups a `DataFrame` by values in one or more columns |\n",
        "| `pd.to_datetime()` | converts to a datetime object |\n",
        "| `pd.to_numeric()` | converts to a numeric object |\n",
        "| `DataFrame.duplicated()` | returns a boolean `Series` denoting duplicate rows |\n",
        "| `DataFrame.drop_duplicates()` | returns a `DataFrame` with duplicate rows removed |\n",
        "| `DataFrame.merge()` | merges two `DataFrame` objects |\n",
        "\n",
        "\n"
      ],
      "metadata": {
        "id": "uZMzv3JsQ2Ly"
      }
    },
    {
      "cell_type": "markdown",
      "source": [
        "### **Practice**\n",
        "\n",
        "*Assign some EDA tasks using functions described above and concepts from the first half.*"
      ],
      "metadata": {
        "id": "eB4OgyMA6lT6"
      }
    },
    {
      "cell_type": "markdown",
      "source": [
        "### **Sources**\n",
        "\n",
        "* Starting out with Python, 3rd edition by Tony Gaddis\n",
        "* W3 Schools Python Tutorial\n",
        "* pandas User Guide\n",
        "* Geeks for Geeks Website\n",
        "\n"
      ],
      "metadata": {
        "id": "Td-JkplTLtns"
      }
    }
  ]
}